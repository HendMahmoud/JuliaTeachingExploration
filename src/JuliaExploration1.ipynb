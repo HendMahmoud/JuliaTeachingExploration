{
 "cells": [
  {
   "cell_type": "code",
   "execution_count": 1,
   "metadata": {},
   "outputs": [],
   "source": [
    "using Plots\n",
    "using CSV\n",
    "using DataFrames"
   ]
  },
  {
   "cell_type": "markdown",
   "metadata": {},
   "source": [
    "# Points of exploration today \n",
    "* Why Julia? Why not just stick to Python? (Verbal explaination...DONE!) \n",
    "* What basic building blocks I need to do ML in Julia?\n",
    "* Nice examples on Mulitple Dispatch?\n",
    "* Scope of use, outside techincal computing?"
   ]
  },
  {
   "cell_type": "markdown",
   "metadata": {},
   "source": [
    "## What basic building blocks I need to do ML in Julia?\n"
   ]
  },
  {
   "cell_type": "markdown",
   "metadata": {},
   "source": [
    "### We start with functions"
   ]
  },
  {
   "cell_type": "code",
   "execution_count": 2,
   "metadata": {},
   "outputs": [
    {
     "data": {
      "text/plain": [
       "f (generic function with 1 method)"
      ]
     },
     "execution_count": 2,
     "metadata": {},
     "output_type": "execute_result"
    }
   ],
   "source": [
    "# constructing fuctions\n",
    "f(x)= sin(x)+5"
   ]
  },
  {
   "cell_type": "code",
   "execution_count": 3,
   "metadata": {},
   "outputs": [
    {
     "data": {
      "text/plain": [
       "5.0"
      ]
     },
     "execution_count": 3,
     "metadata": {},
     "output_type": "execute_result"
    }
   ],
   "source": [
    "f(pi)"
   ]
  },
  {
   "cell_type": "code",
   "execution_count": 4,
   "metadata": {},
   "outputs": [
    {
     "data": {
      "text/plain": [
       "f (generic function with 1 method)"
      ]
     },
     "execution_count": 4,
     "metadata": {},
     "output_type": "execute_result"
    }
   ],
   "source": [
    "f(x)= begin \n",
    "        x^2\n",
    "    end "
   ]
  },
  {
   "cell_type": "code",
   "execution_count": 5,
   "metadata": {},
   "outputs": [
    {
     "data": {
      "text/plain": [
       "16"
      ]
     },
     "execution_count": 5,
     "metadata": {},
     "output_type": "execute_result"
    }
   ],
   "source": [
    "f(4)"
   ]
  },
  {
   "cell_type": "code",
   "execution_count": 6,
   "metadata": {},
   "outputs": [
    {
     "data": {
      "text/plain": [
       "f (generic function with 1 method)"
      ]
     },
     "execution_count": 6,
     "metadata": {},
     "output_type": "execute_result"
    }
   ],
   "source": [
    "function f(l)\n",
    "    s=0\n",
    "    for i=1:l \n",
    "        s+=i^3\n",
    "    end\n",
    "    s\n",
    "end"
   ]
  },
  {
   "cell_type": "code",
   "execution_count": 7,
   "metadata": {},
   "outputs": [
    {
     "data": {
      "text/plain": [
       "100"
      ]
     },
     "execution_count": 7,
     "metadata": {},
     "output_type": "execute_result"
    }
   ],
   "source": [
    "f(4)"
   ]
  },
  {
   "cell_type": "markdown",
   "metadata": {},
   "source": [
    "To see a close to the machine representation"
   ]
  },
  {
   "cell_type": "code",
   "execution_count": 8,
   "metadata": {},
   "outputs": [
    {
     "data": {
      "text/plain": [
       "CodeInfo(\n",
       "\u001b[90m1 ─\u001b[39m       s = 0\n",
       "\u001b[90m│  \u001b[39m %2  = 1:l\n",
       "\u001b[90m│  \u001b[39m       @_4 = Base.iterate(%2)\n",
       "\u001b[90m│  \u001b[39m %4  = @_4 === nothing\n",
       "\u001b[90m│  \u001b[39m %5  = Base.not_int(%4)\n",
       "\u001b[90m└──\u001b[39m       goto #4 if not %5\n",
       "\u001b[90m2 ┄\u001b[39m %7  = @_4\n",
       "\u001b[90m│  \u001b[39m       i = Core.getfield(%7, 1)\n",
       "\u001b[90m│  \u001b[39m %9  = Core.getfield(%7, 2)\n",
       "\u001b[90m│  \u001b[39m %10 = s\n",
       "\u001b[90m│  \u001b[39m %11 = i\n",
       "\u001b[90m│  \u001b[39m %12 = Core.apply_type(Base.Val, 3)\n",
       "\u001b[90m│  \u001b[39m %13 = (%12)()\n",
       "\u001b[90m│  \u001b[39m %14 = Base.literal_pow(Main.:^, %11, %13)\n",
       "\u001b[90m│  \u001b[39m       s = %10 + %14\n",
       "\u001b[90m│  \u001b[39m       @_4 = Base.iterate(%2, %9)\n",
       "\u001b[90m│  \u001b[39m %17 = @_4 === nothing\n",
       "\u001b[90m│  \u001b[39m %18 = Base.not_int(%17)\n",
       "\u001b[90m└──\u001b[39m       goto #4 if not %18\n",
       "\u001b[90m3 ─\u001b[39m       goto #2\n",
       "\u001b[90m4 ┄\u001b[39m       return s\n",
       ")"
      ]
     },
     "execution_count": 8,
     "metadata": {},
     "output_type": "execute_result"
    }
   ],
   "source": [
    "@code_lowered f(4)"
   ]
  },
  {
   "cell_type": "code",
   "execution_count": 9,
   "metadata": {},
   "outputs": [
    {
     "data": {
      "text/plain": [
       "f (generic function with 2 methods)"
      ]
     },
     "execution_count": 9,
     "metadata": {},
     "output_type": "execute_result"
    }
   ],
   "source": [
    "function f(l, init::T) where T<:Number\n",
    "    s=init\n",
    "    for i=T(1):T(l) \n",
    "        s+=i^3\n",
    "    end\n",
    "    s\n",
    "end"
   ]
  },
  {
   "cell_type": "code",
   "execution_count": 10,
   "metadata": {},
   "outputs": [
    {
     "data": {
      "text/plain": [
       "250500250000"
      ]
     },
     "execution_count": 10,
     "metadata": {},
     "output_type": "execute_result"
    }
   ],
   "source": [
    "f(1000,BigInt(0))"
   ]
  },
  {
   "cell_type": "markdown",
   "metadata": {},
   "source": [
    "To investigate if we have type issues"
   ]
  },
  {
   "cell_type": "code",
   "execution_count": 11,
   "metadata": {},
   "outputs": [
    {
     "name": "stdout",
     "output_type": "stream",
     "text": [
      "Variables\n",
      "  #self#\u001b[36m::Core.Compiler.Const(f, false)\u001b[39m\n",
      "  l\u001b[36m::Int64\u001b[39m\n",
      "  init\u001b[36m::BigInt\u001b[39m\n",
      "  s\u001b[36m::BigInt\u001b[39m\n",
      "  @_5\u001b[33m\u001b[1m::Union{Nothing, Tuple{BigInt,BigInt}}\u001b[22m\u001b[39m\n",
      "  i\u001b[36m::BigInt\u001b[39m\n",
      "\n",
      "Body\u001b[36m::BigInt\u001b[39m\n",
      "\u001b[90m1 ─\u001b[39m       (s = init)\n",
      "\u001b[90m│  \u001b[39m %2  = ($(Expr(:static_parameter, 1)))(1)\u001b[36m::BigInt\u001b[39m\n",
      "\u001b[90m│  \u001b[39m %3  = ($(Expr(:static_parameter, 1)))(l)\u001b[36m::BigInt\u001b[39m\n",
      "\u001b[90m│  \u001b[39m %4  = (%2:%3)\u001b[36m::UnitRange{BigInt}\u001b[39m\n",
      "\u001b[90m│  \u001b[39m       (@_5 = Base.iterate(%4))\n",
      "\u001b[90m│  \u001b[39m %6  = (@_5 === nothing)\u001b[36m::Bool\u001b[39m\n",
      "\u001b[90m│  \u001b[39m %7  = Base.not_int(%6)\u001b[36m::Bool\u001b[39m\n",
      "\u001b[90m└──\u001b[39m       goto #4 if not %7\n",
      "\u001b[90m2 ┄\u001b[39m %9  = @_5::Tuple{BigInt,BigInt}\u001b[36m::Tuple{BigInt,BigInt}\u001b[39m\n",
      "\u001b[90m│  \u001b[39m       (i = Core.getfield(%9, 1))\n",
      "\u001b[90m│  \u001b[39m %11 = Core.getfield(%9, 2)\u001b[36m::BigInt\u001b[39m\n",
      "\u001b[90m│  \u001b[39m %12 = s\u001b[36m::BigInt\u001b[39m\n",
      "\u001b[90m│  \u001b[39m %13 = i\u001b[36m::BigInt\u001b[39m\n",
      "\u001b[90m│  \u001b[39m %14 = Core.apply_type(Base.Val, 3)\u001b[36m::Core.Compiler.Const(Val{3}, false)\u001b[39m\n",
      "\u001b[90m│  \u001b[39m %15 = (%14)()\u001b[36m::Core.Compiler.Const(Val{3}(), false)\u001b[39m\n",
      "\u001b[90m│  \u001b[39m %16 = Base.literal_pow(Main.:^, %13, %15)\u001b[36m::BigInt\u001b[39m\n",
      "\u001b[90m│  \u001b[39m       (s = %12 + %16)\n",
      "\u001b[90m│  \u001b[39m       (@_5 = Base.iterate(%4, %11))\n",
      "\u001b[90m│  \u001b[39m %19 = (@_5 === nothing)\u001b[36m::Bool\u001b[39m\n",
      "\u001b[90m│  \u001b[39m %20 = Base.not_int(%19)\u001b[36m::Bool\u001b[39m\n",
      "\u001b[90m└──\u001b[39m       goto #4 if not %20\n",
      "\u001b[90m3 ─\u001b[39m       goto #2\n",
      "\u001b[90m4 ┄\u001b[39m       return s\n"
     ]
    }
   ],
   "source": [
    "@code_warntype f(1000,BigInt(0))"
   ]
  },
  {
   "cell_type": "markdown",
   "metadata": {},
   "source": [
    "Note to Python lovers.... BigInit was a overkill for this range... Int128 would do it... in blink of an eye"
   ]
  },
  {
   "cell_type": "code",
   "execution_count": 12,
   "metadata": {},
   "outputs": [
    {
     "data": {
      "text/plain": [
       "25000000500000002500000000000000"
      ]
     },
     "execution_count": 12,
     "metadata": {},
     "output_type": "execute_result"
    }
   ],
   "source": [
    "f(100000000, Int128(0))"
   ]
  },
  {
   "cell_type": "markdown",
   "metadata": {},
   "source": [
    "To check the range."
   ]
  },
  {
   "cell_type": "code",
   "execution_count": 13,
   "metadata": {},
   "outputs": [
    {
     "data": {
      "text/plain": [
       "170141183460469231731687303715884105727"
      ]
     },
     "execution_count": 13,
     "metadata": {},
     "output_type": "execute_result"
    }
   ],
   "source": [
    "typemax(Int128)"
   ]
  },
  {
   "cell_type": "markdown",
   "metadata": {},
   "source": [
    "That means that we can go even higher (I just added another zero)... try that in Python. "
   ]
  },
  {
   "cell_type": "code",
   "execution_count": 14,
   "metadata": {},
   "outputs": [
    {
     "data": {
      "text/plain": [
       "250000000500000000250000000000000000"
      ]
     },
     "execution_count": 14,
     "metadata": {},
     "output_type": "execute_result"
    }
   ],
   "source": [
    "f(1000000000, Int128(0))"
   ]
  },
  {
   "cell_type": "markdown",
   "metadata": {},
   "source": [
    "The Generic function working on `Float64`... also super fast"
   ]
  },
  {
   "cell_type": "code",
   "execution_count": 15,
   "metadata": {},
   "outputs": [
    {
     "data": {
      "text/plain": [
       "2.5000000500004043e31"
      ]
     },
     "execution_count": 15,
     "metadata": {},
     "output_type": "execute_result"
    }
   ],
   "source": [
    "f(100000000, 0.0)"
   ]
  },
  {
   "cell_type": "markdown",
   "metadata": {},
   "source": [
    "Simplifying this a bit with not initial value"
   ]
  },
  {
   "cell_type": "code",
   "execution_count": 16,
   "metadata": {},
   "outputs": [
    {
     "data": {
      "text/plain": [
       "f (generic function with 3 methods)"
      ]
     },
     "execution_count": 16,
     "metadata": {},
     "output_type": "execute_result"
    }
   ],
   "source": [
    "function f(l::T) where T<:Number\n",
    "    s=zero(l)\n",
    "    for i=T(1):T(l) \n",
    "        s+=i^3\n",
    "    end\n",
    "    s\n",
    "end"
   ]
  },
  {
   "cell_type": "code",
   "execution_count": 17,
   "metadata": {},
   "outputs": [
    {
     "data": {
      "text/plain": [
       "25000000500000002500000000000000"
      ]
     },
     "execution_count": 17,
     "metadata": {},
     "output_type": "execute_result"
    }
   ],
   "source": [
    "f(Int128(100000000))"
   ]
  },
  {
   "cell_type": "markdown",
   "metadata": {},
   "source": [
    "Further simplificaiton using a generator"
   ]
  },
  {
   "cell_type": "code",
   "execution_count": 18,
   "metadata": {},
   "outputs": [
    {
     "data": {
      "text/plain": [
       "f (generic function with 3 methods)"
      ]
     },
     "execution_count": 18,
     "metadata": {},
     "output_type": "execute_result"
    }
   ],
   "source": [
    "f(x)=sum(i^3 for i=one(x):x)"
   ]
  },
  {
   "cell_type": "code",
   "execution_count": 19,
   "metadata": {},
   "outputs": [
    {
     "data": {
      "text/plain": [
       "25000000500000002500000000000000"
      ]
     },
     "execution_count": 19,
     "metadata": {},
     "output_type": "execute_result"
    }
   ],
   "source": [
    "f(Int128(100000000))"
   ]
  },
  {
   "cell_type": "markdown",
   "metadata": {},
   "source": [
    "A quick intro to generators "
   ]
  },
  {
   "cell_type": "code",
   "execution_count": 20,
   "metadata": {},
   "outputs": [
    {
     "data": {
      "text/plain": [
       "Base.Generator{UnitRange{Int64},var\"#5#6\"}(var\"#5#6\"(), 1:10)"
      ]
     },
     "execution_count": 20,
     "metadata": {},
     "output_type": "execute_result"
    }
   ],
   "source": [
    "gen=(i^3 for i=1:10)"
   ]
  },
  {
   "cell_type": "code",
   "execution_count": 21,
   "metadata": {},
   "outputs": [
    {
     "name": "stdout",
     "output_type": "stream",
     "text": [
      "1 8 27 64 125 216 343 512 729 1000 "
     ]
    }
   ],
   "source": [
    "for i in gen \n",
    "    print(i,\" \")\n",
    "end"
   ]
  },
  {
   "cell_type": "code",
   "execution_count": 22,
   "metadata": {},
   "outputs": [
    {
     "data": {
      "text/plain": [
       "g (generic function with 1 method)"
      ]
     },
     "execution_count": 22,
     "metadata": {},
     "output_type": "execute_result"
    }
   ],
   "source": [
    "g(x,y)=x+y"
   ]
  },
  {
   "cell_type": "code",
   "execution_count": 23,
   "metadata": {},
   "outputs": [
    {
     "data": {
      "text/plain": [
       "7"
      ]
     },
     "execution_count": 23,
     "metadata": {},
     "output_type": "execute_result"
    }
   ],
   "source": [
    "g(5,2)"
   ]
  },
  {
   "cell_type": "code",
   "execution_count": 24,
   "metadata": {},
   "outputs": [
    {
     "data": {
      "text/plain": [
       "2-element Array{Int64,1}:\n",
       " 5\n",
       " 7"
      ]
     },
     "execution_count": 24,
     "metadata": {},
     "output_type": "execute_result"
    }
   ],
   "source": [
    "a=[5,7]"
   ]
  },
  {
   "cell_type": "markdown",
   "metadata": {},
   "source": [
    "A bit of splatting "
   ]
  },
  {
   "cell_type": "code",
   "execution_count": 25,
   "metadata": {},
   "outputs": [
    {
     "data": {
      "text/plain": [
       "12"
      ]
     },
     "execution_count": 25,
     "metadata": {},
     "output_type": "execute_result"
    }
   ],
   "source": [
    "g(a...)"
   ]
  },
  {
   "cell_type": "code",
   "execution_count": 26,
   "metadata": {},
   "outputs": [
    {
     "data": {
      "text/plain": [
       "15-element Array{Int64,1}:\n",
       "    1\n",
       "    8\n",
       "   27\n",
       "   64\n",
       "  125\n",
       "  216\n",
       "  343\n",
       "  512\n",
       "  729\n",
       " 1000\n",
       " 1331\n",
       " 1728\n",
       " 2197\n",
       " 2744\n",
       " 3375"
      ]
     },
     "execution_count": 26,
     "metadata": {},
     "output_type": "execute_result"
    }
   ],
   "source": [
    "map(x->x^3,1:15) "
   ]
  },
  {
   "cell_type": "markdown",
   "metadata": {},
   "source": [
    "An alternative syntax with `do`"
   ]
  },
  {
   "cell_type": "code",
   "execution_count": 27,
   "metadata": {},
   "outputs": [
    {
     "data": {
      "text/plain": [
       "15-element Array{Int64,1}:\n",
       "    1\n",
       "    8\n",
       "   27\n",
       "   64\n",
       "  125\n",
       "  216\n",
       "  343\n",
       "  512\n",
       "  729\n",
       " 1000\n",
       " 1331\n",
       " 1728\n",
       " 2197\n",
       " 2744\n",
       " 3375"
      ]
     },
     "execution_count": 27,
     "metadata": {},
     "output_type": "execute_result"
    }
   ],
   "source": [
    "map(1:15) do x\n",
    "    x^3\n",
    "end"
   ]
  },
  {
   "cell_type": "markdown",
   "metadata": {},
   "source": [
    "### A quick dive into plotting "
   ]
  },
  {
   "cell_type": "code",
   "execution_count": 28,
   "metadata": {},
   "outputs": [],
   "source": [
    "using Plots"
   ]
  },
  {
   "cell_type": "markdown",
   "metadata": {},
   "source": [
    "This is a super package. It uses many backends... checkout their website http://docs.juliaplots.org/latest/\n",
    "\n",
    "We start with the plotlyjs() backend.... It generates Javascript plots that are interactive. "
   ]
  },
  {
   "cell_type": "code",
   "execution_count": 29,
   "metadata": {},
   "outputs": [
    {
     "data": {
      "text/html": [
       "<script>\n",
       "// Immediately-invoked-function-expression to avoid global variables.\n",
       "(function() {\n",
       "    var warning_div = document.getElementById(\"webio-warning-2821048036778668025\");\n",
       "    var hide = function () {\n",
       "        var script = document.getElementById(\"webio-setup-4790458221826594886\");\n",
       "        var parent = script && script.parentElement;\n",
       "        var grandparent = parent && parent.parentElement;\n",
       "        if (grandparent) {\n",
       "            grandparent.style.display = \"none\";\n",
       "        }\n",
       "        warning_div.style.display = \"none\";\n",
       "    };\n",
       "    if (typeof Jupyter !== \"undefined\") {\n",
       "        console.log(\"WebIO detected Jupyter notebook environment.\");\n",
       "        // Jupyter notebook.\n",
       "        var extensions = (\n",
       "            Jupyter\n",
       "            && Jupyter.notebook.config.data\n",
       "            && Jupyter.notebook.config.data.load_extensions\n",
       "        );\n",
       "        if (extensions && extensions[\"webio-jupyter-notebook\"]) {\n",
       "            // Extension already loaded.\n",
       "            console.log(\"Jupyter WebIO nbextension detected; not loading ad-hoc.\");\n",
       "            hide();\n",
       "            return;\n",
       "        }\n",
       "    } else if (window.location.pathname.includes(\"/lab\")) {\n",
       "        // Guessing JupyterLa\n",
       "        console.log(\"Jupyter Lab detected; make sure the @webio/jupyter-lab-provider labextension is installed.\");\n",
       "        hide();\n",
       "        return;\n",
       "    }\n",
       "})();\n",
       "\n",
       "</script>\n",
       "<p\n",
       "    id=\"webio-warning-2821048036778668025\"\n",
       "    class=\"output_text output_stderr\"\n",
       "    style=\"padding: 1em; font-weight: bold;\"\n",
       ">\n",
       "    Unable to load WebIO. Please make sure WebIO works for your Jupyter client.\n",
       "    For troubleshooting, please see <a href=\"https://juliagizmos.github.io/WebIO.jl/latest/providers/ijulia/\">\n",
       "    the WebIO/IJulia documentation</a>.\n",
       "    <!-- TODO: link to installation docs. -->\n",
       "</p>\n"
      ],
      "text/plain": [
       "HTML{String}(\"<script>\\n// Immediately-invoked-function-expression to avoid global variables.\\n(function() {\\n    var warning_div = document.getElementById(\\\"webio-warning-2821048036778668025\\\");\\n    var hide = function () {\\n        var script = document.getElementById(\\\"webio-setup-4790458221826594886\\\");\\n        var parent = script && script.parentElement;\\n        var grandparent = parent && parent.parentElement;\\n        if (grandparent) {\\n            grandparent.style.display = \\\"none\\\";\\n        }\\n        warning_div.style.display = \\\"none\\\";\\n    };\\n    if (typeof Jupyter !== \\\"undefined\\\") {\\n        console.log(\\\"WebIO detected Jupyter notebook environment.\\\");\\n        // Jupyter notebook.\\n        var extensions = (\\n            Jupyter\\n            && Jupyter.notebook.config.data\\n            && Jupyter.notebook.config.data.load_extensions\\n        );\\n        if (extensions && extensions[\\\"webio-jupyter-notebook\\\"]) {\\n            // Extension already loaded.\\n            console.log(\\\"Jupyter WebIO nbextension detected; not loading ad-hoc.\\\");\\n            hide();\\n            return;\\n        }\\n    } else if (window.location.pathname.includes(\\\"/lab\\\")) {\\n        // Guessing JupyterLa\\n        console.log(\\\"Jupyter Lab detected; make sure the @webio/jupyter-lab-provider labextension is installed.\\\");\\n        hide();\\n        return;\\n    }\\n})();\\n\\n</script>\\n<p\\n    id=\\\"webio-warning-2821048036778668025\\\"\\n    class=\\\"output_text output_stderr\\\"\\n    style=\\\"padding: 1em; font-weight: bold;\\\"\\n>\\n    Unable to load WebIO. Please make sure WebIO works for your Jupyter client.\\n    For troubleshooting, please see <a href=\\\"https://juliagizmos.github.io/WebIO.jl/latest/providers/ijulia/\\\">\\n    the WebIO/IJulia documentation</a>.\\n    <!-- TODO: link to installation docs. -->\\n</p>\\n\")"
      ]
     },
     "metadata": {},
     "output_type": "display_data"
    },
    {
     "data": {
      "text/plain": [
       "Plots.PlotlyJSBackend()"
      ]
     },
     "execution_count": 29,
     "metadata": {},
     "output_type": "execute_result"
    }
   ],
   "source": [
    "plotlyjs()"
   ]
  },
  {
   "cell_type": "code",
   "execution_count": 30,
   "metadata": {},
   "outputs": [
    {
     "name": "stderr",
     "output_type": "stream",
     "text": [
      "[5597:0422/111808.933708:ERROR:buffer_manager.cc(488)] [.DisplayCompositor]GL ERROR :GL_INVALID_OPERATION : glBufferData: <- error from previous GL command\n"
     ]
    },
    {
     "data": {
      "text/html": [
       "    <script type=\"text/javascript\">\n",
       "        requirejs([\"https://cdn.plot.ly/plotly-latest.min.js\"], function(p) {\n",
       "            window.Plotly = p\n",
       "        });\n",
       "    </script>\n"
      ]
     },
     "metadata": {},
     "output_type": "display_data"
    },
    {
     "data": {
      "application/vnd.plotly.v1+json": {
       "data": [
        {
         "colorbar": {
          "title": ""
         },
         "legendgroup": "y1",
         "line": {
          "color": "rgba(0, 154, 250, 1.000)",
          "dash": "solid",
          "shape": "linear",
          "width": 1
         },
         "mode": "lines",
         "name": "y1",
         "showlegend": true,
         "type": "scatter",
         "x": [
          -5,
          -4.975585452450529,
          -4.951170904901059,
          -4.926756357351589,
          -4.9023418098021185,
          -4.789467937116388,
          -4.676594064430657,
          -4.563720191744926,
          -4.450846319059195,
          -4.337972446373465,
          -4.225098573687734,
          -4.1122247010020025,
          -3.9993508283162718,
          -3.863685842973144,
          -3.7280208576300167,
          -3.592355872286889,
          -3.456690886943761,
          -3.227284849893052,
          -2.997878812842343,
          -2.7486795562559143,
          -2.499480299669486,
          -2.384610463415544,
          -2.2697406271616023,
          -2.15487079090766,
          -2.0400009546537183,
          -1.916848349974064,
          -1.7936957452944098,
          -1.6705431406147557,
          -1.5473905359351015,
          -1.4047061661049955,
          -1.2620217962748894,
          -1.1193374264447833,
          -0.9766530566146772,
          -0.8498520271834542,
          -0.7230509977522314,
          -0.5962499683210085,
          -0.46944893888978556,
          -0.24706278674379273,
          -0.024676634597799892,
          0.21778396597769734,
          0.46024456655319457,
          0.5821953717969262,
          0.7041461770406577,
          0.8260969822843893,
          0.9480477875281209,
          1.0828799972071013,
          1.2177122068860817,
          1.3525444165650622,
          1.4873766262440427,
          1.6156660715451405,
          1.7439555168462386,
          1.8722449621473367,
          2.0005344074484346,
          2.1339256643647024,
          2.26731692128097,
          2.4007081781972377,
          2.5340994351135055,
          2.758673485890978,
          2.983247536668451,
          3.257426998266046,
          3.531606459863641,
          3.6604748502195017,
          3.789343240575363,
          3.918211630931224,
          4.047080021287085,
          4.150308598646275,
          4.253537176005464,
          4.3567657533646535,
          4.459994330723842,
          4.563222908083031,
          4.66645148544222,
          4.7696800628014095,
          4.872908640160599,
          4.904681480120449,
          4.9364543200802995,
          4.96822716004015,
          5
         ],
         "xaxis": "x1",
         "y": [
          0.9589242746631385,
          0.965563291722537,
          0.97162679393126,
          0.9771111671962716,
          0.9820131426088557,
          0.9970308876503605,
          0.9993594303958425,
          0.9889691355046937,
          0.9659922401577499,
          0.9307211710759917,
          0.8836048228085437,
          0.8252428446561658,
          0.7563780089405031,
          0.6609568980656421,
          0.5533895297159968,
          0.4356526454244615,
          0.30990986964986167,
          0.08558735965787978,
          -0.14321964837503193,
          -0.3828811482645716,
          -0.5988884178668034,
          -0.6867308941333826,
          -0.7655218613254127,
          -0.8342228090735139,
          -0.8919282192813187,
          -0.9407191411596759,
          -0.9752606092104765,
          -0.9950294098276709,
          -0.9997260969818377,
          -0.986238707792793,
          -0.9527066947452159,
          -0.899811572956539,
          -0.8286283994203965,
          -0.751182737350679,
          -0.6616753570350854,
          -0.5615434757426131,
          -0.4523949080295961,
          -0.24455699373377002,
          -0.02467413025764248,
          0.2160664670593724,
          0.444167238157247,
          0.5498589611843256,
          0.6473833119728851,
          0.7352917051011392,
          0.8122783865116799,
          0.8833115717351019,
          0.9383107090121471,
          0.9762774430259284,
          0.9965225940430157,
          0.9989935218813863,
          0.9850453703032711,
          0.9549073858487706,
          0.9090749050234505,
          0.8455887043238225,
          0.7670790476493855,
          0.6749408050647633,
          0.5708109838099867,
          0.37362981296428177,
          0.15768424347650672,
          -0.11557548200784744,
          -0.3802011846346912,
          -0.4959097764199482,
          -0.6033941549108707,
          -0.7008717892993345,
          -0.7867261015407899,
          -0.8461482082902942,
          -0.8965616460290249,
          -0.9374296790293236,
          -0.9683171984310474,
          -0.988895354706268,
          -0.9989450588148868,
          -0.998359314775486,
          -0.9871443588172798,
          -0.981568696042158,
          -0.9750022099138186,
          -0.9674515288300809,
          -0.9589242746631385
         ],
         "yaxis": "y1",
         "zmax": null,
         "zmin": null
        }
       ],
       "layout": {
        "annotations": [],
        "height": 400,
        "legend": {
         "bgcolor": "rgba(255, 255, 255, 1.000)",
         "bordercolor": "rgba(0, 0, 0, 1.000)",
         "font": {
          "color": "rgba(0, 0, 0, 1.000)",
          "family": "sans-serif",
          "size": 11
         },
         "tracegroupgap": 0,
         "x": 1,
         "y": 1
        },
        "margin": {
         "b": 20,
         "l": 0,
         "r": 0,
         "t": 20
        },
        "paper_bgcolor": "rgba(255, 255, 255, 1.000)",
        "plot_bgcolor": "rgba(255, 255, 255, 1.000)",
        "showlegend": true,
        "width": 600,
        "xaxis": {
         "anchor": "y1",
         "domain": [
          0.0658209390492855,
          0.9934383202099738
         ],
         "gridcolor": "rgba(0, 0, 0, 0.100)",
         "gridwidth": 0.5,
         "linecolor": "rgba(0, 0, 0, 1.000)",
         "mirror": false,
         "range": [
          -5.3,
          5.3
         ],
         "showgrid": true,
         "showline": true,
         "showticklabels": true,
         "tickangle": 0,
         "tickcolor": "rgb(0, 0, 0)",
         "tickfont": {
          "color": "rgba(0, 0, 0, 1.000)",
          "family": "sans-serif",
          "size": 11
         },
         "tickmode": "array",
         "ticks": "inside",
         "ticktext": [
          "-4",
          "-2",
          "0",
          "2",
          "4"
         ],
         "tickvals": [
          -4,
          -2,
          0,
          2,
          4
         ],
         "title": "",
         "titlefont": {
          "color": "rgba(0, 0, 0, 1.000)",
          "family": "sans-serif",
          "size": 15
         },
         "type": "-",
         "visible": true,
         "zeroline": false,
         "zerolinecolor": "rgba(0, 0, 0, 1.000)"
        },
        "yaxis": {
         "anchor": "x1",
         "domain": [
          0.03762029746281716,
          0.9901574803149606
         ],
         "gridcolor": "rgba(0, 0, 0, 0.100)",
         "gridwidth": 0.5,
         "linecolor": "rgba(0, 0, 0, 1.000)",
         "mirror": false,
         "range": [
          -1.0596986628031682,
          1.059331996217173
         ],
         "showgrid": true,
         "showline": true,
         "showticklabels": true,
         "tickangle": 0,
         "tickcolor": "rgb(0, 0, 0)",
         "tickfont": {
          "color": "rgba(0, 0, 0, 1.000)",
          "family": "sans-serif",
          "size": 11
         },
         "tickmode": "array",
         "ticks": "inside",
         "ticktext": [
          "-1.0",
          "-0.5",
          "0.0",
          "0.5",
          "1.0"
         ],
         "tickvals": [
          -1,
          -0.5,
          0,
          0.5,
          1
         ],
         "title": "",
         "titlefont": {
          "color": "rgba(0, 0, 0, 1.000)",
          "family": "sans-serif",
          "size": 15
         },
         "type": "-",
         "visible": true,
         "zeroline": false,
         "zerolinecolor": "rgba(0, 0, 0, 1.000)"
        }
       }
      },
      "text/html": [
       "<!DOCTYPE html>\n",
       "<html>\n",
       "    <head>\n",
       "        <title>Plots.jl</title>\n",
       "        <meta http-equiv=\"content-type\" content=\"text/html; charset=UTF-8\">\n",
       "        <script src=\"https://cdn.plot.ly/plotly-latest.min.js\"></script>\n",
       "    </head>\n",
       "    <body>\n",
       "            <div id=\"3e36c6a0-205a-4066-84b2-73f57ca5343f\" style=\"width:600px;height:400px;\"></div>\n",
       "    <script>\n",
       "    PLOT = document.getElementById('3e36c6a0-205a-4066-84b2-73f57ca5343f');\n",
       "    Plotly.plot(PLOT, [\n",
       "    {\n",
       "        \"xaxis\": \"x1\",\n",
       "        \"colorbar\": {\n",
       "            \"title\": \"\"\n",
       "        },\n",
       "        \"yaxis\": \"y1\",\n",
       "        \"x\": [\n",
       "            -5.0,\n",
       "            -4.975585452450529,\n",
       "            -4.951170904901059,\n",
       "            -4.926756357351589,\n",
       "            -4.9023418098021185,\n",
       "            -4.789467937116388,\n",
       "            -4.676594064430657,\n",
       "            -4.563720191744926,\n",
       "            -4.450846319059195,\n",
       "            -4.337972446373465,\n",
       "            -4.225098573687734,\n",
       "            -4.1122247010020025,\n",
       "            -3.9993508283162718,\n",
       "            -3.863685842973144,\n",
       "            -3.7280208576300167,\n",
       "            -3.592355872286889,\n",
       "            -3.456690886943761,\n",
       "            -3.227284849893052,\n",
       "            -2.997878812842343,\n",
       "            -2.7486795562559143,\n",
       "            -2.499480299669486,\n",
       "            -2.384610463415544,\n",
       "            -2.2697406271616023,\n",
       "            -2.15487079090766,\n",
       "            -2.0400009546537183,\n",
       "            -1.916848349974064,\n",
       "            -1.7936957452944098,\n",
       "            -1.6705431406147557,\n",
       "            -1.5473905359351015,\n",
       "            -1.4047061661049955,\n",
       "            -1.2620217962748894,\n",
       "            -1.1193374264447833,\n",
       "            -0.9766530566146772,\n",
       "            -0.8498520271834542,\n",
       "            -0.7230509977522314,\n",
       "            -0.5962499683210085,\n",
       "            -0.46944893888978556,\n",
       "            -0.24706278674379273,\n",
       "            -0.024676634597799892,\n",
       "            0.21778396597769734,\n",
       "            0.46024456655319457,\n",
       "            0.5821953717969262,\n",
       "            0.7041461770406577,\n",
       "            0.8260969822843893,\n",
       "            0.9480477875281209,\n",
       "            1.0828799972071013,\n",
       "            1.2177122068860817,\n",
       "            1.3525444165650622,\n",
       "            1.4873766262440427,\n",
       "            1.6156660715451405,\n",
       "            1.7439555168462386,\n",
       "            1.8722449621473367,\n",
       "            2.0005344074484346,\n",
       "            2.1339256643647024,\n",
       "            2.26731692128097,\n",
       "            2.4007081781972377,\n",
       "            2.5340994351135055,\n",
       "            2.758673485890978,\n",
       "            2.983247536668451,\n",
       "            3.257426998266046,\n",
       "            3.531606459863641,\n",
       "            3.6604748502195017,\n",
       "            3.789343240575363,\n",
       "            3.918211630931224,\n",
       "            4.047080021287085,\n",
       "            4.150308598646275,\n",
       "            4.253537176005464,\n",
       "            4.3567657533646535,\n",
       "            4.459994330723842,\n",
       "            4.563222908083031,\n",
       "            4.66645148544222,\n",
       "            4.7696800628014095,\n",
       "            4.872908640160599,\n",
       "            4.904681480120449,\n",
       "            4.9364543200802995,\n",
       "            4.96822716004015,\n",
       "            5.0\n",
       "        ],\n",
       "        \"showlegend\": true,\n",
       "        \"mode\": \"lines\",\n",
       "        \"name\": \"y1\",\n",
       "        \"zmin\": null,\n",
       "        \"legendgroup\": \"y1\",\n",
       "        \"zmax\": null,\n",
       "        \"line\": {\n",
       "            \"color\": \"rgba(0, 154, 250, 1.000)\",\n",
       "            \"shape\": \"linear\",\n",
       "            \"dash\": \"solid\",\n",
       "            \"width\": 1\n",
       "        },\n",
       "        \"y\": [\n",
       "            0.9589242746631385,\n",
       "            0.965563291722537,\n",
       "            0.97162679393126,\n",
       "            0.9771111671962716,\n",
       "            0.9820131426088557,\n",
       "            0.9970308876503605,\n",
       "            0.9993594303958425,\n",
       "            0.9889691355046937,\n",
       "            0.9659922401577499,\n",
       "            0.9307211710759917,\n",
       "            0.8836048228085437,\n",
       "            0.8252428446561658,\n",
       "            0.7563780089405031,\n",
       "            0.6609568980656421,\n",
       "            0.5533895297159968,\n",
       "            0.4356526454244615,\n",
       "            0.30990986964986167,\n",
       "            0.08558735965787978,\n",
       "            -0.14321964837503193,\n",
       "            -0.3828811482645716,\n",
       "            -0.5988884178668034,\n",
       "            -0.6867308941333826,\n",
       "            -0.7655218613254127,\n",
       "            -0.8342228090735139,\n",
       "            -0.8919282192813187,\n",
       "            -0.9407191411596759,\n",
       "            -0.9752606092104765,\n",
       "            -0.9950294098276709,\n",
       "            -0.9997260969818377,\n",
       "            -0.986238707792793,\n",
       "            -0.9527066947452159,\n",
       "            -0.899811572956539,\n",
       "            -0.8286283994203965,\n",
       "            -0.751182737350679,\n",
       "            -0.6616753570350854,\n",
       "            -0.5615434757426131,\n",
       "            -0.4523949080295961,\n",
       "            -0.24455699373377002,\n",
       "            -0.02467413025764248,\n",
       "            0.2160664670593724,\n",
       "            0.444167238157247,\n",
       "            0.5498589611843256,\n",
       "            0.6473833119728851,\n",
       "            0.7352917051011392,\n",
       "            0.8122783865116799,\n",
       "            0.8833115717351019,\n",
       "            0.9383107090121471,\n",
       "            0.9762774430259284,\n",
       "            0.9965225940430157,\n",
       "            0.9989935218813863,\n",
       "            0.9850453703032711,\n",
       "            0.9549073858487706,\n",
       "            0.9090749050234505,\n",
       "            0.8455887043238225,\n",
       "            0.7670790476493855,\n",
       "            0.6749408050647633,\n",
       "            0.5708109838099867,\n",
       "            0.37362981296428177,\n",
       "            0.15768424347650672,\n",
       "            -0.11557548200784744,\n",
       "            -0.3802011846346912,\n",
       "            -0.4959097764199482,\n",
       "            -0.6033941549108707,\n",
       "            -0.7008717892993345,\n",
       "            -0.7867261015407899,\n",
       "            -0.8461482082902942,\n",
       "            -0.8965616460290249,\n",
       "            -0.9374296790293236,\n",
       "            -0.9683171984310474,\n",
       "            -0.988895354706268,\n",
       "            -0.9989450588148868,\n",
       "            -0.998359314775486,\n",
       "            -0.9871443588172798,\n",
       "            -0.981568696042158,\n",
       "            -0.9750022099138186,\n",
       "            -0.9674515288300809,\n",
       "            -0.9589242746631385\n",
       "        ],\n",
       "        \"type\": \"scatter\"\n",
       "    }\n",
       "]\n",
       ", {\n",
       "    \"showlegend\": true,\n",
       "    \"xaxis\": {\n",
       "        \"showticklabels\": true,\n",
       "        \"gridwidth\": 0.5,\n",
       "        \"tickvals\": [\n",
       "            -4.0,\n",
       "            -2.0,\n",
       "            0.0,\n",
       "            2.0,\n",
       "            4.0\n",
       "        ],\n",
       "        \"visible\": true,\n",
       "        \"ticks\": \"inside\",\n",
       "        \"range\": [\n",
       "            -5.3,\n",
       "            5.3\n",
       "        ],\n",
       "        \"domain\": [\n",
       "            0.0658209390492855,\n",
       "            0.9934383202099738\n",
       "        ],\n",
       "        \"tickmode\": \"array\",\n",
       "        \"linecolor\": \"rgba(0, 0, 0, 1.000)\",\n",
       "        \"showgrid\": true,\n",
       "        \"title\": \"\",\n",
       "        \"mirror\": false,\n",
       "        \"tickangle\": 0,\n",
       "        \"showline\": true,\n",
       "        \"gridcolor\": \"rgba(0, 0, 0, 0.100)\",\n",
       "        \"titlefont\": {\n",
       "            \"color\": \"rgba(0, 0, 0, 1.000)\",\n",
       "            \"family\": \"sans-serif\",\n",
       "            \"size\": 15\n",
       "        },\n",
       "        \"tickcolor\": \"rgb(0, 0, 0)\",\n",
       "        \"ticktext\": [\n",
       "            \"-4\",\n",
       "            \"-2\",\n",
       "            \"0\",\n",
       "            \"2\",\n",
       "            \"4\"\n",
       "        ],\n",
       "        \"zeroline\": false,\n",
       "        \"type\": \"-\",\n",
       "        \"tickfont\": {\n",
       "            \"color\": \"rgba(0, 0, 0, 1.000)\",\n",
       "            \"family\": \"sans-serif\",\n",
       "            \"size\": 11\n",
       "        },\n",
       "        \"zerolinecolor\": \"rgba(0, 0, 0, 1.000)\",\n",
       "        \"anchor\": \"y1\"\n",
       "    },\n",
       "    \"paper_bgcolor\": \"rgba(255, 255, 255, 1.000)\",\n",
       "    \"annotations\": [],\n",
       "    \"height\": 400,\n",
       "    \"margin\": {\n",
       "        \"l\": 0,\n",
       "        \"b\": 20,\n",
       "        \"r\": 0,\n",
       "        \"t\": 20\n",
       "    },\n",
       "    \"plot_bgcolor\": \"rgba(255, 255, 255, 1.000)\",\n",
       "    \"yaxis\": {\n",
       "        \"showticklabels\": true,\n",
       "        \"gridwidth\": 0.5,\n",
       "        \"tickvals\": [\n",
       "            -1.0,\n",
       "            -0.5,\n",
       "            0.0,\n",
       "            0.5,\n",
       "            1.0\n",
       "        ],\n",
       "        \"visible\": true,\n",
       "        \"ticks\": \"inside\",\n",
       "        \"range\": [\n",
       "            -1.0596986628031682,\n",
       "            1.059331996217173\n",
       "        ],\n",
       "        \"domain\": [\n",
       "            0.03762029746281716,\n",
       "            0.9901574803149606\n",
       "        ],\n",
       "        \"tickmode\": \"array\",\n",
       "        \"linecolor\": \"rgba(0, 0, 0, 1.000)\",\n",
       "        \"showgrid\": true,\n",
       "        \"title\": \"\",\n",
       "        \"mirror\": false,\n",
       "        \"tickangle\": 0,\n",
       "        \"showline\": true,\n",
       "        \"gridcolor\": \"rgba(0, 0, 0, 0.100)\",\n",
       "        \"titlefont\": {\n",
       "            \"color\": \"rgba(0, 0, 0, 1.000)\",\n",
       "            \"family\": \"sans-serif\",\n",
       "            \"size\": 15\n",
       "        },\n",
       "        \"tickcolor\": \"rgb(0, 0, 0)\",\n",
       "        \"ticktext\": [\n",
       "            \"-1.0\",\n",
       "            \"-0.5\",\n",
       "            \"0.0\",\n",
       "            \"0.5\",\n",
       "            \"1.0\"\n",
       "        ],\n",
       "        \"zeroline\": false,\n",
       "        \"type\": \"-\",\n",
       "        \"tickfont\": {\n",
       "            \"color\": \"rgba(0, 0, 0, 1.000)\",\n",
       "            \"family\": \"sans-serif\",\n",
       "            \"size\": 11\n",
       "        },\n",
       "        \"zerolinecolor\": \"rgba(0, 0, 0, 1.000)\",\n",
       "        \"anchor\": \"x1\"\n",
       "    },\n",
       "    \"legend\": {\n",
       "        \"tracegroupgap\": 0,\n",
       "        \"bordercolor\": \"rgba(0, 0, 0, 1.000)\",\n",
       "        \"bgcolor\": \"rgba(255, 255, 255, 1.000)\",\n",
       "        \"font\": {\n",
       "            \"color\": \"rgba(0, 0, 0, 1.000)\",\n",
       "            \"family\": \"sans-serif\",\n",
       "            \"size\": 11\n",
       "        },\n",
       "        \"y\": 1.0,\n",
       "        \"x\": 1.0\n",
       "    },\n",
       "    \"width\": 600\n",
       "}\n",
       ");\n",
       "    </script>\n",
       "\n",
       "    </body>\n",
       "</html>\n"
      ]
     },
     "execution_count": 30,
     "metadata": {},
     "output_type": "execute_result"
    }
   ],
   "source": [
    "plot(sin)"
   ]
  },
  {
   "cell_type": "markdown",
   "metadata": {},
   "source": [
    "You can save it as an `html` file and put it on a web page. "
   ]
  },
  {
   "cell_type": "code",
   "execution_count": 31,
   "metadata": {},
   "outputs": [],
   "source": [
    "savefig(\"myplot.html\")"
   ]
  },
  {
   "cell_type": "markdown",
   "metadata": {},
   "source": [
    "You could have added an extra argument as in \n",
    "\n",
    "```julia\n",
    "savefig(\"myplot.html\",js)\n",
    "```\n",
    "\n",
    "The `js` argument can be one of\n",
    "- `:local`: Reference the local plotly.js file included in this Julia package\n",
    "    Pros: small file size, offline viewing. Cons: Can't share with others or\n",
    "    move to different machine..\n",
    "- `:remote`: Reference plotly.js from a CDN. Pros small file size, move to\n",
    "    other machine. Cons: need internet access to fetch from CDN\n",
    "- `:embed`: Embed the entirety of your local copy of plotly.js in the\n",
    "    outputted file. Pros: offline viewing, move to other machine. Con: large\n",
    "    file size (adds about 2.7 MB)"
   ]
  },
  {
   "cell_type": "markdown",
   "metadata": {},
   "source": [
    "GR is the default backend is generally quite good. Though it lacks the interactive elements"
   ]
  },
  {
   "cell_type": "code",
   "execution_count": 32,
   "metadata": {},
   "outputs": [
    {
     "data": {
      "text/plain": [
       "Plots.GRBackend()"
      ]
     },
     "execution_count": 32,
     "metadata": {},
     "output_type": "execute_result"
    }
   ],
   "source": [
    "gr()"
   ]
  },
  {
   "cell_type": "code",
   "execution_count": 33,
   "metadata": {},
   "outputs": [
    {
     "data": {
      "image/svg+xml": [
       "<?xml version=\"1.0\" encoding=\"utf-8\"?>\n",
       "<svg xmlns=\"http://www.w3.org/2000/svg\" xmlns:xlink=\"http://www.w3.org/1999/xlink\" width=\"600\" height=\"400\" viewBox=\"0 0 2400 1600\">\n",
       "<defs>\n",
       "  <clipPath id=\"clip6700\">\n",
       "    <rect x=\"0\" y=\"0\" width=\"2400\" height=\"1600\"/>\n",
       "  </clipPath>\n",
       "</defs>\n",
       "<path clip-path=\"url(#clip6700)\" d=\"\n",
       "M0 1600 L2400 1600 L2400 0 L0 0  Z\n",
       "  \" fill=\"#ffffff\" fill-rule=\"evenodd\" fill-opacity=\"1\"/>\n",
       "<defs>\n",
       "  <clipPath id=\"clip6701\">\n",
       "    <rect x=\"480\" y=\"0\" width=\"1681\" height=\"1600\"/>\n",
       "  </clipPath>\n",
       "</defs>\n",
       "<path clip-path=\"url(#clip6700)\" d=\"\n",
       "M162.455 1486.45 L2352.76 1486.45 L2352.76 47.2441 L162.455 47.2441  Z\n",
       "  \" fill=\"#ffffff\" fill-rule=\"evenodd\" fill-opacity=\"1\"/>\n",
       "<defs>\n",
       "  <clipPath id=\"clip6702\">\n",
       "    <rect x=\"162\" y=\"47\" width=\"2191\" height=\"1440\"/>\n",
       "  </clipPath>\n",
       "</defs>\n",
       "<polyline clip-path=\"url(#clip6702)\" style=\"stroke:#000000; stroke-width:2; stroke-opacity:0.1; fill:none\" points=\"\n",
       "  431.077,1486.45 431.077,47.2441 \n",
       "  \"/>\n",
       "<polyline clip-path=\"url(#clip6702)\" style=\"stroke:#000000; stroke-width:2; stroke-opacity:0.1; fill:none\" points=\"\n",
       "  844.341,1486.45 844.341,47.2441 \n",
       "  \"/>\n",
       "<polyline clip-path=\"url(#clip6702)\" style=\"stroke:#000000; stroke-width:2; stroke-opacity:0.1; fill:none\" points=\"\n",
       "  1257.61,1486.45 1257.61,47.2441 \n",
       "  \"/>\n",
       "<polyline clip-path=\"url(#clip6702)\" style=\"stroke:#000000; stroke-width:2; stroke-opacity:0.1; fill:none\" points=\"\n",
       "  1670.87,1486.45 1670.87,47.2441 \n",
       "  \"/>\n",
       "<polyline clip-path=\"url(#clip6702)\" style=\"stroke:#000000; stroke-width:2; stroke-opacity:0.1; fill:none\" points=\"\n",
       "  2084.13,1486.45 2084.13,47.2441 \n",
       "  \"/>\n",
       "<polyline clip-path=\"url(#clip6702)\" style=\"stroke:#000000; stroke-width:2; stroke-opacity:0.1; fill:none\" points=\"\n",
       "  162.455,1445.9 2352.76,1445.9 \n",
       "  \"/>\n",
       "<polyline clip-path=\"url(#clip6702)\" style=\"stroke:#000000; stroke-width:2; stroke-opacity:0.1; fill:none\" points=\"\n",
       "  162.455,1106.31 2352.76,1106.31 \n",
       "  \"/>\n",
       "<polyline clip-path=\"url(#clip6702)\" style=\"stroke:#000000; stroke-width:2; stroke-opacity:0.1; fill:none\" points=\"\n",
       "  162.455,766.721 2352.76,766.721 \n",
       "  \"/>\n",
       "<polyline clip-path=\"url(#clip6702)\" style=\"stroke:#000000; stroke-width:2; stroke-opacity:0.1; fill:none\" points=\"\n",
       "  162.455,427.131 2352.76,427.131 \n",
       "  \"/>\n",
       "<polyline clip-path=\"url(#clip6702)\" style=\"stroke:#000000; stroke-width:2; stroke-opacity:0.1; fill:none\" points=\"\n",
       "  162.455,87.5412 2352.76,87.5412 \n",
       "  \"/>\n",
       "<polyline clip-path=\"url(#clip6700)\" style=\"stroke:#000000; stroke-width:4; stroke-opacity:1; fill:none\" points=\"\n",
       "  162.455,1486.45 2352.76,1486.45 \n",
       "  \"/>\n",
       "<polyline clip-path=\"url(#clip6700)\" style=\"stroke:#000000; stroke-width:4; stroke-opacity:1; fill:none\" points=\"\n",
       "  162.455,1486.45 162.455,47.2441 \n",
       "  \"/>\n",
       "<polyline clip-path=\"url(#clip6700)\" style=\"stroke:#000000; stroke-width:4; stroke-opacity:1; fill:none\" points=\"\n",
       "  431.077,1486.45 431.077,1469.18 \n",
       "  \"/>\n",
       "<polyline clip-path=\"url(#clip6700)\" style=\"stroke:#000000; stroke-width:4; stroke-opacity:1; fill:none\" points=\"\n",
       "  844.341,1486.45 844.341,1469.18 \n",
       "  \"/>\n",
       "<polyline clip-path=\"url(#clip6700)\" style=\"stroke:#000000; stroke-width:4; stroke-opacity:1; fill:none\" points=\"\n",
       "  1257.61,1486.45 1257.61,1469.18 \n",
       "  \"/>\n",
       "<polyline clip-path=\"url(#clip6700)\" style=\"stroke:#000000; stroke-width:4; stroke-opacity:1; fill:none\" points=\"\n",
       "  1670.87,1486.45 1670.87,1469.18 \n",
       "  \"/>\n",
       "<polyline clip-path=\"url(#clip6700)\" style=\"stroke:#000000; stroke-width:4; stroke-opacity:1; fill:none\" points=\"\n",
       "  2084.13,1486.45 2084.13,1469.18 \n",
       "  \"/>\n",
       "<polyline clip-path=\"url(#clip6700)\" style=\"stroke:#000000; stroke-width:4; stroke-opacity:1; fill:none\" points=\"\n",
       "  162.455,1445.9 188.738,1445.9 \n",
       "  \"/>\n",
       "<polyline clip-path=\"url(#clip6700)\" style=\"stroke:#000000; stroke-width:4; stroke-opacity:1; fill:none\" points=\"\n",
       "  162.455,1106.31 188.738,1106.31 \n",
       "  \"/>\n",
       "<polyline clip-path=\"url(#clip6700)\" style=\"stroke:#000000; stroke-width:4; stroke-opacity:1; fill:none\" points=\"\n",
       "  162.455,766.721 188.738,766.721 \n",
       "  \"/>\n",
       "<polyline clip-path=\"url(#clip6700)\" style=\"stroke:#000000; stroke-width:4; stroke-opacity:1; fill:none\" points=\"\n",
       "  162.455,427.131 188.738,427.131 \n",
       "  \"/>\n",
       "<polyline clip-path=\"url(#clip6700)\" style=\"stroke:#000000; stroke-width:4; stroke-opacity:1; fill:none\" points=\"\n",
       "  162.455,87.5412 188.738,87.5412 \n",
       "  \"/>\n",
       "<path clip-path=\"url(#clip6700)\" d=\"M 0 0 M411.088 1525.04 L423.565 1525.04 L423.565 1528.83 L411.088 1528.83 L411.088 1525.04 Z\" fill=\"#000000\" fill-rule=\"evenodd\" fill-opacity=\"1\" /><path clip-path=\"url(#clip6700)\" d=\"M 0 0 M441.482 1509.43 L429.676 1527.88 L441.482 1527.88 L441.482 1509.43 M440.255 1505.36 L446.134 1505.36 L446.134 1527.88 L451.065 1527.88 L451.065 1531.77 L446.134 1531.77 L446.134 1539.92 L441.482 1539.92 L441.482 1531.77 L425.88 1531.77 L425.88 1527.26 L440.255 1505.36 Z\" fill=\"#000000\" fill-rule=\"evenodd\" fill-opacity=\"1\" /><path clip-path=\"url(#clip6700)\" d=\"M 0 0 M825.394 1525.04 L837.871 1525.04 L837.871 1528.83 L825.394 1528.83 L825.394 1525.04 Z\" fill=\"#000000\" fill-rule=\"evenodd\" fill-opacity=\"1\" /><path clip-path=\"url(#clip6700)\" d=\"M 0 0 M846.968 1535.98 L863.288 1535.98 L863.288 1539.92 L841.343 1539.92 L841.343 1535.98 Q844.005 1533.23 848.589 1528.6 Q853.195 1523.95 854.376 1522.61 Q856.621 1520.08 857.501 1518.35 Q858.403 1516.59 858.403 1514.9 Q858.403 1512.14 856.459 1510.41 Q854.538 1508.67 851.436 1508.67 Q849.237 1508.67 846.783 1509.43 Q844.352 1510.2 841.575 1511.75 L841.575 1507.03 Q844.399 1505.89 846.852 1505.31 Q849.306 1504.73 851.343 1504.73 Q856.714 1504.73 859.908 1507.42 Q863.102 1510.11 863.102 1514.6 Q863.102 1516.73 862.292 1518.65 Q861.505 1520.54 859.399 1523.14 Q858.82 1523.81 855.718 1527.03 Q852.616 1530.22 846.968 1535.98 Z\" fill=\"#000000\" fill-rule=\"evenodd\" fill-opacity=\"1\" /><path clip-path=\"url(#clip6700)\" d=\"M 0 0 M1257.61 1508.44 Q1253.99 1508.44 1252.17 1512 Q1250.36 1515.55 1250.36 1522.67 Q1250.36 1529.78 1252.17 1533.35 Q1253.99 1536.89 1257.61 1536.89 Q1261.24 1536.89 1263.05 1533.35 Q1264.87 1529.78 1264.87 1522.67 Q1264.87 1515.55 1263.05 1512 Q1261.24 1508.44 1257.61 1508.44 M1257.61 1504.73 Q1263.42 1504.73 1266.47 1509.34 Q1269.55 1513.92 1269.55 1522.67 Q1269.55 1531.4 1266.47 1536.01 Q1263.42 1540.59 1257.61 1540.59 Q1251.8 1540.59 1248.72 1536.01 Q1245.66 1531.4 1245.66 1522.67 Q1245.66 1513.92 1248.72 1509.34 Q1251.8 1504.73 1257.61 1504.73 Z\" fill=\"#000000\" fill-rule=\"evenodd\" fill-opacity=\"1\" /><path clip-path=\"url(#clip6700)\" d=\"M 0 0 M1665.52 1535.98 L1681.84 1535.98 L1681.84 1539.92 L1659.9 1539.92 L1659.9 1535.98 Q1662.56 1533.23 1667.14 1528.6 Q1671.75 1523.95 1672.93 1522.61 Q1675.18 1520.08 1676.05 1518.35 Q1676.96 1516.59 1676.96 1514.9 Q1676.96 1512.14 1675.01 1510.41 Q1673.09 1508.67 1669.99 1508.67 Q1667.79 1508.67 1665.34 1509.43 Q1662.91 1510.2 1660.13 1511.75 L1660.13 1507.03 Q1662.95 1505.89 1665.41 1505.31 Q1667.86 1504.73 1669.9 1504.73 Q1675.27 1504.73 1678.46 1507.42 Q1681.66 1510.11 1681.66 1514.6 Q1681.66 1516.73 1680.85 1518.65 Q1680.06 1520.54 1677.95 1523.14 Q1677.37 1523.81 1674.27 1527.03 Q1671.17 1530.22 1665.52 1535.98 Z\" fill=\"#000000\" fill-rule=\"evenodd\" fill-opacity=\"1\" /><path clip-path=\"url(#clip6700)\" d=\"M 0 0 M2087.14 1509.43 L2075.34 1527.88 L2087.14 1527.88 L2087.14 1509.43 M2085.92 1505.36 L2091.8 1505.36 L2091.8 1527.88 L2096.73 1527.88 L2096.73 1531.77 L2091.8 1531.77 L2091.8 1539.92 L2087.14 1539.92 L2087.14 1531.77 L2071.54 1531.77 L2071.54 1527.26 L2085.92 1505.36 Z\" fill=\"#000000\" fill-rule=\"evenodd\" fill-opacity=\"1\" /><path clip-path=\"url(#clip6700)\" d=\"M 0 0 M63.2236 1448.3 L75.7004 1448.3 L75.7004 1452.09 L63.2236 1452.09 L63.2236 1448.3 Z\" fill=\"#000000\" fill-rule=\"evenodd\" fill-opacity=\"1\" /><path clip-path=\"url(#clip6700)\" d=\"M 0 0 M81.58 1459.25 L89.2188 1459.25 L89.2188 1432.88 L80.9087 1434.55 L80.9087 1430.29 L89.1725 1428.62 L93.8484 1428.62 L93.8484 1459.25 L101.487 1459.25 L101.487 1463.18 L81.58 1463.18 L81.58 1459.25 Z\" fill=\"#000000\" fill-rule=\"evenodd\" fill-opacity=\"1\" /><path clip-path=\"url(#clip6700)\" d=\"M 0 0 M106.557 1457.3 L111.441 1457.3 L111.441 1463.18 L106.557 1463.18 L106.557 1457.3 Z\" fill=\"#000000\" fill-rule=\"evenodd\" fill-opacity=\"1\" /><path clip-path=\"url(#clip6700)\" d=\"M 0 0 M126.51 1431.7 Q122.899 1431.7 121.071 1435.27 Q119.265 1438.81 119.265 1445.94 Q119.265 1453.04 121.071 1456.61 Q122.899 1460.15 126.51 1460.15 Q130.145 1460.15 131.95 1456.61 Q133.779 1453.04 133.779 1445.94 Q133.779 1438.81 131.95 1435.27 Q130.145 1431.7 126.51 1431.7 M126.51 1428 Q132.32 1428 135.376 1432.6 Q138.455 1437.19 138.455 1445.94 Q138.455 1454.66 135.376 1459.27 Q132.32 1463.85 126.51 1463.85 Q120.7 1463.85 117.621 1459.27 Q114.566 1454.66 114.566 1445.94 Q114.566 1437.19 117.621 1432.6 Q120.7 1428 126.51 1428 Z\" fill=\"#000000\" fill-rule=\"evenodd\" fill-opacity=\"1\" /><path clip-path=\"url(#clip6700)\" d=\"M 0 0 M62.9921 1108.71 L75.4689 1108.71 L75.4689 1112.5 L62.9921 1112.5 L62.9921 1108.71 Z\" fill=\"#000000\" fill-rule=\"evenodd\" fill-opacity=\"1\" /><path clip-path=\"url(#clip6700)\" d=\"M 0 0 M90.5383 1092.11 Q86.9272 1092.11 85.0985 1095.68 Q83.2929 1099.22 83.2929 1106.35 Q83.2929 1113.45 85.0985 1117.02 Q86.9272 1120.56 90.5383 1120.56 Q94.1725 1120.56 95.9781 1117.02 Q97.8068 1113.45 97.8068 1106.35 Q97.8068 1099.22 95.9781 1095.68 Q94.1725 1092.11 90.5383 1092.11 M90.5383 1088.41 Q96.3484 1088.41 99.404 1093.01 Q102.483 1097.6 102.483 1106.35 Q102.483 1115.07 99.404 1119.68 Q96.3484 1124.26 90.5383 1124.26 Q84.7281 1124.26 81.6494 1119.68 Q78.5939 1115.07 78.5939 1106.35 Q78.5939 1097.6 81.6494 1093.01 Q84.7281 1088.41 90.5383 1088.41 Z\" fill=\"#000000\" fill-rule=\"evenodd\" fill-opacity=\"1\" /><path clip-path=\"url(#clip6700)\" d=\"M 0 0 M107.552 1117.71 L112.436 1117.71 L112.436 1123.59 L107.552 1123.59 L107.552 1117.71 Z\" fill=\"#000000\" fill-rule=\"evenodd\" fill-opacity=\"1\" /><path clip-path=\"url(#clip6700)\" d=\"M 0 0 M117.552 1089.03 L135.908 1089.03 L135.908 1092.97 L121.834 1092.97 L121.834 1101.44 Q122.853 1101.09 123.871 1100.93 Q124.89 1100.74 125.908 1100.74 Q131.695 1100.74 135.075 1103.92 Q138.455 1107.09 138.455 1112.5 Q138.455 1118.08 134.982 1121.18 Q131.51 1124.26 125.191 1124.26 Q123.015 1124.26 120.746 1123.89 Q118.501 1123.52 116.094 1122.78 L116.094 1118.08 Q118.177 1119.22 120.399 1119.77 Q122.621 1120.33 125.098 1120.33 Q129.103 1120.33 131.441 1118.22 Q133.779 1116.11 133.779 1112.5 Q133.779 1108.89 131.441 1106.79 Q129.103 1104.68 125.098 1104.68 Q123.223 1104.68 121.348 1105.1 Q119.496 1105.51 117.552 1106.39 L117.552 1089.03 Z\" fill=\"#000000\" fill-rule=\"evenodd\" fill-opacity=\"1\" /><path clip-path=\"url(#clip6700)\" d=\"M 0 0 M89.5429 752.52 Q85.9318 752.52 84.1031 756.085 Q82.2976 759.627 82.2976 766.756 Q82.2976 773.863 84.1031 777.427 Q85.9318 780.969 89.5429 780.969 Q93.1771 780.969 94.9827 777.427 Q96.8114 773.863 96.8114 766.756 Q96.8114 759.627 94.9827 756.085 Q93.1771 752.52 89.5429 752.52 M89.5429 748.816 Q95.3531 748.816 98.4086 753.423 Q101.487 758.006 101.487 766.756 Q101.487 775.483 98.4086 780.089 Q95.3531 784.673 89.5429 784.673 Q83.7328 784.673 80.6541 780.089 Q77.5985 775.483 77.5985 766.756 Q77.5985 758.006 80.6541 753.423 Q83.7328 748.816 89.5429 748.816 Z\" fill=\"#000000\" fill-rule=\"evenodd\" fill-opacity=\"1\" /><path clip-path=\"url(#clip6700)\" d=\"M 0 0 M106.557 778.122 L111.441 778.122 L111.441 784.001 L106.557 784.001 L106.557 778.122 Z\" fill=\"#000000\" fill-rule=\"evenodd\" fill-opacity=\"1\" /><path clip-path=\"url(#clip6700)\" d=\"M 0 0 M126.51 752.52 Q122.899 752.52 121.071 756.085 Q119.265 759.627 119.265 766.756 Q119.265 773.863 121.071 777.427 Q122.899 780.969 126.51 780.969 Q130.145 780.969 131.95 777.427 Q133.779 773.863 133.779 766.756 Q133.779 759.627 131.95 756.085 Q130.145 752.52 126.51 752.52 M126.51 748.816 Q132.32 748.816 135.376 753.423 Q138.455 758.006 138.455 766.756 Q138.455 775.483 135.376 780.089 Q132.32 784.673 126.51 784.673 Q120.7 784.673 117.621 780.089 Q114.566 775.483 114.566 766.756 Q114.566 758.006 117.621 753.423 Q120.7 748.816 126.51 748.816 Z\" fill=\"#000000\" fill-rule=\"evenodd\" fill-opacity=\"1\" /><path clip-path=\"url(#clip6700)\" d=\"M 0 0 M90.5383 412.93 Q86.9272 412.93 85.0985 416.495 Q83.2929 420.036 83.2929 427.166 Q83.2929 434.273 85.0985 437.837 Q86.9272 441.379 90.5383 441.379 Q94.1725 441.379 95.9781 437.837 Q97.8068 434.273 97.8068 427.166 Q97.8068 420.036 95.9781 416.495 Q94.1725 412.93 90.5383 412.93 M90.5383 409.226 Q96.3484 409.226 99.404 413.833 Q102.483 418.416 102.483 427.166 Q102.483 435.893 99.404 440.499 Q96.3484 445.083 90.5383 445.083 Q84.7281 445.083 81.6494 440.499 Q78.5939 435.893 78.5939 427.166 Q78.5939 418.416 81.6494 413.833 Q84.7281 409.226 90.5383 409.226 Z\" fill=\"#000000\" fill-rule=\"evenodd\" fill-opacity=\"1\" /><path clip-path=\"url(#clip6700)\" d=\"M 0 0 M107.552 438.532 L112.436 438.532 L112.436 444.411 L107.552 444.411 L107.552 438.532 Z\" fill=\"#000000\" fill-rule=\"evenodd\" fill-opacity=\"1\" /><path clip-path=\"url(#clip6700)\" d=\"M 0 0 M117.552 409.851 L135.908 409.851 L135.908 413.787 L121.834 413.787 L121.834 422.259 Q122.853 421.911 123.871 421.749 Q124.89 421.564 125.908 421.564 Q131.695 421.564 135.075 424.736 Q138.455 427.907 138.455 433.323 Q138.455 438.902 134.982 442.004 Q131.51 445.083 125.191 445.083 Q123.015 445.083 120.746 444.712 Q118.501 444.342 116.094 443.601 L116.094 438.902 Q118.177 440.036 120.399 440.592 Q122.621 441.147 125.098 441.147 Q129.103 441.147 131.441 439.041 Q133.779 436.935 133.779 433.323 Q133.779 429.712 131.441 427.606 Q129.103 425.499 125.098 425.499 Q123.223 425.499 121.348 425.916 Q119.496 426.333 117.552 427.212 L117.552 409.851 Z\" fill=\"#000000\" fill-rule=\"evenodd\" fill-opacity=\"1\" /><path clip-path=\"url(#clip6700)\" d=\"M 0 0 M81.58 100.886 L89.2188 100.886 L89.2188 74.5205 L80.9087 76.1871 L80.9087 71.9279 L89.1725 70.2612 L93.8484 70.2612 L93.8484 100.886 L101.487 100.886 L101.487 104.821 L81.58 104.821 L81.58 100.886 Z\" fill=\"#000000\" fill-rule=\"evenodd\" fill-opacity=\"1\" /><path clip-path=\"url(#clip6700)\" d=\"M 0 0 M106.557 98.9416 L111.441 98.9416 L111.441 104.821 L106.557 104.821 L106.557 98.9416 Z\" fill=\"#000000\" fill-rule=\"evenodd\" fill-opacity=\"1\" /><path clip-path=\"url(#clip6700)\" d=\"M 0 0 M126.51 73.3399 Q122.899 73.3399 121.071 76.9047 Q119.265 80.4463 119.265 87.5759 Q119.265 94.6824 121.071 98.2472 Q122.899 101.789 126.51 101.789 Q130.145 101.789 131.95 98.2472 Q133.779 94.6824 133.779 87.5759 Q133.779 80.4463 131.95 76.9047 Q130.145 73.3399 126.51 73.3399 M126.51 69.6362 Q132.32 69.6362 135.376 74.2427 Q138.455 78.826 138.455 87.5759 Q138.455 96.3027 135.376 100.909 Q132.32 105.493 126.51 105.493 Q120.7 105.493 117.621 100.909 Q114.566 96.3027 114.566 87.5759 Q114.566 78.826 117.621 74.2427 Q120.7 69.6362 126.51 69.6362 Z\" fill=\"#000000\" fill-rule=\"evenodd\" fill-opacity=\"1\" /><polyline clip-path=\"url(#clip6702)\" style=\"stroke:#009af9; stroke-width:4; stroke-opacity:1; fill:none\" points=\"\n",
       "  224.444,115.439 229.489,110.93 234.534,106.812 239.579,103.087 244.624,99.7575 267.947,89.5578 291.27,87.9763 314.594,95.0332 337.917,110.639 361.241,134.594 \n",
       "  384.564,166.595 407.887,206.233 431.211,253.004 459.243,317.813 487.276,390.87 515.309,470.835 543.342,556.237 590.744,708.592 638.147,863.993 689.64,1026.77 \n",
       "  741.132,1173.47 764.868,1233.14 788.604,1286.65 812.34,1333.31 836.075,1372.5 861.523,1405.64 886.97,1429.1 912.417,1442.53 937.865,1445.72 967.348,1436.56 \n",
       "  996.831,1413.78 1026.31,1377.86 1055.8,1329.51 1082,1276.91 1108.2,1216.12 1134.4,1148.11 1160.6,1073.98 1206.55,932.82 1252.51,783.48 1302.61,619.973 \n",
       "  1352.71,465.052 1377.91,393.268 1403.1,327.032 1428.3,267.326 1453.5,215.038 1481.36,166.794 1509.22,129.439 1537.08,103.653 1564.95,89.903 1591.45,88.2248 \n",
       "  1617.96,97.6981 1644.47,118.167 1670.98,149.296 1698.54,192.414 1726.11,245.737 1753.67,308.315 1781.23,379.038 1827.64,512.959 1874.04,659.625 1930.69,845.218 \n",
       "  1987.35,1024.95 2013.98,1103.53 2040.61,1176.53 2067.23,1242.74 2093.86,1301.05 2115.19,1341.41 2136.52,1375.65 2157.85,1403.41 2179.18,1424.38 2200.51,1438.36 \n",
       "  2221.84,1445.19 2243.17,1444.79 2264.51,1437.17 2271.07,1433.38 2277.64,1428.92 2284.2,1423.8 2290.77,1418 \n",
       "  \"/>\n",
       "<path clip-path=\"url(#clip6700)\" d=\"\n",
       "M1989.74 251.724 L2280.76 251.724 L2280.76 130.764 L1989.74 130.764  Z\n",
       "  \" fill=\"#ffffff\" fill-rule=\"evenodd\" fill-opacity=\"1\"/>\n",
       "<polyline clip-path=\"url(#clip6700)\" style=\"stroke:#000000; stroke-width:4; stroke-opacity:1; fill:none\" points=\"\n",
       "  1989.74,251.724 2280.76,251.724 2280.76,130.764 1989.74,130.764 1989.74,251.724 \n",
       "  \"/>\n",
       "<polyline clip-path=\"url(#clip6700)\" style=\"stroke:#009af9; stroke-width:4; stroke-opacity:1; fill:none\" points=\"\n",
       "  2013.74,191.244 2157.74,191.244 \n",
       "  \"/>\n",
       "<path clip-path=\"url(#clip6700)\" d=\"M 0 0 M2195.58 210.931 Q2193.77 215.561 2192.06 216.973 Q2190.35 218.385 2187.48 218.385 L2184.08 218.385 L2184.08 214.82 L2186.58 214.82 Q2188.33 214.82 2189.31 213.987 Q2190.28 213.154 2191.46 210.052 L2192.22 208.107 L2181.74 182.598 L2186.25 182.598 L2194.35 202.876 L2202.46 182.598 L2206.97 182.598 L2195.58 210.931 Z\" fill=\"#000000\" fill-rule=\"evenodd\" fill-opacity=\"1\" /><path clip-path=\"url(#clip6700)\" d=\"M 0 0 M2212.85 204.589 L2220.49 204.589 L2220.49 178.223 L2212.18 179.89 L2212.18 175.631 L2220.44 173.964 L2225.12 173.964 L2225.12 204.589 L2232.76 204.589 L2232.76 208.524 L2212.85 208.524 L2212.85 204.589 Z\" fill=\"#000000\" fill-rule=\"evenodd\" fill-opacity=\"1\" /></svg>\n"
      ]
     },
     "execution_count": 33,
     "metadata": {},
     "output_type": "execute_result"
    }
   ],
   "source": [
    "p=plot(sin)"
   ]
  },
  {
   "cell_type": "markdown",
   "metadata": {},
   "source": [
    "With `Plots` you can do a bit of composition "
   ]
  },
  {
   "cell_type": "code",
   "execution_count": 34,
   "metadata": {},
   "outputs": [
    {
     "data": {
      "image/svg+xml": [
       "<?xml version=\"1.0\" encoding=\"utf-8\"?>\n",
       "<svg xmlns=\"http://www.w3.org/2000/svg\" xmlns:xlink=\"http://www.w3.org/1999/xlink\" width=\"600\" height=\"400\" viewBox=\"0 0 2400 1600\">\n",
       "<defs>\n",
       "  <clipPath id=\"clip7100\">\n",
       "    <rect x=\"0\" y=\"0\" width=\"2400\" height=\"1600\"/>\n",
       "  </clipPath>\n",
       "</defs>\n",
       "<path clip-path=\"url(#clip7100)\" d=\"\n",
       "M0 1600 L2400 1600 L2400 0 L0 0  Z\n",
       "  \" fill=\"#ffffff\" fill-rule=\"evenodd\" fill-opacity=\"1\"/>\n",
       "<defs>\n",
       "  <clipPath id=\"clip7101\">\n",
       "    <rect x=\"480\" y=\"0\" width=\"1681\" height=\"1600\"/>\n",
       "  </clipPath>\n",
       "</defs>\n",
       "<path clip-path=\"url(#clip7100)\" d=\"\n",
       "M162.455 1486.45 L2352.76 1486.45 L2352.76 47.2441 L162.455 47.2441  Z\n",
       "  \" fill=\"#ffffff\" fill-rule=\"evenodd\" fill-opacity=\"1\"/>\n",
       "<defs>\n",
       "  <clipPath id=\"clip7102\">\n",
       "    <rect x=\"162\" y=\"47\" width=\"2191\" height=\"1440\"/>\n",
       "  </clipPath>\n",
       "</defs>\n",
       "<polyline clip-path=\"url(#clip7102)\" style=\"stroke:#000000; stroke-width:2; stroke-opacity:0.1; fill:none\" points=\"\n",
       "  431.077,1486.45 431.077,47.2441 \n",
       "  \"/>\n",
       "<polyline clip-path=\"url(#clip7102)\" style=\"stroke:#000000; stroke-width:2; stroke-opacity:0.1; fill:none\" points=\"\n",
       "  844.341,1486.45 844.341,47.2441 \n",
       "  \"/>\n",
       "<polyline clip-path=\"url(#clip7102)\" style=\"stroke:#000000; stroke-width:2; stroke-opacity:0.1; fill:none\" points=\"\n",
       "  1257.61,1486.45 1257.61,47.2441 \n",
       "  \"/>\n",
       "<polyline clip-path=\"url(#clip7102)\" style=\"stroke:#000000; stroke-width:2; stroke-opacity:0.1; fill:none\" points=\"\n",
       "  1670.87,1486.45 1670.87,47.2441 \n",
       "  \"/>\n",
       "<polyline clip-path=\"url(#clip7102)\" style=\"stroke:#000000; stroke-width:2; stroke-opacity:0.1; fill:none\" points=\"\n",
       "  2084.13,1486.45 2084.13,47.2441 \n",
       "  \"/>\n",
       "<polyline clip-path=\"url(#clip7102)\" style=\"stroke:#000000; stroke-width:2; stroke-opacity:0.1; fill:none\" points=\"\n",
       "  162.455,1445.87 2352.76,1445.87 \n",
       "  \"/>\n",
       "<polyline clip-path=\"url(#clip7102)\" style=\"stroke:#000000; stroke-width:2; stroke-opacity:0.1; fill:none\" points=\"\n",
       "  162.455,1106.34 2352.76,1106.34 \n",
       "  \"/>\n",
       "<polyline clip-path=\"url(#clip7102)\" style=\"stroke:#000000; stroke-width:2; stroke-opacity:0.1; fill:none\" points=\"\n",
       "  162.455,766.819 2352.76,766.819 \n",
       "  \"/>\n",
       "<polyline clip-path=\"url(#clip7102)\" style=\"stroke:#000000; stroke-width:2; stroke-opacity:0.1; fill:none\" points=\"\n",
       "  162.455,427.294 2352.76,427.294 \n",
       "  \"/>\n",
       "<polyline clip-path=\"url(#clip7102)\" style=\"stroke:#000000; stroke-width:2; stroke-opacity:0.1; fill:none\" points=\"\n",
       "  162.455,87.7695 2352.76,87.7695 \n",
       "  \"/>\n",
       "<polyline clip-path=\"url(#clip7100)\" style=\"stroke:#000000; stroke-width:4; stroke-opacity:1; fill:none\" points=\"\n",
       "  162.455,1486.45 2352.76,1486.45 \n",
       "  \"/>\n",
       "<polyline clip-path=\"url(#clip7100)\" style=\"stroke:#000000; stroke-width:4; stroke-opacity:1; fill:none\" points=\"\n",
       "  162.455,1486.45 162.455,47.2441 \n",
       "  \"/>\n",
       "<polyline clip-path=\"url(#clip7100)\" style=\"stroke:#000000; stroke-width:4; stroke-opacity:1; fill:none\" points=\"\n",
       "  431.077,1486.45 431.077,1469.18 \n",
       "  \"/>\n",
       "<polyline clip-path=\"url(#clip7100)\" style=\"stroke:#000000; stroke-width:4; stroke-opacity:1; fill:none\" points=\"\n",
       "  844.341,1486.45 844.341,1469.18 \n",
       "  \"/>\n",
       "<polyline clip-path=\"url(#clip7100)\" style=\"stroke:#000000; stroke-width:4; stroke-opacity:1; fill:none\" points=\"\n",
       "  1257.61,1486.45 1257.61,1469.18 \n",
       "  \"/>\n",
       "<polyline clip-path=\"url(#clip7100)\" style=\"stroke:#000000; stroke-width:4; stroke-opacity:1; fill:none\" points=\"\n",
       "  1670.87,1486.45 1670.87,1469.18 \n",
       "  \"/>\n",
       "<polyline clip-path=\"url(#clip7100)\" style=\"stroke:#000000; stroke-width:4; stroke-opacity:1; fill:none\" points=\"\n",
       "  2084.13,1486.45 2084.13,1469.18 \n",
       "  \"/>\n",
       "<polyline clip-path=\"url(#clip7100)\" style=\"stroke:#000000; stroke-width:4; stroke-opacity:1; fill:none\" points=\"\n",
       "  162.455,1445.87 188.738,1445.87 \n",
       "  \"/>\n",
       "<polyline clip-path=\"url(#clip7100)\" style=\"stroke:#000000; stroke-width:4; stroke-opacity:1; fill:none\" points=\"\n",
       "  162.455,1106.34 188.738,1106.34 \n",
       "  \"/>\n",
       "<polyline clip-path=\"url(#clip7100)\" style=\"stroke:#000000; stroke-width:4; stroke-opacity:1; fill:none\" points=\"\n",
       "  162.455,766.819 188.738,766.819 \n",
       "  \"/>\n",
       "<polyline clip-path=\"url(#clip7100)\" style=\"stroke:#000000; stroke-width:4; stroke-opacity:1; fill:none\" points=\"\n",
       "  162.455,427.294 188.738,427.294 \n",
       "  \"/>\n",
       "<polyline clip-path=\"url(#clip7100)\" style=\"stroke:#000000; stroke-width:4; stroke-opacity:1; fill:none\" points=\"\n",
       "  162.455,87.7695 188.738,87.7695 \n",
       "  \"/>\n",
       "<path clip-path=\"url(#clip7100)\" d=\"M 0 0 M411.088 1525.04 L423.565 1525.04 L423.565 1528.83 L411.088 1528.83 L411.088 1525.04 Z\" fill=\"#000000\" fill-rule=\"evenodd\" fill-opacity=\"1\" /><path clip-path=\"url(#clip7100)\" d=\"M 0 0 M441.482 1509.43 L429.676 1527.88 L441.482 1527.88 L441.482 1509.43 M440.255 1505.36 L446.134 1505.36 L446.134 1527.88 L451.065 1527.88 L451.065 1531.77 L446.134 1531.77 L446.134 1539.92 L441.482 1539.92 L441.482 1531.77 L425.88 1531.77 L425.88 1527.26 L440.255 1505.36 Z\" fill=\"#000000\" fill-rule=\"evenodd\" fill-opacity=\"1\" /><path clip-path=\"url(#clip7100)\" d=\"M 0 0 M825.394 1525.04 L837.871 1525.04 L837.871 1528.83 L825.394 1528.83 L825.394 1525.04 Z\" fill=\"#000000\" fill-rule=\"evenodd\" fill-opacity=\"1\" /><path clip-path=\"url(#clip7100)\" d=\"M 0 0 M846.968 1535.98 L863.288 1535.98 L863.288 1539.92 L841.343 1539.92 L841.343 1535.98 Q844.005 1533.23 848.589 1528.6 Q853.195 1523.95 854.376 1522.61 Q856.621 1520.08 857.501 1518.35 Q858.403 1516.59 858.403 1514.9 Q858.403 1512.14 856.459 1510.41 Q854.538 1508.67 851.436 1508.67 Q849.237 1508.67 846.783 1509.43 Q844.352 1510.2 841.575 1511.75 L841.575 1507.03 Q844.399 1505.89 846.852 1505.31 Q849.306 1504.73 851.343 1504.73 Q856.714 1504.73 859.908 1507.42 Q863.102 1510.11 863.102 1514.6 Q863.102 1516.73 862.292 1518.65 Q861.505 1520.54 859.399 1523.14 Q858.82 1523.81 855.718 1527.03 Q852.616 1530.22 846.968 1535.98 Z\" fill=\"#000000\" fill-rule=\"evenodd\" fill-opacity=\"1\" /><path clip-path=\"url(#clip7100)\" d=\"M 0 0 M1257.61 1508.44 Q1253.99 1508.44 1252.17 1512 Q1250.36 1515.55 1250.36 1522.67 Q1250.36 1529.78 1252.17 1533.35 Q1253.99 1536.89 1257.61 1536.89 Q1261.24 1536.89 1263.05 1533.35 Q1264.87 1529.78 1264.87 1522.67 Q1264.87 1515.55 1263.05 1512 Q1261.24 1508.44 1257.61 1508.44 M1257.61 1504.73 Q1263.42 1504.73 1266.47 1509.34 Q1269.55 1513.92 1269.55 1522.67 Q1269.55 1531.4 1266.47 1536.01 Q1263.42 1540.59 1257.61 1540.59 Q1251.8 1540.59 1248.72 1536.01 Q1245.66 1531.4 1245.66 1522.67 Q1245.66 1513.92 1248.72 1509.34 Q1251.8 1504.73 1257.61 1504.73 Z\" fill=\"#000000\" fill-rule=\"evenodd\" fill-opacity=\"1\" /><path clip-path=\"url(#clip7100)\" d=\"M 0 0 M1665.52 1535.98 L1681.84 1535.98 L1681.84 1539.92 L1659.9 1539.92 L1659.9 1535.98 Q1662.56 1533.23 1667.14 1528.6 Q1671.75 1523.95 1672.93 1522.61 Q1675.18 1520.08 1676.05 1518.35 Q1676.96 1516.59 1676.96 1514.9 Q1676.96 1512.14 1675.01 1510.41 Q1673.09 1508.67 1669.99 1508.67 Q1667.79 1508.67 1665.34 1509.43 Q1662.91 1510.2 1660.13 1511.75 L1660.13 1507.03 Q1662.95 1505.89 1665.41 1505.31 Q1667.86 1504.73 1669.9 1504.73 Q1675.27 1504.73 1678.46 1507.42 Q1681.66 1510.11 1681.66 1514.6 Q1681.66 1516.73 1680.85 1518.65 Q1680.06 1520.54 1677.95 1523.14 Q1677.37 1523.81 1674.27 1527.03 Q1671.17 1530.22 1665.52 1535.98 Z\" fill=\"#000000\" fill-rule=\"evenodd\" fill-opacity=\"1\" /><path clip-path=\"url(#clip7100)\" d=\"M 0 0 M2087.14 1509.43 L2075.34 1527.88 L2087.14 1527.88 L2087.14 1509.43 M2085.92 1505.36 L2091.8 1505.36 L2091.8 1527.88 L2096.73 1527.88 L2096.73 1531.77 L2091.8 1531.77 L2091.8 1539.92 L2087.14 1539.92 L2087.14 1531.77 L2071.54 1531.77 L2071.54 1527.26 L2085.92 1505.36 Z\" fill=\"#000000\" fill-rule=\"evenodd\" fill-opacity=\"1\" /><path clip-path=\"url(#clip7100)\" d=\"M 0 0 M63.2236 1448.26 L75.7004 1448.26 L75.7004 1452.06 L63.2236 1452.06 L63.2236 1448.26 Z\" fill=\"#000000\" fill-rule=\"evenodd\" fill-opacity=\"1\" /><path clip-path=\"url(#clip7100)\" d=\"M 0 0 M81.58 1459.21 L89.2188 1459.21 L89.2188 1432.85 L80.9087 1434.51 L80.9087 1430.26 L89.1725 1428.59 L93.8484 1428.59 L93.8484 1459.21 L101.487 1459.21 L101.487 1463.15 L81.58 1463.15 L81.58 1459.21 Z\" fill=\"#000000\" fill-rule=\"evenodd\" fill-opacity=\"1\" /><path clip-path=\"url(#clip7100)\" d=\"M 0 0 M106.557 1457.27 L111.441 1457.27 L111.441 1463.15 L106.557 1463.15 L106.557 1457.27 Z\" fill=\"#000000\" fill-rule=\"evenodd\" fill-opacity=\"1\" /><path clip-path=\"url(#clip7100)\" d=\"M 0 0 M126.51 1431.67 Q122.899 1431.67 121.071 1435.23 Q119.265 1438.77 119.265 1445.9 Q119.265 1453.01 121.071 1456.58 Q122.899 1460.12 126.51 1460.12 Q130.145 1460.12 131.95 1456.58 Q133.779 1453.01 133.779 1445.9 Q133.779 1438.77 131.95 1435.23 Q130.145 1431.67 126.51 1431.67 M126.51 1427.96 Q132.32 1427.96 135.376 1432.57 Q138.455 1437.15 138.455 1445.9 Q138.455 1454.63 135.376 1459.24 Q132.32 1463.82 126.51 1463.82 Q120.7 1463.82 117.621 1459.24 Q114.566 1454.63 114.566 1445.9 Q114.566 1437.15 117.621 1432.57 Q120.7 1427.96 126.51 1427.96 Z\" fill=\"#000000\" fill-rule=\"evenodd\" fill-opacity=\"1\" /><path clip-path=\"url(#clip7100)\" d=\"M 0 0 M62.9921 1108.74 L75.4689 1108.74 L75.4689 1112.54 L62.9921 1112.54 L62.9921 1108.74 Z\" fill=\"#000000\" fill-rule=\"evenodd\" fill-opacity=\"1\" /><path clip-path=\"url(#clip7100)\" d=\"M 0 0 M90.5383 1092.14 Q86.9272 1092.14 85.0985 1095.71 Q83.2929 1099.25 83.2929 1106.38 Q83.2929 1113.49 85.0985 1117.05 Q86.9272 1120.59 90.5383 1120.59 Q94.1725 1120.59 95.9781 1117.05 Q97.8068 1113.49 97.8068 1106.38 Q97.8068 1099.25 95.9781 1095.71 Q94.1725 1092.14 90.5383 1092.14 M90.5383 1088.44 Q96.3484 1088.44 99.404 1093.05 Q102.483 1097.63 102.483 1106.38 Q102.483 1115.11 99.404 1119.71 Q96.3484 1124.3 90.5383 1124.3 Q84.7281 1124.3 81.6494 1119.71 Q78.5939 1115.11 78.5939 1106.38 Q78.5939 1097.63 81.6494 1093.05 Q84.7281 1088.44 90.5383 1088.44 Z\" fill=\"#000000\" fill-rule=\"evenodd\" fill-opacity=\"1\" /><path clip-path=\"url(#clip7100)\" d=\"M 0 0 M107.552 1117.74 L112.436 1117.74 L112.436 1123.62 L107.552 1123.62 L107.552 1117.74 Z\" fill=\"#000000\" fill-rule=\"evenodd\" fill-opacity=\"1\" /><path clip-path=\"url(#clip7100)\" d=\"M 0 0 M117.552 1089.06 L135.908 1089.06 L135.908 1093 L121.834 1093 L121.834 1101.47 Q122.853 1101.12 123.871 1100.96 Q124.89 1100.78 125.908 1100.78 Q131.695 1100.78 135.075 1103.95 Q138.455 1107.12 138.455 1112.54 Q138.455 1118.11 134.982 1121.22 Q131.51 1124.3 125.191 1124.3 Q123.015 1124.3 120.746 1123.93 Q118.501 1123.55 116.094 1122.81 L116.094 1118.11 Q118.177 1119.25 120.399 1119.8 Q122.621 1120.36 125.098 1120.36 Q129.103 1120.36 131.441 1118.25 Q133.779 1116.15 133.779 1112.54 Q133.779 1108.93 131.441 1106.82 Q129.103 1104.71 125.098 1104.71 Q123.223 1104.71 121.348 1105.13 Q119.496 1105.55 117.552 1106.43 L117.552 1089.06 Z\" fill=\"#000000\" fill-rule=\"evenodd\" fill-opacity=\"1\" /><path clip-path=\"url(#clip7100)\" d=\"M 0 0 M89.5429 752.618 Q85.9318 752.618 84.1031 756.183 Q82.2976 759.724 82.2976 766.854 Q82.2976 773.96 84.1031 777.525 Q85.9318 781.067 89.5429 781.067 Q93.1771 781.067 94.9827 777.525 Q96.8114 773.96 96.8114 766.854 Q96.8114 759.724 94.9827 756.183 Q93.1771 752.618 89.5429 752.618 M89.5429 748.914 Q95.3531 748.914 98.4086 753.521 Q101.487 758.104 101.487 766.854 Q101.487 775.581 98.4086 780.187 Q95.3531 784.771 89.5429 784.771 Q83.7328 784.771 80.6541 780.187 Q77.5985 775.581 77.5985 766.854 Q77.5985 758.104 80.6541 753.521 Q83.7328 748.914 89.5429 748.914 Z\" fill=\"#000000\" fill-rule=\"evenodd\" fill-opacity=\"1\" /><path clip-path=\"url(#clip7100)\" d=\"M 0 0 M106.557 778.22 L111.441 778.22 L111.441 784.099 L106.557 784.099 L106.557 778.22 Z\" fill=\"#000000\" fill-rule=\"evenodd\" fill-opacity=\"1\" /><path clip-path=\"url(#clip7100)\" d=\"M 0 0 M126.51 752.618 Q122.899 752.618 121.071 756.183 Q119.265 759.724 119.265 766.854 Q119.265 773.96 121.071 777.525 Q122.899 781.067 126.51 781.067 Q130.145 781.067 131.95 777.525 Q133.779 773.96 133.779 766.854 Q133.779 759.724 131.95 756.183 Q130.145 752.618 126.51 752.618 M126.51 748.914 Q132.32 748.914 135.376 753.521 Q138.455 758.104 138.455 766.854 Q138.455 775.581 135.376 780.187 Q132.32 784.771 126.51 784.771 Q120.7 784.771 117.621 780.187 Q114.566 775.581 114.566 766.854 Q114.566 758.104 117.621 753.521 Q120.7 748.914 126.51 748.914 Z\" fill=\"#000000\" fill-rule=\"evenodd\" fill-opacity=\"1\" /><path clip-path=\"url(#clip7100)\" d=\"M 0 0 M90.5383 413.093 Q86.9272 413.093 85.0985 416.658 Q83.2929 420.2 83.2929 427.329 Q83.2929 434.436 85.0985 438 Q86.9272 441.542 90.5383 441.542 Q94.1725 441.542 95.9781 438 Q97.8068 434.436 97.8068 427.329 Q97.8068 420.2 95.9781 416.658 Q94.1725 413.093 90.5383 413.093 M90.5383 409.389 Q96.3484 409.389 99.404 413.996 Q102.483 418.579 102.483 427.329 Q102.483 436.056 99.404 440.662 Q96.3484 445.246 90.5383 445.246 Q84.7281 445.246 81.6494 440.662 Q78.5939 436.056 78.5939 427.329 Q78.5939 418.579 81.6494 413.996 Q84.7281 409.389 90.5383 409.389 Z\" fill=\"#000000\" fill-rule=\"evenodd\" fill-opacity=\"1\" /><path clip-path=\"url(#clip7100)\" d=\"M 0 0 M107.552 438.695 L112.436 438.695 L112.436 444.574 L107.552 444.574 L107.552 438.695 Z\" fill=\"#000000\" fill-rule=\"evenodd\" fill-opacity=\"1\" /><path clip-path=\"url(#clip7100)\" d=\"M 0 0 M117.552 410.014 L135.908 410.014 L135.908 413.95 L121.834 413.95 L121.834 422.422 Q122.853 422.075 123.871 421.913 Q124.89 421.727 125.908 421.727 Q131.695 421.727 135.075 424.899 Q138.455 428.07 138.455 433.487 Q138.455 439.065 134.982 442.167 Q131.51 445.246 125.191 445.246 Q123.015 445.246 120.746 444.875 Q118.501 444.505 116.094 443.764 L116.094 439.065 Q118.177 440.199 120.399 440.755 Q122.621 441.311 125.098 441.311 Q129.103 441.311 131.441 439.204 Q133.779 437.098 133.779 433.487 Q133.779 429.875 131.441 427.769 Q129.103 425.662 125.098 425.662 Q123.223 425.662 121.348 426.079 Q119.496 426.496 117.552 427.375 L117.552 410.014 Z\" fill=\"#000000\" fill-rule=\"evenodd\" fill-opacity=\"1\" /><path clip-path=\"url(#clip7100)\" d=\"M 0 0 M81.58 101.114 L89.2188 101.114 L89.2188 74.7488 L80.9087 76.4154 L80.9087 72.1562 L89.1725 70.4895 L93.8484 70.4895 L93.8484 101.114 L101.487 101.114 L101.487 105.05 L81.58 105.05 L81.58 101.114 Z\" fill=\"#000000\" fill-rule=\"evenodd\" fill-opacity=\"1\" /><path clip-path=\"url(#clip7100)\" d=\"M 0 0 M106.557 99.1699 L111.441 99.1699 L111.441 105.05 L106.557 105.05 L106.557 99.1699 Z\" fill=\"#000000\" fill-rule=\"evenodd\" fill-opacity=\"1\" /><path clip-path=\"url(#clip7100)\" d=\"M 0 0 M126.51 73.5682 Q122.899 73.5682 121.071 77.133 Q119.265 80.6747 119.265 87.8043 Q119.265 94.9107 121.071 98.4755 Q122.899 102.017 126.51 102.017 Q130.145 102.017 131.95 98.4755 Q133.779 94.9107 133.779 87.8043 Q133.779 80.6747 131.95 77.133 Q130.145 73.5682 126.51 73.5682 M126.51 69.8645 Q132.32 69.8645 135.376 74.471 Q138.455 79.0543 138.455 87.8043 Q138.455 96.5311 135.376 101.138 Q132.32 105.721 126.51 105.721 Q120.7 105.721 117.621 101.138 Q114.566 96.5311 114.566 87.8043 Q114.566 79.0543 117.621 74.471 Q120.7 69.8645 126.51 69.8645 Z\" fill=\"#000000\" fill-rule=\"evenodd\" fill-opacity=\"1\" /><polyline clip-path=\"url(#clip7102)\" style=\"stroke:#009af9; stroke-width:4; stroke-opacity:1; fill:none\" points=\"\n",
       "  224.444,115.662 229.489,111.154 234.534,107.036 239.579,103.312 244.624,99.9835 267.947,89.7857 291.27,88.2045 314.594,95.26 337.917,110.862 361.241,134.813 \n",
       "  384.564,166.808 407.887,206.438 431.211,253.201 459.243,317.997 487.276,391.04 515.309,470.989 543.342,556.375 590.744,708.701 638.147,864.073 689.64,1026.81 \n",
       "  741.132,1173.49 764.868,1233.14 788.604,1286.65 812.34,1333.3 836.075,1372.48 861.523,1405.61 886.97,1429.07 912.417,1442.49 937.865,1445.68 967.348,1436.52 \n",
       "  996.831,1413.75 1026.31,1377.84 1055.8,1329.5 1082,1276.91 1108.2,1216.13 1134.4,1148.14 1160.6,1074.02 1206.55,932.886 1252.51,783.574 1302.61,620.099 \n",
       "  1352.71,465.208 1377.91,393.438 1403.1,327.214 1428.3,267.52 1453.5,215.242 1481.36,167.007 1509.22,129.66 1537.08,103.878 1564.95,90.1309 1591.45,88.453 \n",
       "  1617.96,97.9245 1644.47,118.39 1670.98,149.512 1698.54,192.622 1726.11,245.934 1753.67,308.501 1781.23,379.21 1827.64,513.106 1874.04,659.744 1930.69,845.301 \n",
       "  1987.35,1024.99 2013.98,1103.57 2040.61,1176.55 2067.23,1242.75 2093.86,1301.05 2115.19,1341.4 2136.52,1375.63 2157.85,1403.38 2179.18,1424.35 2200.51,1438.33 \n",
       "  2221.84,1445.15 2243.17,1444.75 2264.51,1437.14 2271.07,1433.35 2277.64,1428.89 2284.2,1423.77 2290.77,1417.98 \n",
       "  \"/>\n",
       "<polyline clip-path=\"url(#clip7102)\" style=\"stroke:#e26f46; stroke-width:4; stroke-opacity:1; fill:none\" points=\"\n",
       "  224.444,574.199 229.489,590.152 234.534,606.211 239.579,622.366 244.624,638.606 291.27,791.121 337.917,942.402 384.564,1084.77 431.211,1211.01 459.243,1276.39 \n",
       "  487.276,1332.42 515.309,1378.04 543.342,1412.44 567.043,1432.28 590.744,1443.38 614.446,1445.58 638.147,1438.87 663.893,1421.57 689.64,1394.12 715.386,1356.95 \n",
       "  741.132,1310.62 764.868,1260.43 788.604,1203.73 812.34,1141.27 836.075,1073.87 886.97,916.929 937.865,750.927 996.831,560.462 1055.8,386.688 1082,318.582 \n",
       "  1108.2,257.674 1134.4,204.941 1160.6,161.231 1183.58,130.883 1206.55,108.389 1229.53,94.0277 1252.51,87.9763 1277.56,90.9323 1302.61,103.81 1327.66,126.419 \n",
       "  1352.71,158.429 1377.91,199.638 1403.1,249.272 1428.3,306.593 1453.5,370.75 1509.22,532.008 1564.95,710.239 1617.96,883.816 1670.98,1049.73 1698.54,1129.32 \n",
       "  1726.11,1202.47 1753.67,1267.87 1781.23,1324.37 1804.43,1364.3 1827.64,1396.69 1850.84,1421.15 1874.04,1437.37 1902.37,1445.72 1930.69,1441.32 1959.02,1424.27 \n",
       "  1987.35,1394.88 2013.98,1356.49 2040.61,1308.32 2067.23,1251.18 2093.86,1186 2136.52,1067.58 2179.18,936.394 2221.84,798.002 2264.51,658.286 2271.07,637.046 \n",
       "  2277.64,615.938 2284.2,594.981 2290.77,574.199 \n",
       "  \"/>\n",
       "<path clip-path=\"url(#clip7100)\" d=\"\n",
       "M1989.74 312.204 L2280.76 312.204 L2280.76 130.764 L1989.74 130.764  Z\n",
       "  \" fill=\"#ffffff\" fill-rule=\"evenodd\" fill-opacity=\"1\"/>\n",
       "<polyline clip-path=\"url(#clip7100)\" style=\"stroke:#000000; stroke-width:4; stroke-opacity:1; fill:none\" points=\"\n",
       "  1989.74,312.204 2280.76,312.204 2280.76,130.764 1989.74,130.764 1989.74,312.204 \n",
       "  \"/>\n",
       "<polyline clip-path=\"url(#clip7100)\" style=\"stroke:#009af9; stroke-width:4; stroke-opacity:1; fill:none\" points=\"\n",
       "  2013.74,191.244 2157.74,191.244 \n",
       "  \"/>\n",
       "<path clip-path=\"url(#clip7100)\" d=\"M 0 0 M2195.58 210.931 Q2193.77 215.561 2192.06 216.973 Q2190.35 218.385 2187.48 218.385 L2184.08 218.385 L2184.08 214.82 L2186.58 214.82 Q2188.33 214.82 2189.31 213.987 Q2190.28 213.154 2191.46 210.052 L2192.22 208.107 L2181.74 182.598 L2186.25 182.598 L2194.35 202.876 L2202.46 182.598 L2206.97 182.598 L2195.58 210.931 Z\" fill=\"#000000\" fill-rule=\"evenodd\" fill-opacity=\"1\" /><path clip-path=\"url(#clip7100)\" d=\"M 0 0 M2212.85 204.589 L2220.49 204.589 L2220.49 178.223 L2212.18 179.89 L2212.18 175.631 L2220.44 173.964 L2225.12 173.964 L2225.12 204.589 L2232.76 204.589 L2232.76 208.524 L2212.85 208.524 L2212.85 204.589 Z\" fill=\"#000000\" fill-rule=\"evenodd\" fill-opacity=\"1\" /><polyline clip-path=\"url(#clip7100)\" style=\"stroke:#e26f46; stroke-width:4; stroke-opacity:1; fill:none\" points=\"\n",
       "  2013.74,251.724 2157.74,251.724 \n",
       "  \"/>\n",
       "<path clip-path=\"url(#clip7100)\" d=\"M 0 0 M2195.58 271.411 Q2193.77 276.041 2192.06 277.453 Q2190.35 278.865 2187.48 278.865 L2184.08 278.865 L2184.08 275.3 L2186.58 275.3 Q2188.33 275.3 2189.31 274.467 Q2190.28 273.634 2191.46 270.532 L2192.22 268.587 L2181.74 243.078 L2186.25 243.078 L2194.35 263.356 L2202.46 243.078 L2206.97 243.078 L2195.58 271.411 Z\" fill=\"#000000\" fill-rule=\"evenodd\" fill-opacity=\"1\" /><path clip-path=\"url(#clip7100)\" d=\"M 0 0 M2216.07 265.069 L2232.39 265.069 L2232.39 269.004 L2210.44 269.004 L2210.44 265.069 Q2213.1 262.314 2217.69 257.685 Q2222.29 253.032 2223.47 251.689 Q2225.72 249.166 2226.6 247.43 Q2227.5 245.671 2227.5 243.981 Q2227.5 241.226 2225.56 239.49 Q2223.64 237.754 2220.53 237.754 Q2218.33 237.754 2215.88 238.518 Q2213.45 239.282 2210.67 240.833 L2210.67 236.111 Q2213.5 234.976 2215.95 234.398 Q2218.4 233.819 2220.44 233.819 Q2225.81 233.819 2229.01 236.504 Q2232.2 239.189 2232.2 243.68 Q2232.2 245.81 2231.39 247.731 Q2230.6 249.629 2228.5 252.222 Q2227.92 252.893 2224.82 256.111 Q2221.71 259.305 2216.07 265.069 Z\" fill=\"#000000\" fill-rule=\"evenodd\" fill-opacity=\"1\" /></svg>\n"
      ]
     },
     "execution_count": 34,
     "metadata": {},
     "output_type": "execute_result"
    }
   ],
   "source": [
    "plot!(p,cos)"
   ]
  },
  {
   "cell_type": "code",
   "execution_count": 35,
   "metadata": {},
   "outputs": [
    {
     "data": {
      "image/svg+xml": [
       "<?xml version=\"1.0\" encoding=\"utf-8\"?>\n",
       "<svg xmlns=\"http://www.w3.org/2000/svg\" xmlns:xlink=\"http://www.w3.org/1999/xlink\" width=\"600\" height=\"400\" viewBox=\"0 0 2400 1600\">\n",
       "<defs>\n",
       "  <clipPath id=\"clip7500\">\n",
       "    <rect x=\"0\" y=\"0\" width=\"2400\" height=\"1600\"/>\n",
       "  </clipPath>\n",
       "</defs>\n",
       "<path clip-path=\"url(#clip7500)\" d=\"\n",
       "M0 1600 L2400 1600 L2400 0 L0 0  Z\n",
       "  \" fill=\"#ffffff\" fill-rule=\"evenodd\" fill-opacity=\"1\"/>\n",
       "<defs>\n",
       "  <clipPath id=\"clip7501\">\n",
       "    <rect x=\"480\" y=\"0\" width=\"1681\" height=\"1600\"/>\n",
       "  </clipPath>\n",
       "</defs>\n",
       "<path clip-path=\"url(#clip7500)\" d=\"\n",
       "M162.455 1486.45 L2352.76 1486.45 L2352.76 123.472 L162.455 123.472  Z\n",
       "  \" fill=\"#ffffff\" fill-rule=\"evenodd\" fill-opacity=\"1\"/>\n",
       "<defs>\n",
       "  <clipPath id=\"clip7502\">\n",
       "    <rect x=\"162\" y=\"123\" width=\"2191\" height=\"1364\"/>\n",
       "  </clipPath>\n",
       "</defs>\n",
       "<polyline clip-path=\"url(#clip7502)\" style=\"stroke:#000000; stroke-width:2; stroke-opacity:0.1; fill:none\" points=\"\n",
       "  431.077,1486.45 431.077,123.472 \n",
       "  \"/>\n",
       "<polyline clip-path=\"url(#clip7502)\" style=\"stroke:#000000; stroke-width:2; stroke-opacity:0.1; fill:none\" points=\"\n",
       "  844.341,1486.45 844.341,123.472 \n",
       "  \"/>\n",
       "<polyline clip-path=\"url(#clip7502)\" style=\"stroke:#000000; stroke-width:2; stroke-opacity:0.1; fill:none\" points=\"\n",
       "  1257.61,1486.45 1257.61,123.472 \n",
       "  \"/>\n",
       "<polyline clip-path=\"url(#clip7502)\" style=\"stroke:#000000; stroke-width:2; stroke-opacity:0.1; fill:none\" points=\"\n",
       "  1670.87,1486.45 1670.87,123.472 \n",
       "  \"/>\n",
       "<polyline clip-path=\"url(#clip7502)\" style=\"stroke:#000000; stroke-width:2; stroke-opacity:0.1; fill:none\" points=\"\n",
       "  2084.13,1486.45 2084.13,123.472 \n",
       "  \"/>\n",
       "<polyline clip-path=\"url(#clip7502)\" style=\"stroke:#000000; stroke-width:2; stroke-opacity:0.1; fill:none\" points=\"\n",
       "  162.455,1448.02 2352.76,1448.02 \n",
       "  \"/>\n",
       "<polyline clip-path=\"url(#clip7502)\" style=\"stroke:#000000; stroke-width:2; stroke-opacity:0.1; fill:none\" points=\"\n",
       "  162.455,1126.48 2352.76,1126.48 \n",
       "  \"/>\n",
       "<polyline clip-path=\"url(#clip7502)\" style=\"stroke:#000000; stroke-width:2; stroke-opacity:0.1; fill:none\" points=\"\n",
       "  162.455,804.935 2352.76,804.935 \n",
       "  \"/>\n",
       "<polyline clip-path=\"url(#clip7502)\" style=\"stroke:#000000; stroke-width:2; stroke-opacity:0.1; fill:none\" points=\"\n",
       "  162.455,483.393 2352.76,483.393 \n",
       "  \"/>\n",
       "<polyline clip-path=\"url(#clip7502)\" style=\"stroke:#000000; stroke-width:2; stroke-opacity:0.1; fill:none\" points=\"\n",
       "  162.455,161.851 2352.76,161.851 \n",
       "  \"/>\n",
       "<polyline clip-path=\"url(#clip7500)\" style=\"stroke:#000000; stroke-width:4; stroke-opacity:1; fill:none\" points=\"\n",
       "  162.455,1486.45 2352.76,1486.45 \n",
       "  \"/>\n",
       "<polyline clip-path=\"url(#clip7500)\" style=\"stroke:#000000; stroke-width:4; stroke-opacity:1; fill:none\" points=\"\n",
       "  162.455,1486.45 162.455,123.472 \n",
       "  \"/>\n",
       "<polyline clip-path=\"url(#clip7500)\" style=\"stroke:#000000; stroke-width:4; stroke-opacity:1; fill:none\" points=\"\n",
       "  431.077,1486.45 431.077,1470.09 \n",
       "  \"/>\n",
       "<polyline clip-path=\"url(#clip7500)\" style=\"stroke:#000000; stroke-width:4; stroke-opacity:1; fill:none\" points=\"\n",
       "  844.341,1486.45 844.341,1470.09 \n",
       "  \"/>\n",
       "<polyline clip-path=\"url(#clip7500)\" style=\"stroke:#000000; stroke-width:4; stroke-opacity:1; fill:none\" points=\"\n",
       "  1257.61,1486.45 1257.61,1470.09 \n",
       "  \"/>\n",
       "<polyline clip-path=\"url(#clip7500)\" style=\"stroke:#000000; stroke-width:4; stroke-opacity:1; fill:none\" points=\"\n",
       "  1670.87,1486.45 1670.87,1470.09 \n",
       "  \"/>\n",
       "<polyline clip-path=\"url(#clip7500)\" style=\"stroke:#000000; stroke-width:4; stroke-opacity:1; fill:none\" points=\"\n",
       "  2084.13,1486.45 2084.13,1470.09 \n",
       "  \"/>\n",
       "<polyline clip-path=\"url(#clip7500)\" style=\"stroke:#000000; stroke-width:4; stroke-opacity:1; fill:none\" points=\"\n",
       "  162.455,1448.02 188.738,1448.02 \n",
       "  \"/>\n",
       "<polyline clip-path=\"url(#clip7500)\" style=\"stroke:#000000; stroke-width:4; stroke-opacity:1; fill:none\" points=\"\n",
       "  162.455,1126.48 188.738,1126.48 \n",
       "  \"/>\n",
       "<polyline clip-path=\"url(#clip7500)\" style=\"stroke:#000000; stroke-width:4; stroke-opacity:1; fill:none\" points=\"\n",
       "  162.455,804.935 188.738,804.935 \n",
       "  \"/>\n",
       "<polyline clip-path=\"url(#clip7500)\" style=\"stroke:#000000; stroke-width:4; stroke-opacity:1; fill:none\" points=\"\n",
       "  162.455,483.393 188.738,483.393 \n",
       "  \"/>\n",
       "<polyline clip-path=\"url(#clip7500)\" style=\"stroke:#000000; stroke-width:4; stroke-opacity:1; fill:none\" points=\"\n",
       "  162.455,161.851 188.738,161.851 \n",
       "  \"/>\n",
       "<path clip-path=\"url(#clip7500)\" d=\"M 0 0 M411.088 1525.04 L423.565 1525.04 L423.565 1528.83 L411.088 1528.83 L411.088 1525.04 Z\" fill=\"#000000\" fill-rule=\"evenodd\" fill-opacity=\"1\" /><path clip-path=\"url(#clip7500)\" d=\"M 0 0 M441.482 1509.43 L429.676 1527.88 L441.482 1527.88 L441.482 1509.43 M440.255 1505.36 L446.134 1505.36 L446.134 1527.88 L451.065 1527.88 L451.065 1531.77 L446.134 1531.77 L446.134 1539.92 L441.482 1539.92 L441.482 1531.77 L425.88 1531.77 L425.88 1527.26 L440.255 1505.36 Z\" fill=\"#000000\" fill-rule=\"evenodd\" fill-opacity=\"1\" /><path clip-path=\"url(#clip7500)\" d=\"M 0 0 M825.394 1525.04 L837.871 1525.04 L837.871 1528.83 L825.394 1528.83 L825.394 1525.04 Z\" fill=\"#000000\" fill-rule=\"evenodd\" fill-opacity=\"1\" /><path clip-path=\"url(#clip7500)\" d=\"M 0 0 M846.968 1535.98 L863.288 1535.98 L863.288 1539.92 L841.343 1539.92 L841.343 1535.98 Q844.005 1533.23 848.589 1528.6 Q853.195 1523.95 854.376 1522.61 Q856.621 1520.08 857.501 1518.35 Q858.403 1516.59 858.403 1514.9 Q858.403 1512.14 856.459 1510.41 Q854.538 1508.67 851.436 1508.67 Q849.237 1508.67 846.783 1509.43 Q844.352 1510.2 841.575 1511.75 L841.575 1507.03 Q844.399 1505.89 846.852 1505.31 Q849.306 1504.73 851.343 1504.73 Q856.714 1504.73 859.908 1507.42 Q863.102 1510.11 863.102 1514.6 Q863.102 1516.73 862.292 1518.65 Q861.505 1520.54 859.399 1523.14 Q858.82 1523.81 855.718 1527.03 Q852.616 1530.22 846.968 1535.98 Z\" fill=\"#000000\" fill-rule=\"evenodd\" fill-opacity=\"1\" /><path clip-path=\"url(#clip7500)\" d=\"M 0 0 M1257.61 1508.44 Q1253.99 1508.44 1252.17 1512 Q1250.36 1515.55 1250.36 1522.67 Q1250.36 1529.78 1252.17 1533.35 Q1253.99 1536.89 1257.61 1536.89 Q1261.24 1536.89 1263.05 1533.35 Q1264.87 1529.78 1264.87 1522.67 Q1264.87 1515.55 1263.05 1512 Q1261.24 1508.44 1257.61 1508.44 M1257.61 1504.73 Q1263.42 1504.73 1266.47 1509.34 Q1269.55 1513.92 1269.55 1522.67 Q1269.55 1531.4 1266.47 1536.01 Q1263.42 1540.59 1257.61 1540.59 Q1251.8 1540.59 1248.72 1536.01 Q1245.66 1531.4 1245.66 1522.67 Q1245.66 1513.92 1248.72 1509.34 Q1251.8 1504.73 1257.61 1504.73 Z\" fill=\"#000000\" fill-rule=\"evenodd\" fill-opacity=\"1\" /><path clip-path=\"url(#clip7500)\" d=\"M 0 0 M1665.52 1535.98 L1681.84 1535.98 L1681.84 1539.92 L1659.9 1539.92 L1659.9 1535.98 Q1662.56 1533.23 1667.14 1528.6 Q1671.75 1523.95 1672.93 1522.61 Q1675.18 1520.08 1676.05 1518.35 Q1676.96 1516.59 1676.96 1514.9 Q1676.96 1512.14 1675.01 1510.41 Q1673.09 1508.67 1669.99 1508.67 Q1667.79 1508.67 1665.34 1509.43 Q1662.91 1510.2 1660.13 1511.75 L1660.13 1507.03 Q1662.95 1505.89 1665.41 1505.31 Q1667.86 1504.73 1669.9 1504.73 Q1675.27 1504.73 1678.46 1507.42 Q1681.66 1510.11 1681.66 1514.6 Q1681.66 1516.73 1680.85 1518.65 Q1680.06 1520.54 1677.95 1523.14 Q1677.37 1523.81 1674.27 1527.03 Q1671.17 1530.22 1665.52 1535.98 Z\" fill=\"#000000\" fill-rule=\"evenodd\" fill-opacity=\"1\" /><path clip-path=\"url(#clip7500)\" d=\"M 0 0 M2087.14 1509.43 L2075.34 1527.88 L2087.14 1527.88 L2087.14 1509.43 M2085.92 1505.36 L2091.8 1505.36 L2091.8 1527.88 L2096.73 1527.88 L2096.73 1531.77 L2091.8 1531.77 L2091.8 1539.92 L2087.14 1539.92 L2087.14 1531.77 L2071.54 1531.77 L2071.54 1527.26 L2085.92 1505.36 Z\" fill=\"#000000\" fill-rule=\"evenodd\" fill-opacity=\"1\" /><path clip-path=\"url(#clip7500)\" d=\"M 0 0 M63.2236 1450.41 L75.7004 1450.41 L75.7004 1454.21 L63.2236 1454.21 L63.2236 1450.41 Z\" fill=\"#000000\" fill-rule=\"evenodd\" fill-opacity=\"1\" /><path clip-path=\"url(#clip7500)\" d=\"M 0 0 M81.58 1461.36 L89.2188 1461.36 L89.2188 1435 L80.9087 1436.66 L80.9087 1432.41 L89.1725 1430.74 L93.8484 1430.74 L93.8484 1461.36 L101.487 1461.36 L101.487 1465.3 L81.58 1465.3 L81.58 1461.36 Z\" fill=\"#000000\" fill-rule=\"evenodd\" fill-opacity=\"1\" /><path clip-path=\"url(#clip7500)\" d=\"M 0 0 M106.557 1459.42 L111.441 1459.42 L111.441 1465.3 L106.557 1465.3 L106.557 1459.42 Z\" fill=\"#000000\" fill-rule=\"evenodd\" fill-opacity=\"1\" /><path clip-path=\"url(#clip7500)\" d=\"M 0 0 M126.51 1433.82 Q122.899 1433.82 121.071 1437.38 Q119.265 1440.92 119.265 1448.05 Q119.265 1455.16 121.071 1458.72 Q122.899 1462.27 126.51 1462.27 Q130.145 1462.27 131.95 1458.72 Q133.779 1455.16 133.779 1448.05 Q133.779 1440.92 131.95 1437.38 Q130.145 1433.82 126.51 1433.82 M126.51 1430.11 Q132.32 1430.11 135.376 1434.72 Q138.455 1439.3 138.455 1448.05 Q138.455 1456.78 135.376 1461.39 Q132.32 1465.97 126.51 1465.97 Q120.7 1465.97 117.621 1461.39 Q114.566 1456.78 114.566 1448.05 Q114.566 1439.3 117.621 1434.72 Q120.7 1430.11 126.51 1430.11 Z\" fill=\"#000000\" fill-rule=\"evenodd\" fill-opacity=\"1\" /><path clip-path=\"url(#clip7500)\" d=\"M 0 0 M62.9921 1128.87 L75.4689 1128.87 L75.4689 1132.67 L62.9921 1132.67 L62.9921 1128.87 Z\" fill=\"#000000\" fill-rule=\"evenodd\" fill-opacity=\"1\" /><path clip-path=\"url(#clip7500)\" d=\"M 0 0 M90.5383 1112.28 Q86.9272 1112.28 85.0985 1115.84 Q83.2929 1119.38 83.2929 1126.51 Q83.2929 1133.62 85.0985 1137.18 Q86.9272 1140.72 90.5383 1140.72 Q94.1725 1140.72 95.9781 1137.18 Q97.8068 1133.62 97.8068 1126.51 Q97.8068 1119.38 95.9781 1115.84 Q94.1725 1112.28 90.5383 1112.28 M90.5383 1108.57 Q96.3484 1108.57 99.404 1113.18 Q102.483 1117.76 102.483 1126.51 Q102.483 1135.24 99.404 1139.84 Q96.3484 1144.43 90.5383 1144.43 Q84.7281 1144.43 81.6494 1139.84 Q78.5939 1135.24 78.5939 1126.51 Q78.5939 1117.76 81.6494 1113.18 Q84.7281 1108.57 90.5383 1108.57 Z\" fill=\"#000000\" fill-rule=\"evenodd\" fill-opacity=\"1\" /><path clip-path=\"url(#clip7500)\" d=\"M 0 0 M107.552 1137.88 L112.436 1137.88 L112.436 1143.76 L107.552 1143.76 L107.552 1137.88 Z\" fill=\"#000000\" fill-rule=\"evenodd\" fill-opacity=\"1\" /><path clip-path=\"url(#clip7500)\" d=\"M 0 0 M117.552 1109.2 L135.908 1109.2 L135.908 1113.13 L121.834 1113.13 L121.834 1121.6 Q122.853 1121.26 123.871 1121.09 Q124.89 1120.91 125.908 1120.91 Q131.695 1120.91 135.075 1124.08 Q138.455 1127.25 138.455 1132.67 Q138.455 1138.25 134.982 1141.35 Q131.51 1144.43 125.191 1144.43 Q123.015 1144.43 120.746 1144.06 Q118.501 1143.69 116.094 1142.95 L116.094 1138.25 Q118.177 1139.38 120.399 1139.94 Q122.621 1140.49 125.098 1140.49 Q129.103 1140.49 131.441 1138.39 Q133.779 1136.28 133.779 1132.67 Q133.779 1129.06 131.441 1126.95 Q129.103 1124.84 125.098 1124.84 Q123.223 1124.84 121.348 1125.26 Q119.496 1125.68 117.552 1126.56 L117.552 1109.2 Z\" fill=\"#000000\" fill-rule=\"evenodd\" fill-opacity=\"1\" /><path clip-path=\"url(#clip7500)\" d=\"M 0 0 M89.5429 790.733 Q85.9318 790.733 84.1031 794.298 Q82.2976 797.84 82.2976 804.969 Q82.2976 812.076 84.1031 815.641 Q85.9318 819.182 89.5429 819.182 Q93.1771 819.182 94.9827 815.641 Q96.8114 812.076 96.8114 804.969 Q96.8114 797.84 94.9827 794.298 Q93.1771 790.733 89.5429 790.733 M89.5429 787.03 Q95.3531 787.03 98.4086 791.636 Q101.487 796.22 101.487 804.969 Q101.487 813.696 98.4086 818.303 Q95.3531 822.886 89.5429 822.886 Q83.7328 822.886 80.6541 818.303 Q77.5985 813.696 77.5985 804.969 Q77.5985 796.22 80.6541 791.636 Q83.7328 787.03 89.5429 787.03 Z\" fill=\"#000000\" fill-rule=\"evenodd\" fill-opacity=\"1\" /><path clip-path=\"url(#clip7500)\" d=\"M 0 0 M106.557 816.335 L111.441 816.335 L111.441 822.215 L106.557 822.215 L106.557 816.335 Z\" fill=\"#000000\" fill-rule=\"evenodd\" fill-opacity=\"1\" /><path clip-path=\"url(#clip7500)\" d=\"M 0 0 M126.51 790.733 Q122.899 790.733 121.071 794.298 Q119.265 797.84 119.265 804.969 Q119.265 812.076 121.071 815.641 Q122.899 819.182 126.51 819.182 Q130.145 819.182 131.95 815.641 Q133.779 812.076 133.779 804.969 Q133.779 797.84 131.95 794.298 Q130.145 790.733 126.51 790.733 M126.51 787.03 Q132.32 787.03 135.376 791.636 Q138.455 796.22 138.455 804.969 Q138.455 813.696 135.376 818.303 Q132.32 822.886 126.51 822.886 Q120.7 822.886 117.621 818.303 Q114.566 813.696 114.566 804.969 Q114.566 796.22 117.621 791.636 Q120.7 787.03 126.51 787.03 Z\" fill=\"#000000\" fill-rule=\"evenodd\" fill-opacity=\"1\" /><path clip-path=\"url(#clip7500)\" d=\"M 0 0 M90.5383 469.192 Q86.9272 469.192 85.0985 472.756 Q83.2929 476.298 83.2929 483.428 Q83.2929 490.534 85.0985 494.099 Q86.9272 497.641 90.5383 497.641 Q94.1725 497.641 95.9781 494.099 Q97.8068 490.534 97.8068 483.428 Q97.8068 476.298 95.9781 472.756 Q94.1725 469.192 90.5383 469.192 M90.5383 465.488 Q96.3484 465.488 99.404 470.094 Q102.483 474.678 102.483 483.428 Q102.483 492.154 99.404 496.761 Q96.3484 501.344 90.5383 501.344 Q84.7281 501.344 81.6494 496.761 Q78.5939 492.154 78.5939 483.428 Q78.5939 474.678 81.6494 470.094 Q84.7281 465.488 90.5383 465.488 Z\" fill=\"#000000\" fill-rule=\"evenodd\" fill-opacity=\"1\" /><path clip-path=\"url(#clip7500)\" d=\"M 0 0 M107.552 494.793 L112.436 494.793 L112.436 500.673 L107.552 500.673 L107.552 494.793 Z\" fill=\"#000000\" fill-rule=\"evenodd\" fill-opacity=\"1\" /><path clip-path=\"url(#clip7500)\" d=\"M 0 0 M117.552 466.113 L135.908 466.113 L135.908 470.048 L121.834 470.048 L121.834 478.52 Q122.853 478.173 123.871 478.011 Q124.89 477.826 125.908 477.826 Q131.695 477.826 135.075 480.997 Q138.455 484.168 138.455 489.585 Q138.455 495.164 134.982 498.266 Q131.51 501.344 125.191 501.344 Q123.015 501.344 120.746 500.974 Q118.501 500.603 116.094 499.863 L116.094 495.164 Q118.177 496.298 120.399 496.854 Q122.621 497.409 125.098 497.409 Q129.103 497.409 131.441 495.303 Q133.779 493.196 133.779 489.585 Q133.779 485.974 131.441 483.867 Q129.103 481.761 125.098 481.761 Q123.223 481.761 121.348 482.178 Q119.496 482.594 117.552 483.474 L117.552 466.113 Z\" fill=\"#000000\" fill-rule=\"evenodd\" fill-opacity=\"1\" /><path clip-path=\"url(#clip7500)\" d=\"M 0 0 M81.58 175.196 L89.2188 175.196 L89.2188 148.83 L80.9087 150.497 L80.9087 146.238 L89.1725 144.571 L93.8484 144.571 L93.8484 175.196 L101.487 175.196 L101.487 179.131 L81.58 179.131 L81.58 175.196 Z\" fill=\"#000000\" fill-rule=\"evenodd\" fill-opacity=\"1\" /><path clip-path=\"url(#clip7500)\" d=\"M 0 0 M106.557 173.252 L111.441 173.252 L111.441 179.131 L106.557 179.131 L106.557 173.252 Z\" fill=\"#000000\" fill-rule=\"evenodd\" fill-opacity=\"1\" /><path clip-path=\"url(#clip7500)\" d=\"M 0 0 M126.51 147.65 Q122.899 147.65 121.071 151.215 Q119.265 154.756 119.265 161.886 Q119.265 168.992 121.071 172.557 Q122.899 176.099 126.51 176.099 Q130.145 176.099 131.95 172.557 Q133.779 168.992 133.779 161.886 Q133.779 154.756 131.95 151.215 Q130.145 147.65 126.51 147.65 M126.51 143.946 Q132.32 143.946 135.376 148.553 Q138.455 153.136 138.455 161.886 Q138.455 170.613 135.376 175.219 Q132.32 179.802 126.51 179.802 Q120.7 179.802 117.621 175.219 Q114.566 170.613 114.566 161.886 Q114.566 153.136 117.621 148.553 Q120.7 143.946 126.51 143.946 Z\" fill=\"#000000\" fill-rule=\"evenodd\" fill-opacity=\"1\" /><path clip-path=\"url(#clip7500)\" d=\"M 0 0 M1067.86 12.096 L1102.62 12.096 L1102.62 18.9825 L1076.04 18.9825 L1076.04 36.8065 L1100.03 36.8065 L1100.03 43.6931 L1076.04 43.6931 L1076.04 72.576 L1067.86 72.576 L1067.86 12.096 Z\" fill=\"#000000\" fill-rule=\"evenodd\" fill-opacity=\"1\" /><path clip-path=\"url(#clip7500)\" d=\"M 0 0 M1105.13 54.671 L1105.13 27.2059 L1112.58 27.2059 L1112.58 54.3874 Q1112.58 60.8284 1115.09 64.0691 Q1117.61 67.2693 1122.63 67.2693 Q1128.67 67.2693 1132.15 63.421 Q1135.67 59.5726 1135.67 52.9291 L1135.67 27.2059 L1143.13 27.2059 L1143.13 72.576 L1135.67 72.576 L1135.67 65.6084 Q1132.96 69.7404 1129.35 71.7658 Q1125.79 73.7508 1121.05 73.7508 Q1113.23 73.7508 1109.18 68.8897 Q1105.13 64.0286 1105.13 54.671 M1123.88 26.1121 L1123.88 26.1121 Z\" fill=\"#000000\" fill-rule=\"evenodd\" fill-opacity=\"1\" /><path clip-path=\"url(#clip7500)\" d=\"M 0 0 M1188.66 45.1919 L1188.66 72.576 L1181.21 72.576 L1181.21 45.4349 Q1181.21 38.994 1178.69 35.7938 Q1176.18 32.5936 1171.16 32.5936 Q1165.12 32.5936 1161.64 36.4419 Q1158.16 40.2903 1158.16 46.9338 L1158.16 72.576 L1150.66 72.576 L1150.66 27.2059 L1158.16 27.2059 L1158.16 34.2544 Q1160.83 30.163 1164.43 28.1376 Q1168.08 26.1121 1172.82 26.1121 Q1180.64 26.1121 1184.65 30.9732 Q1188.66 35.7938 1188.66 45.1919 Z\" fill=\"#000000\" fill-rule=\"evenodd\" fill-opacity=\"1\" /><path clip-path=\"url(#clip7500)\" d=\"M 0 0 M1234.19 45.1919 L1234.19 72.576 L1226.74 72.576 L1226.74 45.4349 Q1226.74 38.994 1224.23 35.7938 Q1221.71 32.5936 1216.69 32.5936 Q1210.66 32.5936 1207.17 36.4419 Q1203.69 40.2903 1203.69 46.9338 L1203.69 72.576 L1196.19 72.576 L1196.19 27.2059 L1203.69 27.2059 L1203.69 34.2544 Q1206.36 30.163 1209.97 28.1376 Q1213.61 26.1121 1218.35 26.1121 Q1226.17 26.1121 1230.18 30.9732 Q1234.19 35.7938 1234.19 45.1919 Z\" fill=\"#000000\" fill-rule=\"evenodd\" fill-opacity=\"1\" /><path clip-path=\"url(#clip7500)\" d=\"M 0 0 M1260.89 76.7889 Q1257.73 84.8907 1254.73 87.3618 Q1251.73 89.8329 1246.71 89.8329 L1240.75 89.8329 L1240.75 83.5945 L1245.13 83.5945 Q1248.21 83.5945 1249.91 82.1361 Q1251.61 80.6778 1253.68 75.2496 L1255.01 71.8468 L1236.66 27.2059 L1244.56 27.2059 L1258.74 62.6918 L1272.92 27.2059 L1280.82 27.2059 L1260.89 76.7889 Z\" fill=\"#000000\" fill-rule=\"evenodd\" fill-opacity=\"1\" /><path clip-path=\"url(#clip7500)\" d=\"M 0 0 M1322.22 65.7705 L1322.22 89.8329 L1314.72 89.8329 L1314.72 27.2059 L1322.22 27.2059 L1322.22 34.0924 Q1324.57 30.0415 1328.13 28.0971 Q1331.74 26.1121 1336.72 26.1121 Q1344.98 26.1121 1350.13 32.6746 Q1355.31 39.2371 1355.31 49.9314 Q1355.31 60.6258 1350.13 67.1883 Q1344.98 73.7508 1336.72 73.7508 Q1331.74 73.7508 1328.13 71.8063 Q1324.57 69.8214 1322.22 65.7705 M1347.58 49.9314 Q1347.58 41.7081 1344.17 37.0496 Q1340.81 32.3505 1334.9 32.3505 Q1328.98 32.3505 1325.58 37.0496 Q1322.22 41.7081 1322.22 49.9314 Q1322.22 58.1548 1325.58 62.8538 Q1328.98 67.5124 1334.9 67.5124 Q1340.81 67.5124 1344.17 62.8538 Q1347.58 58.1548 1347.58 49.9314 Z\" fill=\"#000000\" fill-rule=\"evenodd\" fill-opacity=\"1\" /><path clip-path=\"url(#clip7500)\" d=\"M 0 0 M1363.13 9.54393 L1370.59 9.54393 L1370.59 72.576 L1363.13 72.576 L1363.13 9.54393 Z\" fill=\"#000000\" fill-rule=\"evenodd\" fill-opacity=\"1\" /><path clip-path=\"url(#clip7500)\" d=\"M 0 0 M1395.98 32.4315 Q1389.99 32.4315 1386.51 37.1306 Q1383.02 41.7891 1383.02 49.9314 Q1383.02 58.0738 1386.46 62.7728 Q1389.95 67.4314 1395.98 67.4314 Q1401.94 67.4314 1405.42 62.7323 Q1408.91 58.0333 1408.91 49.9314 Q1408.91 41.8701 1405.42 37.1711 Q1401.94 32.4315 1395.98 32.4315 M1395.98 26.1121 Q1405.71 26.1121 1411.26 32.4315 Q1416.81 38.7509 1416.81 49.9314 Q1416.81 61.0714 1411.26 67.4314 Q1405.71 73.7508 1395.98 73.7508 Q1386.22 73.7508 1380.67 67.4314 Q1375.16 61.0714 1375.16 49.9314 Q1375.16 38.7509 1380.67 32.4315 Q1386.22 26.1121 1395.98 26.1121 Z\" fill=\"#000000\" fill-rule=\"evenodd\" fill-opacity=\"1\" /><path clip-path=\"url(#clip7500)\" d=\"M 0 0 M1432 14.324 L1432 27.2059 L1447.35 27.2059 L1447.35 32.9987 L1432 32.9987 L1432 57.6282 Q1432 63.1779 1433.5 64.7578 Q1435.03 66.3376 1439.69 66.3376 L1447.35 66.3376 L1447.35 72.576 L1439.69 72.576 Q1431.07 72.576 1427.78 69.3758 Q1424.5 66.1351 1424.5 57.6282 L1424.5 32.9987 L1419.03 32.9987 L1419.03 27.2059 L1424.5 27.2059 L1424.5 14.324 L1432 14.324 Z\" fill=\"#000000\" fill-rule=\"evenodd\" fill-opacity=\"1\" /><polyline clip-path=\"url(#clip7502)\" style=\"stroke:#009af9; stroke-width:4; stroke-opacity:1; fill:none\" points=\"\n",
       "  224.444,188.266 229.489,183.997 234.534,180.097 239.579,176.571 244.624,173.418 267.947,163.761 291.27,162.263 314.594,168.945 337.917,183.721 361.241,206.403 \n",
       "  384.564,236.703 407.887,274.235 431.211,318.52 459.243,379.884 487.276,449.059 515.309,524.774 543.342,605.637 590.744,749.895 638.147,897.037 689.64,1051.16 \n",
       "  741.132,1190.07 764.868,1246.56 788.604,1297.23 812.34,1341.41 836.075,1378.52 861.523,1409.9 886.97,1432.11 912.417,1444.82 937.865,1447.84 967.348,1439.17 \n",
       "  996.831,1417.6 1026.31,1383.59 1055.8,1337.81 1082,1288.01 1108.2,1230.45 1134.4,1166.05 1160.6,1095.86 1206.55,962.205 1252.51,820.802 1302.61,665.986 \n",
       "  1352.71,519.298 1377.91,451.329 1403.1,388.613 1428.3,332.081 1453.5,282.572 1481.36,236.892 1509.22,201.522 1537.08,177.107 1564.95,164.087 1591.45,162.498 \n",
       "  1617.96,171.468 1644.47,190.849 1670.98,220.324 1698.54,261.15 1726.11,311.639 1753.67,370.891 1781.23,437.856 1827.64,564.66 1874.04,703.531 1930.69,879.259 \n",
       "  1987.35,1049.44 2013.98,1123.85 2040.61,1192.97 2067.23,1255.65 2093.86,1310.87 2115.19,1349.08 2136.52,1381.5 2157.85,1407.78 2179.18,1427.64 2200.51,1440.88 \n",
       "  2221.84,1447.34 2243.17,1446.96 2264.51,1439.75 2271.07,1436.17 2277.64,1431.94 2284.2,1427.09 2290.77,1421.6 \n",
       "  \"/>\n",
       "<polyline clip-path=\"url(#clip7502)\" style=\"stroke:#e26f46; stroke-width:4; stroke-opacity:1; fill:none\" points=\"\n",
       "  224.444,622.516 229.489,637.625 234.534,652.833 239.579,668.132 244.624,683.512 291.27,827.949 337.917,971.218 384.564,1106.05 431.211,1225.6 459.243,1287.52 \n",
       "  487.276,1340.57 515.309,1383.78 543.342,1416.36 567.043,1435.15 590.744,1445.66 614.446,1447.75 638.147,1441.39 663.893,1425.01 689.64,1399.01 715.386,1363.81 \n",
       "  741.132,1319.94 764.868,1272.4 788.604,1218.7 812.34,1159.55 836.075,1095.72 886.97,947.094 937.865,789.884 996.831,609.507 1055.8,444.937 1082,380.439 \n",
       "  1108.2,322.757 1134.4,272.817 1160.6,231.421 1183.58,202.681 1206.55,181.378 1229.53,167.778 1252.51,162.047 1277.56,164.846 1302.61,177.042 1327.66,198.454 \n",
       "  1352.71,228.768 1377.91,267.794 1403.1,314.799 1428.3,369.084 1453.5,429.843 1509.22,582.561 1564.95,751.351 1617.96,915.735 1670.98,1072.86 1698.54,1148.24 \n",
       "  1726.11,1217.51 1753.67,1279.45 1781.23,1332.96 1804.43,1370.77 1827.64,1401.44 1850.84,1424.61 1874.04,1439.97 1902.37,1447.87 1930.69,1443.71 1959.02,1427.56 \n",
       "  1987.35,1399.73 2013.98,1363.37 2040.61,1317.76 2067.23,1263.64 2093.86,1201.91 2136.52,1089.77 2179.18,965.528 2221.84,834.466 2264.51,702.15 2271.07,682.035 \n",
       "  2277.64,662.045 2284.2,642.198 2290.77,622.516 \n",
       "  \"/>\n",
       "<path clip-path=\"url(#clip7500)\" d=\"\n",
       "M1989.74 388.432 L2280.76 388.432 L2280.76 206.992 L1989.74 206.992  Z\n",
       "  \" fill=\"#ffffff\" fill-rule=\"evenodd\" fill-opacity=\"1\"/>\n",
       "<polyline clip-path=\"url(#clip7500)\" style=\"stroke:#000000; stroke-width:4; stroke-opacity:1; fill:none\" points=\"\n",
       "  1989.74,388.432 2280.76,388.432 2280.76,206.992 1989.74,206.992 1989.74,388.432 \n",
       "  \"/>\n",
       "<polyline clip-path=\"url(#clip7500)\" style=\"stroke:#009af9; stroke-width:4; stroke-opacity:1; fill:none\" points=\"\n",
       "  2013.74,267.472 2157.74,267.472 \n",
       "  \"/>\n",
       "<path clip-path=\"url(#clip7500)\" d=\"M 0 0 M2195.58 287.16 Q2193.77 291.789 2192.06 293.201 Q2190.35 294.613 2187.48 294.613 L2184.08 294.613 L2184.08 291.048 L2186.58 291.048 Q2188.33 291.048 2189.31 290.215 Q2190.28 289.382 2191.46 286.28 L2192.22 284.335 L2181.74 258.826 L2186.25 258.826 L2194.35 279.104 L2202.46 258.826 L2206.97 258.826 L2195.58 287.16 Z\" fill=\"#000000\" fill-rule=\"evenodd\" fill-opacity=\"1\" /><path clip-path=\"url(#clip7500)\" d=\"M 0 0 M2212.85 280.817 L2220.49 280.817 L2220.49 254.451 L2212.18 256.118 L2212.18 251.859 L2220.44 250.192 L2225.12 250.192 L2225.12 280.817 L2232.76 280.817 L2232.76 284.752 L2212.85 284.752 L2212.85 280.817 Z\" fill=\"#000000\" fill-rule=\"evenodd\" fill-opacity=\"1\" /><polyline clip-path=\"url(#clip7500)\" style=\"stroke:#e26f46; stroke-width:4; stroke-opacity:1; fill:none\" points=\"\n",
       "  2013.74,327.952 2157.74,327.952 \n",
       "  \"/>\n",
       "<path clip-path=\"url(#clip7500)\" d=\"M 0 0 M2195.58 347.64 Q2193.77 352.269 2192.06 353.681 Q2190.35 355.093 2187.48 355.093 L2184.08 355.093 L2184.08 351.528 L2186.58 351.528 Q2188.33 351.528 2189.31 350.695 Q2190.28 349.862 2191.46 346.76 L2192.22 344.815 L2181.74 319.306 L2186.25 319.306 L2194.35 339.584 L2202.46 319.306 L2206.97 319.306 L2195.58 347.64 Z\" fill=\"#000000\" fill-rule=\"evenodd\" fill-opacity=\"1\" /><path clip-path=\"url(#clip7500)\" d=\"M 0 0 M2216.07 341.297 L2232.39 341.297 L2232.39 345.232 L2210.44 345.232 L2210.44 341.297 Q2213.1 338.542 2217.69 333.913 Q2222.29 329.26 2223.47 327.917 Q2225.72 325.394 2226.6 323.658 Q2227.5 321.899 2227.5 320.209 Q2227.5 317.454 2225.56 315.718 Q2223.64 313.982 2220.53 313.982 Q2218.33 313.982 2215.88 314.746 Q2213.45 315.51 2210.67 317.061 L2210.67 312.339 Q2213.5 311.205 2215.95 310.626 Q2218.4 310.047 2220.44 310.047 Q2225.81 310.047 2229.01 312.732 Q2232.2 315.417 2232.2 319.908 Q2232.2 322.038 2231.39 323.959 Q2230.6 325.857 2228.5 328.45 Q2227.92 329.121 2224.82 332.339 Q2221.71 335.533 2216.07 341.297 Z\" fill=\"#000000\" fill-rule=\"evenodd\" fill-opacity=\"1\" /></svg>\n"
      ]
     },
     "execution_count": 35,
     "metadata": {},
     "output_type": "execute_result"
    }
   ],
   "source": [
    "title!(\"Funny plot\")"
   ]
  },
  {
   "cell_type": "markdown",
   "metadata": {},
   "source": [
    "### Some basis regression "
   ]
  },
  {
   "cell_type": "code",
   "execution_count": 36,
   "metadata": {},
   "outputs": [],
   "source": [
    "x=rand(100)*10\n",
    "y=3*x+randn(length(x)) .+5;"
   ]
  },
  {
   "cell_type": "code",
   "execution_count": 37,
   "metadata": {},
   "outputs": [
    {
     "data": {
      "image/svg+xml": [
       "<?xml version=\"1.0\" encoding=\"utf-8\"?>\n",
       "<svg xmlns=\"http://www.w3.org/2000/svg\" xmlns:xlink=\"http://www.w3.org/1999/xlink\" width=\"600\" height=\"400\" viewBox=\"0 0 2400 1600\">\n",
       "<defs>\n",
       "  <clipPath id=\"clip7900\">\n",
       "    <rect x=\"0\" y=\"0\" width=\"2400\" height=\"1600\"/>\n",
       "  </clipPath>\n",
       "</defs>\n",
       "<path clip-path=\"url(#clip7900)\" d=\"\n",
       "M0 1600 L2400 1600 L2400 0 L0 0  Z\n",
       "  \" fill=\"#ffffff\" fill-rule=\"evenodd\" fill-opacity=\"1\"/>\n",
       "<defs>\n",
       "  <clipPath id=\"clip7901\">\n",
       "    <rect x=\"480\" y=\"0\" width=\"1681\" height=\"1600\"/>\n",
       "  </clipPath>\n",
       "</defs>\n",
       "<path clip-path=\"url(#clip7900)\" d=\"\n",
       "M136.76 1486.45 L2352.76 1486.45 L2352.76 47.2441 L136.76 47.2441  Z\n",
       "  \" fill=\"#ffffff\" fill-rule=\"evenodd\" fill-opacity=\"1\"/>\n",
       "<defs>\n",
       "  <clipPath id=\"clip7902\">\n",
       "    <rect x=\"136\" y=\"47\" width=\"2217\" height=\"1440\"/>\n",
       "  </clipPath>\n",
       "</defs>\n",
       "<polyline clip-path=\"url(#clip7902)\" style=\"stroke:#000000; stroke-width:2; stroke-opacity:0.1; fill:none\" points=\"\n",
       "  194.562,1486.45 194.562,47.2441 \n",
       "  \"/>\n",
       "<polyline clip-path=\"url(#clip7902)\" style=\"stroke:#000000; stroke-width:2; stroke-opacity:0.1; fill:none\" points=\"\n",
       "  733.811,1486.45 733.811,47.2441 \n",
       "  \"/>\n",
       "<polyline clip-path=\"url(#clip7902)\" style=\"stroke:#000000; stroke-width:2; stroke-opacity:0.1; fill:none\" points=\"\n",
       "  1273.06,1486.45 1273.06,47.2441 \n",
       "  \"/>\n",
       "<polyline clip-path=\"url(#clip7902)\" style=\"stroke:#000000; stroke-width:2; stroke-opacity:0.1; fill:none\" points=\"\n",
       "  1812.31,1486.45 1812.31,47.2441 \n",
       "  \"/>\n",
       "<polyline clip-path=\"url(#clip7902)\" style=\"stroke:#000000; stroke-width:2; stroke-opacity:0.1; fill:none\" points=\"\n",
       "  2351.56,1486.45 2351.56,47.2441 \n",
       "  \"/>\n",
       "<polyline clip-path=\"url(#clip7902)\" style=\"stroke:#000000; stroke-width:2; stroke-opacity:0.1; fill:none\" points=\"\n",
       "  136.76,1439.39 2352.76,1439.39 \n",
       "  \"/>\n",
       "<polyline clip-path=\"url(#clip7902)\" style=\"stroke:#000000; stroke-width:2; stroke-opacity:0.1; fill:none\" points=\"\n",
       "  136.76,1208.16 2352.76,1208.16 \n",
       "  \"/>\n",
       "<polyline clip-path=\"url(#clip7902)\" style=\"stroke:#000000; stroke-width:2; stroke-opacity:0.1; fill:none\" points=\"\n",
       "  136.76,976.933 2352.76,976.933 \n",
       "  \"/>\n",
       "<polyline clip-path=\"url(#clip7902)\" style=\"stroke:#000000; stroke-width:2; stroke-opacity:0.1; fill:none\" points=\"\n",
       "  136.76,745.704 2352.76,745.704 \n",
       "  \"/>\n",
       "<polyline clip-path=\"url(#clip7902)\" style=\"stroke:#000000; stroke-width:2; stroke-opacity:0.1; fill:none\" points=\"\n",
       "  136.76,514.476 2352.76,514.476 \n",
       "  \"/>\n",
       "<polyline clip-path=\"url(#clip7902)\" style=\"stroke:#000000; stroke-width:2; stroke-opacity:0.1; fill:none\" points=\"\n",
       "  136.76,283.248 2352.76,283.248 \n",
       "  \"/>\n",
       "<polyline clip-path=\"url(#clip7902)\" style=\"stroke:#000000; stroke-width:2; stroke-opacity:0.1; fill:none\" points=\"\n",
       "  136.76,52.0199 2352.76,52.0199 \n",
       "  \"/>\n",
       "<polyline clip-path=\"url(#clip7900)\" style=\"stroke:#000000; stroke-width:4; stroke-opacity:1; fill:none\" points=\"\n",
       "  136.76,1486.45 2352.76,1486.45 \n",
       "  \"/>\n",
       "<polyline clip-path=\"url(#clip7900)\" style=\"stroke:#000000; stroke-width:4; stroke-opacity:1; fill:none\" points=\"\n",
       "  136.76,1486.45 136.76,47.2441 \n",
       "  \"/>\n",
       "<polyline clip-path=\"url(#clip7900)\" style=\"stroke:#000000; stroke-width:4; stroke-opacity:1; fill:none\" points=\"\n",
       "  194.562,1486.45 194.562,1469.18 \n",
       "  \"/>\n",
       "<polyline clip-path=\"url(#clip7900)\" style=\"stroke:#000000; stroke-width:4; stroke-opacity:1; fill:none\" points=\"\n",
       "  733.811,1486.45 733.811,1469.18 \n",
       "  \"/>\n",
       "<polyline clip-path=\"url(#clip7900)\" style=\"stroke:#000000; stroke-width:4; stroke-opacity:1; fill:none\" points=\"\n",
       "  1273.06,1486.45 1273.06,1469.18 \n",
       "  \"/>\n",
       "<polyline clip-path=\"url(#clip7900)\" style=\"stroke:#000000; stroke-width:4; stroke-opacity:1; fill:none\" points=\"\n",
       "  1812.31,1486.45 1812.31,1469.18 \n",
       "  \"/>\n",
       "<polyline clip-path=\"url(#clip7900)\" style=\"stroke:#000000; stroke-width:4; stroke-opacity:1; fill:none\" points=\"\n",
       "  2351.56,1486.45 2351.56,1469.18 \n",
       "  \"/>\n",
       "<polyline clip-path=\"url(#clip7900)\" style=\"stroke:#000000; stroke-width:4; stroke-opacity:1; fill:none\" points=\"\n",
       "  136.76,1439.39 163.352,1439.39 \n",
       "  \"/>\n",
       "<polyline clip-path=\"url(#clip7900)\" style=\"stroke:#000000; stroke-width:4; stroke-opacity:1; fill:none\" points=\"\n",
       "  136.76,1208.16 163.352,1208.16 \n",
       "  \"/>\n",
       "<polyline clip-path=\"url(#clip7900)\" style=\"stroke:#000000; stroke-width:4; stroke-opacity:1; fill:none\" points=\"\n",
       "  136.76,976.933 163.352,976.933 \n",
       "  \"/>\n",
       "<polyline clip-path=\"url(#clip7900)\" style=\"stroke:#000000; stroke-width:4; stroke-opacity:1; fill:none\" points=\"\n",
       "  136.76,745.704 163.352,745.704 \n",
       "  \"/>\n",
       "<polyline clip-path=\"url(#clip7900)\" style=\"stroke:#000000; stroke-width:4; stroke-opacity:1; fill:none\" points=\"\n",
       "  136.76,514.476 163.352,514.476 \n",
       "  \"/>\n",
       "<polyline clip-path=\"url(#clip7900)\" style=\"stroke:#000000; stroke-width:4; stroke-opacity:1; fill:none\" points=\"\n",
       "  136.76,283.248 163.352,283.248 \n",
       "  \"/>\n",
       "<polyline clip-path=\"url(#clip7900)\" style=\"stroke:#000000; stroke-width:4; stroke-opacity:1; fill:none\" points=\"\n",
       "  136.76,52.0199 163.352,52.0199 \n",
       "  \"/>\n",
       "<path clip-path=\"url(#clip7900)\" d=\"M 0 0 M176.078 1508.44 Q172.467 1508.44 170.638 1512 Q168.833 1515.55 168.833 1522.67 Q168.833 1529.78 170.638 1533.35 Q172.467 1536.89 176.078 1536.89 Q179.712 1536.89 181.518 1533.35 Q183.347 1529.78 183.347 1522.67 Q183.347 1515.55 181.518 1512 Q179.712 1508.44 176.078 1508.44 M176.078 1504.73 Q181.888 1504.73 184.944 1509.34 Q188.022 1513.92 188.022 1522.67 Q188.022 1531.4 184.944 1536.01 Q181.888 1540.59 176.078 1540.59 Q170.268 1540.59 167.189 1536.01 Q164.134 1531.4 164.134 1522.67 Q164.134 1513.92 167.189 1509.34 Q170.268 1504.73 176.078 1504.73 Z\" fill=\"#000000\" fill-rule=\"evenodd\" fill-opacity=\"1\" /><path clip-path=\"url(#clip7900)\" d=\"M 0 0 M193.092 1534.04 L197.976 1534.04 L197.976 1539.92 L193.092 1539.92 L193.092 1534.04 Z\" fill=\"#000000\" fill-rule=\"evenodd\" fill-opacity=\"1\" /><path clip-path=\"url(#clip7900)\" d=\"M 0 0 M213.046 1508.44 Q209.434 1508.44 207.606 1512 Q205.8 1515.55 205.8 1522.67 Q205.8 1529.78 207.606 1533.35 Q209.434 1536.89 213.046 1536.89 Q216.68 1536.89 218.485 1533.35 Q220.314 1529.78 220.314 1522.67 Q220.314 1515.55 218.485 1512 Q216.68 1508.44 213.046 1508.44 M213.046 1504.73 Q218.856 1504.73 221.911 1509.34 Q224.99 1513.92 224.99 1522.67 Q224.99 1531.4 221.911 1536.01 Q218.856 1540.59 213.046 1540.59 Q207.235 1540.59 204.157 1536.01 Q201.101 1531.4 201.101 1522.67 Q201.101 1513.92 204.157 1509.34 Q207.235 1504.73 213.046 1504.73 Z\" fill=\"#000000\" fill-rule=\"evenodd\" fill-opacity=\"1\" /><path clip-path=\"url(#clip7900)\" d=\"M 0 0 M710.477 1535.98 L726.797 1535.98 L726.797 1539.92 L704.852 1539.92 L704.852 1535.98 Q707.514 1533.23 712.098 1528.6 Q716.704 1523.95 717.885 1522.61 Q720.13 1520.08 721.01 1518.35 Q721.913 1516.59 721.913 1514.9 Q721.913 1512.14 719.968 1510.41 Q718.047 1508.67 714.945 1508.67 Q712.746 1508.67 710.292 1509.43 Q707.862 1510.2 705.084 1511.75 L705.084 1507.03 Q707.908 1505.89 710.362 1505.31 Q712.815 1504.73 714.852 1504.73 Q720.223 1504.73 723.417 1507.42 Q726.612 1510.11 726.612 1514.6 Q726.612 1516.73 725.801 1518.65 Q725.014 1520.54 722.908 1523.14 Q722.329 1523.81 719.227 1527.03 Q716.126 1530.22 710.477 1535.98 Z\" fill=\"#000000\" fill-rule=\"evenodd\" fill-opacity=\"1\" /><path clip-path=\"url(#clip7900)\" d=\"M 0 0 M731.866 1534.04 L736.75 1534.04 L736.75 1539.92 L731.866 1539.92 L731.866 1534.04 Z\" fill=\"#000000\" fill-rule=\"evenodd\" fill-opacity=\"1\" /><path clip-path=\"url(#clip7900)\" d=\"M 0 0 M741.866 1505.36 L760.223 1505.36 L760.223 1509.3 L746.149 1509.3 L746.149 1517.77 Q747.167 1517.42 748.186 1517.26 Q749.204 1517.07 750.223 1517.07 Q756.01 1517.07 759.389 1520.24 Q762.769 1523.42 762.769 1528.83 Q762.769 1534.41 759.297 1537.51 Q755.824 1540.59 749.505 1540.59 Q747.329 1540.59 745.061 1540.22 Q742.815 1539.85 740.408 1539.11 L740.408 1534.41 Q742.491 1535.54 744.713 1536.1 Q746.936 1536.66 749.412 1536.66 Q753.417 1536.66 755.755 1534.55 Q758.093 1532.44 758.093 1528.83 Q758.093 1525.22 755.755 1523.11 Q753.417 1521.01 749.412 1521.01 Q747.537 1521.01 745.662 1521.42 Q743.811 1521.84 741.866 1522.72 L741.866 1505.36 Z\" fill=\"#000000\" fill-rule=\"evenodd\" fill-opacity=\"1\" /><path clip-path=\"url(#clip7900)\" d=\"M 0 0 M1244.85 1505.36 L1263.21 1505.36 L1263.21 1509.3 L1249.14 1509.3 L1249.14 1517.77 Q1250.15 1517.42 1251.17 1517.26 Q1252.19 1517.07 1253.21 1517.07 Q1259 1517.07 1262.38 1520.24 Q1265.76 1523.42 1265.76 1528.83 Q1265.76 1534.41 1262.28 1537.51 Q1258.81 1540.59 1252.49 1540.59 Q1250.32 1540.59 1248.05 1540.22 Q1245.8 1539.85 1243.4 1539.11 L1243.4 1534.41 Q1245.48 1535.54 1247.7 1536.1 Q1249.92 1536.66 1252.4 1536.66 Q1256.4 1536.66 1258.74 1534.55 Q1261.08 1532.44 1261.08 1528.83 Q1261.08 1525.22 1258.74 1523.11 Q1256.4 1521.01 1252.4 1521.01 Q1250.52 1521.01 1248.65 1521.42 Q1246.8 1521.84 1244.85 1522.72 L1244.85 1505.36 Z\" fill=\"#000000\" fill-rule=\"evenodd\" fill-opacity=\"1\" /><path clip-path=\"url(#clip7900)\" d=\"M 0 0 M1270.83 1534.04 L1275.71 1534.04 L1275.71 1539.92 L1270.83 1539.92 L1270.83 1534.04 Z\" fill=\"#000000\" fill-rule=\"evenodd\" fill-opacity=\"1\" /><path clip-path=\"url(#clip7900)\" d=\"M 0 0 M1290.78 1508.44 Q1287.17 1508.44 1285.34 1512 Q1283.53 1515.55 1283.53 1522.67 Q1283.53 1529.78 1285.34 1533.35 Q1287.17 1536.89 1290.78 1536.89 Q1294.41 1536.89 1296.22 1533.35 Q1298.05 1529.78 1298.05 1522.67 Q1298.05 1515.55 1296.22 1512 Q1294.41 1508.44 1290.78 1508.44 M1290.78 1504.73 Q1296.59 1504.73 1299.64 1509.34 Q1302.72 1513.92 1302.72 1522.67 Q1302.72 1531.4 1299.64 1536.01 Q1296.59 1540.59 1290.78 1540.59 Q1284.97 1540.59 1281.89 1536.01 Q1278.83 1531.4 1278.83 1522.67 Q1278.83 1513.92 1281.89 1509.34 Q1284.97 1504.73 1290.78 1504.73 Z\" fill=\"#000000\" fill-rule=\"evenodd\" fill-opacity=\"1\" /><path clip-path=\"url(#clip7900)\" d=\"M 0 0 M1783.21 1505.36 L1805.43 1505.36 L1805.43 1507.35 L1792.89 1539.92 L1788 1539.92 L1799.81 1509.3 L1783.21 1509.3 L1783.21 1505.36 Z\" fill=\"#000000\" fill-rule=\"evenodd\" fill-opacity=\"1\" /><path clip-path=\"url(#clip7900)\" d=\"M 0 0 M1810.5 1534.04 L1815.39 1534.04 L1815.39 1539.92 L1810.5 1539.92 L1810.5 1534.04 Z\" fill=\"#000000\" fill-rule=\"evenodd\" fill-opacity=\"1\" /><path clip-path=\"url(#clip7900)\" d=\"M 0 0 M1820.5 1505.36 L1838.86 1505.36 L1838.86 1509.3 L1824.79 1509.3 L1824.79 1517.77 Q1825.8 1517.42 1826.82 1517.26 Q1827.84 1517.07 1828.86 1517.07 Q1834.65 1517.07 1838.03 1520.24 Q1841.41 1523.42 1841.41 1528.83 Q1841.41 1534.41 1837.93 1537.51 Q1834.46 1540.59 1828.14 1540.59 Q1825.97 1540.59 1823.7 1540.22 Q1821.45 1539.85 1819.04 1539.11 L1819.04 1534.41 Q1821.13 1535.54 1823.35 1536.1 Q1825.57 1536.66 1828.05 1536.66 Q1832.05 1536.66 1834.39 1534.55 Q1836.73 1532.44 1836.73 1528.83 Q1836.73 1525.22 1834.39 1523.11 Q1832.05 1521.01 1828.05 1521.01 Q1826.17 1521.01 1824.3 1521.42 Q1822.45 1521.84 1820.5 1522.72 L1820.5 1505.36 Z\" fill=\"#000000\" fill-rule=\"evenodd\" fill-opacity=\"1\" /><path clip-path=\"url(#clip7900)\" d=\"M 0 0 M2309.95 1535.98 L2317.59 1535.98 L2317.59 1509.62 L2309.28 1511.29 L2309.28 1507.03 L2317.54 1505.36 L2322.22 1505.36 L2322.22 1535.98 L2329.86 1535.98 L2329.86 1539.92 L2309.95 1539.92 L2309.95 1535.98 Z\" fill=\"#000000\" fill-rule=\"evenodd\" fill-opacity=\"1\" /><path clip-path=\"url(#clip7900)\" d=\"M 0 0 M2344.93 1508.44 Q2341.31 1508.44 2339.49 1512 Q2337.68 1515.55 2337.68 1522.67 Q2337.68 1529.78 2339.49 1533.35 Q2341.31 1536.89 2344.93 1536.89 Q2348.56 1536.89 2350.36 1533.35 Q2352.19 1529.78 2352.19 1522.67 Q2352.19 1515.55 2350.36 1512 Q2348.56 1508.44 2344.93 1508.44 M2344.93 1504.73 Q2350.74 1504.73 2353.79 1509.34 Q2356.87 1513.92 2356.87 1522.67 Q2356.87 1531.4 2353.79 1536.01 Q2350.74 1540.59 2344.93 1540.59 Q2339.12 1540.59 2336.04 1536.01 Q2332.98 1531.4 2332.98 1522.67 Q2332.98 1513.92 2336.04 1509.34 Q2339.12 1504.73 2344.93 1504.73 Z\" fill=\"#000000\" fill-rule=\"evenodd\" fill-opacity=\"1\" /><path clip-path=\"url(#clip7900)\" d=\"M 0 0 M2361.94 1534.04 L2366.82 1534.04 L2366.82 1539.92 L2361.94 1539.92 L2361.94 1534.04 Z\" fill=\"#000000\" fill-rule=\"evenodd\" fill-opacity=\"1\" /><path clip-path=\"url(#clip7900)\" d=\"M 0 0 M2381.89 1508.44 Q2378.28 1508.44 2376.45 1512 Q2374.65 1515.55 2374.65 1522.67 Q2374.65 1529.78 2376.45 1533.35 Q2378.28 1536.89 2381.89 1536.89 Q2385.53 1536.89 2387.33 1533.35 Q2389.16 1529.78 2389.16 1522.67 Q2389.16 1515.55 2387.33 1512 Q2385.53 1508.44 2381.89 1508.44 M2381.89 1504.73 Q2387.7 1504.73 2390.76 1509.34 Q2393.84 1513.92 2393.84 1522.67 Q2393.84 1531.4 2390.76 1536.01 Q2387.7 1540.59 2381.89 1540.59 Q2376.08 1540.59 2373 1536.01 Q2369.95 1531.4 2369.95 1522.67 Q2369.95 1513.92 2373 1509.34 Q2376.08 1504.73 2381.89 1504.73 Z\" fill=\"#000000\" fill-rule=\"evenodd\" fill-opacity=\"1\" /><path clip-path=\"url(#clip7900)\" d=\"M 0 0 M91.8577 1422.11 L110.214 1422.11 L110.214 1426.04 L96.1401 1426.04 L96.1401 1434.52 Q97.1586 1434.17 98.1771 1434.01 Q99.1956 1433.82 100.214 1433.82 Q106.001 1433.82 109.381 1436.99 Q112.76 1440.16 112.76 1445.58 Q112.76 1451.16 109.288 1454.26 Q105.816 1457.34 99.4966 1457.34 Q97.3206 1457.34 95.0521 1456.97 Q92.8068 1456.6 90.3994 1455.86 L90.3994 1451.16 Q92.4827 1452.29 94.7049 1452.85 Q96.9271 1453.41 99.404 1453.41 Q103.409 1453.41 105.747 1451.3 Q108.084 1449.19 108.084 1445.58 Q108.084 1441.97 105.747 1439.86 Q103.409 1437.76 99.404 1437.76 Q97.529 1437.76 95.654 1438.17 Q93.8021 1438.59 91.8577 1439.47 L91.8577 1422.11 Z\" fill=\"#000000\" fill-rule=\"evenodd\" fill-opacity=\"1\" /><path clip-path=\"url(#clip7900)\" d=\"M 0 0 M65.8393 1221.51 L73.4782 1221.51 L73.4782 1195.14 L65.168 1196.81 L65.168 1192.55 L73.4319 1190.88 L78.1078 1190.88 L78.1078 1221.51 L85.7466 1221.51 L85.7466 1225.44 L65.8393 1225.44 L65.8393 1221.51 Z\" fill=\"#000000\" fill-rule=\"evenodd\" fill-opacity=\"1\" /><path clip-path=\"url(#clip7900)\" d=\"M 0 0 M100.816 1193.96 Q97.2049 1193.96 95.3762 1197.52 Q93.5707 1201.07 93.5707 1208.2 Q93.5707 1215.3 95.3762 1218.87 Q97.2049 1222.41 100.816 1222.41 Q104.45 1222.41 106.256 1218.87 Q108.084 1215.3 108.084 1208.2 Q108.084 1201.07 106.256 1197.52 Q104.45 1193.96 100.816 1193.96 M100.816 1190.26 Q106.626 1190.26 109.682 1194.86 Q112.76 1199.45 112.76 1208.2 Q112.76 1216.92 109.682 1221.53 Q106.626 1226.11 100.816 1226.11 Q95.0058 1226.11 91.9272 1221.53 Q88.8716 1216.92 88.8716 1208.2 Q88.8716 1199.45 91.9272 1194.86 Q95.0058 1190.26 100.816 1190.26 Z\" fill=\"#000000\" fill-rule=\"evenodd\" fill-opacity=\"1\" /><path clip-path=\"url(#clip7900)\" d=\"M 0 0 M66.8347 990.277 L74.4735 990.277 L74.4735 963.912 L66.1634 965.578 L66.1634 961.319 L74.4272 959.653 L79.1032 959.653 L79.1032 990.277 L86.742 990.277 L86.742 994.213 L66.8347 994.213 L66.8347 990.277 Z\" fill=\"#000000\" fill-rule=\"evenodd\" fill-opacity=\"1\" /><path clip-path=\"url(#clip7900)\" d=\"M 0 0 M91.8577 959.653 L110.214 959.653 L110.214 963.588 L96.1401 963.588 L96.1401 972.06 Q97.1586 971.713 98.1771 971.551 Q99.1956 971.365 100.214 971.365 Q106.001 971.365 109.381 974.537 Q112.76 977.708 112.76 983.125 Q112.76 988.703 109.288 991.805 Q105.816 994.884 99.4966 994.884 Q97.3206 994.884 95.0521 994.514 Q92.8068 994.143 90.3994 993.402 L90.3994 988.703 Q92.4827 989.838 94.7049 990.393 Q96.9271 990.949 99.404 990.949 Q103.409 990.949 105.747 988.842 Q108.084 986.736 108.084 983.125 Q108.084 979.514 105.747 977.407 Q103.409 975.301 99.404 975.301 Q97.529 975.301 95.654 975.717 Q93.8021 976.134 91.8577 977.014 L91.8577 959.653 Z\" fill=\"#000000\" fill-rule=\"evenodd\" fill-opacity=\"1\" /><path clip-path=\"url(#clip7900)\" d=\"M 0 0 M69.4273 759.049 L85.7466 759.049 L85.7466 762.984 L63.8023 762.984 L63.8023 759.049 Q66.4643 756.295 71.0476 751.665 Q75.6541 747.012 76.8346 745.67 Q79.08 743.147 79.9596 741.41 Q80.8624 739.651 80.8624 737.961 Q80.8624 735.207 78.918 733.471 Q76.9967 731.735 73.8948 731.735 Q71.6958 731.735 69.2421 732.498 Q66.8115 733.262 64.0338 734.813 L64.0338 730.091 Q66.8578 728.957 69.3115 728.378 Q71.7652 727.799 73.8023 727.799 Q79.1726 727.799 82.367 730.485 Q85.5614 733.17 85.5614 737.66 Q85.5614 739.79 84.7513 741.711 Q83.9642 743.61 81.8578 746.202 Q81.2791 746.873 78.1772 750.091 Q75.0754 753.285 69.4273 759.049 Z\" fill=\"#000000\" fill-rule=\"evenodd\" fill-opacity=\"1\" /><path clip-path=\"url(#clip7900)\" d=\"M 0 0 M100.816 731.503 Q97.2049 731.503 95.3762 735.068 Q93.5707 738.61 93.5707 745.739 Q93.5707 752.846 95.3762 756.41 Q97.2049 759.952 100.816 759.952 Q104.45 759.952 106.256 756.41 Q108.084 752.846 108.084 745.739 Q108.084 738.61 106.256 735.068 Q104.45 731.503 100.816 731.503 M100.816 727.799 Q106.626 727.799 109.682 732.406 Q112.76 736.989 112.76 745.739 Q112.76 754.466 109.682 759.072 Q106.626 763.656 100.816 763.656 Q95.0058 763.656 91.9272 759.072 Q88.8716 754.466 88.8716 745.739 Q88.8716 736.989 91.9272 732.406 Q95.0058 727.799 100.816 727.799 Z\" fill=\"#000000\" fill-rule=\"evenodd\" fill-opacity=\"1\" /><path clip-path=\"url(#clip7900)\" d=\"M 0 0 M70.4226 527.821 L86.742 527.821 L86.742 531.756 L64.7977 531.756 L64.7977 527.821 Q67.4597 525.066 72.043 520.437 Q76.6495 515.784 77.83 514.442 Q80.0754 511.918 80.955 510.182 Q81.8578 508.423 81.8578 506.733 Q81.8578 503.979 79.9133 502.243 Q77.992 500.506 74.8902 500.506 Q72.6911 500.506 70.2375 501.27 Q67.8069 502.034 65.0292 503.585 L65.0292 498.863 Q67.8532 497.729 70.3069 497.15 Q72.7606 496.571 74.7976 496.571 Q80.168 496.571 83.3624 499.256 Q86.5568 501.942 86.5568 506.432 Q86.5568 508.562 85.7466 510.483 Q84.9596 512.381 82.8531 514.974 Q82.2744 515.645 79.1726 518.863 Q76.0708 522.057 70.4226 527.821 Z\" fill=\"#000000\" fill-rule=\"evenodd\" fill-opacity=\"1\" /><path clip-path=\"url(#clip7900)\" d=\"M 0 0 M91.8577 497.196 L110.214 497.196 L110.214 501.131 L96.1401 501.131 L96.1401 509.604 Q97.1586 509.256 98.1771 509.094 Q99.1956 508.909 100.214 508.909 Q106.001 508.909 109.381 512.08 Q112.76 515.252 112.76 520.668 Q112.76 526.247 109.288 529.349 Q105.816 532.428 99.4966 532.428 Q97.3206 532.428 95.0521 532.057 Q92.8068 531.687 90.3994 530.946 L90.3994 526.247 Q92.4827 527.381 94.7049 527.937 Q96.9271 528.492 99.404 528.492 Q103.409 528.492 105.747 526.386 Q108.084 524.279 108.084 520.668 Q108.084 517.057 105.747 514.951 Q103.409 512.844 99.404 512.844 Q97.529 512.844 95.654 513.261 Q93.8021 513.678 91.8577 514.557 L91.8577 497.196 Z\" fill=\"#000000\" fill-rule=\"evenodd\" fill-opacity=\"1\" /><path clip-path=\"url(#clip7900)\" d=\"M 0 0 M78.617 281.894 Q81.9735 282.611 83.8485 284.88 Q85.7466 287.149 85.7466 290.482 Q85.7466 295.598 82.2281 298.398 Q78.7096 301.199 72.2282 301.199 Q70.0523 301.199 67.7375 300.76 Q65.4458 300.343 62.9921 299.486 L62.9921 294.973 Q64.9366 296.107 67.2514 296.685 Q69.5662 297.264 72.0893 297.264 Q76.4874 297.264 78.7791 295.528 Q81.0939 293.792 81.0939 290.482 Q81.0939 287.426 78.9411 285.713 Q76.8115 283.977 72.9921 283.977 L68.9643 283.977 L68.9643 280.135 L73.1773 280.135 Q76.6263 280.135 78.455 278.769 Q80.2837 277.38 80.2837 274.787 Q80.2837 272.125 78.3856 270.713 Q76.5106 269.278 72.9921 269.278 Q71.0708 269.278 68.8717 269.695 Q66.6727 270.112 64.0338 270.991 L64.0338 266.825 Q66.6958 266.084 69.0106 265.713 Q71.3486 265.343 73.4087 265.343 Q78.7328 265.343 81.8346 267.774 Q84.9365 270.181 84.9365 274.301 Q84.9365 277.172 83.2929 279.162 Q81.6494 281.13 78.617 281.894 Z\" fill=\"#000000\" fill-rule=\"evenodd\" fill-opacity=\"1\" /><path clip-path=\"url(#clip7900)\" d=\"M 0 0 M100.816 269.047 Q97.2049 269.047 95.3762 272.612 Q93.5707 276.153 93.5707 283.283 Q93.5707 290.389 95.3762 293.954 Q97.2049 297.496 100.816 297.496 Q104.45 297.496 106.256 293.954 Q108.084 290.389 108.084 283.283 Q108.084 276.153 106.256 272.612 Q104.45 269.047 100.816 269.047 M100.816 265.343 Q106.626 265.343 109.682 269.95 Q112.76 274.533 112.76 283.283 Q112.76 292.01 109.682 296.616 Q106.626 301.199 100.816 301.199 Q95.0058 301.199 91.9272 296.616 Q88.8716 292.01 88.8716 283.283 Q88.8716 274.533 91.9272 269.95 Q95.0058 265.343 100.816 265.343 Z\" fill=\"#000000\" fill-rule=\"evenodd\" fill-opacity=\"1\" /><path clip-path=\"url(#clip7900)\" d=\"M 0 0 M79.6124 50.6657 Q82.9689 51.3833 84.8439 53.6518 Q86.742 55.9203 86.742 59.2536 Q86.742 64.3694 83.2235 67.1703 Q79.705 69.9712 73.2236 69.9712 Q71.0476 69.9712 68.7328 69.5314 Q66.4412 69.1147 63.9875 68.2582 L63.9875 63.7444 Q65.9319 64.8786 68.2467 65.4573 Q70.5615 66.036 73.0847 66.036 Q77.4828 66.036 79.7744 64.2999 Q82.0892 62.5638 82.0892 59.2536 Q82.0892 56.1981 79.9365 54.4851 Q77.8069 52.749 73.9874 52.749 L69.9597 52.749 L69.9597 48.9065 L74.1726 48.9065 Q77.6217 48.9065 79.4504 47.5407 Q81.2791 46.1519 81.2791 43.5593 Q81.2791 40.8973 79.3809 39.4852 Q77.5059 38.05 73.9874 38.05 Q72.0662 38.05 69.8671 38.4667 Q67.668 38.8834 65.0292 39.763 L65.0292 35.5964 Q67.6912 34.8556 70.006 34.4853 Q72.3439 34.1149 74.4041 34.1149 Q79.7281 34.1149 82.83 36.5454 Q85.9318 38.9528 85.9318 43.0732 Q85.9318 45.9435 84.2883 47.9343 Q82.6448 49.9018 79.6124 50.6657 Z\" fill=\"#000000\" fill-rule=\"evenodd\" fill-opacity=\"1\" /><path clip-path=\"url(#clip7900)\" d=\"M 0 0 M91.8577 34.7399 L110.214 34.7399 L110.214 38.675 L96.1401 38.675 L96.1401 47.1472 Q97.1586 46.8 98.1771 46.638 Q99.1956 46.4528 100.214 46.4528 Q106.001 46.4528 109.381 49.6241 Q112.76 52.7953 112.76 58.212 Q112.76 63.7907 109.288 66.8925 Q105.816 69.9712 99.4966 69.9712 Q97.3206 69.9712 95.0521 69.6008 Q92.8068 69.2304 90.3994 68.4897 L90.3994 63.7907 Q92.4827 64.9249 94.7049 65.4805 Q96.9271 66.036 99.404 66.036 Q103.409 66.036 105.747 63.9295 Q108.084 61.8231 108.084 58.212 Q108.084 54.6009 105.747 52.4944 Q103.409 50.3879 99.404 50.3879 Q97.529 50.3879 95.654 50.8046 Q93.8021 51.2213 91.8577 52.1009 L91.8577 34.7399 Z\" fill=\"#000000\" fill-rule=\"evenodd\" fill-opacity=\"1\" /><circle clip-path=\"url(#clip7902)\" cx=\"255.349\" cy=\"1414.91\" r=\"14\" fill=\"#009af9\" fill-rule=\"evenodd\" fill-opacity=\"1\" stroke=\"#000000\" stroke-opacity=\"1\" stroke-width=\"3.2\"/>\n",
       "<circle clip-path=\"url(#clip7902)\" cx=\"1335.93\" cy=\"657.387\" r=\"14\" fill=\"#009af9\" fill-rule=\"evenodd\" fill-opacity=\"1\" stroke=\"#000000\" stroke-opacity=\"1\" stroke-width=\"3.2\"/>\n",
       "<circle clip-path=\"url(#clip7902)\" cx=\"828.618\" cy=\"1036.82\" r=\"14\" fill=\"#009af9\" fill-rule=\"evenodd\" fill-opacity=\"1\" stroke=\"#000000\" stroke-opacity=\"1\" stroke-width=\"3.2\"/>\n",
       "<circle clip-path=\"url(#clip7902)\" cx=\"1610.58\" cy=\"633.635\" r=\"14\" fill=\"#009af9\" fill-rule=\"evenodd\" fill-opacity=\"1\" stroke=\"#000000\" stroke-opacity=\"1\" stroke-width=\"3.2\"/>\n",
       "<circle clip-path=\"url(#clip7902)\" cx=\"1217.06\" cy=\"840.873\" r=\"14\" fill=\"#009af9\" fill-rule=\"evenodd\" fill-opacity=\"1\" stroke=\"#000000\" stroke-opacity=\"1\" stroke-width=\"3.2\"/>\n",
       "<circle clip-path=\"url(#clip7902)\" cx=\"730.656\" cy=\"1111.79\" r=\"14\" fill=\"#009af9\" fill-rule=\"evenodd\" fill-opacity=\"1\" stroke=\"#000000\" stroke-opacity=\"1\" stroke-width=\"3.2\"/>\n",
       "<circle clip-path=\"url(#clip7902)\" cx=\"1024.73\" cy=\"792.258\" r=\"14\" fill=\"#009af9\" fill-rule=\"evenodd\" fill-opacity=\"1\" stroke=\"#000000\" stroke-opacity=\"1\" stroke-width=\"3.2\"/>\n",
       "<circle clip-path=\"url(#clip7902)\" cx=\"1378.51\" cy=\"706.396\" r=\"14\" fill=\"#009af9\" fill-rule=\"evenodd\" fill-opacity=\"1\" stroke=\"#000000\" stroke-opacity=\"1\" stroke-width=\"3.2\"/>\n",
       "<circle clip-path=\"url(#clip7902)\" cx=\"254.073\" cy=\"1354.33\" r=\"14\" fill=\"#009af9\" fill-rule=\"evenodd\" fill-opacity=\"1\" stroke=\"#000000\" stroke-opacity=\"1\" stroke-width=\"3.2\"/>\n",
       "<circle clip-path=\"url(#clip7902)\" cx=\"931.173\" cy=\"1111.21\" r=\"14\" fill=\"#009af9\" fill-rule=\"evenodd\" fill-opacity=\"1\" stroke=\"#000000\" stroke-opacity=\"1\" stroke-width=\"3.2\"/>\n",
       "<circle clip-path=\"url(#clip7902)\" cx=\"1667.42\" cy=\"577.663\" r=\"14\" fill=\"#009af9\" fill-rule=\"evenodd\" fill-opacity=\"1\" stroke=\"#000000\" stroke-opacity=\"1\" stroke-width=\"3.2\"/>\n",
       "<circle clip-path=\"url(#clip7902)\" cx=\"1327.68\" cy=\"781.546\" r=\"14\" fill=\"#009af9\" fill-rule=\"evenodd\" fill-opacity=\"1\" stroke=\"#000000\" stroke-opacity=\"1\" stroke-width=\"3.2\"/>\n",
       "<circle clip-path=\"url(#clip7902)\" cx=\"2048.16\" cy=\"217.161\" r=\"14\" fill=\"#009af9\" fill-rule=\"evenodd\" fill-opacity=\"1\" stroke=\"#000000\" stroke-opacity=\"1\" stroke-width=\"3.2\"/>\n",
       "<circle clip-path=\"url(#clip7902)\" cx=\"406.852\" cy=\"1315.69\" r=\"14\" fill=\"#009af9\" fill-rule=\"evenodd\" fill-opacity=\"1\" stroke=\"#000000\" stroke-opacity=\"1\" stroke-width=\"3.2\"/>\n",
       "<circle clip-path=\"url(#clip7902)\" cx=\"643.436\" cy=\"1137.14\" r=\"14\" fill=\"#009af9\" fill-rule=\"evenodd\" fill-opacity=\"1\" stroke=\"#000000\" stroke-opacity=\"1\" stroke-width=\"3.2\"/>\n",
       "<circle clip-path=\"url(#clip7902)\" cx=\"1359.4\" cy=\"747.16\" r=\"14\" fill=\"#009af9\" fill-rule=\"evenodd\" fill-opacity=\"1\" stroke=\"#000000\" stroke-opacity=\"1\" stroke-width=\"3.2\"/>\n",
       "<circle clip-path=\"url(#clip7902)\" cx=\"1041.65\" cy=\"880.483\" r=\"14\" fill=\"#009af9\" fill-rule=\"evenodd\" fill-opacity=\"1\" stroke=\"#000000\" stroke-opacity=\"1\" stroke-width=\"3.2\"/>\n",
       "<circle clip-path=\"url(#clip7902)\" cx=\"1772.67\" cy=\"497.72\" r=\"14\" fill=\"#009af9\" fill-rule=\"evenodd\" fill-opacity=\"1\" stroke=\"#000000\" stroke-opacity=\"1\" stroke-width=\"3.2\"/>\n",
       "<circle clip-path=\"url(#clip7902)\" cx=\"238.098\" cy=\"1394.39\" r=\"14\" fill=\"#009af9\" fill-rule=\"evenodd\" fill-opacity=\"1\" stroke=\"#000000\" stroke-opacity=\"1\" stroke-width=\"3.2\"/>\n",
       "<circle clip-path=\"url(#clip7902)\" cx=\"2161.63\" cy=\"171.632\" r=\"14\" fill=\"#009af9\" fill-rule=\"evenodd\" fill-opacity=\"1\" stroke=\"#000000\" stroke-opacity=\"1\" stroke-width=\"3.2\"/>\n",
       "<circle clip-path=\"url(#clip7902)\" cx=\"1368.03\" cy=\"761.431\" r=\"14\" fill=\"#009af9\" fill-rule=\"evenodd\" fill-opacity=\"1\" stroke=\"#000000\" stroke-opacity=\"1\" stroke-width=\"3.2\"/>\n",
       "<circle clip-path=\"url(#clip7902)\" cx=\"1248.69\" cy=\"734.727\" r=\"14\" fill=\"#009af9\" fill-rule=\"evenodd\" fill-opacity=\"1\" stroke=\"#000000\" stroke-opacity=\"1\" stroke-width=\"3.2\"/>\n",
       "<circle clip-path=\"url(#clip7902)\" cx=\"647.003\" cy=\"1183.76\" r=\"14\" fill=\"#009af9\" fill-rule=\"evenodd\" fill-opacity=\"1\" stroke=\"#000000\" stroke-opacity=\"1\" stroke-width=\"3.2\"/>\n",
       "<circle clip-path=\"url(#clip7902)\" cx=\"316.768\" cy=\"1331.4\" r=\"14\" fill=\"#009af9\" fill-rule=\"evenodd\" fill-opacity=\"1\" stroke=\"#000000\" stroke-opacity=\"1\" stroke-width=\"3.2\"/>\n",
       "<circle clip-path=\"url(#clip7902)\" cx=\"1772.78\" cy=\"504.229\" r=\"14\" fill=\"#009af9\" fill-rule=\"evenodd\" fill-opacity=\"1\" stroke=\"#000000\" stroke-opacity=\"1\" stroke-width=\"3.2\"/>\n",
       "<circle clip-path=\"url(#clip7902)\" cx=\"566.117\" cy=\"1135.07\" r=\"14\" fill=\"#009af9\" fill-rule=\"evenodd\" fill-opacity=\"1\" stroke=\"#000000\" stroke-opacity=\"1\" stroke-width=\"3.2\"/>\n",
       "<circle clip-path=\"url(#clip7902)\" cx=\"344.578\" cy=\"1346.53\" r=\"14\" fill=\"#009af9\" fill-rule=\"evenodd\" fill-opacity=\"1\" stroke=\"#000000\" stroke-opacity=\"1\" stroke-width=\"3.2\"/>\n",
       "<circle clip-path=\"url(#clip7902)\" cx=\"300.733\" cy=\"1332.39\" r=\"14\" fill=\"#009af9\" fill-rule=\"evenodd\" fill-opacity=\"1\" stroke=\"#000000\" stroke-opacity=\"1\" stroke-width=\"3.2\"/>\n",
       "<circle clip-path=\"url(#clip7902)\" cx=\"1253.63\" cy=\"740.504\" r=\"14\" fill=\"#009af9\" fill-rule=\"evenodd\" fill-opacity=\"1\" stroke=\"#000000\" stroke-opacity=\"1\" stroke-width=\"3.2\"/>\n",
       "<circle clip-path=\"url(#clip7902)\" cx=\"381.858\" cy=\"1314.52\" r=\"14\" fill=\"#009af9\" fill-rule=\"evenodd\" fill-opacity=\"1\" stroke=\"#000000\" stroke-opacity=\"1\" stroke-width=\"3.2\"/>\n",
       "<circle clip-path=\"url(#clip7902)\" cx=\"1148.27\" cy=\"794.71\" r=\"14\" fill=\"#009af9\" fill-rule=\"evenodd\" fill-opacity=\"1\" stroke=\"#000000\" stroke-opacity=\"1\" stroke-width=\"3.2\"/>\n",
       "<circle clip-path=\"url(#clip7902)\" cx=\"1669.73\" cy=\"442.933\" r=\"14\" fill=\"#009af9\" fill-rule=\"evenodd\" fill-opacity=\"1\" stroke=\"#000000\" stroke-opacity=\"1\" stroke-width=\"3.2\"/>\n",
       "<circle clip-path=\"url(#clip7902)\" cx=\"660.866\" cy=\"1140.01\" r=\"14\" fill=\"#009af9\" fill-rule=\"evenodd\" fill-opacity=\"1\" stroke=\"#000000\" stroke-opacity=\"1\" stroke-width=\"3.2\"/>\n",
       "<circle clip-path=\"url(#clip7902)\" cx=\"577.848\" cy=\"1135\" r=\"14\" fill=\"#009af9\" fill-rule=\"evenodd\" fill-opacity=\"1\" stroke=\"#000000\" stroke-opacity=\"1\" stroke-width=\"3.2\"/>\n",
       "<circle clip-path=\"url(#clip7902)\" cx=\"1541.27\" cy=\"510.266\" r=\"14\" fill=\"#009af9\" fill-rule=\"evenodd\" fill-opacity=\"1\" stroke=\"#000000\" stroke-opacity=\"1\" stroke-width=\"3.2\"/>\n",
       "<circle clip-path=\"url(#clip7902)\" cx=\"772.044\" cy=\"1083.31\" r=\"14\" fill=\"#009af9\" fill-rule=\"evenodd\" fill-opacity=\"1\" stroke=\"#000000\" stroke-opacity=\"1\" stroke-width=\"3.2\"/>\n",
       "<circle clip-path=\"url(#clip7902)\" cx=\"1089.4\" cy=\"860.73\" r=\"14\" fill=\"#009af9\" fill-rule=\"evenodd\" fill-opacity=\"1\" stroke=\"#000000\" stroke-opacity=\"1\" stroke-width=\"3.2\"/>\n",
       "<circle clip-path=\"url(#clip7902)\" cx=\"1811.04\" cy=\"468.256\" r=\"14\" fill=\"#009af9\" fill-rule=\"evenodd\" fill-opacity=\"1\" stroke=\"#000000\" stroke-opacity=\"1\" stroke-width=\"3.2\"/>\n",
       "<circle clip-path=\"url(#clip7902)\" cx=\"1935.35\" cy=\"265.204\" r=\"14\" fill=\"#009af9\" fill-rule=\"evenodd\" fill-opacity=\"1\" stroke=\"#000000\" stroke-opacity=\"1\" stroke-width=\"3.2\"/>\n",
       "<circle clip-path=\"url(#clip7902)\" cx=\"199.477\" cy=\"1382.02\" r=\"14\" fill=\"#009af9\" fill-rule=\"evenodd\" fill-opacity=\"1\" stroke=\"#000000\" stroke-opacity=\"1\" stroke-width=\"3.2\"/>\n",
       "<circle clip-path=\"url(#clip7902)\" cx=\"2146.72\" cy=\"186.929\" r=\"14\" fill=\"#009af9\" fill-rule=\"evenodd\" fill-opacity=\"1\" stroke=\"#000000\" stroke-opacity=\"1\" stroke-width=\"3.2\"/>\n",
       "<circle clip-path=\"url(#clip7902)\" cx=\"1176.47\" cy=\"822.882\" r=\"14\" fill=\"#009af9\" fill-rule=\"evenodd\" fill-opacity=\"1\" stroke=\"#000000\" stroke-opacity=\"1\" stroke-width=\"3.2\"/>\n",
       "<circle clip-path=\"url(#clip7902)\" cx=\"903.414\" cy=\"870.465\" r=\"14\" fill=\"#009af9\" fill-rule=\"evenodd\" fill-opacity=\"1\" stroke=\"#000000\" stroke-opacity=\"1\" stroke-width=\"3.2\"/>\n",
       "<circle clip-path=\"url(#clip7902)\" cx=\"2133.78\" cy=\"146.907\" r=\"14\" fill=\"#009af9\" fill-rule=\"evenodd\" fill-opacity=\"1\" stroke=\"#000000\" stroke-opacity=\"1\" stroke-width=\"3.2\"/>\n",
       "<circle clip-path=\"url(#clip7902)\" cx=\"2117.44\" cy=\"227.453\" r=\"14\" fill=\"#009af9\" fill-rule=\"evenodd\" fill-opacity=\"1\" stroke=\"#000000\" stroke-opacity=\"1\" stroke-width=\"3.2\"/>\n",
       "<circle clip-path=\"url(#clip7902)\" cx=\"506.456\" cy=\"1293.48\" r=\"14\" fill=\"#009af9\" fill-rule=\"evenodd\" fill-opacity=\"1\" stroke=\"#000000\" stroke-opacity=\"1\" stroke-width=\"3.2\"/>\n",
       "<circle clip-path=\"url(#clip7902)\" cx=\"1534.28\" cy=\"535.902\" r=\"14\" fill=\"#009af9\" fill-rule=\"evenodd\" fill-opacity=\"1\" stroke=\"#000000\" stroke-opacity=\"1\" stroke-width=\"3.2\"/>\n",
       "<circle clip-path=\"url(#clip7902)\" cx=\"858.587\" cy=\"932.755\" r=\"14\" fill=\"#009af9\" fill-rule=\"evenodd\" fill-opacity=\"1\" stroke=\"#000000\" stroke-opacity=\"1\" stroke-width=\"3.2\"/>\n",
       "<circle clip-path=\"url(#clip7902)\" cx=\"1129.43\" cy=\"852.787\" r=\"14\" fill=\"#009af9\" fill-rule=\"evenodd\" fill-opacity=\"1\" stroke=\"#000000\" stroke-opacity=\"1\" stroke-width=\"3.2\"/>\n",
       "<circle clip-path=\"url(#clip7902)\" cx=\"730.771\" cy=\"1035.33\" r=\"14\" fill=\"#009af9\" fill-rule=\"evenodd\" fill-opacity=\"1\" stroke=\"#000000\" stroke-opacity=\"1\" stroke-width=\"3.2\"/>\n",
       "<circle clip-path=\"url(#clip7902)\" cx=\"508.268\" cy=\"1276.61\" r=\"14\" fill=\"#009af9\" fill-rule=\"evenodd\" fill-opacity=\"1\" stroke=\"#000000\" stroke-opacity=\"1\" stroke-width=\"3.2\"/>\n",
       "<circle clip-path=\"url(#clip7902)\" cx=\"1844.73\" cy=\"415.491\" r=\"14\" fill=\"#009af9\" fill-rule=\"evenodd\" fill-opacity=\"1\" stroke=\"#000000\" stroke-opacity=\"1\" stroke-width=\"3.2\"/>\n",
       "<circle clip-path=\"url(#clip7902)\" cx=\"1805.92\" cy=\"358.288\" r=\"14\" fill=\"#009af9\" fill-rule=\"evenodd\" fill-opacity=\"1\" stroke=\"#000000\" stroke-opacity=\"1\" stroke-width=\"3.2\"/>\n",
       "<circle clip-path=\"url(#clip7902)\" cx=\"960.302\" cy=\"925.323\" r=\"14\" fill=\"#009af9\" fill-rule=\"evenodd\" fill-opacity=\"1\" stroke=\"#000000\" stroke-opacity=\"1\" stroke-width=\"3.2\"/>\n",
       "<circle clip-path=\"url(#clip7902)\" cx=\"733.039\" cy=\"996.976\" r=\"14\" fill=\"#009af9\" fill-rule=\"evenodd\" fill-opacity=\"1\" stroke=\"#000000\" stroke-opacity=\"1\" stroke-width=\"3.2\"/>\n",
       "<circle clip-path=\"url(#clip7902)\" cx=\"979.725\" cy=\"947.971\" r=\"14\" fill=\"#009af9\" fill-rule=\"evenodd\" fill-opacity=\"1\" stroke=\"#000000\" stroke-opacity=\"1\" stroke-width=\"3.2\"/>\n",
       "<circle clip-path=\"url(#clip7902)\" cx=\"2170.83\" cy=\"181.836\" r=\"14\" fill=\"#009af9\" fill-rule=\"evenodd\" fill-opacity=\"1\" stroke=\"#000000\" stroke-opacity=\"1\" stroke-width=\"3.2\"/>\n",
       "<circle clip-path=\"url(#clip7902)\" cx=\"579.912\" cy=\"1224.97\" r=\"14\" fill=\"#009af9\" fill-rule=\"evenodd\" fill-opacity=\"1\" stroke=\"#000000\" stroke-opacity=\"1\" stroke-width=\"3.2\"/>\n",
       "<circle clip-path=\"url(#clip7902)\" cx=\"524.722\" cy=\"1233.25\" r=\"14\" fill=\"#009af9\" fill-rule=\"evenodd\" fill-opacity=\"1\" stroke=\"#000000\" stroke-opacity=\"1\" stroke-width=\"3.2\"/>\n",
       "<circle clip-path=\"url(#clip7902)\" cx=\"2043.85\" cy=\"251.13\" r=\"14\" fill=\"#009af9\" fill-rule=\"evenodd\" fill-opacity=\"1\" stroke=\"#000000\" stroke-opacity=\"1\" stroke-width=\"3.2\"/>\n",
       "<circle clip-path=\"url(#clip7902)\" cx=\"1247.92\" cy=\"716.707\" r=\"14\" fill=\"#009af9\" fill-rule=\"evenodd\" fill-opacity=\"1\" stroke=\"#000000\" stroke-opacity=\"1\" stroke-width=\"3.2\"/>\n",
       "<circle clip-path=\"url(#clip7902)\" cx=\"1423.55\" cy=\"679.631\" r=\"14\" fill=\"#009af9\" fill-rule=\"evenodd\" fill-opacity=\"1\" stroke=\"#000000\" stroke-opacity=\"1\" stroke-width=\"3.2\"/>\n",
       "<circle clip-path=\"url(#clip7902)\" cx=\"228.452\" cy=\"1445.72\" r=\"14\" fill=\"#009af9\" fill-rule=\"evenodd\" fill-opacity=\"1\" stroke=\"#000000\" stroke-opacity=\"1\" stroke-width=\"3.2\"/>\n",
       "<circle clip-path=\"url(#clip7902)\" cx=\"1295.28\" cy=\"746.37\" r=\"14\" fill=\"#009af9\" fill-rule=\"evenodd\" fill-opacity=\"1\" stroke=\"#000000\" stroke-opacity=\"1\" stroke-width=\"3.2\"/>\n",
       "<circle clip-path=\"url(#clip7902)\" cx=\"1384.88\" cy=\"706.439\" r=\"14\" fill=\"#009af9\" fill-rule=\"evenodd\" fill-opacity=\"1\" stroke=\"#000000\" stroke-opacity=\"1\" stroke-width=\"3.2\"/>\n",
       "<circle clip-path=\"url(#clip7902)\" cx=\"1006.25\" cy=\"973.788\" r=\"14\" fill=\"#009af9\" fill-rule=\"evenodd\" fill-opacity=\"1\" stroke=\"#000000\" stroke-opacity=\"1\" stroke-width=\"3.2\"/>\n",
       "<circle clip-path=\"url(#clip7902)\" cx=\"2239.03\" cy=\"143.634\" r=\"14\" fill=\"#009af9\" fill-rule=\"evenodd\" fill-opacity=\"1\" stroke=\"#000000\" stroke-opacity=\"1\" stroke-width=\"3.2\"/>\n",
       "<circle clip-path=\"url(#clip7902)\" cx=\"972.242\" cy=\"934.935\" r=\"14\" fill=\"#009af9\" fill-rule=\"evenodd\" fill-opacity=\"1\" stroke=\"#000000\" stroke-opacity=\"1\" stroke-width=\"3.2\"/>\n",
       "<circle clip-path=\"url(#clip7902)\" cx=\"1724.82\" cy=\"489.824\" r=\"14\" fill=\"#009af9\" fill-rule=\"evenodd\" fill-opacity=\"1\" stroke=\"#000000\" stroke-opacity=\"1\" stroke-width=\"3.2\"/>\n",
       "<circle clip-path=\"url(#clip7902)\" cx=\"341.913\" cy=\"1291.43\" r=\"14\" fill=\"#009af9\" fill-rule=\"evenodd\" fill-opacity=\"1\" stroke=\"#000000\" stroke-opacity=\"1\" stroke-width=\"3.2\"/>\n",
       "<circle clip-path=\"url(#clip7902)\" cx=\"2219.43\" cy=\"100.768\" r=\"14\" fill=\"#009af9\" fill-rule=\"evenodd\" fill-opacity=\"1\" stroke=\"#000000\" stroke-opacity=\"1\" stroke-width=\"3.2\"/>\n",
       "<circle clip-path=\"url(#clip7902)\" cx=\"1861.7\" cy=\"438.265\" r=\"14\" fill=\"#009af9\" fill-rule=\"evenodd\" fill-opacity=\"1\" stroke=\"#000000\" stroke-opacity=\"1\" stroke-width=\"3.2\"/>\n",
       "<circle clip-path=\"url(#clip7902)\" cx=\"962.672\" cy=\"954.312\" r=\"14\" fill=\"#009af9\" fill-rule=\"evenodd\" fill-opacity=\"1\" stroke=\"#000000\" stroke-opacity=\"1\" stroke-width=\"3.2\"/>\n",
       "<circle clip-path=\"url(#clip7902)\" cx=\"2290.04\" cy=\"121.221\" r=\"14\" fill=\"#009af9\" fill-rule=\"evenodd\" fill-opacity=\"1\" stroke=\"#000000\" stroke-opacity=\"1\" stroke-width=\"3.2\"/>\n",
       "<circle clip-path=\"url(#clip7902)\" cx=\"1899.9\" cy=\"317.656\" r=\"14\" fill=\"#009af9\" fill-rule=\"evenodd\" fill-opacity=\"1\" stroke=\"#000000\" stroke-opacity=\"1\" stroke-width=\"3.2\"/>\n",
       "<circle clip-path=\"url(#clip7902)\" cx=\"342.474\" cy=\"1310.32\" r=\"14\" fill=\"#009af9\" fill-rule=\"evenodd\" fill-opacity=\"1\" stroke=\"#000000\" stroke-opacity=\"1\" stroke-width=\"3.2\"/>\n",
       "<circle clip-path=\"url(#clip7902)\" cx=\"1964.24\" cy=\"309.814\" r=\"14\" fill=\"#009af9\" fill-rule=\"evenodd\" fill-opacity=\"1\" stroke=\"#000000\" stroke-opacity=\"1\" stroke-width=\"3.2\"/>\n",
       "<circle clip-path=\"url(#clip7902)\" cx=\"466.052\" cy=\"1252.82\" r=\"14\" fill=\"#009af9\" fill-rule=\"evenodd\" fill-opacity=\"1\" stroke=\"#000000\" stroke-opacity=\"1\" stroke-width=\"3.2\"/>\n",
       "<circle clip-path=\"url(#clip7902)\" cx=\"1702.03\" cy=\"451.225\" r=\"14\" fill=\"#009af9\" fill-rule=\"evenodd\" fill-opacity=\"1\" stroke=\"#000000\" stroke-opacity=\"1\" stroke-width=\"3.2\"/>\n",
       "<circle clip-path=\"url(#clip7902)\" cx=\"1236.2\" cy=\"794.423\" r=\"14\" fill=\"#009af9\" fill-rule=\"evenodd\" fill-opacity=\"1\" stroke=\"#000000\" stroke-opacity=\"1\" stroke-width=\"3.2\"/>\n",
       "<circle clip-path=\"url(#clip7902)\" cx=\"1981.96\" cy=\"234.426\" r=\"14\" fill=\"#009af9\" fill-rule=\"evenodd\" fill-opacity=\"1\" stroke=\"#000000\" stroke-opacity=\"1\" stroke-width=\"3.2\"/>\n",
       "<circle clip-path=\"url(#clip7902)\" cx=\"863.11\" cy=\"1030.21\" r=\"14\" fill=\"#009af9\" fill-rule=\"evenodd\" fill-opacity=\"1\" stroke=\"#000000\" stroke-opacity=\"1\" stroke-width=\"3.2\"/>\n",
       "<circle clip-path=\"url(#clip7902)\" cx=\"1792.25\" cy=\"421.152\" r=\"14\" fill=\"#009af9\" fill-rule=\"evenodd\" fill-opacity=\"1\" stroke=\"#000000\" stroke-opacity=\"1\" stroke-width=\"3.2\"/>\n",
       "<circle clip-path=\"url(#clip7902)\" cx=\"1060.58\" cy=\"930.437\" r=\"14\" fill=\"#009af9\" fill-rule=\"evenodd\" fill-opacity=\"1\" stroke=\"#000000\" stroke-opacity=\"1\" stroke-width=\"3.2\"/>\n",
       "<circle clip-path=\"url(#clip7902)\" cx=\"373.846\" cy=\"1336.91\" r=\"14\" fill=\"#009af9\" fill-rule=\"evenodd\" fill-opacity=\"1\" stroke=\"#000000\" stroke-opacity=\"1\" stroke-width=\"3.2\"/>\n",
       "<circle clip-path=\"url(#clip7902)\" cx=\"1649.37\" cy=\"472.672\" r=\"14\" fill=\"#009af9\" fill-rule=\"evenodd\" fill-opacity=\"1\" stroke=\"#000000\" stroke-opacity=\"1\" stroke-width=\"3.2\"/>\n",
       "<circle clip-path=\"url(#clip7902)\" cx=\"576.747\" cy=\"1262.09\" r=\"14\" fill=\"#009af9\" fill-rule=\"evenodd\" fill-opacity=\"1\" stroke=\"#000000\" stroke-opacity=\"1\" stroke-width=\"3.2\"/>\n",
       "<circle clip-path=\"url(#clip7902)\" cx=\"895.35\" cy=\"939.085\" r=\"14\" fill=\"#009af9\" fill-rule=\"evenodd\" fill-opacity=\"1\" stroke=\"#000000\" stroke-opacity=\"1\" stroke-width=\"3.2\"/>\n",
       "<circle clip-path=\"url(#clip7902)\" cx=\"1716.89\" cy=\"513.648\" r=\"14\" fill=\"#009af9\" fill-rule=\"evenodd\" fill-opacity=\"1\" stroke=\"#000000\" stroke-opacity=\"1\" stroke-width=\"3.2\"/>\n",
       "<circle clip-path=\"url(#clip7902)\" cx=\"709.654\" cy=\"1218.42\" r=\"14\" fill=\"#009af9\" fill-rule=\"evenodd\" fill-opacity=\"1\" stroke=\"#000000\" stroke-opacity=\"1\" stroke-width=\"3.2\"/>\n",
       "<circle clip-path=\"url(#clip7902)\" cx=\"1560.43\" cy=\"627.827\" r=\"14\" fill=\"#009af9\" fill-rule=\"evenodd\" fill-opacity=\"1\" stroke=\"#000000\" stroke-opacity=\"1\" stroke-width=\"3.2\"/>\n",
       "<circle clip-path=\"url(#clip7902)\" cx=\"1647.81\" cy=\"529.899\" r=\"14\" fill=\"#009af9\" fill-rule=\"evenodd\" fill-opacity=\"1\" stroke=\"#000000\" stroke-opacity=\"1\" stroke-width=\"3.2\"/>\n",
       "<circle clip-path=\"url(#clip7902)\" cx=\"1384.49\" cy=\"590.681\" r=\"14\" fill=\"#009af9\" fill-rule=\"evenodd\" fill-opacity=\"1\" stroke=\"#000000\" stroke-opacity=\"1\" stroke-width=\"3.2\"/>\n",
       "<circle clip-path=\"url(#clip7902)\" cx=\"515.599\" cy=\"1233.26\" r=\"14\" fill=\"#009af9\" fill-rule=\"evenodd\" fill-opacity=\"1\" stroke=\"#000000\" stroke-opacity=\"1\" stroke-width=\"3.2\"/>\n",
       "<circle clip-path=\"url(#clip7902)\" cx=\"665.539\" cy=\"1135.31\" r=\"14\" fill=\"#009af9\" fill-rule=\"evenodd\" fill-opacity=\"1\" stroke=\"#000000\" stroke-opacity=\"1\" stroke-width=\"3.2\"/>\n",
       "<circle clip-path=\"url(#clip7902)\" cx=\"463.422\" cy=\"1338.28\" r=\"14\" fill=\"#009af9\" fill-rule=\"evenodd\" fill-opacity=\"1\" stroke=\"#000000\" stroke-opacity=\"1\" stroke-width=\"3.2\"/>\n",
       "<circle clip-path=\"url(#clip7902)\" cx=\"2140.97\" cy=\"87.9763\" r=\"14\" fill=\"#009af9\" fill-rule=\"evenodd\" fill-opacity=\"1\" stroke=\"#000000\" stroke-opacity=\"1\" stroke-width=\"3.2\"/>\n",
       "<circle clip-path=\"url(#clip7902)\" cx=\"460.046\" cy=\"1279.31\" r=\"14\" fill=\"#009af9\" fill-rule=\"evenodd\" fill-opacity=\"1\" stroke=\"#000000\" stroke-opacity=\"1\" stroke-width=\"3.2\"/>\n",
       "<circle clip-path=\"url(#clip7902)\" cx=\"2114.69\" cy=\"117.693\" r=\"14\" fill=\"#009af9\" fill-rule=\"evenodd\" fill-opacity=\"1\" stroke=\"#000000\" stroke-opacity=\"1\" stroke-width=\"3.2\"/>\n",
       "<circle clip-path=\"url(#clip7902)\" cx=\"1784.63\" cy=\"392.007\" r=\"14\" fill=\"#009af9\" fill-rule=\"evenodd\" fill-opacity=\"1\" stroke=\"#000000\" stroke-opacity=\"1\" stroke-width=\"3.2\"/>\n",
       "</svg>\n"
      ]
     },
     "execution_count": 37,
     "metadata": {},
     "output_type": "execute_result"
    }
   ],
   "source": [
    "scatter(x,y, label=\"\")"
   ]
  },
  {
   "cell_type": "markdown",
   "metadata": {},
   "source": [
    "In a point by point approach \n",
    "\n",
    "$y=mx+b$\n",
    "\n",
    "Expressing this is matrix notation \n",
    "\n",
    "$\\mathbf{y}=[\\mathbf{x} \\quad \\mathbf{1}] \\Phi $. \n",
    "\n",
    "$\\Phi=[m \\quad b]$\n"
   ]
  },
  {
   "cell_type": "markdown",
   "metadata": {},
   "source": [
    "We use below the inverse divide to extract the $\\Phi$ parameter. Here we are using implicitly doing pseduo inverse. \n",
    "See for referance [slide 7](https://stanford.edu/class/ee103/julia_slides/julia_inverses_slides.pdf)\n",
    "\n",
    "$$x=A^T(AA^T)^{-1}b$$\n",
    "\n",
    "or what we expressed earlier \n",
    "$A=[\\mathbf{x} \\quad \\mathbf{1}]$ and $b=y$ and $x=\\Phi$"
   ]
  },
  {
   "cell_type": "code",
   "execution_count": 38,
   "metadata": {},
   "outputs": [
    {
     "data": {
      "text/plain": [
       "2-element Array{Float64,1}:\n",
       " 2.9872187455201678\n",
       " 5.030057151747883"
      ]
     },
     "execution_count": 38,
     "metadata": {},
     "output_type": "execute_result"
    }
   ],
   "source": [
    "Φ=[x ones(length(x))]\\y"
   ]
  },
  {
   "cell_type": "code",
   "execution_count": 39,
   "metadata": {},
   "outputs": [
    {
     "data": {
      "text/plain": [
       "u (generic function with 1 method)"
      ]
     },
     "execution_count": 39,
     "metadata": {},
     "output_type": "execute_result"
    }
   ],
   "source": [
    "u(x)=Φ[1]*x+Φ[2]"
   ]
  },
  {
   "cell_type": "code",
   "execution_count": 40,
   "metadata": {},
   "outputs": [
    {
     "data": {
      "image/svg+xml": [
       "<?xml version=\"1.0\" encoding=\"utf-8\"?>\n",
       "<svg xmlns=\"http://www.w3.org/2000/svg\" xmlns:xlink=\"http://www.w3.org/1999/xlink\" width=\"600\" height=\"400\" viewBox=\"0 0 2400 1600\">\n",
       "<defs>\n",
       "  <clipPath id=\"clip8300\">\n",
       "    <rect x=\"0\" y=\"0\" width=\"2400\" height=\"1600\"/>\n",
       "  </clipPath>\n",
       "</defs>\n",
       "<path clip-path=\"url(#clip8300)\" d=\"\n",
       "M0 1600 L2400 1600 L2400 0 L0 0  Z\n",
       "  \" fill=\"#ffffff\" fill-rule=\"evenodd\" fill-opacity=\"1\"/>\n",
       "<defs>\n",
       "  <clipPath id=\"clip8301\">\n",
       "    <rect x=\"480\" y=\"0\" width=\"1681\" height=\"1600\"/>\n",
       "  </clipPath>\n",
       "</defs>\n",
       "<path clip-path=\"url(#clip8300)\" d=\"\n",
       "M136.76 1486.45 L2352.76 1486.45 L2352.76 47.2441 L136.76 47.2441  Z\n",
       "  \" fill=\"#ffffff\" fill-rule=\"evenodd\" fill-opacity=\"1\"/>\n",
       "<defs>\n",
       "  <clipPath id=\"clip8302\">\n",
       "    <rect x=\"136\" y=\"47\" width=\"2217\" height=\"1440\"/>\n",
       "  </clipPath>\n",
       "</defs>\n",
       "<polyline clip-path=\"url(#clip8302)\" style=\"stroke:#000000; stroke-width:2; stroke-opacity:0.1; fill:none\" points=\"\n",
       "  199.477,1486.45 199.477,47.2441 \n",
       "  \"/>\n",
       "<polyline clip-path=\"url(#clip8302)\" style=\"stroke:#000000; stroke-width:2; stroke-opacity:0.1; fill:none\" points=\"\n",
       "  722.118,1486.45 722.118,47.2441 \n",
       "  \"/>\n",
       "<polyline clip-path=\"url(#clip8302)\" style=\"stroke:#000000; stroke-width:2; stroke-opacity:0.1; fill:none\" points=\"\n",
       "  1244.76,1486.45 1244.76,47.2441 \n",
       "  \"/>\n",
       "<polyline clip-path=\"url(#clip8302)\" style=\"stroke:#000000; stroke-width:2; stroke-opacity:0.1; fill:none\" points=\"\n",
       "  1767.4,1486.45 1767.4,47.2441 \n",
       "  \"/>\n",
       "<polyline clip-path=\"url(#clip8302)\" style=\"stroke:#000000; stroke-width:2; stroke-opacity:0.1; fill:none\" points=\"\n",
       "  2290.04,1486.45 2290.04,47.2441 \n",
       "  \"/>\n",
       "<polyline clip-path=\"url(#clip8302)\" style=\"stroke:#000000; stroke-width:2; stroke-opacity:0.1; fill:none\" points=\"\n",
       "  136.76,1439.53 2352.76,1439.53 \n",
       "  \"/>\n",
       "<polyline clip-path=\"url(#clip8302)\" style=\"stroke:#000000; stroke-width:2; stroke-opacity:0.1; fill:none\" points=\"\n",
       "  136.76,1213.54 2352.76,1213.54 \n",
       "  \"/>\n",
       "<polyline clip-path=\"url(#clip8302)\" style=\"stroke:#000000; stroke-width:2; stroke-opacity:0.1; fill:none\" points=\"\n",
       "  136.76,987.541 2352.76,987.541 \n",
       "  \"/>\n",
       "<polyline clip-path=\"url(#clip8302)\" style=\"stroke:#000000; stroke-width:2; stroke-opacity:0.1; fill:none\" points=\"\n",
       "  136.76,761.545 2352.76,761.545 \n",
       "  \"/>\n",
       "<polyline clip-path=\"url(#clip8302)\" style=\"stroke:#000000; stroke-width:2; stroke-opacity:0.1; fill:none\" points=\"\n",
       "  136.76,535.549 2352.76,535.549 \n",
       "  \"/>\n",
       "<polyline clip-path=\"url(#clip8302)\" style=\"stroke:#000000; stroke-width:2; stroke-opacity:0.1; fill:none\" points=\"\n",
       "  136.76,309.554 2352.76,309.554 \n",
       "  \"/>\n",
       "<polyline clip-path=\"url(#clip8302)\" style=\"stroke:#000000; stroke-width:2; stroke-opacity:0.1; fill:none\" points=\"\n",
       "  136.76,83.5578 2352.76,83.5578 \n",
       "  \"/>\n",
       "<polyline clip-path=\"url(#clip8300)\" style=\"stroke:#000000; stroke-width:4; stroke-opacity:1; fill:none\" points=\"\n",
       "  136.76,1486.45 2352.76,1486.45 \n",
       "  \"/>\n",
       "<polyline clip-path=\"url(#clip8300)\" style=\"stroke:#000000; stroke-width:4; stroke-opacity:1; fill:none\" points=\"\n",
       "  136.76,1486.45 136.76,47.2441 \n",
       "  \"/>\n",
       "<polyline clip-path=\"url(#clip8300)\" style=\"stroke:#000000; stroke-width:4; stroke-opacity:1; fill:none\" points=\"\n",
       "  199.477,1486.45 199.477,1469.18 \n",
       "  \"/>\n",
       "<polyline clip-path=\"url(#clip8300)\" style=\"stroke:#000000; stroke-width:4; stroke-opacity:1; fill:none\" points=\"\n",
       "  722.118,1486.45 722.118,1469.18 \n",
       "  \"/>\n",
       "<polyline clip-path=\"url(#clip8300)\" style=\"stroke:#000000; stroke-width:4; stroke-opacity:1; fill:none\" points=\"\n",
       "  1244.76,1486.45 1244.76,1469.18 \n",
       "  \"/>\n",
       "<polyline clip-path=\"url(#clip8300)\" style=\"stroke:#000000; stroke-width:4; stroke-opacity:1; fill:none\" points=\"\n",
       "  1767.4,1486.45 1767.4,1469.18 \n",
       "  \"/>\n",
       "<polyline clip-path=\"url(#clip8300)\" style=\"stroke:#000000; stroke-width:4; stroke-opacity:1; fill:none\" points=\"\n",
       "  2290.04,1486.45 2290.04,1469.18 \n",
       "  \"/>\n",
       "<polyline clip-path=\"url(#clip8300)\" style=\"stroke:#000000; stroke-width:4; stroke-opacity:1; fill:none\" points=\"\n",
       "  136.76,1439.53 163.352,1439.53 \n",
       "  \"/>\n",
       "<polyline clip-path=\"url(#clip8300)\" style=\"stroke:#000000; stroke-width:4; stroke-opacity:1; fill:none\" points=\"\n",
       "  136.76,1213.54 163.352,1213.54 \n",
       "  \"/>\n",
       "<polyline clip-path=\"url(#clip8300)\" style=\"stroke:#000000; stroke-width:4; stroke-opacity:1; fill:none\" points=\"\n",
       "  136.76,987.541 163.352,987.541 \n",
       "  \"/>\n",
       "<polyline clip-path=\"url(#clip8300)\" style=\"stroke:#000000; stroke-width:4; stroke-opacity:1; fill:none\" points=\"\n",
       "  136.76,761.545 163.352,761.545 \n",
       "  \"/>\n",
       "<polyline clip-path=\"url(#clip8300)\" style=\"stroke:#000000; stroke-width:4; stroke-opacity:1; fill:none\" points=\"\n",
       "  136.76,535.549 163.352,535.549 \n",
       "  \"/>\n",
       "<polyline clip-path=\"url(#clip8300)\" style=\"stroke:#000000; stroke-width:4; stroke-opacity:1; fill:none\" points=\"\n",
       "  136.76,309.554 163.352,309.554 \n",
       "  \"/>\n",
       "<polyline clip-path=\"url(#clip8300)\" style=\"stroke:#000000; stroke-width:4; stroke-opacity:1; fill:none\" points=\"\n",
       "  136.76,83.5578 163.352,83.5578 \n",
       "  \"/>\n",
       "<path clip-path=\"url(#clip8300)\" d=\"M 0 0 M180.994 1508.44 Q177.382 1508.44 175.554 1512 Q173.748 1515.55 173.748 1522.67 Q173.748 1529.78 175.554 1533.35 Q177.382 1536.89 180.994 1536.89 Q184.628 1536.89 186.433 1533.35 Q188.262 1529.78 188.262 1522.67 Q188.262 1515.55 186.433 1512 Q184.628 1508.44 180.994 1508.44 M180.994 1504.73 Q186.804 1504.73 189.859 1509.34 Q192.938 1513.92 192.938 1522.67 Q192.938 1531.4 189.859 1536.01 Q186.804 1540.59 180.994 1540.59 Q175.183 1540.59 172.105 1536.01 Q169.049 1531.4 169.049 1522.67 Q169.049 1513.92 172.105 1509.34 Q175.183 1504.73 180.994 1504.73 Z\" fill=\"#000000\" fill-rule=\"evenodd\" fill-opacity=\"1\" /><path clip-path=\"url(#clip8300)\" d=\"M 0 0 M198.007 1534.04 L202.892 1534.04 L202.892 1539.92 L198.007 1539.92 L198.007 1534.04 Z\" fill=\"#000000\" fill-rule=\"evenodd\" fill-opacity=\"1\" /><path clip-path=\"url(#clip8300)\" d=\"M 0 0 M217.961 1508.44 Q214.35 1508.44 212.521 1512 Q210.716 1515.55 210.716 1522.67 Q210.716 1529.78 212.521 1533.35 Q214.35 1536.89 217.961 1536.89 Q221.595 1536.89 223.401 1533.35 Q225.229 1529.78 225.229 1522.67 Q225.229 1515.55 223.401 1512 Q221.595 1508.44 217.961 1508.44 M217.961 1504.73 Q223.771 1504.73 226.827 1509.34 Q229.905 1513.92 229.905 1522.67 Q229.905 1531.4 226.827 1536.01 Q223.771 1540.59 217.961 1540.59 Q212.151 1540.59 209.072 1536.01 Q206.017 1531.4 206.017 1522.67 Q206.017 1513.92 209.072 1509.34 Q212.151 1504.73 217.961 1504.73 Z\" fill=\"#000000\" fill-rule=\"evenodd\" fill-opacity=\"1\" /><path clip-path=\"url(#clip8300)\" d=\"M 0 0 M698.784 1535.98 L715.104 1535.98 L715.104 1539.92 L693.16 1539.92 L693.16 1535.98 Q695.822 1533.23 700.405 1528.6 Q705.011 1523.95 706.192 1522.61 Q708.437 1520.08 709.317 1518.35 Q710.22 1516.59 710.22 1514.9 Q710.22 1512.14 708.275 1510.41 Q706.354 1508.67 703.252 1508.67 Q701.053 1508.67 698.599 1509.43 Q696.169 1510.2 693.391 1511.75 L693.391 1507.03 Q696.215 1505.89 698.669 1505.31 Q701.122 1504.73 703.159 1504.73 Q708.53 1504.73 711.724 1507.42 Q714.919 1510.11 714.919 1514.6 Q714.919 1516.73 714.108 1518.65 Q713.321 1520.54 711.215 1523.14 Q710.636 1523.81 707.534 1527.03 Q704.433 1530.22 698.784 1535.98 Z\" fill=\"#000000\" fill-rule=\"evenodd\" fill-opacity=\"1\" /><path clip-path=\"url(#clip8300)\" d=\"M 0 0 M720.173 1534.04 L725.057 1534.04 L725.057 1539.92 L720.173 1539.92 L720.173 1534.04 Z\" fill=\"#000000\" fill-rule=\"evenodd\" fill-opacity=\"1\" /><path clip-path=\"url(#clip8300)\" d=\"M 0 0 M730.173 1505.36 L748.53 1505.36 L748.53 1509.3 L734.456 1509.3 L734.456 1517.77 Q735.474 1517.42 736.493 1517.26 Q737.511 1517.07 738.53 1517.07 Q744.317 1517.07 747.696 1520.24 Q751.076 1523.42 751.076 1528.83 Q751.076 1534.41 747.604 1537.51 Q744.131 1540.59 737.812 1540.59 Q735.636 1540.59 733.368 1540.22 Q731.122 1539.85 728.715 1539.11 L728.715 1534.41 Q730.798 1535.54 733.02 1536.1 Q735.243 1536.66 737.719 1536.66 Q741.724 1536.66 744.062 1534.55 Q746.4 1532.44 746.4 1528.83 Q746.4 1525.22 744.062 1523.11 Q741.724 1521.01 737.719 1521.01 Q735.844 1521.01 733.969 1521.42 Q732.118 1521.84 730.173 1522.72 L730.173 1505.36 Z\" fill=\"#000000\" fill-rule=\"evenodd\" fill-opacity=\"1\" /><path clip-path=\"url(#clip8300)\" d=\"M 0 0 M1216.55 1505.36 L1234.91 1505.36 L1234.91 1509.3 L1220.83 1509.3 L1220.83 1517.77 Q1221.85 1517.42 1222.87 1517.26 Q1223.89 1517.07 1224.91 1517.07 Q1230.7 1517.07 1234.08 1520.24 Q1237.45 1523.42 1237.45 1528.83 Q1237.45 1534.41 1233.98 1537.51 Q1230.51 1540.59 1224.19 1540.59 Q1222.02 1540.59 1219.75 1540.22 Q1217.5 1539.85 1215.09 1539.11 L1215.09 1534.41 Q1217.18 1535.54 1219.4 1536.1 Q1221.62 1536.66 1224.1 1536.66 Q1228.1 1536.66 1230.44 1534.55 Q1232.78 1532.44 1232.78 1528.83 Q1232.78 1525.22 1230.44 1523.11 Q1228.1 1521.01 1224.1 1521.01 Q1222.22 1521.01 1220.35 1521.42 Q1218.5 1521.84 1216.55 1522.72 L1216.55 1505.36 Z\" fill=\"#000000\" fill-rule=\"evenodd\" fill-opacity=\"1\" /><path clip-path=\"url(#clip8300)\" d=\"M 0 0 M1242.52 1534.04 L1247.41 1534.04 L1247.41 1539.92 L1242.52 1539.92 L1242.52 1534.04 Z\" fill=\"#000000\" fill-rule=\"evenodd\" fill-opacity=\"1\" /><path clip-path=\"url(#clip8300)\" d=\"M 0 0 M1262.48 1508.44 Q1258.87 1508.44 1257.04 1512 Q1255.23 1515.55 1255.23 1522.67 Q1255.23 1529.78 1257.04 1533.35 Q1258.87 1536.89 1262.48 1536.89 Q1266.11 1536.89 1267.92 1533.35 Q1269.75 1529.78 1269.75 1522.67 Q1269.75 1515.55 1267.92 1512 Q1266.11 1508.44 1262.48 1508.44 M1262.48 1504.73 Q1268.29 1504.73 1271.34 1509.34 Q1274.42 1513.92 1274.42 1522.67 Q1274.42 1531.4 1271.34 1536.01 Q1268.29 1540.59 1262.48 1540.59 Q1256.67 1540.59 1253.59 1536.01 Q1250.53 1531.4 1250.53 1522.67 Q1250.53 1513.92 1253.59 1509.34 Q1256.67 1504.73 1262.48 1504.73 Z\" fill=\"#000000\" fill-rule=\"evenodd\" fill-opacity=\"1\" /><path clip-path=\"url(#clip8300)\" d=\"M 0 0 M1738.3 1505.36 L1760.52 1505.36 L1760.52 1507.35 L1747.98 1539.92 L1743.09 1539.92 L1754.9 1509.3 L1738.3 1509.3 L1738.3 1505.36 Z\" fill=\"#000000\" fill-rule=\"evenodd\" fill-opacity=\"1\" /><path clip-path=\"url(#clip8300)\" d=\"M 0 0 M1765.59 1534.04 L1770.48 1534.04 L1770.48 1539.92 L1765.59 1539.92 L1765.59 1534.04 Z\" fill=\"#000000\" fill-rule=\"evenodd\" fill-opacity=\"1\" /><path clip-path=\"url(#clip8300)\" d=\"M 0 0 M1775.59 1505.36 L1793.95 1505.36 L1793.95 1509.3 L1779.88 1509.3 L1779.88 1517.77 Q1780.89 1517.42 1781.91 1517.26 Q1782.93 1517.07 1783.95 1517.07 Q1789.74 1517.07 1793.12 1520.24 Q1796.5 1523.42 1796.5 1528.83 Q1796.5 1534.41 1793.02 1537.51 Q1789.55 1540.59 1783.23 1540.59 Q1781.06 1540.59 1778.79 1540.22 Q1776.54 1539.85 1774.13 1539.11 L1774.13 1534.41 Q1776.22 1535.54 1778.44 1536.1 Q1780.66 1536.66 1783.14 1536.66 Q1787.14 1536.66 1789.48 1534.55 Q1791.82 1532.44 1791.82 1528.83 Q1791.82 1525.22 1789.48 1523.11 Q1787.14 1521.01 1783.14 1521.01 Q1781.26 1521.01 1779.39 1521.42 Q1777.54 1521.84 1775.59 1522.72 L1775.59 1505.36 Z\" fill=\"#000000\" fill-rule=\"evenodd\" fill-opacity=\"1\" /><path clip-path=\"url(#clip8300)\" d=\"M 0 0 M2248.43 1535.98 L2256.07 1535.98 L2256.07 1509.62 L2247.76 1511.29 L2247.76 1507.03 L2256.02 1505.36 L2260.7 1505.36 L2260.7 1535.98 L2268.34 1535.98 L2268.34 1539.92 L2248.43 1539.92 L2248.43 1535.98 Z\" fill=\"#000000\" fill-rule=\"evenodd\" fill-opacity=\"1\" /><path clip-path=\"url(#clip8300)\" d=\"M 0 0 M2283.41 1508.44 Q2279.8 1508.44 2277.97 1512 Q2276.16 1515.55 2276.16 1522.67 Q2276.16 1529.78 2277.97 1533.35 Q2279.8 1536.89 2283.41 1536.89 Q2287.04 1536.89 2288.85 1533.35 Q2290.68 1529.78 2290.68 1522.67 Q2290.68 1515.55 2288.85 1512 Q2287.04 1508.44 2283.41 1508.44 M2283.41 1504.73 Q2289.22 1504.73 2292.27 1509.34 Q2295.35 1513.92 2295.35 1522.67 Q2295.35 1531.4 2292.27 1536.01 Q2289.22 1540.59 2283.41 1540.59 Q2277.6 1540.59 2274.52 1536.01 Q2271.46 1531.4 2271.46 1522.67 Q2271.46 1513.92 2274.52 1509.34 Q2277.6 1504.73 2283.41 1504.73 Z\" fill=\"#000000\" fill-rule=\"evenodd\" fill-opacity=\"1\" /><path clip-path=\"url(#clip8300)\" d=\"M 0 0 M2300.42 1534.04 L2305.31 1534.04 L2305.31 1539.92 L2300.42 1539.92 L2300.42 1534.04 Z\" fill=\"#000000\" fill-rule=\"evenodd\" fill-opacity=\"1\" /><path clip-path=\"url(#clip8300)\" d=\"M 0 0 M2320.37 1508.44 Q2316.76 1508.44 2314.93 1512 Q2313.13 1515.55 2313.13 1522.67 Q2313.13 1529.78 2314.93 1533.35 Q2316.76 1536.89 2320.37 1536.89 Q2324.01 1536.89 2325.81 1533.35 Q2327.64 1529.78 2327.64 1522.67 Q2327.64 1515.55 2325.81 1512 Q2324.01 1508.44 2320.37 1508.44 M2320.37 1504.73 Q2326.18 1504.73 2329.24 1509.34 Q2332.32 1513.92 2332.32 1522.67 Q2332.32 1531.4 2329.24 1536.01 Q2326.18 1540.59 2320.37 1540.59 Q2314.56 1540.59 2311.49 1536.01 Q2308.43 1531.4 2308.43 1522.67 Q2308.43 1513.92 2311.49 1509.34 Q2314.56 1504.73 2320.37 1504.73 Z\" fill=\"#000000\" fill-rule=\"evenodd\" fill-opacity=\"1\" /><path clip-path=\"url(#clip8300)\" d=\"M 0 0 M91.8577 1422.25 L110.214 1422.25 L110.214 1426.19 L96.1401 1426.19 L96.1401 1434.66 Q97.1586 1434.31 98.1771 1434.15 Q99.1956 1433.97 100.214 1433.97 Q106.001 1433.97 109.381 1437.14 Q112.76 1440.31 112.76 1445.72 Q112.76 1451.3 109.288 1454.4 Q105.816 1457.48 99.4966 1457.48 Q97.3206 1457.48 95.0521 1457.11 Q92.8068 1456.74 90.3994 1456 L90.3994 1451.3 Q92.4827 1452.44 94.7049 1452.99 Q96.9271 1453.55 99.404 1453.55 Q103.409 1453.55 105.747 1451.44 Q108.084 1449.34 108.084 1445.72 Q108.084 1442.11 105.747 1440.01 Q103.409 1437.9 99.404 1437.9 Q97.529 1437.9 95.654 1438.32 Q93.8021 1438.73 91.8577 1439.61 L91.8577 1422.25 Z\" fill=\"#000000\" fill-rule=\"evenodd\" fill-opacity=\"1\" /><path clip-path=\"url(#clip8300)\" d=\"M 0 0 M65.8393 1226.88 L73.4782 1226.88 L73.4782 1200.52 L65.168 1202.18 L65.168 1197.92 L73.4319 1196.26 L78.1078 1196.26 L78.1078 1226.88 L85.7466 1226.88 L85.7466 1230.82 L65.8393 1230.82 L65.8393 1226.88 Z\" fill=\"#000000\" fill-rule=\"evenodd\" fill-opacity=\"1\" /><path clip-path=\"url(#clip8300)\" d=\"M 0 0 M100.816 1199.34 Q97.2049 1199.34 95.3762 1202.9 Q93.5707 1206.44 93.5707 1213.57 Q93.5707 1220.68 95.3762 1224.24 Q97.2049 1227.78 100.816 1227.78 Q104.45 1227.78 106.256 1224.24 Q108.084 1220.68 108.084 1213.57 Q108.084 1206.44 106.256 1202.9 Q104.45 1199.34 100.816 1199.34 M100.816 1195.63 Q106.626 1195.63 109.682 1200.24 Q112.76 1204.82 112.76 1213.57 Q112.76 1222.3 109.682 1226.9 Q106.626 1231.49 100.816 1231.49 Q95.0058 1231.49 91.9272 1226.9 Q88.8716 1222.3 88.8716 1213.57 Q88.8716 1204.82 91.9272 1200.24 Q95.0058 1195.63 100.816 1195.63 Z\" fill=\"#000000\" fill-rule=\"evenodd\" fill-opacity=\"1\" /><path clip-path=\"url(#clip8300)\" d=\"M 0 0 M66.8347 1000.89 L74.4735 1000.89 L74.4735 974.52 L66.1634 976.187 L66.1634 971.927 L74.4272 970.261 L79.1032 970.261 L79.1032 1000.89 L86.742 1000.89 L86.742 1004.82 L66.8347 1004.82 L66.8347 1000.89 Z\" fill=\"#000000\" fill-rule=\"evenodd\" fill-opacity=\"1\" /><path clip-path=\"url(#clip8300)\" d=\"M 0 0 M91.8577 970.261 L110.214 970.261 L110.214 974.196 L96.1401 974.196 L96.1401 982.668 Q97.1586 982.321 98.1771 982.159 Q99.1956 981.974 100.214 981.974 Q106.001 981.974 109.381 985.145 Q112.76 988.316 112.76 993.733 Q112.76 999.311 109.288 1002.41 Q105.816 1005.49 99.4966 1005.49 Q97.3206 1005.49 95.0521 1005.12 Q92.8068 1004.75 90.3994 1004.01 L90.3994 999.311 Q92.4827 1000.45 94.7049 1001 Q96.9271 1001.56 99.404 1001.56 Q103.409 1001.56 105.747 999.45 Q108.084 997.344 108.084 993.733 Q108.084 990.122 105.747 988.015 Q103.409 985.909 99.404 985.909 Q97.529 985.909 95.654 986.325 Q93.8021 986.742 91.8577 987.622 L91.8577 970.261 Z\" fill=\"#000000\" fill-rule=\"evenodd\" fill-opacity=\"1\" /><path clip-path=\"url(#clip8300)\" d=\"M 0 0 M69.4273 774.89 L85.7466 774.89 L85.7466 778.825 L63.8023 778.825 L63.8023 774.89 Q66.4643 772.135 71.0476 767.506 Q75.6541 762.853 76.8346 761.51 Q79.08 758.987 79.9596 757.251 Q80.8624 755.492 80.8624 753.802 Q80.8624 751.047 78.918 749.311 Q76.9967 747.575 73.8948 747.575 Q71.6958 747.575 69.2421 748.339 Q66.8115 749.103 64.0338 750.654 L64.0338 745.932 Q66.8578 744.797 69.3115 744.219 Q71.7652 743.64 73.8023 743.64 Q79.1726 743.64 82.367 746.325 Q85.5614 749.01 85.5614 753.501 Q85.5614 755.631 84.7513 757.552 Q83.9642 759.45 81.8578 762.043 Q81.2791 762.714 78.1772 765.932 Q75.0754 769.126 69.4273 774.89 Z\" fill=\"#000000\" fill-rule=\"evenodd\" fill-opacity=\"1\" /><path clip-path=\"url(#clip8300)\" d=\"M 0 0 M100.816 747.344 Q97.2049 747.344 95.3762 750.908 Q93.5707 754.45 93.5707 761.58 Q93.5707 768.686 95.3762 772.251 Q97.2049 775.793 100.816 775.793 Q104.45 775.793 106.256 772.251 Q108.084 768.686 108.084 761.58 Q108.084 754.45 106.256 750.908 Q104.45 747.344 100.816 747.344 M100.816 743.64 Q106.626 743.64 109.682 748.246 Q112.76 752.83 112.76 761.58 Q112.76 770.306 109.682 774.913 Q106.626 779.496 100.816 779.496 Q95.0058 779.496 91.9272 774.913 Q88.8716 770.306 88.8716 761.58 Q88.8716 752.83 91.9272 748.246 Q95.0058 743.64 100.816 743.64 Z\" fill=\"#000000\" fill-rule=\"evenodd\" fill-opacity=\"1\" /><path clip-path=\"url(#clip8300)\" d=\"M 0 0 M70.4226 548.894 L86.742 548.894 L86.742 552.829 L64.7977 552.829 L64.7977 548.894 Q67.4597 546.139 72.043 541.51 Q76.6495 536.857 77.83 535.515 Q80.0754 532.991 80.955 531.255 Q81.8578 529.496 81.8578 527.806 Q81.8578 525.052 79.9133 523.316 Q77.992 521.579 74.8902 521.579 Q72.6911 521.579 70.2375 522.343 Q67.8069 523.107 65.0292 524.658 L65.0292 519.936 Q67.8532 518.802 70.3069 518.223 Q72.7606 517.644 74.7976 517.644 Q80.168 517.644 83.3624 520.329 Q86.5568 523.015 86.5568 527.505 Q86.5568 529.635 85.7466 531.556 Q84.9596 533.454 82.8531 536.047 Q82.2744 536.718 79.1726 539.936 Q76.0708 543.13 70.4226 548.894 Z\" fill=\"#000000\" fill-rule=\"evenodd\" fill-opacity=\"1\" /><path clip-path=\"url(#clip8300)\" d=\"M 0 0 M91.8577 518.269 L110.214 518.269 L110.214 522.204 L96.1401 522.204 L96.1401 530.677 Q97.1586 530.329 98.1771 530.167 Q99.1956 529.982 100.214 529.982 Q106.001 529.982 109.381 533.153 Q112.76 536.325 112.76 541.741 Q112.76 547.32 109.288 550.422 Q105.816 553.501 99.4966 553.501 Q97.3206 553.501 95.0521 553.13 Q92.8068 552.76 90.3994 552.019 L90.3994 547.32 Q92.4827 548.454 94.7049 549.01 Q96.9271 549.565 99.404 549.565 Q103.409 549.565 105.747 547.459 Q108.084 545.352 108.084 541.741 Q108.084 538.13 105.747 536.024 Q103.409 533.917 99.404 533.917 Q97.529 533.917 95.654 534.334 Q93.8021 534.751 91.8577 535.63 L91.8577 518.269 Z\" fill=\"#000000\" fill-rule=\"evenodd\" fill-opacity=\"1\" /><path clip-path=\"url(#clip8300)\" d=\"M 0 0 M78.617 308.199 Q81.9735 308.917 83.8485 311.185 Q85.7466 313.454 85.7466 316.787 Q85.7466 321.903 82.2281 324.704 Q78.7096 327.505 72.2282 327.505 Q70.0523 327.505 67.7375 327.065 Q65.4458 326.648 62.9921 325.792 L62.9921 321.278 Q64.9366 322.412 67.2514 322.991 Q69.5662 323.57 72.0893 323.57 Q76.4874 323.57 78.7791 321.834 Q81.0939 320.097 81.0939 316.787 Q81.0939 313.732 78.9411 312.019 Q76.8115 310.283 72.9921 310.283 L68.9643 310.283 L68.9643 306.44 L73.1773 306.44 Q76.6263 306.44 78.455 305.074 Q80.2837 303.686 80.2837 301.093 Q80.2837 298.431 78.3856 297.019 Q76.5106 295.584 72.9921 295.584 Q71.0708 295.584 68.8717 296 Q66.6727 296.417 64.0338 297.297 L64.0338 293.13 Q66.6958 292.389 69.0106 292.019 Q71.3486 291.649 73.4087 291.649 Q78.7328 291.649 81.8346 294.079 Q84.9365 296.486 84.9365 300.607 Q84.9365 303.477 83.2929 305.468 Q81.6494 307.435 78.617 308.199 Z\" fill=\"#000000\" fill-rule=\"evenodd\" fill-opacity=\"1\" /><path clip-path=\"url(#clip8300)\" d=\"M 0 0 M100.816 295.352 Q97.2049 295.352 95.3762 298.917 Q93.5707 302.459 93.5707 309.588 Q93.5707 316.695 95.3762 320.259 Q97.2049 323.801 100.816 323.801 Q104.45 323.801 106.256 320.259 Q108.084 316.695 108.084 309.588 Q108.084 302.459 106.256 298.917 Q104.45 295.352 100.816 295.352 M100.816 291.649 Q106.626 291.649 109.682 296.255 Q112.76 300.838 112.76 309.588 Q112.76 318.315 109.682 322.922 Q106.626 327.505 100.816 327.505 Q95.0058 327.505 91.9272 322.922 Q88.8716 318.315 88.8716 309.588 Q88.8716 300.838 91.9272 296.255 Q95.0058 291.649 100.816 291.649 Z\" fill=\"#000000\" fill-rule=\"evenodd\" fill-opacity=\"1\" /><path clip-path=\"url(#clip8300)\" d=\"M 0 0 M79.6124 82.2037 Q82.9689 82.9212 84.8439 85.1898 Q86.742 87.4583 86.742 90.7916 Q86.742 95.9073 83.2235 98.7082 Q79.705 101.509 73.2236 101.509 Q71.0476 101.509 68.7328 101.069 Q66.4412 100.653 63.9875 99.7962 L63.9875 95.2823 Q65.9319 96.4165 68.2467 96.9952 Q70.5615 97.5739 73.0847 97.5739 Q77.4828 97.5739 79.7744 95.8378 Q82.0892 94.1017 82.0892 90.7916 Q82.0892 87.736 79.9365 86.0231 Q77.8069 84.287 73.9874 84.287 L69.9597 84.287 L69.9597 80.4444 L74.1726 80.4444 Q77.6217 80.4444 79.4504 79.0787 Q81.2791 77.6898 81.2791 75.0972 Q81.2791 72.4352 79.3809 71.0232 Q77.5059 69.588 73.9874 69.588 Q72.0662 69.588 69.8671 70.0046 Q67.668 70.4213 65.0292 71.3009 L65.0292 67.1343 Q67.6912 66.3936 70.006 66.0232 Q72.3439 65.6528 74.4041 65.6528 Q79.7281 65.6528 82.83 68.0834 Q85.9318 70.4908 85.9318 74.6111 Q85.9318 77.4815 84.2883 79.4722 Q82.6448 81.4398 79.6124 82.2037 Z\" fill=\"#000000\" fill-rule=\"evenodd\" fill-opacity=\"1\" /><path clip-path=\"url(#clip8300)\" d=\"M 0 0 M91.8577 66.2778 L110.214 66.2778 L110.214 70.213 L96.1401 70.213 L96.1401 78.6852 Q97.1586 78.3379 98.1771 78.1759 Q99.1956 77.9907 100.214 77.9907 Q106.001 77.9907 109.381 81.162 Q112.76 84.3333 112.76 89.7499 Q112.76 95.3286 109.288 98.4304 Q105.816 101.509 99.4966 101.509 Q97.3206 101.509 95.0521 101.139 Q92.8068 100.768 90.3994 100.028 L90.3994 95.3286 Q92.4827 96.4628 94.7049 97.0184 Q96.9271 97.5739 99.404 97.5739 Q103.409 97.5739 105.747 95.4675 Q108.084 93.361 108.084 89.7499 Q108.084 86.1388 105.747 84.0324 Q103.409 81.9259 99.404 81.9259 Q97.529 81.9259 95.654 82.3425 Q93.8021 82.7592 91.8577 83.6388 L91.8577 66.2778 Z\" fill=\"#000000\" fill-rule=\"evenodd\" fill-opacity=\"1\" /><circle clip-path=\"url(#clip8302)\" cx=\"258.392\" cy=\"1415.61\" r=\"14\" fill=\"#009af9\" fill-rule=\"evenodd\" fill-opacity=\"1\" stroke=\"#000000\" stroke-opacity=\"1\" stroke-width=\"3.2\"/>\n",
       "<circle clip-path=\"url(#clip8302)\" cx=\"1305.69\" cy=\"675.226\" r=\"14\" fill=\"#009af9\" fill-rule=\"evenodd\" fill-opacity=\"1\" stroke=\"#000000\" stroke-opacity=\"1\" stroke-width=\"3.2\"/>\n",
       "<circle clip-path=\"url(#clip8302)\" cx=\"814.005\" cy=\"1046.07\" r=\"14\" fill=\"#009af9\" fill-rule=\"evenodd\" fill-opacity=\"1\" stroke=\"#000000\" stroke-opacity=\"1\" stroke-width=\"3.2\"/>\n",
       "<circle clip-path=\"url(#clip8302)\" cx=\"1571.88\" cy=\"652.012\" r=\"14\" fill=\"#009af9\" fill-rule=\"evenodd\" fill-opacity=\"1\" stroke=\"#000000\" stroke-opacity=\"1\" stroke-width=\"3.2\"/>\n",
       "<circle clip-path=\"url(#clip8302)\" cx=\"1190.48\" cy=\"854.56\" r=\"14\" fill=\"#009af9\" fill-rule=\"evenodd\" fill-opacity=\"1\" stroke=\"#000000\" stroke-opacity=\"1\" stroke-width=\"3.2\"/>\n",
       "<circle clip-path=\"url(#clip8302)\" cx=\"719.06\" cy=\"1119.35\" r=\"14\" fill=\"#009af9\" fill-rule=\"evenodd\" fill-opacity=\"1\" stroke=\"#000000\" stroke-opacity=\"1\" stroke-width=\"3.2\"/>\n",
       "<circle clip-path=\"url(#clip8302)\" cx=\"1004.07\" cy=\"807.045\" r=\"14\" fill=\"#009af9\" fill-rule=\"evenodd\" fill-opacity=\"1\" stroke=\"#000000\" stroke-opacity=\"1\" stroke-width=\"3.2\"/>\n",
       "<circle clip-path=\"url(#clip8302)\" cx=\"1346.96\" cy=\"723.126\" r=\"14\" fill=\"#009af9\" fill-rule=\"evenodd\" fill-opacity=\"1\" stroke=\"#000000\" stroke-opacity=\"1\" stroke-width=\"3.2\"/>\n",
       "<circle clip-path=\"url(#clip8302)\" cx=\"257.156\" cy=\"1356.4\" r=\"14\" fill=\"#009af9\" fill-rule=\"evenodd\" fill-opacity=\"1\" stroke=\"#000000\" stroke-opacity=\"1\" stroke-width=\"3.2\"/>\n",
       "<circle clip-path=\"url(#clip8302)\" cx=\"913.401\" cy=\"1118.78\" r=\"14\" fill=\"#009af9\" fill-rule=\"evenodd\" fill-opacity=\"1\" stroke=\"#000000\" stroke-opacity=\"1\" stroke-width=\"3.2\"/>\n",
       "<circle clip-path=\"url(#clip8302)\" cx=\"1626.97\" cy=\"597.306\" r=\"14\" fill=\"#009af9\" fill-rule=\"evenodd\" fill-opacity=\"1\" stroke=\"#000000\" stroke-opacity=\"1\" stroke-width=\"3.2\"/>\n",
       "<circle clip-path=\"url(#clip8302)\" cx=\"1297.69\" cy=\"796.575\" r=\"14\" fill=\"#009af9\" fill-rule=\"evenodd\" fill-opacity=\"1\" stroke=\"#000000\" stroke-opacity=\"1\" stroke-width=\"3.2\"/>\n",
       "<circle clip-path=\"url(#clip8302)\" cx=\"1995.98\" cy=\"244.962\" r=\"14\" fill=\"#009af9\" fill-rule=\"evenodd\" fill-opacity=\"1\" stroke=\"#000000\" stroke-opacity=\"1\" stroke-width=\"3.2\"/>\n",
       "<circle clip-path=\"url(#clip8302)\" cx=\"405.229\" cy=\"1318.63\" r=\"14\" fill=\"#009af9\" fill-rule=\"evenodd\" fill-opacity=\"1\" stroke=\"#000000\" stroke-opacity=\"1\" stroke-width=\"3.2\"/>\n",
       "<circle clip-path=\"url(#clip8302)\" cx=\"634.526\" cy=\"1144.12\" r=\"14\" fill=\"#009af9\" fill-rule=\"evenodd\" fill-opacity=\"1\" stroke=\"#000000\" stroke-opacity=\"1\" stroke-width=\"3.2\"/>\n",
       "<circle clip-path=\"url(#clip8302)\" cx=\"1328.44\" cy=\"762.967\" r=\"14\" fill=\"#009af9\" fill-rule=\"evenodd\" fill-opacity=\"1\" stroke=\"#000000\" stroke-opacity=\"1\" stroke-width=\"3.2\"/>\n",
       "<circle clip-path=\"url(#clip8302)\" cx=\"1020.47\" cy=\"893.274\" r=\"14\" fill=\"#009af9\" fill-rule=\"evenodd\" fill-opacity=\"1\" stroke=\"#000000\" stroke-opacity=\"1\" stroke-width=\"3.2\"/>\n",
       "<circle clip-path=\"url(#clip8302)\" cx=\"1728.98\" cy=\"519.173\" r=\"14\" fill=\"#009af9\" fill-rule=\"evenodd\" fill-opacity=\"1\" stroke=\"#000000\" stroke-opacity=\"1\" stroke-width=\"3.2\"/>\n",
       "<circle clip-path=\"url(#clip8302)\" cx=\"241.673\" cy=\"1395.55\" r=\"14\" fill=\"#009af9\" fill-rule=\"evenodd\" fill-opacity=\"1\" stroke=\"#000000\" stroke-opacity=\"1\" stroke-width=\"3.2\"/>\n",
       "<circle clip-path=\"url(#clip8302)\" cx=\"2105.97\" cy=\"200.464\" r=\"14\" fill=\"#009af9\" fill-rule=\"evenodd\" fill-opacity=\"1\" stroke=\"#000000\" stroke-opacity=\"1\" stroke-width=\"3.2\"/>\n",
       "<circle clip-path=\"url(#clip8302)\" cx=\"1336.8\" cy=\"776.916\" r=\"14\" fill=\"#009af9\" fill-rule=\"evenodd\" fill-opacity=\"1\" stroke=\"#000000\" stroke-opacity=\"1\" stroke-width=\"3.2\"/>\n",
       "<circle clip-path=\"url(#clip8302)\" cx=\"1221.14\" cy=\"750.816\" r=\"14\" fill=\"#009af9\" fill-rule=\"evenodd\" fill-opacity=\"1\" stroke=\"#000000\" stroke-opacity=\"1\" stroke-width=\"3.2\"/>\n",
       "<circle clip-path=\"url(#clip8302)\" cx=\"637.984\" cy=\"1189.68\" r=\"14\" fill=\"#009af9\" fill-rule=\"evenodd\" fill-opacity=\"1\" stroke=\"#000000\" stroke-opacity=\"1\" stroke-width=\"3.2\"/>\n",
       "<circle clip-path=\"url(#clip8302)\" cx=\"317.919\" cy=\"1333.99\" r=\"14\" fill=\"#009af9\" fill-rule=\"evenodd\" fill-opacity=\"1\" stroke=\"#000000\" stroke-opacity=\"1\" stroke-width=\"3.2\"/>\n",
       "<circle clip-path=\"url(#clip8302)\" cx=\"1729.09\" cy=\"525.534\" r=\"14\" fill=\"#009af9\" fill-rule=\"evenodd\" fill-opacity=\"1\" stroke=\"#000000\" stroke-opacity=\"1\" stroke-width=\"3.2\"/>\n",
       "<circle clip-path=\"url(#clip8302)\" cx=\"559.589\" cy=\"1142.09\" r=\"14\" fill=\"#009af9\" fill-rule=\"evenodd\" fill-opacity=\"1\" stroke=\"#000000\" stroke-opacity=\"1\" stroke-width=\"3.2\"/>\n",
       "<circle clip-path=\"url(#clip8302)\" cx=\"344.873\" cy=\"1348.77\" r=\"14\" fill=\"#009af9\" fill-rule=\"evenodd\" fill-opacity=\"1\" stroke=\"#000000\" stroke-opacity=\"1\" stroke-width=\"3.2\"/>\n",
       "<circle clip-path=\"url(#clip8302)\" cx=\"302.379\" cy=\"1334.96\" r=\"14\" fill=\"#009af9\" fill-rule=\"evenodd\" fill-opacity=\"1\" stroke=\"#000000\" stroke-opacity=\"1\" stroke-width=\"3.2\"/>\n",
       "<circle clip-path=\"url(#clip8302)\" cx=\"1225.93\" cy=\"756.462\" r=\"14\" fill=\"#009af9\" fill-rule=\"evenodd\" fill-opacity=\"1\" stroke=\"#000000\" stroke-opacity=\"1\" stroke-width=\"3.2\"/>\n",
       "<circle clip-path=\"url(#clip8302)\" cx=\"381.005\" cy=\"1317.49\" r=\"14\" fill=\"#009af9\" fill-rule=\"evenodd\" fill-opacity=\"1\" stroke=\"#000000\" stroke-opacity=\"1\" stroke-width=\"3.2\"/>\n",
       "<circle clip-path=\"url(#clip8302)\" cx=\"1123.81\" cy=\"809.442\" r=\"14\" fill=\"#009af9\" fill-rule=\"evenodd\" fill-opacity=\"1\" stroke=\"#000000\" stroke-opacity=\"1\" stroke-width=\"3.2\"/>\n",
       "<circle clip-path=\"url(#clip8302)\" cx=\"1629.21\" cy=\"465.625\" r=\"14\" fill=\"#009af9\" fill-rule=\"evenodd\" fill-opacity=\"1\" stroke=\"#000000\" stroke-opacity=\"1\" stroke-width=\"3.2\"/>\n",
       "<circle clip-path=\"url(#clip8302)\" cx=\"651.419\" cy=\"1146.93\" r=\"14\" fill=\"#009af9\" fill-rule=\"evenodd\" fill-opacity=\"1\" stroke=\"#000000\" stroke-opacity=\"1\" stroke-width=\"3.2\"/>\n",
       "<circle clip-path=\"url(#clip8302)\" cx=\"570.958\" cy=\"1142.03\" r=\"14\" fill=\"#009af9\" fill-rule=\"evenodd\" fill-opacity=\"1\" stroke=\"#000000\" stroke-opacity=\"1\" stroke-width=\"3.2\"/>\n",
       "<circle clip-path=\"url(#clip8302)\" cx=\"1504.7\" cy=\"531.435\" r=\"14\" fill=\"#009af9\" fill-rule=\"evenodd\" fill-opacity=\"1\" stroke=\"#000000\" stroke-opacity=\"1\" stroke-width=\"3.2\"/>\n",
       "<circle clip-path=\"url(#clip8302)\" cx=\"759.174\" cy=\"1091.51\" r=\"14\" fill=\"#009af9\" fill-rule=\"evenodd\" fill-opacity=\"1\" stroke=\"#000000\" stroke-opacity=\"1\" stroke-width=\"3.2\"/>\n",
       "<circle clip-path=\"url(#clip8302)\" cx=\"1066.75\" cy=\"873.968\" r=\"14\" fill=\"#009af9\" fill-rule=\"evenodd\" fill-opacity=\"1\" stroke=\"#000000\" stroke-opacity=\"1\" stroke-width=\"3.2\"/>\n",
       "<circle clip-path=\"url(#clip8302)\" cx=\"1766.17\" cy=\"490.375\" r=\"14\" fill=\"#009af9\" fill-rule=\"evenodd\" fill-opacity=\"1\" stroke=\"#000000\" stroke-opacity=\"1\" stroke-width=\"3.2\"/>\n",
       "<circle clip-path=\"url(#clip8302)\" cx=\"1886.65\" cy=\"291.918\" r=\"14\" fill=\"#009af9\" fill-rule=\"evenodd\" fill-opacity=\"1\" stroke=\"#000000\" stroke-opacity=\"1\" stroke-width=\"3.2\"/>\n",
       "<circle clip-path=\"url(#clip8302)\" cx=\"204.241\" cy=\"1383.47\" r=\"14\" fill=\"#009af9\" fill-rule=\"evenodd\" fill-opacity=\"1\" stroke=\"#000000\" stroke-opacity=\"1\" stroke-width=\"3.2\"/>\n",
       "<circle clip-path=\"url(#clip8302)\" cx=\"2091.52\" cy=\"215.414\" r=\"14\" fill=\"#009af9\" fill-rule=\"evenodd\" fill-opacity=\"1\" stroke=\"#000000\" stroke-opacity=\"1\" stroke-width=\"3.2\"/>\n",
       "<circle clip-path=\"url(#clip8302)\" cx=\"1151.14\" cy=\"836.976\" r=\"14\" fill=\"#009af9\" fill-rule=\"evenodd\" fill-opacity=\"1\" stroke=\"#000000\" stroke-opacity=\"1\" stroke-width=\"3.2\"/>\n",
       "<circle clip-path=\"url(#clip8302)\" cx=\"886.497\" cy=\"883.482\" r=\"14\" fill=\"#009af9\" fill-rule=\"evenodd\" fill-opacity=\"1\" stroke=\"#000000\" stroke-opacity=\"1\" stroke-width=\"3.2\"/>\n",
       "<circle clip-path=\"url(#clip8302)\" cx=\"2078.97\" cy=\"176.297\" r=\"14\" fill=\"#009af9\" fill-rule=\"evenodd\" fill-opacity=\"1\" stroke=\"#000000\" stroke-opacity=\"1\" stroke-width=\"3.2\"/>\n",
       "<circle clip-path=\"url(#clip8302)\" cx=\"2063.13\" cy=\"255.021\" r=\"14\" fill=\"#009af9\" fill-rule=\"evenodd\" fill-opacity=\"1\" stroke=\"#000000\" stroke-opacity=\"1\" stroke-width=\"3.2\"/>\n",
       "<circle clip-path=\"url(#clip8302)\" cx=\"501.766\" cy=\"1296.92\" r=\"14\" fill=\"#009af9\" fill-rule=\"evenodd\" fill-opacity=\"1\" stroke=\"#000000\" stroke-opacity=\"1\" stroke-width=\"3.2\"/>\n",
       "<circle clip-path=\"url(#clip8302)\" cx=\"1497.94\" cy=\"556.49\" r=\"14\" fill=\"#009af9\" fill-rule=\"evenodd\" fill-opacity=\"1\" stroke=\"#000000\" stroke-opacity=\"1\" stroke-width=\"3.2\"/>\n",
       "<circle clip-path=\"url(#clip8302)\" cx=\"843.051\" cy=\"944.363\" r=\"14\" fill=\"#009af9\" fill-rule=\"evenodd\" fill-opacity=\"1\" stroke=\"#000000\" stroke-opacity=\"1\" stroke-width=\"3.2\"/>\n",
       "<circle clip-path=\"url(#clip8302)\" cx=\"1105.55\" cy=\"866.205\" r=\"14\" fill=\"#009af9\" fill-rule=\"evenodd\" fill-opacity=\"1\" stroke=\"#000000\" stroke-opacity=\"1\" stroke-width=\"3.2\"/>\n",
       "<circle clip-path=\"url(#clip8302)\" cx=\"719.172\" cy=\"1044.62\" r=\"14\" fill=\"#009af9\" fill-rule=\"evenodd\" fill-opacity=\"1\" stroke=\"#000000\" stroke-opacity=\"1\" stroke-width=\"3.2\"/>\n",
       "<circle clip-path=\"url(#clip8302)\" cx=\"503.521\" cy=\"1280.44\" r=\"14\" fill=\"#009af9\" fill-rule=\"evenodd\" fill-opacity=\"1\" stroke=\"#000000\" stroke-opacity=\"1\" stroke-width=\"3.2\"/>\n",
       "<circle clip-path=\"url(#clip8302)\" cx=\"1798.82\" cy=\"438.804\" r=\"14\" fill=\"#009af9\" fill-rule=\"evenodd\" fill-opacity=\"1\" stroke=\"#000000\" stroke-opacity=\"1\" stroke-width=\"3.2\"/>\n",
       "<circle clip-path=\"url(#clip8302)\" cx=\"1761.21\" cy=\"382.895\" r=\"14\" fill=\"#009af9\" fill-rule=\"evenodd\" fill-opacity=\"1\" stroke=\"#000000\" stroke-opacity=\"1\" stroke-width=\"3.2\"/>\n",
       "<circle clip-path=\"url(#clip8302)\" cx=\"941.633\" cy=\"937.099\" r=\"14\" fill=\"#009af9\" fill-rule=\"evenodd\" fill-opacity=\"1\" stroke=\"#000000\" stroke-opacity=\"1\" stroke-width=\"3.2\"/>\n",
       "<circle clip-path=\"url(#clip8302)\" cx=\"721.37\" cy=\"1007.13\" r=\"14\" fill=\"#009af9\" fill-rule=\"evenodd\" fill-opacity=\"1\" stroke=\"#000000\" stroke-opacity=\"1\" stroke-width=\"3.2\"/>\n",
       "<circle clip-path=\"url(#clip8302)\" cx=\"960.458\" cy=\"959.235\" r=\"14\" fill=\"#009af9\" fill-rule=\"evenodd\" fill-opacity=\"1\" stroke=\"#000000\" stroke-opacity=\"1\" stroke-width=\"3.2\"/>\n",
       "<circle clip-path=\"url(#clip8302)\" cx=\"2114.88\" cy=\"210.437\" r=\"14\" fill=\"#009af9\" fill-rule=\"evenodd\" fill-opacity=\"1\" stroke=\"#000000\" stroke-opacity=\"1\" stroke-width=\"3.2\"/>\n",
       "<circle clip-path=\"url(#clip8302)\" cx=\"572.959\" cy=\"1229.97\" r=\"14\" fill=\"#009af9\" fill-rule=\"evenodd\" fill-opacity=\"1\" stroke=\"#000000\" stroke-opacity=\"1\" stroke-width=\"3.2\"/>\n",
       "<circle clip-path=\"url(#clip8302)\" cx=\"519.469\" cy=\"1238.05\" r=\"14\" fill=\"#009af9\" fill-rule=\"evenodd\" fill-opacity=\"1\" stroke=\"#000000\" stroke-opacity=\"1\" stroke-width=\"3.2\"/>\n",
       "<circle clip-path=\"url(#clip8302)\" cx=\"1991.81\" cy=\"278.163\" r=\"14\" fill=\"#009af9\" fill-rule=\"evenodd\" fill-opacity=\"1\" stroke=\"#000000\" stroke-opacity=\"1\" stroke-width=\"3.2\"/>\n",
       "<circle clip-path=\"url(#clip8302)\" cx=\"1220.39\" cy=\"733.203\" r=\"14\" fill=\"#009af9\" fill-rule=\"evenodd\" fill-opacity=\"1\" stroke=\"#000000\" stroke-opacity=\"1\" stroke-width=\"3.2\"/>\n",
       "<circle clip-path=\"url(#clip8302)\" cx=\"1390.61\" cy=\"696.967\" r=\"14\" fill=\"#009af9\" fill-rule=\"evenodd\" fill-opacity=\"1\" stroke=\"#000000\" stroke-opacity=\"1\" stroke-width=\"3.2\"/>\n",
       "<circle clip-path=\"url(#clip8302)\" cx=\"232.323\" cy=\"1445.72\" r=\"14\" fill=\"#009af9\" fill-rule=\"evenodd\" fill-opacity=\"1\" stroke=\"#000000\" stroke-opacity=\"1\" stroke-width=\"3.2\"/>\n",
       "<circle clip-path=\"url(#clip8302)\" cx=\"1266.29\" cy=\"762.195\" r=\"14\" fill=\"#009af9\" fill-rule=\"evenodd\" fill-opacity=\"1\" stroke=\"#000000\" stroke-opacity=\"1\" stroke-width=\"3.2\"/>\n",
       "<circle clip-path=\"url(#clip8302)\" cx=\"1353.14\" cy=\"723.168\" r=\"14\" fill=\"#009af9\" fill-rule=\"evenodd\" fill-opacity=\"1\" stroke=\"#000000\" stroke-opacity=\"1\" stroke-width=\"3.2\"/>\n",
       "<circle clip-path=\"url(#clip8302)\" cx=\"986.168\" cy=\"984.467\" r=\"14\" fill=\"#009af9\" fill-rule=\"evenodd\" fill-opacity=\"1\" stroke=\"#000000\" stroke-opacity=\"1\" stroke-width=\"3.2\"/>\n",
       "<circle clip-path=\"url(#clip8302)\" cx=\"2180.98\" cy=\"173.099\" r=\"14\" fill=\"#009af9\" fill-rule=\"evenodd\" fill-opacity=\"1\" stroke=\"#000000\" stroke-opacity=\"1\" stroke-width=\"3.2\"/>\n",
       "<circle clip-path=\"url(#clip8302)\" cx=\"953.206\" cy=\"946.493\" r=\"14\" fill=\"#009af9\" fill-rule=\"evenodd\" fill-opacity=\"1\" stroke=\"#000000\" stroke-opacity=\"1\" stroke-width=\"3.2\"/>\n",
       "<circle clip-path=\"url(#clip8302)\" cx=\"1682.6\" cy=\"511.455\" r=\"14\" fill=\"#009af9\" fill-rule=\"evenodd\" fill-opacity=\"1\" stroke=\"#000000\" stroke-opacity=\"1\" stroke-width=\"3.2\"/>\n",
       "<circle clip-path=\"url(#clip8302)\" cx=\"342.29\" cy=\"1294.92\" r=\"14\" fill=\"#009af9\" fill-rule=\"evenodd\" fill-opacity=\"1\" stroke=\"#000000\" stroke-opacity=\"1\" stroke-width=\"3.2\"/>\n",
       "<circle clip-path=\"url(#clip8302)\" cx=\"2161.98\" cy=\"131.203\" r=\"14\" fill=\"#009af9\" fill-rule=\"evenodd\" fill-opacity=\"1\" stroke=\"#000000\" stroke-opacity=\"1\" stroke-width=\"3.2\"/>\n",
       "<circle clip-path=\"url(#clip8302)\" cx=\"1815.27\" cy=\"461.063\" r=\"14\" fill=\"#009af9\" fill-rule=\"evenodd\" fill-opacity=\"1\" stroke=\"#000000\" stroke-opacity=\"1\" stroke-width=\"3.2\"/>\n",
       "<circle clip-path=\"url(#clip8302)\" cx=\"943.931\" cy=\"965.432\" r=\"14\" fill=\"#009af9\" fill-rule=\"evenodd\" fill-opacity=\"1\" stroke=\"#000000\" stroke-opacity=\"1\" stroke-width=\"3.2\"/>\n",
       "<circle clip-path=\"url(#clip8302)\" cx=\"2230.42\" cy=\"151.193\" r=\"14\" fill=\"#009af9\" fill-rule=\"evenodd\" fill-opacity=\"1\" stroke=\"#000000\" stroke-opacity=\"1\" stroke-width=\"3.2\"/>\n",
       "<circle clip-path=\"url(#clip8302)\" cx=\"1852.29\" cy=\"343.182\" r=\"14\" fill=\"#009af9\" fill-rule=\"evenodd\" fill-opacity=\"1\" stroke=\"#000000\" stroke-opacity=\"1\" stroke-width=\"3.2\"/>\n",
       "<circle clip-path=\"url(#clip8302)\" cx=\"342.834\" cy=\"1313.39\" r=\"14\" fill=\"#009af9\" fill-rule=\"evenodd\" fill-opacity=\"1\" stroke=\"#000000\" stroke-opacity=\"1\" stroke-width=\"3.2\"/>\n",
       "<circle clip-path=\"url(#clip8302)\" cx=\"1914.65\" cy=\"335.519\" r=\"14\" fill=\"#009af9\" fill-rule=\"evenodd\" fill-opacity=\"1\" stroke=\"#000000\" stroke-opacity=\"1\" stroke-width=\"3.2\"/>\n",
       "<circle clip-path=\"url(#clip8302)\" cx=\"462.606\" cy=\"1257.19\" r=\"14\" fill=\"#009af9\" fill-rule=\"evenodd\" fill-opacity=\"1\" stroke=\"#000000\" stroke-opacity=\"1\" stroke-width=\"3.2\"/>\n",
       "<circle clip-path=\"url(#clip8302)\" cx=\"1660.52\" cy=\"473.73\" r=\"14\" fill=\"#009af9\" fill-rule=\"evenodd\" fill-opacity=\"1\" stroke=\"#000000\" stroke-opacity=\"1\" stroke-width=\"3.2\"/>\n",
       "<circle clip-path=\"url(#clip8302)\" cx=\"1209.03\" cy=\"809.161\" r=\"14\" fill=\"#009af9\" fill-rule=\"evenodd\" fill-opacity=\"1\" stroke=\"#000000\" stroke-opacity=\"1\" stroke-width=\"3.2\"/>\n",
       "<circle clip-path=\"url(#clip8302)\" cx=\"1931.82\" cy=\"261.836\" r=\"14\" fill=\"#009af9\" fill-rule=\"evenodd\" fill-opacity=\"1\" stroke=\"#000000\" stroke-opacity=\"1\" stroke-width=\"3.2\"/>\n",
       "<circle clip-path=\"url(#clip8302)\" cx=\"847.435\" cy=\"1039.61\" r=\"14\" fill=\"#009af9\" fill-rule=\"evenodd\" fill-opacity=\"1\" stroke=\"#000000\" stroke-opacity=\"1\" stroke-width=\"3.2\"/>\n",
       "<circle clip-path=\"url(#clip8302)\" cx=\"1747.96\" cy=\"444.337\" r=\"14\" fill=\"#009af9\" fill-rule=\"evenodd\" fill-opacity=\"1\" stroke=\"#000000\" stroke-opacity=\"1\" stroke-width=\"3.2\"/>\n",
       "<circle clip-path=\"url(#clip8302)\" cx=\"1038.83\" cy=\"942.097\" r=\"14\" fill=\"#009af9\" fill-rule=\"evenodd\" fill-opacity=\"1\" stroke=\"#000000\" stroke-opacity=\"1\" stroke-width=\"3.2\"/>\n",
       "<circle clip-path=\"url(#clip8302)\" cx=\"373.24\" cy=\"1339.38\" r=\"14\" fill=\"#009af9\" fill-rule=\"evenodd\" fill-opacity=\"1\" stroke=\"#000000\" stroke-opacity=\"1\" stroke-width=\"3.2\"/>\n",
       "<circle clip-path=\"url(#clip8302)\" cx=\"1609.48\" cy=\"494.691\" r=\"14\" fill=\"#009af9\" fill-rule=\"evenodd\" fill-opacity=\"1\" stroke=\"#000000\" stroke-opacity=\"1\" stroke-width=\"3.2\"/>\n",
       "<circle clip-path=\"url(#clip8302)\" cx=\"569.891\" cy=\"1266.24\" r=\"14\" fill=\"#009af9\" fill-rule=\"evenodd\" fill-opacity=\"1\" stroke=\"#000000\" stroke-opacity=\"1\" stroke-width=\"3.2\"/>\n",
       "<circle clip-path=\"url(#clip8302)\" cx=\"878.682\" cy=\"950.55\" r=\"14\" fill=\"#009af9\" fill-rule=\"evenodd\" fill-opacity=\"1\" stroke=\"#000000\" stroke-opacity=\"1\" stroke-width=\"3.2\"/>\n",
       "<circle clip-path=\"url(#clip8302)\" cx=\"1674.91\" cy=\"534.74\" r=\"14\" fill=\"#009af9\" fill-rule=\"evenodd\" fill-opacity=\"1\" stroke=\"#000000\" stroke-opacity=\"1\" stroke-width=\"3.2\"/>\n",
       "<circle clip-path=\"url(#clip8302)\" cx=\"698.705\" cy=\"1223.57\" r=\"14\" fill=\"#009af9\" fill-rule=\"evenodd\" fill-opacity=\"1\" stroke=\"#000000\" stroke-opacity=\"1\" stroke-width=\"3.2\"/>\n",
       "<circle clip-path=\"url(#clip8302)\" cx=\"1523.28\" cy=\"646.335\" r=\"14\" fill=\"#009af9\" fill-rule=\"evenodd\" fill-opacity=\"1\" stroke=\"#000000\" stroke-opacity=\"1\" stroke-width=\"3.2\"/>\n",
       "<circle clip-path=\"url(#clip8302)\" cx=\"1607.97\" cy=\"550.623\" r=\"14\" fill=\"#009af9\" fill-rule=\"evenodd\" fill-opacity=\"1\" stroke=\"#000000\" stroke-opacity=\"1\" stroke-width=\"3.2\"/>\n",
       "<circle clip-path=\"url(#clip8302)\" cx=\"1352.76\" cy=\"610.029\" r=\"14\" fill=\"#009af9\" fill-rule=\"evenodd\" fill-opacity=\"1\" stroke=\"#000000\" stroke-opacity=\"1\" stroke-width=\"3.2\"/>\n",
       "<circle clip-path=\"url(#clip8302)\" cx=\"510.627\" cy=\"1238.07\" r=\"14\" fill=\"#009af9\" fill-rule=\"evenodd\" fill-opacity=\"1\" stroke=\"#000000\" stroke-opacity=\"1\" stroke-width=\"3.2\"/>\n",
       "<circle clip-path=\"url(#clip8302)\" cx=\"655.949\" cy=\"1142.34\" r=\"14\" fill=\"#009af9\" fill-rule=\"evenodd\" fill-opacity=\"1\" stroke=\"#000000\" stroke-opacity=\"1\" stroke-width=\"3.2\"/>\n",
       "<circle clip-path=\"url(#clip8302)\" cx=\"460.056\" cy=\"1340.71\" r=\"14\" fill=\"#009af9\" fill-rule=\"evenodd\" fill-opacity=\"1\" stroke=\"#000000\" stroke-opacity=\"1\" stroke-width=\"3.2\"/>\n",
       "<circle clip-path=\"url(#clip8302)\" cx=\"2085.94\" cy=\"118.701\" r=\"14\" fill=\"#009af9\" fill-rule=\"evenodd\" fill-opacity=\"1\" stroke=\"#000000\" stroke-opacity=\"1\" stroke-width=\"3.2\"/>\n",
       "<circle clip-path=\"url(#clip8302)\" cx=\"456.785\" cy=\"1283.07\" r=\"14\" fill=\"#009af9\" fill-rule=\"evenodd\" fill-opacity=\"1\" stroke=\"#000000\" stroke-opacity=\"1\" stroke-width=\"3.2\"/>\n",
       "<circle clip-path=\"url(#clip8302)\" cx=\"2060.47\" cy=\"147.745\" r=\"14\" fill=\"#009af9\" fill-rule=\"evenodd\" fill-opacity=\"1\" stroke=\"#000000\" stroke-opacity=\"1\" stroke-width=\"3.2\"/>\n",
       "<circle clip-path=\"url(#clip8302)\" cx=\"1740.57\" cy=\"415.851\" r=\"14\" fill=\"#009af9\" fill-rule=\"evenodd\" fill-opacity=\"1\" stroke=\"#000000\" stroke-opacity=\"1\" stroke-width=\"3.2\"/>\n",
       "<polyline clip-path=\"url(#clip8302)\" style=\"stroke:#e26f46; stroke-width:4; stroke-opacity:1; fill:none\" points=\"\n",
       "  199.477,1438.17 220.383,1424.67 241.288,1411.17 262.194,1397.67 283.1,1384.17 304.005,1370.66 324.911,1357.16 345.817,1343.66 366.722,1330.16 387.628,1316.66 \n",
       "  408.533,1303.15 429.439,1289.65 450.345,1276.15 471.25,1262.65 492.156,1249.15 513.062,1235.64 533.967,1222.14 554.873,1208.64 575.778,1195.14 596.684,1181.64 \n",
       "  617.59,1168.13 638.495,1154.63 659.401,1141.13 680.306,1127.63 701.212,1114.13 722.118,1100.62 743.023,1087.12 763.929,1073.62 784.835,1060.12 805.74,1046.62 \n",
       "  826.646,1033.11 847.551,1019.61 868.457,1006.11 889.363,992.608 910.268,979.106 931.174,965.605 952.079,952.103 972.985,938.601 993.891,925.099 1014.8,911.597 \n",
       "  1035.7,898.095 1056.61,884.593 1077.51,871.091 1098.42,857.589 1119.32,844.087 1140.23,830.585 1161.14,817.083 1182.04,803.581 1202.95,790.079 1223.85,776.577 \n",
       "  1244.76,763.075 1265.66,749.573 1286.57,736.071 1307.47,722.569 1328.38,709.067 1349.29,695.565 1370.19,682.063 1391.1,668.561 1412,655.059 1432.91,641.557 \n",
       "  1453.81,628.055 1474.72,614.553 1495.63,601.051 1516.53,587.549 1537.44,574.047 1558.34,560.545 1579.25,547.043 1600.15,533.541 1621.06,520.039 1641.96,506.537 \n",
       "  1662.87,493.035 1683.78,479.533 1704.68,466.032 1725.59,452.53 1746.49,439.028 1767.4,425.526 1788.3,412.024 1809.21,398.522 1830.12,385.02 1851.02,371.518 \n",
       "  1871.93,358.016 1892.83,344.514 1913.74,331.012 1934.64,317.51 1955.55,304.008 1976.45,290.506 1997.36,277.004 2018.27,263.502 2039.17,250 2060.08,236.498 \n",
       "  2080.98,222.996 2101.89,209.494 2122.79,195.992 2143.7,182.49 2164.61,168.988 2185.51,155.486 2206.42,141.984 2227.32,128.482 2248.23,114.98 2269.13,101.478 \n",
       "  2290.04,87.9763 \n",
       "  \"/>\n",
       "<path clip-path=\"url(#clip8300)\" d=\"\n",
       "M1990.11 251.724 L2280.76 251.724 L2280.76 130.764 L1990.11 130.764  Z\n",
       "  \" fill=\"#ffffff\" fill-rule=\"evenodd\" fill-opacity=\"1\"/>\n",
       "<polyline clip-path=\"url(#clip8300)\" style=\"stroke:#000000; stroke-width:4; stroke-opacity:1; fill:none\" points=\"\n",
       "  1990.11,251.724 2280.76,251.724 2280.76,130.764 1990.11,130.764 1990.11,251.724 \n",
       "  \"/>\n",
       "<polyline clip-path=\"url(#clip8300)\" style=\"stroke:#e26f46; stroke-width:4; stroke-opacity:1; fill:none\" points=\"\n",
       "  2014.11,191.244 2158.11,191.244 \n",
       "  \"/>\n",
       "<path clip-path=\"url(#clip8300)\" d=\"M 0 0 M2195.95 210.931 Q2194.15 215.561 2192.43 216.973 Q2190.72 218.385 2187.85 218.385 L2184.45 218.385 L2184.45 214.82 L2186.95 214.82 Q2188.71 214.82 2189.68 213.987 Q2190.65 213.154 2191.83 210.052 L2192.59 208.107 L2182.11 182.598 L2186.62 182.598 L2194.72 202.876 L2202.83 182.598 L2207.34 182.598 L2195.95 210.931 Z\" fill=\"#000000\" fill-rule=\"evenodd\" fill-opacity=\"1\" /><path clip-path=\"url(#clip8300)\" d=\"M 0 0 M2216.44 204.589 L2232.76 204.589 L2232.76 208.524 L2210.81 208.524 L2210.81 204.589 Q2213.47 201.834 2218.06 197.205 Q2222.66 192.552 2223.84 191.209 Q2226.09 188.686 2226.97 186.95 Q2227.87 185.191 2227.87 183.501 Q2227.87 180.746 2225.93 179.01 Q2224.01 177.274 2220.9 177.274 Q2218.71 177.274 2216.25 178.038 Q2213.82 178.802 2211.04 180.353 L2211.04 175.631 Q2213.87 174.496 2216.32 173.918 Q2218.77 173.339 2220.81 173.339 Q2226.18 173.339 2229.38 176.024 Q2232.57 178.709 2232.57 183.2 Q2232.57 185.33 2231.76 187.251 Q2230.97 189.149 2228.87 191.742 Q2228.29 192.413 2225.19 195.631 Q2222.08 198.825 2216.44 204.589 Z\" fill=\"#000000\" fill-rule=\"evenodd\" fill-opacity=\"1\" /></svg>\n"
      ]
     },
     "execution_count": 40,
     "metadata": {},
     "output_type": "execute_result"
    }
   ],
   "source": [
    "scatter(x,y, label=\"\")\n",
    "plot!(0:0.1:10,u)"
   ]
  },
  {
   "cell_type": "markdown",
   "metadata": {},
   "source": [
    "If we want to fit a second order polynomial \n",
    "$$y=w_0+w_1*x+w_2*x^2$$"
   ]
  },
  {
   "cell_type": "code",
   "execution_count": 41,
   "metadata": {},
   "outputs": [
    {
     "data": {
      "text/plain": [
       "3-element Array{Float64,1}:\n",
       "  1.0070171145053368\n",
       " -0.4398382584040861\n",
       "  0.039573400134892245"
      ]
     },
     "execution_count": 41,
     "metadata": {},
     "output_type": "execute_result"
    }
   ],
   "source": [
    "x=rand(100)*10\n",
    "y=sin.(x)+randn(length(x))*0.2\n",
    "w=[ones(length(x)) x x.^2]\\y"
   ]
  },
  {
   "cell_type": "code",
   "execution_count": 42,
   "metadata": {},
   "outputs": [
    {
     "data": {
      "image/svg+xml": [
       "<?xml version=\"1.0\" encoding=\"utf-8\"?>\n",
       "<svg xmlns=\"http://www.w3.org/2000/svg\" xmlns:xlink=\"http://www.w3.org/1999/xlink\" width=\"600\" height=\"400\" viewBox=\"0 0 2400 1600\">\n",
       "<defs>\n",
       "  <clipPath id=\"clip8700\">\n",
       "    <rect x=\"0\" y=\"0\" width=\"2400\" height=\"1600\"/>\n",
       "  </clipPath>\n",
       "</defs>\n",
       "<path clip-path=\"url(#clip8700)\" d=\"\n",
       "M0 1600 L2400 1600 L2400 0 L0 0  Z\n",
       "  \" fill=\"#ffffff\" fill-rule=\"evenodd\" fill-opacity=\"1\"/>\n",
       "<defs>\n",
       "  <clipPath id=\"clip8701\">\n",
       "    <rect x=\"480\" y=\"0\" width=\"1681\" height=\"1600\"/>\n",
       "  </clipPath>\n",
       "</defs>\n",
       "<path clip-path=\"url(#clip8700)\" d=\"\n",
       "M162.455 1486.45 L2352.76 1486.45 L2352.76 47.2441 L162.455 47.2441  Z\n",
       "  \" fill=\"#ffffff\" fill-rule=\"evenodd\" fill-opacity=\"1\"/>\n",
       "<defs>\n",
       "  <clipPath id=\"clip8702\">\n",
       "    <rect x=\"162\" y=\"47\" width=\"2191\" height=\"1440\"/>\n",
       "  </clipPath>\n",
       "</defs>\n",
       "<polyline clip-path=\"url(#clip8702)\" style=\"stroke:#000000; stroke-width:2; stroke-opacity:0.1; fill:none\" points=\"\n",
       "  224.444,1486.45 224.444,47.2441 \n",
       "  \"/>\n",
       "<polyline clip-path=\"url(#clip8702)\" style=\"stroke:#000000; stroke-width:2; stroke-opacity:0.1; fill:none\" points=\"\n",
       "  741.025,1486.45 741.025,47.2441 \n",
       "  \"/>\n",
       "<polyline clip-path=\"url(#clip8702)\" style=\"stroke:#000000; stroke-width:2; stroke-opacity:0.1; fill:none\" points=\"\n",
       "  1257.61,1486.45 1257.61,47.2441 \n",
       "  \"/>\n",
       "<polyline clip-path=\"url(#clip8702)\" style=\"stroke:#000000; stroke-width:2; stroke-opacity:0.1; fill:none\" points=\"\n",
       "  1774.19,1486.45 1774.19,47.2441 \n",
       "  \"/>\n",
       "<polyline clip-path=\"url(#clip8702)\" style=\"stroke:#000000; stroke-width:2; stroke-opacity:0.1; fill:none\" points=\"\n",
       "  2290.77,1486.45 2290.77,47.2441 \n",
       "  \"/>\n",
       "<polyline clip-path=\"url(#clip8702)\" style=\"stroke:#000000; stroke-width:2; stroke-opacity:0.1; fill:none\" points=\"\n",
       "  162.455,1292.13 2352.76,1292.13 \n",
       "  \"/>\n",
       "<polyline clip-path=\"url(#clip8702)\" style=\"stroke:#000000; stroke-width:2; stroke-opacity:0.1; fill:none\" points=\"\n",
       "  162.455,1016.79 2352.76,1016.79 \n",
       "  \"/>\n",
       "<polyline clip-path=\"url(#clip8702)\" style=\"stroke:#000000; stroke-width:2; stroke-opacity:0.1; fill:none\" points=\"\n",
       "  162.455,741.453 2352.76,741.453 \n",
       "  \"/>\n",
       "<polyline clip-path=\"url(#clip8702)\" style=\"stroke:#000000; stroke-width:2; stroke-opacity:0.1; fill:none\" points=\"\n",
       "  162.455,466.114 2352.76,466.114 \n",
       "  \"/>\n",
       "<polyline clip-path=\"url(#clip8702)\" style=\"stroke:#000000; stroke-width:2; stroke-opacity:0.1; fill:none\" points=\"\n",
       "  162.455,190.774 2352.76,190.774 \n",
       "  \"/>\n",
       "<polyline clip-path=\"url(#clip8700)\" style=\"stroke:#000000; stroke-width:4; stroke-opacity:1; fill:none\" points=\"\n",
       "  162.455,1486.45 2352.76,1486.45 \n",
       "  \"/>\n",
       "<polyline clip-path=\"url(#clip8700)\" style=\"stroke:#000000; stroke-width:4; stroke-opacity:1; fill:none\" points=\"\n",
       "  162.455,1486.45 162.455,47.2441 \n",
       "  \"/>\n",
       "<polyline clip-path=\"url(#clip8700)\" style=\"stroke:#000000; stroke-width:4; stroke-opacity:1; fill:none\" points=\"\n",
       "  224.444,1486.45 224.444,1469.18 \n",
       "  \"/>\n",
       "<polyline clip-path=\"url(#clip8700)\" style=\"stroke:#000000; stroke-width:4; stroke-opacity:1; fill:none\" points=\"\n",
       "  741.025,1486.45 741.025,1469.18 \n",
       "  \"/>\n",
       "<polyline clip-path=\"url(#clip8700)\" style=\"stroke:#000000; stroke-width:4; stroke-opacity:1; fill:none\" points=\"\n",
       "  1257.61,1486.45 1257.61,1469.18 \n",
       "  \"/>\n",
       "<polyline clip-path=\"url(#clip8700)\" style=\"stroke:#000000; stroke-width:4; stroke-opacity:1; fill:none\" points=\"\n",
       "  1774.19,1486.45 1774.19,1469.18 \n",
       "  \"/>\n",
       "<polyline clip-path=\"url(#clip8700)\" style=\"stroke:#000000; stroke-width:4; stroke-opacity:1; fill:none\" points=\"\n",
       "  2290.77,1486.45 2290.77,1469.18 \n",
       "  \"/>\n",
       "<polyline clip-path=\"url(#clip8700)\" style=\"stroke:#000000; stroke-width:4; stroke-opacity:1; fill:none\" points=\"\n",
       "  162.455,1292.13 188.738,1292.13 \n",
       "  \"/>\n",
       "<polyline clip-path=\"url(#clip8700)\" style=\"stroke:#000000; stroke-width:4; stroke-opacity:1; fill:none\" points=\"\n",
       "  162.455,1016.79 188.738,1016.79 \n",
       "  \"/>\n",
       "<polyline clip-path=\"url(#clip8700)\" style=\"stroke:#000000; stroke-width:4; stroke-opacity:1; fill:none\" points=\"\n",
       "  162.455,741.453 188.738,741.453 \n",
       "  \"/>\n",
       "<polyline clip-path=\"url(#clip8700)\" style=\"stroke:#000000; stroke-width:4; stroke-opacity:1; fill:none\" points=\"\n",
       "  162.455,466.114 188.738,466.114 \n",
       "  \"/>\n",
       "<polyline clip-path=\"url(#clip8700)\" style=\"stroke:#000000; stroke-width:4; stroke-opacity:1; fill:none\" points=\"\n",
       "  162.455,190.774 188.738,190.774 \n",
       "  \"/>\n",
       "<path clip-path=\"url(#clip8700)\" d=\"M 0 0 M205.961 1508.44 Q202.35 1508.44 200.521 1512 Q198.715 1515.55 198.715 1522.67 Q198.715 1529.78 200.521 1533.35 Q202.35 1536.89 205.961 1536.89 Q209.595 1536.89 211.4 1533.35 Q213.229 1529.78 213.229 1522.67 Q213.229 1515.55 211.4 1512 Q209.595 1508.44 205.961 1508.44 M205.961 1504.73 Q211.771 1504.73 214.826 1509.34 Q217.905 1513.92 217.905 1522.67 Q217.905 1531.4 214.826 1536.01 Q211.771 1540.59 205.961 1540.59 Q200.15 1540.59 197.072 1536.01 Q194.016 1531.4 194.016 1522.67 Q194.016 1513.92 197.072 1509.34 Q200.15 1504.73 205.961 1504.73 Z\" fill=\"#000000\" fill-rule=\"evenodd\" fill-opacity=\"1\" /><path clip-path=\"url(#clip8700)\" d=\"M 0 0 M222.974 1534.04 L227.859 1534.04 L227.859 1539.92 L222.974 1539.92 L222.974 1534.04 Z\" fill=\"#000000\" fill-rule=\"evenodd\" fill-opacity=\"1\" /><path clip-path=\"url(#clip8700)\" d=\"M 0 0 M242.928 1508.44 Q239.317 1508.44 237.488 1512 Q235.683 1515.55 235.683 1522.67 Q235.683 1529.78 237.488 1533.35 Q239.317 1536.89 242.928 1536.89 Q246.562 1536.89 248.368 1533.35 Q250.197 1529.78 250.197 1522.67 Q250.197 1515.55 248.368 1512 Q246.562 1508.44 242.928 1508.44 M242.928 1504.73 Q248.738 1504.73 251.794 1509.34 Q254.872 1513.92 254.872 1522.67 Q254.872 1531.4 251.794 1536.01 Q248.738 1540.59 242.928 1540.59 Q237.118 1540.59 234.039 1536.01 Q230.984 1531.4 230.984 1522.67 Q230.984 1513.92 234.039 1509.34 Q237.118 1504.73 242.928 1504.73 Z\" fill=\"#000000\" fill-rule=\"evenodd\" fill-opacity=\"1\" /><path clip-path=\"url(#clip8700)\" d=\"M 0 0 M717.692 1535.98 L734.011 1535.98 L734.011 1539.92 L712.067 1539.92 L712.067 1535.98 Q714.729 1533.23 719.312 1528.6 Q723.918 1523.95 725.099 1522.61 Q727.344 1520.08 728.224 1518.35 Q729.127 1516.59 729.127 1514.9 Q729.127 1512.14 727.182 1510.41 Q725.261 1508.67 722.159 1508.67 Q719.96 1508.67 717.506 1509.43 Q715.076 1510.2 712.298 1511.75 L712.298 1507.03 Q715.122 1505.89 717.576 1505.31 Q720.03 1504.73 722.067 1504.73 Q727.437 1504.73 730.631 1507.42 Q733.826 1510.11 733.826 1514.6 Q733.826 1516.73 733.016 1518.65 Q732.229 1520.54 730.122 1523.14 Q729.543 1523.81 726.442 1527.03 Q723.34 1530.22 717.692 1535.98 Z\" fill=\"#000000\" fill-rule=\"evenodd\" fill-opacity=\"1\" /><path clip-path=\"url(#clip8700)\" d=\"M 0 0 M739.08 1534.04 L743.965 1534.04 L743.965 1539.92 L739.08 1539.92 L739.08 1534.04 Z\" fill=\"#000000\" fill-rule=\"evenodd\" fill-opacity=\"1\" /><path clip-path=\"url(#clip8700)\" d=\"M 0 0 M749.08 1505.36 L767.437 1505.36 L767.437 1509.3 L753.363 1509.3 L753.363 1517.77 Q754.381 1517.42 755.4 1517.26 Q756.418 1517.07 757.437 1517.07 Q763.224 1517.07 766.603 1520.24 Q769.983 1523.42 769.983 1528.83 Q769.983 1534.41 766.511 1537.51 Q763.039 1540.59 756.719 1540.59 Q754.543 1540.59 752.275 1540.22 Q750.029 1539.85 747.622 1539.11 L747.622 1534.41 Q749.705 1535.54 751.928 1536.1 Q754.15 1536.66 756.627 1536.66 Q760.631 1536.66 762.969 1534.55 Q765.307 1532.44 765.307 1528.83 Q765.307 1525.22 762.969 1523.11 Q760.631 1521.01 756.627 1521.01 Q754.752 1521.01 752.877 1521.42 Q751.025 1521.84 749.08 1522.72 L749.08 1505.36 Z\" fill=\"#000000\" fill-rule=\"evenodd\" fill-opacity=\"1\" /><path clip-path=\"url(#clip8700)\" d=\"M 0 0 M1229.4 1505.36 L1247.76 1505.36 L1247.76 1509.3 L1233.68 1509.3 L1233.68 1517.77 Q1234.7 1517.42 1235.72 1517.26 Q1236.74 1517.07 1237.76 1517.07 Q1243.54 1517.07 1246.92 1520.24 Q1250.3 1523.42 1250.3 1528.83 Q1250.3 1534.41 1246.83 1537.51 Q1243.36 1540.59 1237.04 1540.59 Q1234.86 1540.59 1232.59 1540.22 Q1230.35 1539.85 1227.94 1539.11 L1227.94 1534.41 Q1230.02 1535.54 1232.25 1536.1 Q1234.47 1536.66 1236.95 1536.66 Q1240.95 1536.66 1243.29 1534.55 Q1245.63 1532.44 1245.63 1528.83 Q1245.63 1525.22 1243.29 1523.11 Q1240.95 1521.01 1236.95 1521.01 Q1235.07 1521.01 1233.2 1521.42 Q1231.34 1521.84 1229.4 1522.72 L1229.4 1505.36 Z\" fill=\"#000000\" fill-rule=\"evenodd\" fill-opacity=\"1\" /><path clip-path=\"url(#clip8700)\" d=\"M 0 0 M1255.37 1534.04 L1260.26 1534.04 L1260.26 1539.92 L1255.37 1539.92 L1255.37 1534.04 Z\" fill=\"#000000\" fill-rule=\"evenodd\" fill-opacity=\"1\" /><path clip-path=\"url(#clip8700)\" d=\"M 0 0 M1275.33 1508.44 Q1271.71 1508.44 1269.89 1512 Q1268.08 1515.55 1268.08 1522.67 Q1268.08 1529.78 1269.89 1533.35 Q1271.71 1536.89 1275.33 1536.89 Q1278.96 1536.89 1280.76 1533.35 Q1282.59 1529.78 1282.59 1522.67 Q1282.59 1515.55 1280.76 1512 Q1278.96 1508.44 1275.33 1508.44 M1275.33 1504.73 Q1281.14 1504.73 1284.19 1509.34 Q1287.27 1513.92 1287.27 1522.67 Q1287.27 1531.4 1284.19 1536.01 Q1281.14 1540.59 1275.33 1540.59 Q1269.51 1540.59 1266.44 1536.01 Q1263.38 1531.4 1263.38 1522.67 Q1263.38 1513.92 1266.44 1509.34 Q1269.51 1504.73 1275.33 1504.73 Z\" fill=\"#000000\" fill-rule=\"evenodd\" fill-opacity=\"1\" /><path clip-path=\"url(#clip8700)\" d=\"M 0 0 M1745.09 1505.36 L1767.31 1505.36 L1767.31 1507.35 L1754.76 1539.92 L1749.88 1539.92 L1761.69 1509.3 L1745.09 1509.3 L1745.09 1505.36 Z\" fill=\"#000000\" fill-rule=\"evenodd\" fill-opacity=\"1\" /><path clip-path=\"url(#clip8700)\" d=\"M 0 0 M1772.38 1534.04 L1777.26 1534.04 L1777.26 1539.92 L1772.38 1539.92 L1772.38 1534.04 Z\" fill=\"#000000\" fill-rule=\"evenodd\" fill-opacity=\"1\" /><path clip-path=\"url(#clip8700)\" d=\"M 0 0 M1782.38 1505.36 L1800.74 1505.36 L1800.74 1509.3 L1786.66 1509.3 L1786.66 1517.77 Q1787.68 1517.42 1788.7 1517.26 Q1789.72 1517.07 1790.74 1517.07 Q1796.52 1517.07 1799.9 1520.24 Q1803.28 1523.42 1803.28 1528.83 Q1803.28 1534.41 1799.81 1537.51 Q1796.34 1540.59 1790.02 1540.59 Q1787.84 1540.59 1785.57 1540.22 Q1783.33 1539.85 1780.92 1539.11 L1780.92 1534.41 Q1783.01 1535.54 1785.23 1536.1 Q1787.45 1536.66 1789.93 1536.66 Q1793.93 1536.66 1796.27 1534.55 Q1798.61 1532.44 1798.61 1528.83 Q1798.61 1525.22 1796.27 1523.11 Q1793.93 1521.01 1789.93 1521.01 Q1788.05 1521.01 1786.18 1521.42 Q1784.32 1521.84 1782.38 1522.72 L1782.38 1505.36 Z\" fill=\"#000000\" fill-rule=\"evenodd\" fill-opacity=\"1\" /><path clip-path=\"url(#clip8700)\" d=\"M 0 0 M2249.16 1535.98 L2256.8 1535.98 L2256.8 1509.62 L2248.49 1511.29 L2248.49 1507.03 L2256.75 1505.36 L2261.43 1505.36 L2261.43 1535.98 L2269.06 1535.98 L2269.06 1539.92 L2249.16 1539.92 L2249.16 1535.98 Z\" fill=\"#000000\" fill-rule=\"evenodd\" fill-opacity=\"1\" /><path clip-path=\"url(#clip8700)\" d=\"M 0 0 M2284.13 1508.44 Q2280.52 1508.44 2278.69 1512 Q2276.89 1515.55 2276.89 1522.67 Q2276.89 1529.78 2278.69 1533.35 Q2280.52 1536.89 2284.13 1536.89 Q2287.77 1536.89 2289.57 1533.35 Q2291.4 1529.78 2291.4 1522.67 Q2291.4 1515.55 2289.57 1512 Q2287.77 1508.44 2284.13 1508.44 M2284.13 1504.73 Q2289.94 1504.73 2293 1509.34 Q2296.08 1513.92 2296.08 1522.67 Q2296.08 1531.4 2293 1536.01 Q2289.94 1540.59 2284.13 1540.59 Q2278.32 1540.59 2275.25 1536.01 Q2272.19 1531.4 2272.19 1522.67 Q2272.19 1513.92 2275.25 1509.34 Q2278.32 1504.73 2284.13 1504.73 Z\" fill=\"#000000\" fill-rule=\"evenodd\" fill-opacity=\"1\" /><path clip-path=\"url(#clip8700)\" d=\"M 0 0 M2301.15 1534.04 L2306.03 1534.04 L2306.03 1539.92 L2301.15 1539.92 L2301.15 1534.04 Z\" fill=\"#000000\" fill-rule=\"evenodd\" fill-opacity=\"1\" /><path clip-path=\"url(#clip8700)\" d=\"M 0 0 M2321.1 1508.44 Q2317.49 1508.44 2315.66 1512 Q2313.86 1515.55 2313.86 1522.67 Q2313.86 1529.78 2315.66 1533.35 Q2317.49 1536.89 2321.1 1536.89 Q2324.74 1536.89 2326.54 1533.35 Q2328.37 1529.78 2328.37 1522.67 Q2328.37 1515.55 2326.54 1512 Q2324.74 1508.44 2321.1 1508.44 M2321.1 1504.73 Q2326.91 1504.73 2329.97 1509.34 Q2333.05 1513.92 2333.05 1522.67 Q2333.05 1531.4 2329.97 1536.01 Q2326.91 1540.59 2321.1 1540.59 Q2315.29 1540.59 2312.21 1536.01 Q2309.16 1531.4 2309.16 1522.67 Q2309.16 1513.92 2312.21 1509.34 Q2315.29 1504.73 2321.1 1504.73 Z\" fill=\"#000000\" fill-rule=\"evenodd\" fill-opacity=\"1\" /><path clip-path=\"url(#clip8700)\" d=\"M 0 0 M63.2236 1294.53 L75.7004 1294.53 L75.7004 1298.32 L63.2236 1298.32 L63.2236 1294.53 Z\" fill=\"#000000\" fill-rule=\"evenodd\" fill-opacity=\"1\" /><path clip-path=\"url(#clip8700)\" d=\"M 0 0 M81.58 1305.48 L89.2188 1305.48 L89.2188 1279.11 L80.9087 1280.78 L80.9087 1276.52 L89.1725 1274.85 L93.8484 1274.85 L93.8484 1305.48 L101.487 1305.48 L101.487 1309.41 L81.58 1309.41 L81.58 1305.48 Z\" fill=\"#000000\" fill-rule=\"evenodd\" fill-opacity=\"1\" /><path clip-path=\"url(#clip8700)\" d=\"M 0 0 M106.557 1303.53 L111.441 1303.53 L111.441 1309.41 L106.557 1309.41 L106.557 1303.53 Z\" fill=\"#000000\" fill-rule=\"evenodd\" fill-opacity=\"1\" /><path clip-path=\"url(#clip8700)\" d=\"M 0 0 M126.51 1277.93 Q122.899 1277.93 121.071 1281.5 Q119.265 1285.04 119.265 1292.17 Q119.265 1299.27 121.071 1302.84 Q122.899 1306.38 126.51 1306.38 Q130.145 1306.38 131.95 1302.84 Q133.779 1299.27 133.779 1292.17 Q133.779 1285.04 131.95 1281.5 Q130.145 1277.93 126.51 1277.93 M126.51 1274.23 Q132.32 1274.23 135.376 1278.83 Q138.455 1283.42 138.455 1292.17 Q138.455 1300.89 135.376 1305.5 Q132.32 1310.08 126.51 1310.08 Q120.7 1310.08 117.621 1305.5 Q114.566 1300.89 114.566 1292.17 Q114.566 1283.42 117.621 1278.83 Q120.7 1274.23 126.51 1274.23 Z\" fill=\"#000000\" fill-rule=\"evenodd\" fill-opacity=\"1\" /><path clip-path=\"url(#clip8700)\" d=\"M 0 0 M62.9921 1019.19 L75.4689 1019.19 L75.4689 1022.99 L62.9921 1022.99 L62.9921 1019.19 Z\" fill=\"#000000\" fill-rule=\"evenodd\" fill-opacity=\"1\" /><path clip-path=\"url(#clip8700)\" d=\"M 0 0 M90.5383 1002.59 Q86.9272 1002.59 85.0985 1006.16 Q83.2929 1009.7 83.2929 1016.83 Q83.2929 1023.93 85.0985 1027.5 Q86.9272 1031.04 90.5383 1031.04 Q94.1725 1031.04 95.9781 1027.5 Q97.8068 1023.93 97.8068 1016.83 Q97.8068 1009.7 95.9781 1006.16 Q94.1725 1002.59 90.5383 1002.59 M90.5383 998.888 Q96.3484 998.888 99.404 1003.49 Q102.483 1008.08 102.483 1016.83 Q102.483 1025.55 99.404 1030.16 Q96.3484 1034.74 90.5383 1034.74 Q84.7281 1034.74 81.6494 1030.16 Q78.5939 1025.55 78.5939 1016.83 Q78.5939 1008.08 81.6494 1003.49 Q84.7281 998.888 90.5383 998.888 Z\" fill=\"#000000\" fill-rule=\"evenodd\" fill-opacity=\"1\" /><path clip-path=\"url(#clip8700)\" d=\"M 0 0 M107.552 1028.19 L112.436 1028.19 L112.436 1034.07 L107.552 1034.07 L107.552 1028.19 Z\" fill=\"#000000\" fill-rule=\"evenodd\" fill-opacity=\"1\" /><path clip-path=\"url(#clip8700)\" d=\"M 0 0 M117.552 999.513 L135.908 999.513 L135.908 1003.45 L121.834 1003.45 L121.834 1011.92 Q122.853 1011.57 123.871 1011.41 Q124.89 1011.23 125.908 1011.23 Q131.695 1011.23 135.075 1014.4 Q138.455 1017.57 138.455 1022.99 Q138.455 1028.56 134.982 1031.67 Q131.51 1034.74 125.191 1034.74 Q123.015 1034.74 120.746 1034.37 Q118.501 1034 116.094 1033.26 L116.094 1028.56 Q118.177 1029.7 120.399 1030.25 Q122.621 1030.81 125.098 1030.81 Q129.103 1030.81 131.441 1028.7 Q133.779 1026.6 133.779 1022.99 Q133.779 1019.37 131.441 1017.27 Q129.103 1015.16 125.098 1015.16 Q123.223 1015.16 121.348 1015.58 Q119.496 1015.99 117.552 1016.87 L117.552 999.513 Z\" fill=\"#000000\" fill-rule=\"evenodd\" fill-opacity=\"1\" /><path clip-path=\"url(#clip8700)\" d=\"M 0 0 M89.5429 727.252 Q85.9318 727.252 84.1031 730.817 Q82.2976 734.359 82.2976 741.488 Q82.2976 748.595 84.1031 752.159 Q85.9318 755.701 89.5429 755.701 Q93.1771 755.701 94.9827 752.159 Q96.8114 748.595 96.8114 741.488 Q96.8114 734.359 94.9827 730.817 Q93.1771 727.252 89.5429 727.252 M89.5429 723.548 Q95.3531 723.548 98.4086 728.155 Q101.487 732.738 101.487 741.488 Q101.487 750.215 98.4086 754.821 Q95.3531 759.405 89.5429 759.405 Q83.7328 759.405 80.6541 754.821 Q77.5985 750.215 77.5985 741.488 Q77.5985 732.738 80.6541 728.155 Q83.7328 723.548 89.5429 723.548 Z\" fill=\"#000000\" fill-rule=\"evenodd\" fill-opacity=\"1\" /><path clip-path=\"url(#clip8700)\" d=\"M 0 0 M106.557 752.854 L111.441 752.854 L111.441 758.733 L106.557 758.733 L106.557 752.854 Z\" fill=\"#000000\" fill-rule=\"evenodd\" fill-opacity=\"1\" /><path clip-path=\"url(#clip8700)\" d=\"M 0 0 M126.51 727.252 Q122.899 727.252 121.071 730.817 Q119.265 734.359 119.265 741.488 Q119.265 748.595 121.071 752.159 Q122.899 755.701 126.51 755.701 Q130.145 755.701 131.95 752.159 Q133.779 748.595 133.779 741.488 Q133.779 734.359 131.95 730.817 Q130.145 727.252 126.51 727.252 M126.51 723.548 Q132.32 723.548 135.376 728.155 Q138.455 732.738 138.455 741.488 Q138.455 750.215 135.376 754.821 Q132.32 759.405 126.51 759.405 Q120.7 759.405 117.621 754.821 Q114.566 750.215 114.566 741.488 Q114.566 732.738 117.621 728.155 Q120.7 723.548 126.51 723.548 Z\" fill=\"#000000\" fill-rule=\"evenodd\" fill-opacity=\"1\" /><path clip-path=\"url(#clip8700)\" d=\"M 0 0 M90.5383 451.912 Q86.9272 451.912 85.0985 455.477 Q83.2929 459.019 83.2929 466.148 Q83.2929 473.255 85.0985 476.82 Q86.9272 480.361 90.5383 480.361 Q94.1725 480.361 95.9781 476.82 Q97.8068 473.255 97.8068 466.148 Q97.8068 459.019 95.9781 455.477 Q94.1725 451.912 90.5383 451.912 M90.5383 448.209 Q96.3484 448.209 99.404 452.815 Q102.483 457.398 102.483 466.148 Q102.483 474.875 99.404 479.482 Q96.3484 484.065 90.5383 484.065 Q84.7281 484.065 81.6494 479.482 Q78.5939 474.875 78.5939 466.148 Q78.5939 457.398 81.6494 452.815 Q84.7281 448.209 90.5383 448.209 Z\" fill=\"#000000\" fill-rule=\"evenodd\" fill-opacity=\"1\" /><path clip-path=\"url(#clip8700)\" d=\"M 0 0 M107.552 477.514 L112.436 477.514 L112.436 483.394 L107.552 483.394 L107.552 477.514 Z\" fill=\"#000000\" fill-rule=\"evenodd\" fill-opacity=\"1\" /><path clip-path=\"url(#clip8700)\" d=\"M 0 0 M117.552 448.834 L135.908 448.834 L135.908 452.769 L121.834 452.769 L121.834 461.241 Q122.853 460.894 123.871 460.732 Q124.89 460.547 125.908 460.547 Q131.695 460.547 135.075 463.718 Q138.455 466.889 138.455 472.306 Q138.455 477.884 134.982 480.986 Q131.51 484.065 125.191 484.065 Q123.015 484.065 120.746 483.695 Q118.501 483.324 116.094 482.584 L116.094 477.884 Q118.177 479.019 120.399 479.574 Q122.621 480.13 125.098 480.13 Q129.103 480.13 131.441 478.023 Q133.779 475.917 133.779 472.306 Q133.779 468.695 131.441 466.588 Q129.103 464.482 125.098 464.482 Q123.223 464.482 121.348 464.898 Q119.496 465.315 117.552 466.195 L117.552 448.834 Z\" fill=\"#000000\" fill-rule=\"evenodd\" fill-opacity=\"1\" /><path clip-path=\"url(#clip8700)\" d=\"M 0 0 M81.58 204.119 L89.2188 204.119 L89.2188 177.753 L80.9087 179.42 L80.9087 175.161 L89.1725 173.494 L93.8484 173.494 L93.8484 204.119 L101.487 204.119 L101.487 208.054 L81.58 208.054 L81.58 204.119 Z\" fill=\"#000000\" fill-rule=\"evenodd\" fill-opacity=\"1\" /><path clip-path=\"url(#clip8700)\" d=\"M 0 0 M106.557 202.174 L111.441 202.174 L111.441 208.054 L106.557 208.054 L106.557 202.174 Z\" fill=\"#000000\" fill-rule=\"evenodd\" fill-opacity=\"1\" /><path clip-path=\"url(#clip8700)\" d=\"M 0 0 M126.51 176.573 Q122.899 176.573 121.071 180.137 Q119.265 183.679 119.265 190.809 Q119.265 197.915 121.071 201.48 Q122.899 205.022 126.51 205.022 Q130.145 205.022 131.95 201.48 Q133.779 197.915 133.779 190.809 Q133.779 183.679 131.95 180.137 Q130.145 176.573 126.51 176.573 M126.51 172.869 Q132.32 172.869 135.376 177.475 Q138.455 182.059 138.455 190.809 Q138.455 199.535 135.376 204.142 Q132.32 208.725 126.51 208.725 Q120.7 208.725 117.621 204.142 Q114.566 199.535 114.566 190.809 Q114.566 182.059 117.621 177.475 Q120.7 172.869 126.51 172.869 Z\" fill=\"#000000\" fill-rule=\"evenodd\" fill-opacity=\"1\" /><circle clip-path=\"url(#clip8702)\" cx=\"1239.27\" cy=\"1370.14\" r=\"14\" fill=\"#009af9\" fill-rule=\"evenodd\" fill-opacity=\"1\" stroke=\"#000000\" stroke-opacity=\"1\" stroke-width=\"3.2\"/>\n",
       "<circle clip-path=\"url(#clip8702)\" cx=\"2127.09\" cy=\"503.353\" r=\"14\" fill=\"#009af9\" fill-rule=\"evenodd\" fill-opacity=\"1\" stroke=\"#000000\" stroke-opacity=\"1\" stroke-width=\"3.2\"/>\n",
       "<circle clip-path=\"url(#clip8702)\" cx=\"1232.13\" cy=\"1391.59\" r=\"14\" fill=\"#009af9\" fill-rule=\"evenodd\" fill-opacity=\"1\" stroke=\"#000000\" stroke-opacity=\"1\" stroke-width=\"3.2\"/>\n",
       "<circle clip-path=\"url(#clip8702)\" cx=\"792.817\" cy=\"476.754\" r=\"14\" fill=\"#009af9\" fill-rule=\"evenodd\" fill-opacity=\"1\" stroke=\"#000000\" stroke-opacity=\"1\" stroke-width=\"3.2\"/>\n",
       "<circle clip-path=\"url(#clip8702)\" cx=\"1075.6\" cy=\"1121.64\" r=\"14\" fill=\"#009af9\" fill-rule=\"evenodd\" fill-opacity=\"1\" stroke=\"#000000\" stroke-opacity=\"1\" stroke-width=\"3.2\"/>\n",
       "<circle clip-path=\"url(#clip8702)\" cx=\"534.724\" cy=\"252.283\" r=\"14\" fill=\"#009af9\" fill-rule=\"evenodd\" fill-opacity=\"1\" stroke=\"#000000\" stroke-opacity=\"1\" stroke-width=\"3.2\"/>\n",
       "<circle clip-path=\"url(#clip8702)\" cx=\"2149.37\" cy=\"574.208\" r=\"14\" fill=\"#009af9\" fill-rule=\"evenodd\" fill-opacity=\"1\" stroke=\"#000000\" stroke-opacity=\"1\" stroke-width=\"3.2\"/>\n",
       "<circle clip-path=\"url(#clip8702)\" cx=\"2273.35\" cy=\"1068.46\" r=\"14\" fill=\"#009af9\" fill-rule=\"evenodd\" fill-opacity=\"1\" stroke=\"#000000\" stroke-opacity=\"1\" stroke-width=\"3.2\"/>\n",
       "<circle clip-path=\"url(#clip8702)\" cx=\"694.802\" cy=\"229.396\" r=\"14\" fill=\"#009af9\" fill-rule=\"evenodd\" fill-opacity=\"1\" stroke=\"#000000\" stroke-opacity=\"1\" stroke-width=\"3.2\"/>\n",
       "<circle clip-path=\"url(#clip8702)\" cx=\"1985.15\" cy=\"292.552\" r=\"14\" fill=\"#009af9\" fill-rule=\"evenodd\" fill-opacity=\"1\" stroke=\"#000000\" stroke-opacity=\"1\" stroke-width=\"3.2\"/>\n",
       "<circle clip-path=\"url(#clip8702)\" cx=\"2244.17\" cy=\"908.794\" r=\"14\" fill=\"#009af9\" fill-rule=\"evenodd\" fill-opacity=\"1\" stroke=\"#000000\" stroke-opacity=\"1\" stroke-width=\"3.2\"/>\n",
       "<circle clip-path=\"url(#clip8702)\" cx=\"1288.25\" cy=\"1161.09\" r=\"14\" fill=\"#009af9\" fill-rule=\"evenodd\" fill-opacity=\"1\" stroke=\"#000000\" stroke-opacity=\"1\" stroke-width=\"3.2\"/>\n",
       "<circle clip-path=\"url(#clip8702)\" cx=\"2251.2\" cy=\"990.787\" r=\"14\" fill=\"#009af9\" fill-rule=\"evenodd\" fill-opacity=\"1\" stroke=\"#000000\" stroke-opacity=\"1\" stroke-width=\"3.2\"/>\n",
       "<circle clip-path=\"url(#clip8702)\" cx=\"1323.88\" cy=\"1251.47\" r=\"14\" fill=\"#009af9\" fill-rule=\"evenodd\" fill-opacity=\"1\" stroke=\"#000000\" stroke-opacity=\"1\" stroke-width=\"3.2\"/>\n",
       "<circle clip-path=\"url(#clip8702)\" cx=\"2288.06\" cy=\"1033.42\" r=\"14\" fill=\"#009af9\" fill-rule=\"evenodd\" fill-opacity=\"1\" stroke=\"#000000\" stroke-opacity=\"1\" stroke-width=\"3.2\"/>\n",
       "<circle clip-path=\"url(#clip8702)\" cx=\"662.559\" cy=\"182.659\" r=\"14\" fill=\"#009af9\" fill-rule=\"evenodd\" fill-opacity=\"1\" stroke=\"#000000\" stroke-opacity=\"1\" stroke-width=\"3.2\"/>\n",
       "<circle clip-path=\"url(#clip8702)\" cx=\"1679.03\" cy=\"327.18\" r=\"14\" fill=\"#009af9\" fill-rule=\"evenodd\" fill-opacity=\"1\" stroke=\"#000000\" stroke-opacity=\"1\" stroke-width=\"3.2\"/>\n",
       "<circle clip-path=\"url(#clip8702)\" cx=\"918.81\" cy=\"910.228\" r=\"14\" fill=\"#009af9\" fill-rule=\"evenodd\" fill-opacity=\"1\" stroke=\"#000000\" stroke-opacity=\"1\" stroke-width=\"3.2\"/>\n",
       "<circle clip-path=\"url(#clip8702)\" cx=\"753.154\" cy=\"615.766\" r=\"14\" fill=\"#009af9\" fill-rule=\"evenodd\" fill-opacity=\"1\" stroke=\"#000000\" stroke-opacity=\"1\" stroke-width=\"3.2\"/>\n",
       "<circle clip-path=\"url(#clip8702)\" cx=\"1603.73\" cy=\"480.476\" r=\"14\" fill=\"#009af9\" fill-rule=\"evenodd\" fill-opacity=\"1\" stroke=\"#000000\" stroke-opacity=\"1\" stroke-width=\"3.2\"/>\n",
       "<circle clip-path=\"url(#clip8702)\" cx=\"1378.77\" cy=\"920.073\" r=\"14\" fill=\"#009af9\" fill-rule=\"evenodd\" fill-opacity=\"1\" stroke=\"#000000\" stroke-opacity=\"1\" stroke-width=\"3.2\"/>\n",
       "<circle clip-path=\"url(#clip8702)\" cx=\"670.113\" cy=\"492.984\" r=\"14\" fill=\"#009af9\" fill-rule=\"evenodd\" fill-opacity=\"1\" stroke=\"#000000\" stroke-opacity=\"1\" stroke-width=\"3.2\"/>\n",
       "<circle clip-path=\"url(#clip8702)\" cx=\"2056.56\" cy=\"324.774\" r=\"14\" fill=\"#009af9\" fill-rule=\"evenodd\" fill-opacity=\"1\" stroke=\"#000000\" stroke-opacity=\"1\" stroke-width=\"3.2\"/>\n",
       "<circle clip-path=\"url(#clip8702)\" cx=\"1983.25\" cy=\"229.828\" r=\"14\" fill=\"#009af9\" fill-rule=\"evenodd\" fill-opacity=\"1\" stroke=\"#000000\" stroke-opacity=\"1\" stroke-width=\"3.2\"/>\n",
       "<circle clip-path=\"url(#clip8702)\" cx=\"2097.75\" cy=\"504.476\" r=\"14\" fill=\"#009af9\" fill-rule=\"evenodd\" fill-opacity=\"1\" stroke=\"#000000\" stroke-opacity=\"1\" stroke-width=\"3.2\"/>\n",
       "<circle clip-path=\"url(#clip8702)\" cx=\"296.456\" cy=\"549.973\" r=\"14\" fill=\"#009af9\" fill-rule=\"evenodd\" fill-opacity=\"1\" stroke=\"#000000\" stroke-opacity=\"1\" stroke-width=\"3.2\"/>\n",
       "<circle clip-path=\"url(#clip8702)\" cx=\"1542.03\" cy=\"669.18\" r=\"14\" fill=\"#009af9\" fill-rule=\"evenodd\" fill-opacity=\"1\" stroke=\"#000000\" stroke-opacity=\"1\" stroke-width=\"3.2\"/>\n",
       "<circle clip-path=\"url(#clip8702)\" cx=\"763.292\" cy=\"461.005\" r=\"14\" fill=\"#009af9\" fill-rule=\"evenodd\" fill-opacity=\"1\" stroke=\"#000000\" stroke-opacity=\"1\" stroke-width=\"3.2\"/>\n",
       "<circle clip-path=\"url(#clip8702)\" cx=\"2034.69\" cy=\"541.689\" r=\"14\" fill=\"#009af9\" fill-rule=\"evenodd\" fill-opacity=\"1\" stroke=\"#000000\" stroke-opacity=\"1\" stroke-width=\"3.2\"/>\n",
       "<circle clip-path=\"url(#clip8702)\" cx=\"526.954\" cy=\"145.496\" r=\"14\" fill=\"#009af9\" fill-rule=\"evenodd\" fill-opacity=\"1\" stroke=\"#000000\" stroke-opacity=\"1\" stroke-width=\"3.2\"/>\n",
       "<circle clip-path=\"url(#clip8702)\" cx=\"576.732\" cy=\"393.515\" r=\"14\" fill=\"#009af9\" fill-rule=\"evenodd\" fill-opacity=\"1\" stroke=\"#000000\" stroke-opacity=\"1\" stroke-width=\"3.2\"/>\n",
       "<circle clip-path=\"url(#clip8702)\" cx=\"1208.26\" cy=\"1151.64\" r=\"14\" fill=\"#009af9\" fill-rule=\"evenodd\" fill-opacity=\"1\" stroke=\"#000000\" stroke-opacity=\"1\" stroke-width=\"3.2\"/>\n",
       "<circle clip-path=\"url(#clip8702)\" cx=\"961.963\" cy=\"924.35\" r=\"14\" fill=\"#009af9\" fill-rule=\"evenodd\" fill-opacity=\"1\" stroke=\"#000000\" stroke-opacity=\"1\" stroke-width=\"3.2\"/>\n",
       "<circle clip-path=\"url(#clip8702)\" cx=\"713.319\" cy=\"529.061\" r=\"14\" fill=\"#009af9\" fill-rule=\"evenodd\" fill-opacity=\"1\" stroke=\"#000000\" stroke-opacity=\"1\" stroke-width=\"3.2\"/>\n",
       "<circle clip-path=\"url(#clip8702)\" cx=\"1461.2\" cy=\"1032.51\" r=\"14\" fill=\"#009af9\" fill-rule=\"evenodd\" fill-opacity=\"1\" stroke=\"#000000\" stroke-opacity=\"1\" stroke-width=\"3.2\"/>\n",
       "<circle clip-path=\"url(#clip8702)\" cx=\"526.595\" cy=\"312.591\" r=\"14\" fill=\"#009af9\" fill-rule=\"evenodd\" fill-opacity=\"1\" stroke=\"#000000\" stroke-opacity=\"1\" stroke-width=\"3.2\"/>\n",
       "<circle clip-path=\"url(#clip8702)\" cx=\"1046.83\" cy=\"1322.56\" r=\"14\" fill=\"#009af9\" fill-rule=\"evenodd\" fill-opacity=\"1\" stroke=\"#000000\" stroke-opacity=\"1\" stroke-width=\"3.2\"/>\n",
       "<circle clip-path=\"url(#clip8702)\" cx=\"1605.84\" cy=\"488.495\" r=\"14\" fill=\"#009af9\" fill-rule=\"evenodd\" fill-opacity=\"1\" stroke=\"#000000\" stroke-opacity=\"1\" stroke-width=\"3.2\"/>\n",
       "<circle clip-path=\"url(#clip8702)\" cx=\"2083.01\" cy=\"689.216\" r=\"14\" fill=\"#009af9\" fill-rule=\"evenodd\" fill-opacity=\"1\" stroke=\"#000000\" stroke-opacity=\"1\" stroke-width=\"3.2\"/>\n",
       "<circle clip-path=\"url(#clip8702)\" cx=\"978.811\" cy=\"983.671\" r=\"14\" fill=\"#009af9\" fill-rule=\"evenodd\" fill-opacity=\"1\" stroke=\"#000000\" stroke-opacity=\"1\" stroke-width=\"3.2\"/>\n",
       "<circle clip-path=\"url(#clip8702)\" cx=\"1263.09\" cy=\"1347.75\" r=\"14\" fill=\"#009af9\" fill-rule=\"evenodd\" fill-opacity=\"1\" stroke=\"#000000\" stroke-opacity=\"1\" stroke-width=\"3.2\"/>\n",
       "<circle clip-path=\"url(#clip8702)\" cx=\"883.689\" cy=\"682.52\" r=\"14\" fill=\"#009af9\" fill-rule=\"evenodd\" fill-opacity=\"1\" stroke=\"#000000\" stroke-opacity=\"1\" stroke-width=\"3.2\"/>\n",
       "<circle clip-path=\"url(#clip8702)\" cx=\"987.754\" cy=\"1065.64\" r=\"14\" fill=\"#009af9\" fill-rule=\"evenodd\" fill-opacity=\"1\" stroke=\"#000000\" stroke-opacity=\"1\" stroke-width=\"3.2\"/>\n",
       "<circle clip-path=\"url(#clip8702)\" cx=\"1445.35\" cy=\"932.73\" r=\"14\" fill=\"#009af9\" fill-rule=\"evenodd\" fill-opacity=\"1\" stroke=\"#000000\" stroke-opacity=\"1\" stroke-width=\"3.2\"/>\n",
       "<circle clip-path=\"url(#clip8702)\" cx=\"728.441\" cy=\"408.192\" r=\"14\" fill=\"#009af9\" fill-rule=\"evenodd\" fill-opacity=\"1\" stroke=\"#000000\" stroke-opacity=\"1\" stroke-width=\"3.2\"/>\n",
       "<circle clip-path=\"url(#clip8702)\" cx=\"1152.74\" cy=\"1445.72\" r=\"14\" fill=\"#009af9\" fill-rule=\"evenodd\" fill-opacity=\"1\" stroke=\"#000000\" stroke-opacity=\"1\" stroke-width=\"3.2\"/>\n",
       "<circle clip-path=\"url(#clip8702)\" cx=\"641.617\" cy=\"137.951\" r=\"14\" fill=\"#009af9\" fill-rule=\"evenodd\" fill-opacity=\"1\" stroke=\"#000000\" stroke-opacity=\"1\" stroke-width=\"3.2\"/>\n",
       "<circle clip-path=\"url(#clip8702)\" cx=\"1264.42\" cy=\"1200.37\" r=\"14\" fill=\"#009af9\" fill-rule=\"evenodd\" fill-opacity=\"1\" stroke=\"#000000\" stroke-opacity=\"1\" stroke-width=\"3.2\"/>\n",
       "<circle clip-path=\"url(#clip8702)\" cx=\"950.969\" cy=\"982.667\" r=\"14\" fill=\"#009af9\" fill-rule=\"evenodd\" fill-opacity=\"1\" stroke=\"#000000\" stroke-opacity=\"1\" stroke-width=\"3.2\"/>\n",
       "<circle clip-path=\"url(#clip8702)\" cx=\"2075.1\" cy=\"549.222\" r=\"14\" fill=\"#009af9\" fill-rule=\"evenodd\" fill-opacity=\"1\" stroke=\"#000000\" stroke-opacity=\"1\" stroke-width=\"3.2\"/>\n",
       "<circle clip-path=\"url(#clip8702)\" cx=\"429.353\" cy=\"195.556\" r=\"14\" fill=\"#009af9\" fill-rule=\"evenodd\" fill-opacity=\"1\" stroke=\"#000000\" stroke-opacity=\"1\" stroke-width=\"3.2\"/>\n",
       "<circle clip-path=\"url(#clip8702)\" cx=\"2250.64\" cy=\"927.696\" r=\"14\" fill=\"#009af9\" fill-rule=\"evenodd\" fill-opacity=\"1\" stroke=\"#000000\" stroke-opacity=\"1\" stroke-width=\"3.2\"/>\n",
       "<circle clip-path=\"url(#clip8702)\" cx=\"978.384\" cy=\"886.013\" r=\"14\" fill=\"#009af9\" fill-rule=\"evenodd\" fill-opacity=\"1\" stroke=\"#000000\" stroke-opacity=\"1\" stroke-width=\"3.2\"/>\n",
       "<circle clip-path=\"url(#clip8702)\" cx=\"579.72\" cy=\"229.125\" r=\"14\" fill=\"#009af9\" fill-rule=\"evenodd\" fill-opacity=\"1\" stroke=\"#000000\" stroke-opacity=\"1\" stroke-width=\"3.2\"/>\n",
       "<circle clip-path=\"url(#clip8702)\" cx=\"1332.21\" cy=\"1074.73\" r=\"14\" fill=\"#009af9\" fill-rule=\"evenodd\" fill-opacity=\"1\" stroke=\"#000000\" stroke-opacity=\"1\" stroke-width=\"3.2\"/>\n",
       "<circle clip-path=\"url(#clip8702)\" cx=\"601.409\" cy=\"134.783\" r=\"14\" fill=\"#009af9\" fill-rule=\"evenodd\" fill-opacity=\"1\" stroke=\"#000000\" stroke-opacity=\"1\" stroke-width=\"3.2\"/>\n",
       "<circle clip-path=\"url(#clip8702)\" cx=\"379.361\" cy=\"543.698\" r=\"14\" fill=\"#009af9\" fill-rule=\"evenodd\" fill-opacity=\"1\" stroke=\"#000000\" stroke-opacity=\"1\" stroke-width=\"3.2\"/>\n",
       "<circle clip-path=\"url(#clip8702)\" cx=\"1984.79\" cy=\"338.606\" r=\"14\" fill=\"#009af9\" fill-rule=\"evenodd\" fill-opacity=\"1\" stroke=\"#000000\" stroke-opacity=\"1\" stroke-width=\"3.2\"/>\n",
       "<circle clip-path=\"url(#clip8702)\" cx=\"1178.08\" cy=\"1271.52\" r=\"14\" fill=\"#009af9\" fill-rule=\"evenodd\" fill-opacity=\"1\" stroke=\"#000000\" stroke-opacity=\"1\" stroke-width=\"3.2\"/>\n",
       "<circle clip-path=\"url(#clip8702)\" cx=\"1442.08\" cy=\"1034.11\" r=\"14\" fill=\"#009af9\" fill-rule=\"evenodd\" fill-opacity=\"1\" stroke=\"#000000\" stroke-opacity=\"1\" stroke-width=\"3.2\"/>\n",
       "<circle clip-path=\"url(#clip8702)\" cx=\"665.572\" cy=\"380.552\" r=\"14\" fill=\"#009af9\" fill-rule=\"evenodd\" fill-opacity=\"1\" stroke=\"#000000\" stroke-opacity=\"1\" stroke-width=\"3.2\"/>\n",
       "<circle clip-path=\"url(#clip8702)\" cx=\"1836.29\" cy=\"87.9763\" r=\"14\" fill=\"#009af9\" fill-rule=\"evenodd\" fill-opacity=\"1\" stroke=\"#000000\" stroke-opacity=\"1\" stroke-width=\"3.2\"/>\n",
       "<circle clip-path=\"url(#clip8702)\" cx=\"990.809\" cy=\"1024.68\" r=\"14\" fill=\"#009af9\" fill-rule=\"evenodd\" fill-opacity=\"1\" stroke=\"#000000\" stroke-opacity=\"1\" stroke-width=\"3.2\"/>\n",
       "<circle clip-path=\"url(#clip8702)\" cx=\"1410.65\" cy=\"853.814\" r=\"14\" fill=\"#009af9\" fill-rule=\"evenodd\" fill-opacity=\"1\" stroke=\"#000000\" stroke-opacity=\"1\" stroke-width=\"3.2\"/>\n",
       "<circle clip-path=\"url(#clip8702)\" cx=\"1620.89\" cy=\"601.656\" r=\"14\" fill=\"#009af9\" fill-rule=\"evenodd\" fill-opacity=\"1\" stroke=\"#000000\" stroke-opacity=\"1\" stroke-width=\"3.2\"/>\n",
       "<circle clip-path=\"url(#clip8702)\" cx=\"959.251\" cy=\"1159.87\" r=\"14\" fill=\"#009af9\" fill-rule=\"evenodd\" fill-opacity=\"1\" stroke=\"#000000\" stroke-opacity=\"1\" stroke-width=\"3.2\"/>\n",
       "<circle clip-path=\"url(#clip8702)\" cx=\"1336.81\" cy=\"987.256\" r=\"14\" fill=\"#009af9\" fill-rule=\"evenodd\" fill-opacity=\"1\" stroke=\"#000000\" stroke-opacity=\"1\" stroke-width=\"3.2\"/>\n",
       "<circle clip-path=\"url(#clip8702)\" cx=\"2021.72\" cy=\"318.33\" r=\"14\" fill=\"#009af9\" fill-rule=\"evenodd\" fill-opacity=\"1\" stroke=\"#000000\" stroke-opacity=\"1\" stroke-width=\"3.2\"/>\n",
       "<circle clip-path=\"url(#clip8702)\" cx=\"410.013\" cy=\"451.453\" r=\"14\" fill=\"#009af9\" fill-rule=\"evenodd\" fill-opacity=\"1\" stroke=\"#000000\" stroke-opacity=\"1\" stroke-width=\"3.2\"/>\n",
       "<circle clip-path=\"url(#clip8702)\" cx=\"1747.74\" cy=\"383.278\" r=\"14\" fill=\"#009af9\" fill-rule=\"evenodd\" fill-opacity=\"1\" stroke=\"#000000\" stroke-opacity=\"1\" stroke-width=\"3.2\"/>\n",
       "<circle clip-path=\"url(#clip8702)\" cx=\"1650.62\" cy=\"559.79\" r=\"14\" fill=\"#009af9\" fill-rule=\"evenodd\" fill-opacity=\"1\" stroke=\"#000000\" stroke-opacity=\"1\" stroke-width=\"3.2\"/>\n",
       "<circle clip-path=\"url(#clip8702)\" cx=\"2189.16\" cy=\"710.844\" r=\"14\" fill=\"#009af9\" fill-rule=\"evenodd\" fill-opacity=\"1\" stroke=\"#000000\" stroke-opacity=\"1\" stroke-width=\"3.2\"/>\n",
       "<circle clip-path=\"url(#clip8702)\" cx=\"1936.63\" cy=\"112.045\" r=\"14\" fill=\"#009af9\" fill-rule=\"evenodd\" fill-opacity=\"1\" stroke=\"#000000\" stroke-opacity=\"1\" stroke-width=\"3.2\"/>\n",
       "<circle clip-path=\"url(#clip8702)\" cx=\"1160.06\" cy=\"1142.81\" r=\"14\" fill=\"#009af9\" fill-rule=\"evenodd\" fill-opacity=\"1\" stroke=\"#000000\" stroke-opacity=\"1\" stroke-width=\"3.2\"/>\n",
       "<circle clip-path=\"url(#clip8702)\" cx=\"1088.41\" cy=\"1145.19\" r=\"14\" fill=\"#009af9\" fill-rule=\"evenodd\" fill-opacity=\"1\" stroke=\"#000000\" stroke-opacity=\"1\" stroke-width=\"3.2\"/>\n",
       "<circle clip-path=\"url(#clip8702)\" cx=\"1417.79\" cy=\"1072.58\" r=\"14\" fill=\"#009af9\" fill-rule=\"evenodd\" fill-opacity=\"1\" stroke=\"#000000\" stroke-opacity=\"1\" stroke-width=\"3.2\"/>\n",
       "<circle clip-path=\"url(#clip8702)\" cx=\"1508.09\" cy=\"801.265\" r=\"14\" fill=\"#009af9\" fill-rule=\"evenodd\" fill-opacity=\"1\" stroke=\"#000000\" stroke-opacity=\"1\" stroke-width=\"3.2\"/>\n",
       "<circle clip-path=\"url(#clip8702)\" cx=\"2269.96\" cy=\"1062.18\" r=\"14\" fill=\"#009af9\" fill-rule=\"evenodd\" fill-opacity=\"1\" stroke=\"#000000\" stroke-opacity=\"1\" stroke-width=\"3.2\"/>\n",
       "<circle clip-path=\"url(#clip8702)\" cx=\"352.44\" cy=\"446.995\" r=\"14\" fill=\"#009af9\" fill-rule=\"evenodd\" fill-opacity=\"1\" stroke=\"#000000\" stroke-opacity=\"1\" stroke-width=\"3.2\"/>\n",
       "<circle clip-path=\"url(#clip8702)\" cx=\"1548.21\" cy=\"716.366\" r=\"14\" fill=\"#009af9\" fill-rule=\"evenodd\" fill-opacity=\"1\" stroke=\"#000000\" stroke-opacity=\"1\" stroke-width=\"3.2\"/>\n",
       "<circle clip-path=\"url(#clip8702)\" cx=\"2021.92\" cy=\"452.359\" r=\"14\" fill=\"#009af9\" fill-rule=\"evenodd\" fill-opacity=\"1\" stroke=\"#000000\" stroke-opacity=\"1\" stroke-width=\"3.2\"/>\n",
       "<circle clip-path=\"url(#clip8702)\" cx=\"1819.75\" cy=\"182\" r=\"14\" fill=\"#009af9\" fill-rule=\"evenodd\" fill-opacity=\"1\" stroke=\"#000000\" stroke-opacity=\"1\" stroke-width=\"3.2\"/>\n",
       "<circle clip-path=\"url(#clip8702)\" cx=\"971.694\" cy=\"1176.43\" r=\"14\" fill=\"#009af9\" fill-rule=\"evenodd\" fill-opacity=\"1\" stroke=\"#000000\" stroke-opacity=\"1\" stroke-width=\"3.2\"/>\n",
       "<circle clip-path=\"url(#clip8702)\" cx=\"911.389\" cy=\"755.562\" r=\"14\" fill=\"#009af9\" fill-rule=\"evenodd\" fill-opacity=\"1\" stroke=\"#000000\" stroke-opacity=\"1\" stroke-width=\"3.2\"/>\n",
       "<circle clip-path=\"url(#clip8702)\" cx=\"675.562\" cy=\"368.484\" r=\"14\" fill=\"#009af9\" fill-rule=\"evenodd\" fill-opacity=\"1\" stroke=\"#000000\" stroke-opacity=\"1\" stroke-width=\"3.2\"/>\n",
       "<circle clip-path=\"url(#clip8702)\" cx=\"806.31\" cy=\"512.159\" r=\"14\" fill=\"#009af9\" fill-rule=\"evenodd\" fill-opacity=\"1\" stroke=\"#000000\" stroke-opacity=\"1\" stroke-width=\"3.2\"/>\n",
       "<circle clip-path=\"url(#clip8702)\" cx=\"293.827\" cy=\"690.461\" r=\"14\" fill=\"#009af9\" fill-rule=\"evenodd\" fill-opacity=\"1\" stroke=\"#000000\" stroke-opacity=\"1\" stroke-width=\"3.2\"/>\n",
       "<circle clip-path=\"url(#clip8702)\" cx=\"1607.94\" cy=\"540.274\" r=\"14\" fill=\"#009af9\" fill-rule=\"evenodd\" fill-opacity=\"1\" stroke=\"#000000\" stroke-opacity=\"1\" stroke-width=\"3.2\"/>\n",
       "<circle clip-path=\"url(#clip8702)\" cx=\"841.075\" cy=\"536.583\" r=\"14\" fill=\"#009af9\" fill-rule=\"evenodd\" fill-opacity=\"1\" stroke=\"#000000\" stroke-opacity=\"1\" stroke-width=\"3.2\"/>\n",
       "<circle clip-path=\"url(#clip8702)\" cx=\"1474.84\" cy=\"888.38\" r=\"14\" fill=\"#009af9\" fill-rule=\"evenodd\" fill-opacity=\"1\" stroke=\"#000000\" stroke-opacity=\"1\" stroke-width=\"3.2\"/>\n",
       "<circle clip-path=\"url(#clip8702)\" cx=\"1660.91\" cy=\"529.141\" r=\"14\" fill=\"#009af9\" fill-rule=\"evenodd\" fill-opacity=\"1\" stroke=\"#000000\" stroke-opacity=\"1\" stroke-width=\"3.2\"/>\n",
       "<circle clip-path=\"url(#clip8702)\" cx=\"1991.14\" cy=\"247.047\" r=\"14\" fill=\"#009af9\" fill-rule=\"evenodd\" fill-opacity=\"1\" stroke=\"#000000\" stroke-opacity=\"1\" stroke-width=\"3.2\"/>\n",
       "<circle clip-path=\"url(#clip8702)\" cx=\"861.402\" cy=\"675.536\" r=\"14\" fill=\"#009af9\" fill-rule=\"evenodd\" fill-opacity=\"1\" stroke=\"#000000\" stroke-opacity=\"1\" stroke-width=\"3.2\"/>\n",
       "<circle clip-path=\"url(#clip8702)\" cx=\"1807.36\" cy=\"182.477\" r=\"14\" fill=\"#009af9\" fill-rule=\"evenodd\" fill-opacity=\"1\" stroke=\"#000000\" stroke-opacity=\"1\" stroke-width=\"3.2\"/>\n",
       "<circle clip-path=\"url(#clip8702)\" cx=\"1402.77\" cy=\"1083.83\" r=\"14\" fill=\"#009af9\" fill-rule=\"evenodd\" fill-opacity=\"1\" stroke=\"#000000\" stroke-opacity=\"1\" stroke-width=\"3.2\"/>\n",
       "<circle clip-path=\"url(#clip8702)\" cx=\"925.216\" cy=\"1077.65\" r=\"14\" fill=\"#009af9\" fill-rule=\"evenodd\" fill-opacity=\"1\" stroke=\"#000000\" stroke-opacity=\"1\" stroke-width=\"3.2\"/>\n",
       "<circle clip-path=\"url(#clip8702)\" cx=\"1497.08\" cy=\"858.009\" r=\"14\" fill=\"#009af9\" fill-rule=\"evenodd\" fill-opacity=\"1\" stroke=\"#000000\" stroke-opacity=\"1\" stroke-width=\"3.2\"/>\n",
       "<circle clip-path=\"url(#clip8702)\" cx=\"638.383\" cy=\"271.229\" r=\"14\" fill=\"#009af9\" fill-rule=\"evenodd\" fill-opacity=\"1\" stroke=\"#000000\" stroke-opacity=\"1\" stroke-width=\"3.2\"/>\n",
       "<circle clip-path=\"url(#clip8702)\" cx=\"341.249\" cy=\"437.67\" r=\"14\" fill=\"#009af9\" fill-rule=\"evenodd\" fill-opacity=\"1\" stroke=\"#000000\" stroke-opacity=\"1\" stroke-width=\"3.2\"/>\n",
       "<circle clip-path=\"url(#clip8702)\" cx=\"1608.37\" cy=\"319.201\" r=\"14\" fill=\"#009af9\" fill-rule=\"evenodd\" fill-opacity=\"1\" stroke=\"#000000\" stroke-opacity=\"1\" stroke-width=\"3.2\"/>\n",
       "<polyline clip-path=\"url(#clip8702)\" style=\"stroke:#e26f46; stroke-width:4; stroke-opacity:1; fill:none\" points=\"\n",
       "  224.444,186.91 245.108,210.913 265.771,234.48 286.434,257.611 307.097,280.307 327.76,302.567 348.424,324.391 369.087,345.778 389.75,366.731 410.413,387.247 \n",
       "  431.077,407.327 451.74,426.972 472.403,446.181 493.066,464.954 513.729,483.291 534.393,501.192 555.056,518.657 575.719,535.687 596.382,552.281 617.046,568.439 \n",
       "  637.709,584.161 658.372,599.447 679.035,614.297 699.698,628.711 720.362,642.69 741.025,656.233 761.688,669.34 782.351,682.011 803.014,694.246 823.678,706.046 \n",
       "  844.341,717.409 865.004,728.337 885.667,738.829 906.331,748.885 926.994,758.505 947.657,767.689 968.32,776.438 988.983,784.75 1009.65,792.627 1030.31,800.068 \n",
       "  1050.97,807.073 1071.64,813.642 1092.3,819.776 1112.96,825.473 1133.63,830.735 1154.29,835.561 1174.95,839.951 1195.62,843.905 1216.28,847.424 1236.94,850.506 \n",
       "  1257.61,853.153 1278.27,855.364 1298.93,857.139 1319.59,858.478 1340.26,859.381 1360.92,859.848 1381.58,859.88 1402.25,859.476 1422.91,858.636 1443.57,857.36 \n",
       "  1464.24,855.648 1484.9,853.5 1505.56,850.917 1526.23,847.897 1546.89,844.442 1567.55,840.551 1588.22,836.224 1608.88,831.462 1629.54,826.263 1650.21,820.629 \n",
       "  1670.87,814.558 1691.53,808.052 1712.2,801.11 1732.86,793.733 1753.52,785.919 1774.19,777.669 1794.85,768.984 1815.51,759.863 1836.18,750.306 1856.84,740.313 \n",
       "  1877.5,729.884 1898.17,719.02 1918.83,707.719 1939.49,695.983 1960.15,683.811 1980.82,671.203 2001.48,658.159 2022.14,644.68 2042.81,630.764 2063.47,616.413 \n",
       "  2084.13,601.626 2104.8,586.403 2125.46,570.744 2146.12,554.649 2166.79,538.119 2187.45,521.152 2208.11,503.75 2228.78,485.912 2249.44,467.638 2270.1,448.928 \n",
       "  2290.77,429.783 \n",
       "  \"/>\n",
       "</svg>\n"
      ]
     },
     "execution_count": 42,
     "metadata": {},
     "output_type": "execute_result"
    }
   ],
   "source": [
    "scatter(x,y, legend=false)\n",
    "plot!(0:0.1:10, x->sum(w[i]*x^(i-1) for i in eachindex(w)))"
   ]
  },
  {
   "cell_type": "markdown",
   "metadata": {},
   "source": [
    "We can now write very concise code to fitting any $n$ order polynomial"
   ]
  },
  {
   "cell_type": "code",
   "execution_count": 43,
   "metadata": {},
   "outputs": [
    {
     "data": {
      "text/plain": [
       "6-element Array{Float64,1}:\n",
       " -1.3030466891996142\n",
       "  4.354232922509118\n",
       " -2.517916062144582\n",
       "  0.5231939836612408\n",
       " -0.0443547044313094\n",
       "  0.001291330170785204"
      ]
     },
     "execution_count": 43,
     "metadata": {},
     "output_type": "execute_result"
    }
   ],
   "source": [
    "n=5\n",
    "w=hcat(ones(length(x)), [x.^i for i=1:n]...)\\y"
   ]
  },
  {
   "cell_type": "code",
   "execution_count": 44,
   "metadata": {},
   "outputs": [
    {
     "data": {
      "image/svg+xml": [
       "<?xml version=\"1.0\" encoding=\"utf-8\"?>\n",
       "<svg xmlns=\"http://www.w3.org/2000/svg\" xmlns:xlink=\"http://www.w3.org/1999/xlink\" width=\"600\" height=\"400\" viewBox=\"0 0 2400 1600\">\n",
       "<defs>\n",
       "  <clipPath id=\"clip9100\">\n",
       "    <rect x=\"0\" y=\"0\" width=\"2400\" height=\"1600\"/>\n",
       "  </clipPath>\n",
       "</defs>\n",
       "<path clip-path=\"url(#clip9100)\" d=\"\n",
       "M0 1600 L2400 1600 L2400 0 L0 0  Z\n",
       "  \" fill=\"#ffffff\" fill-rule=\"evenodd\" fill-opacity=\"1\"/>\n",
       "<defs>\n",
       "  <clipPath id=\"clip9101\">\n",
       "    <rect x=\"480\" y=\"0\" width=\"1681\" height=\"1600\"/>\n",
       "  </clipPath>\n",
       "</defs>\n",
       "<path clip-path=\"url(#clip9100)\" d=\"\n",
       "M162.455 1486.45 L2352.76 1486.45 L2352.76 47.2441 L162.455 47.2441  Z\n",
       "  \" fill=\"#ffffff\" fill-rule=\"evenodd\" fill-opacity=\"1\"/>\n",
       "<defs>\n",
       "  <clipPath id=\"clip9102\">\n",
       "    <rect x=\"162\" y=\"47\" width=\"2191\" height=\"1440\"/>\n",
       "  </clipPath>\n",
       "</defs>\n",
       "<polyline clip-path=\"url(#clip9102)\" style=\"stroke:#000000; stroke-width:2; stroke-opacity:0.1; fill:none\" points=\"\n",
       "  224.444,1486.45 224.444,47.2441 \n",
       "  \"/>\n",
       "<polyline clip-path=\"url(#clip9102)\" style=\"stroke:#000000; stroke-width:2; stroke-opacity:0.1; fill:none\" points=\"\n",
       "  741.025,1486.45 741.025,47.2441 \n",
       "  \"/>\n",
       "<polyline clip-path=\"url(#clip9102)\" style=\"stroke:#000000; stroke-width:2; stroke-opacity:0.1; fill:none\" points=\"\n",
       "  1257.61,1486.45 1257.61,47.2441 \n",
       "  \"/>\n",
       "<polyline clip-path=\"url(#clip9102)\" style=\"stroke:#000000; stroke-width:2; stroke-opacity:0.1; fill:none\" points=\"\n",
       "  1774.19,1486.45 1774.19,47.2441 \n",
       "  \"/>\n",
       "<polyline clip-path=\"url(#clip9102)\" style=\"stroke:#000000; stroke-width:2; stroke-opacity:0.1; fill:none\" points=\"\n",
       "  2290.77,1486.45 2290.77,47.2441 \n",
       "  \"/>\n",
       "<polyline clip-path=\"url(#clip9102)\" style=\"stroke:#000000; stroke-width:2; stroke-opacity:0.1; fill:none\" points=\"\n",
       "  162.455,1280.45 2352.76,1280.45 \n",
       "  \"/>\n",
       "<polyline clip-path=\"url(#clip9102)\" style=\"stroke:#000000; stroke-width:2; stroke-opacity:0.1; fill:none\" points=\"\n",
       "  162.455,1007.78 2352.76,1007.78 \n",
       "  \"/>\n",
       "<polyline clip-path=\"url(#clip9102)\" style=\"stroke:#000000; stroke-width:2; stroke-opacity:0.1; fill:none\" points=\"\n",
       "  162.455,735.115 2352.76,735.115 \n",
       "  \"/>\n",
       "<polyline clip-path=\"url(#clip9102)\" style=\"stroke:#000000; stroke-width:2; stroke-opacity:0.1; fill:none\" points=\"\n",
       "  162.455,462.446 2352.76,462.446 \n",
       "  \"/>\n",
       "<polyline clip-path=\"url(#clip9102)\" style=\"stroke:#000000; stroke-width:2; stroke-opacity:0.1; fill:none\" points=\"\n",
       "  162.455,189.777 2352.76,189.777 \n",
       "  \"/>\n",
       "<polyline clip-path=\"url(#clip9100)\" style=\"stroke:#000000; stroke-width:4; stroke-opacity:1; fill:none\" points=\"\n",
       "  162.455,1486.45 2352.76,1486.45 \n",
       "  \"/>\n",
       "<polyline clip-path=\"url(#clip9100)\" style=\"stroke:#000000; stroke-width:4; stroke-opacity:1; fill:none\" points=\"\n",
       "  162.455,1486.45 162.455,47.2441 \n",
       "  \"/>\n",
       "<polyline clip-path=\"url(#clip9100)\" style=\"stroke:#000000; stroke-width:4; stroke-opacity:1; fill:none\" points=\"\n",
       "  224.444,1486.45 224.444,1469.18 \n",
       "  \"/>\n",
       "<polyline clip-path=\"url(#clip9100)\" style=\"stroke:#000000; stroke-width:4; stroke-opacity:1; fill:none\" points=\"\n",
       "  741.025,1486.45 741.025,1469.18 \n",
       "  \"/>\n",
       "<polyline clip-path=\"url(#clip9100)\" style=\"stroke:#000000; stroke-width:4; stroke-opacity:1; fill:none\" points=\"\n",
       "  1257.61,1486.45 1257.61,1469.18 \n",
       "  \"/>\n",
       "<polyline clip-path=\"url(#clip9100)\" style=\"stroke:#000000; stroke-width:4; stroke-opacity:1; fill:none\" points=\"\n",
       "  1774.19,1486.45 1774.19,1469.18 \n",
       "  \"/>\n",
       "<polyline clip-path=\"url(#clip9100)\" style=\"stroke:#000000; stroke-width:4; stroke-opacity:1; fill:none\" points=\"\n",
       "  2290.77,1486.45 2290.77,1469.18 \n",
       "  \"/>\n",
       "<polyline clip-path=\"url(#clip9100)\" style=\"stroke:#000000; stroke-width:4; stroke-opacity:1; fill:none\" points=\"\n",
       "  162.455,1280.45 188.738,1280.45 \n",
       "  \"/>\n",
       "<polyline clip-path=\"url(#clip9100)\" style=\"stroke:#000000; stroke-width:4; stroke-opacity:1; fill:none\" points=\"\n",
       "  162.455,1007.78 188.738,1007.78 \n",
       "  \"/>\n",
       "<polyline clip-path=\"url(#clip9100)\" style=\"stroke:#000000; stroke-width:4; stroke-opacity:1; fill:none\" points=\"\n",
       "  162.455,735.115 188.738,735.115 \n",
       "  \"/>\n",
       "<polyline clip-path=\"url(#clip9100)\" style=\"stroke:#000000; stroke-width:4; stroke-opacity:1; fill:none\" points=\"\n",
       "  162.455,462.446 188.738,462.446 \n",
       "  \"/>\n",
       "<polyline clip-path=\"url(#clip9100)\" style=\"stroke:#000000; stroke-width:4; stroke-opacity:1; fill:none\" points=\"\n",
       "  162.455,189.777 188.738,189.777 \n",
       "  \"/>\n",
       "<path clip-path=\"url(#clip9100)\" d=\"M 0 0 M205.961 1508.44 Q202.35 1508.44 200.521 1512 Q198.715 1515.55 198.715 1522.67 Q198.715 1529.78 200.521 1533.35 Q202.35 1536.89 205.961 1536.89 Q209.595 1536.89 211.4 1533.35 Q213.229 1529.78 213.229 1522.67 Q213.229 1515.55 211.4 1512 Q209.595 1508.44 205.961 1508.44 M205.961 1504.73 Q211.771 1504.73 214.826 1509.34 Q217.905 1513.92 217.905 1522.67 Q217.905 1531.4 214.826 1536.01 Q211.771 1540.59 205.961 1540.59 Q200.15 1540.59 197.072 1536.01 Q194.016 1531.4 194.016 1522.67 Q194.016 1513.92 197.072 1509.34 Q200.15 1504.73 205.961 1504.73 Z\" fill=\"#000000\" fill-rule=\"evenodd\" fill-opacity=\"1\" /><path clip-path=\"url(#clip9100)\" d=\"M 0 0 M222.974 1534.04 L227.859 1534.04 L227.859 1539.92 L222.974 1539.92 L222.974 1534.04 Z\" fill=\"#000000\" fill-rule=\"evenodd\" fill-opacity=\"1\" /><path clip-path=\"url(#clip9100)\" d=\"M 0 0 M242.928 1508.44 Q239.317 1508.44 237.488 1512 Q235.683 1515.55 235.683 1522.67 Q235.683 1529.78 237.488 1533.35 Q239.317 1536.89 242.928 1536.89 Q246.562 1536.89 248.368 1533.35 Q250.197 1529.78 250.197 1522.67 Q250.197 1515.55 248.368 1512 Q246.562 1508.44 242.928 1508.44 M242.928 1504.73 Q248.738 1504.73 251.794 1509.34 Q254.872 1513.92 254.872 1522.67 Q254.872 1531.4 251.794 1536.01 Q248.738 1540.59 242.928 1540.59 Q237.118 1540.59 234.039 1536.01 Q230.984 1531.4 230.984 1522.67 Q230.984 1513.92 234.039 1509.34 Q237.118 1504.73 242.928 1504.73 Z\" fill=\"#000000\" fill-rule=\"evenodd\" fill-opacity=\"1\" /><path clip-path=\"url(#clip9100)\" d=\"M 0 0 M717.692 1535.98 L734.011 1535.98 L734.011 1539.92 L712.067 1539.92 L712.067 1535.98 Q714.729 1533.23 719.312 1528.6 Q723.918 1523.95 725.099 1522.61 Q727.344 1520.08 728.224 1518.35 Q729.127 1516.59 729.127 1514.9 Q729.127 1512.14 727.182 1510.41 Q725.261 1508.67 722.159 1508.67 Q719.96 1508.67 717.506 1509.43 Q715.076 1510.2 712.298 1511.75 L712.298 1507.03 Q715.122 1505.89 717.576 1505.31 Q720.03 1504.73 722.067 1504.73 Q727.437 1504.73 730.631 1507.42 Q733.826 1510.11 733.826 1514.6 Q733.826 1516.73 733.016 1518.65 Q732.229 1520.54 730.122 1523.14 Q729.543 1523.81 726.442 1527.03 Q723.34 1530.22 717.692 1535.98 Z\" fill=\"#000000\" fill-rule=\"evenodd\" fill-opacity=\"1\" /><path clip-path=\"url(#clip9100)\" d=\"M 0 0 M739.08 1534.04 L743.965 1534.04 L743.965 1539.92 L739.08 1539.92 L739.08 1534.04 Z\" fill=\"#000000\" fill-rule=\"evenodd\" fill-opacity=\"1\" /><path clip-path=\"url(#clip9100)\" d=\"M 0 0 M749.08 1505.36 L767.437 1505.36 L767.437 1509.3 L753.363 1509.3 L753.363 1517.77 Q754.381 1517.42 755.4 1517.26 Q756.418 1517.07 757.437 1517.07 Q763.224 1517.07 766.603 1520.24 Q769.983 1523.42 769.983 1528.83 Q769.983 1534.41 766.511 1537.51 Q763.039 1540.59 756.719 1540.59 Q754.543 1540.59 752.275 1540.22 Q750.029 1539.85 747.622 1539.11 L747.622 1534.41 Q749.705 1535.54 751.928 1536.1 Q754.15 1536.66 756.627 1536.66 Q760.631 1536.66 762.969 1534.55 Q765.307 1532.44 765.307 1528.83 Q765.307 1525.22 762.969 1523.11 Q760.631 1521.01 756.627 1521.01 Q754.752 1521.01 752.877 1521.42 Q751.025 1521.84 749.08 1522.72 L749.08 1505.36 Z\" fill=\"#000000\" fill-rule=\"evenodd\" fill-opacity=\"1\" /><path clip-path=\"url(#clip9100)\" d=\"M 0 0 M1229.4 1505.36 L1247.76 1505.36 L1247.76 1509.3 L1233.68 1509.3 L1233.68 1517.77 Q1234.7 1517.42 1235.72 1517.26 Q1236.74 1517.07 1237.76 1517.07 Q1243.54 1517.07 1246.92 1520.24 Q1250.3 1523.42 1250.3 1528.83 Q1250.3 1534.41 1246.83 1537.51 Q1243.36 1540.59 1237.04 1540.59 Q1234.86 1540.59 1232.59 1540.22 Q1230.35 1539.85 1227.94 1539.11 L1227.94 1534.41 Q1230.02 1535.54 1232.25 1536.1 Q1234.47 1536.66 1236.95 1536.66 Q1240.95 1536.66 1243.29 1534.55 Q1245.63 1532.44 1245.63 1528.83 Q1245.63 1525.22 1243.29 1523.11 Q1240.95 1521.01 1236.95 1521.01 Q1235.07 1521.01 1233.2 1521.42 Q1231.34 1521.84 1229.4 1522.72 L1229.4 1505.36 Z\" fill=\"#000000\" fill-rule=\"evenodd\" fill-opacity=\"1\" /><path clip-path=\"url(#clip9100)\" d=\"M 0 0 M1255.37 1534.04 L1260.26 1534.04 L1260.26 1539.92 L1255.37 1539.92 L1255.37 1534.04 Z\" fill=\"#000000\" fill-rule=\"evenodd\" fill-opacity=\"1\" /><path clip-path=\"url(#clip9100)\" d=\"M 0 0 M1275.33 1508.44 Q1271.71 1508.44 1269.89 1512 Q1268.08 1515.55 1268.08 1522.67 Q1268.08 1529.78 1269.89 1533.35 Q1271.71 1536.89 1275.33 1536.89 Q1278.96 1536.89 1280.76 1533.35 Q1282.59 1529.78 1282.59 1522.67 Q1282.59 1515.55 1280.76 1512 Q1278.96 1508.44 1275.33 1508.44 M1275.33 1504.73 Q1281.14 1504.73 1284.19 1509.34 Q1287.27 1513.92 1287.27 1522.67 Q1287.27 1531.4 1284.19 1536.01 Q1281.14 1540.59 1275.33 1540.59 Q1269.51 1540.59 1266.44 1536.01 Q1263.38 1531.4 1263.38 1522.67 Q1263.38 1513.92 1266.44 1509.34 Q1269.51 1504.73 1275.33 1504.73 Z\" fill=\"#000000\" fill-rule=\"evenodd\" fill-opacity=\"1\" /><path clip-path=\"url(#clip9100)\" d=\"M 0 0 M1745.09 1505.36 L1767.31 1505.36 L1767.31 1507.35 L1754.76 1539.92 L1749.88 1539.92 L1761.69 1509.3 L1745.09 1509.3 L1745.09 1505.36 Z\" fill=\"#000000\" fill-rule=\"evenodd\" fill-opacity=\"1\" /><path clip-path=\"url(#clip9100)\" d=\"M 0 0 M1772.38 1534.04 L1777.26 1534.04 L1777.26 1539.92 L1772.38 1539.92 L1772.38 1534.04 Z\" fill=\"#000000\" fill-rule=\"evenodd\" fill-opacity=\"1\" /><path clip-path=\"url(#clip9100)\" d=\"M 0 0 M1782.38 1505.36 L1800.74 1505.36 L1800.74 1509.3 L1786.66 1509.3 L1786.66 1517.77 Q1787.68 1517.42 1788.7 1517.26 Q1789.72 1517.07 1790.74 1517.07 Q1796.52 1517.07 1799.9 1520.24 Q1803.28 1523.42 1803.28 1528.83 Q1803.28 1534.41 1799.81 1537.51 Q1796.34 1540.59 1790.02 1540.59 Q1787.84 1540.59 1785.57 1540.22 Q1783.33 1539.85 1780.92 1539.11 L1780.92 1534.41 Q1783.01 1535.54 1785.23 1536.1 Q1787.45 1536.66 1789.93 1536.66 Q1793.93 1536.66 1796.27 1534.55 Q1798.61 1532.44 1798.61 1528.83 Q1798.61 1525.22 1796.27 1523.11 Q1793.93 1521.01 1789.93 1521.01 Q1788.05 1521.01 1786.18 1521.42 Q1784.32 1521.84 1782.38 1522.72 L1782.38 1505.36 Z\" fill=\"#000000\" fill-rule=\"evenodd\" fill-opacity=\"1\" /><path clip-path=\"url(#clip9100)\" d=\"M 0 0 M2249.16 1535.98 L2256.8 1535.98 L2256.8 1509.62 L2248.49 1511.29 L2248.49 1507.03 L2256.75 1505.36 L2261.43 1505.36 L2261.43 1535.98 L2269.06 1535.98 L2269.06 1539.92 L2249.16 1539.92 L2249.16 1535.98 Z\" fill=\"#000000\" fill-rule=\"evenodd\" fill-opacity=\"1\" /><path clip-path=\"url(#clip9100)\" d=\"M 0 0 M2284.13 1508.44 Q2280.52 1508.44 2278.69 1512 Q2276.89 1515.55 2276.89 1522.67 Q2276.89 1529.78 2278.69 1533.35 Q2280.52 1536.89 2284.13 1536.89 Q2287.77 1536.89 2289.57 1533.35 Q2291.4 1529.78 2291.4 1522.67 Q2291.4 1515.55 2289.57 1512 Q2287.77 1508.44 2284.13 1508.44 M2284.13 1504.73 Q2289.94 1504.73 2293 1509.34 Q2296.08 1513.92 2296.08 1522.67 Q2296.08 1531.4 2293 1536.01 Q2289.94 1540.59 2284.13 1540.59 Q2278.32 1540.59 2275.25 1536.01 Q2272.19 1531.4 2272.19 1522.67 Q2272.19 1513.92 2275.25 1509.34 Q2278.32 1504.73 2284.13 1504.73 Z\" fill=\"#000000\" fill-rule=\"evenodd\" fill-opacity=\"1\" /><path clip-path=\"url(#clip9100)\" d=\"M 0 0 M2301.15 1534.04 L2306.03 1534.04 L2306.03 1539.92 L2301.15 1539.92 L2301.15 1534.04 Z\" fill=\"#000000\" fill-rule=\"evenodd\" fill-opacity=\"1\" /><path clip-path=\"url(#clip9100)\" d=\"M 0 0 M2321.1 1508.44 Q2317.49 1508.44 2315.66 1512 Q2313.86 1515.55 2313.86 1522.67 Q2313.86 1529.78 2315.66 1533.35 Q2317.49 1536.89 2321.1 1536.89 Q2324.74 1536.89 2326.54 1533.35 Q2328.37 1529.78 2328.37 1522.67 Q2328.37 1515.55 2326.54 1512 Q2324.74 1508.44 2321.1 1508.44 M2321.1 1504.73 Q2326.91 1504.73 2329.97 1509.34 Q2333.05 1513.92 2333.05 1522.67 Q2333.05 1531.4 2329.97 1536.01 Q2326.91 1540.59 2321.1 1540.59 Q2315.29 1540.59 2312.21 1536.01 Q2309.16 1531.4 2309.16 1522.67 Q2309.16 1513.92 2312.21 1509.34 Q2315.29 1504.73 2321.1 1504.73 Z\" fill=\"#000000\" fill-rule=\"evenodd\" fill-opacity=\"1\" /><path clip-path=\"url(#clip9100)\" d=\"M 0 0 M63.2236 1282.85 L75.7004 1282.85 L75.7004 1286.64 L63.2236 1286.64 L63.2236 1282.85 Z\" fill=\"#000000\" fill-rule=\"evenodd\" fill-opacity=\"1\" /><path clip-path=\"url(#clip9100)\" d=\"M 0 0 M81.58 1293.8 L89.2188 1293.8 L89.2188 1267.43 L80.9087 1269.1 L80.9087 1264.84 L89.1725 1263.17 L93.8484 1263.17 L93.8484 1293.8 L101.487 1293.8 L101.487 1297.73 L81.58 1297.73 L81.58 1293.8 Z\" fill=\"#000000\" fill-rule=\"evenodd\" fill-opacity=\"1\" /><path clip-path=\"url(#clip9100)\" d=\"M 0 0 M106.557 1291.85 L111.441 1291.85 L111.441 1297.73 L106.557 1297.73 L106.557 1291.85 Z\" fill=\"#000000\" fill-rule=\"evenodd\" fill-opacity=\"1\" /><path clip-path=\"url(#clip9100)\" d=\"M 0 0 M126.51 1266.25 Q122.899 1266.25 121.071 1269.82 Q119.265 1273.36 119.265 1280.49 Q119.265 1287.59 121.071 1291.16 Q122.899 1294.7 126.51 1294.7 Q130.145 1294.7 131.95 1291.16 Q133.779 1287.59 133.779 1280.49 Q133.779 1273.36 131.95 1269.82 Q130.145 1266.25 126.51 1266.25 M126.51 1262.55 Q132.32 1262.55 135.376 1267.15 Q138.455 1271.74 138.455 1280.49 Q138.455 1289.21 135.376 1293.82 Q132.32 1298.4 126.51 1298.4 Q120.7 1298.4 117.621 1293.82 Q114.566 1289.21 114.566 1280.49 Q114.566 1271.74 117.621 1267.15 Q120.7 1262.55 126.51 1262.55 Z\" fill=\"#000000\" fill-rule=\"evenodd\" fill-opacity=\"1\" /><path clip-path=\"url(#clip9100)\" d=\"M 0 0 M62.9921 1010.18 L75.4689 1010.18 L75.4689 1013.98 L62.9921 1013.98 L62.9921 1010.18 Z\" fill=\"#000000\" fill-rule=\"evenodd\" fill-opacity=\"1\" /><path clip-path=\"url(#clip9100)\" d=\"M 0 0 M90.5383 993.583 Q86.9272 993.583 85.0985 997.147 Q83.2929 1000.69 83.2929 1007.82 Q83.2929 1014.92 85.0985 1018.49 Q86.9272 1022.03 90.5383 1022.03 Q94.1725 1022.03 95.9781 1018.49 Q97.8068 1014.92 97.8068 1007.82 Q97.8068 1000.69 95.9781 997.147 Q94.1725 993.583 90.5383 993.583 M90.5383 989.879 Q96.3484 989.879 99.404 994.485 Q102.483 999.069 102.483 1007.82 Q102.483 1016.55 99.404 1021.15 Q96.3484 1025.74 90.5383 1025.74 Q84.7281 1025.74 81.6494 1021.15 Q78.5939 1016.55 78.5939 1007.82 Q78.5939 999.069 81.6494 994.485 Q84.7281 989.879 90.5383 989.879 Z\" fill=\"#000000\" fill-rule=\"evenodd\" fill-opacity=\"1\" /><path clip-path=\"url(#clip9100)\" d=\"M 0 0 M107.552 1019.18 L112.436 1019.18 L112.436 1025.06 L107.552 1025.06 L107.552 1019.18 Z\" fill=\"#000000\" fill-rule=\"evenodd\" fill-opacity=\"1\" /><path clip-path=\"url(#clip9100)\" d=\"M 0 0 M117.552 990.504 L135.908 990.504 L135.908 994.439 L121.834 994.439 L121.834 1002.91 Q122.853 1002.56 123.871 1002.4 Q124.89 1002.22 125.908 1002.22 Q131.695 1002.22 135.075 1005.39 Q138.455 1008.56 138.455 1013.98 Q138.455 1019.55 134.982 1022.66 Q131.51 1025.74 125.191 1025.74 Q123.015 1025.74 120.746 1025.36 Q118.501 1024.99 116.094 1024.25 L116.094 1019.55 Q118.177 1020.69 120.399 1021.24 Q122.621 1021.8 125.098 1021.8 Q129.103 1021.8 131.441 1019.69 Q133.779 1017.59 133.779 1013.98 Q133.779 1010.36 131.441 1008.26 Q129.103 1006.15 125.098 1006.15 Q123.223 1006.15 121.348 1006.57 Q119.496 1006.99 117.552 1007.86 L117.552 990.504 Z\" fill=\"#000000\" fill-rule=\"evenodd\" fill-opacity=\"1\" /><path clip-path=\"url(#clip9100)\" d=\"M 0 0 M89.5429 720.914 Q85.9318 720.914 84.1031 724.478 Q82.2976 728.02 82.2976 735.15 Q82.2976 742.256 84.1031 745.821 Q85.9318 749.362 89.5429 749.362 Q93.1771 749.362 94.9827 745.821 Q96.8114 742.256 96.8114 735.15 Q96.8114 728.02 94.9827 724.478 Q93.1771 720.914 89.5429 720.914 M89.5429 717.21 Q95.3531 717.21 98.4086 721.816 Q101.487 726.4 101.487 735.15 Q101.487 743.876 98.4086 748.483 Q95.3531 753.066 89.5429 753.066 Q83.7328 753.066 80.6541 748.483 Q77.5985 743.876 77.5985 735.15 Q77.5985 726.4 80.6541 721.816 Q83.7328 717.21 89.5429 717.21 Z\" fill=\"#000000\" fill-rule=\"evenodd\" fill-opacity=\"1\" /><path clip-path=\"url(#clip9100)\" d=\"M 0 0 M106.557 746.515 L111.441 746.515 L111.441 752.395 L106.557 752.395 L106.557 746.515 Z\" fill=\"#000000\" fill-rule=\"evenodd\" fill-opacity=\"1\" /><path clip-path=\"url(#clip9100)\" d=\"M 0 0 M126.51 720.914 Q122.899 720.914 121.071 724.478 Q119.265 728.02 119.265 735.15 Q119.265 742.256 121.071 745.821 Q122.899 749.362 126.51 749.362 Q130.145 749.362 131.95 745.821 Q133.779 742.256 133.779 735.15 Q133.779 728.02 131.95 724.478 Q130.145 720.914 126.51 720.914 M126.51 717.21 Q132.32 717.21 135.376 721.816 Q138.455 726.4 138.455 735.15 Q138.455 743.876 135.376 748.483 Q132.32 753.066 126.51 753.066 Q120.7 753.066 117.621 748.483 Q114.566 743.876 114.566 735.15 Q114.566 726.4 117.621 721.816 Q120.7 717.21 126.51 717.21 Z\" fill=\"#000000\" fill-rule=\"evenodd\" fill-opacity=\"1\" /><path clip-path=\"url(#clip9100)\" d=\"M 0 0 M90.5383 448.245 Q86.9272 448.245 85.0985 451.809 Q83.2929 455.351 83.2929 462.481 Q83.2929 469.587 85.0985 473.152 Q86.9272 476.693 90.5383 476.693 Q94.1725 476.693 95.9781 473.152 Q97.8068 469.587 97.8068 462.481 Q97.8068 455.351 95.9781 451.809 Q94.1725 448.245 90.5383 448.245 M90.5383 444.541 Q96.3484 444.541 99.404 449.147 Q102.483 453.731 102.483 462.481 Q102.483 471.207 99.404 475.814 Q96.3484 480.397 90.5383 480.397 Q84.7281 480.397 81.6494 475.814 Q78.5939 471.207 78.5939 462.481 Q78.5939 453.731 81.6494 449.147 Q84.7281 444.541 90.5383 444.541 Z\" fill=\"#000000\" fill-rule=\"evenodd\" fill-opacity=\"1\" /><path clip-path=\"url(#clip9100)\" d=\"M 0 0 M107.552 473.846 L112.436 473.846 L112.436 479.726 L107.552 479.726 L107.552 473.846 Z\" fill=\"#000000\" fill-rule=\"evenodd\" fill-opacity=\"1\" /><path clip-path=\"url(#clip9100)\" d=\"M 0 0 M117.552 445.166 L135.908 445.166 L135.908 449.101 L121.834 449.101 L121.834 457.573 Q122.853 457.226 123.871 457.064 Q124.89 456.879 125.908 456.879 Q131.695 456.879 135.075 460.05 Q138.455 463.221 138.455 468.638 Q138.455 474.217 134.982 477.318 Q131.51 480.397 125.191 480.397 Q123.015 480.397 120.746 480.027 Q118.501 479.656 116.094 478.916 L116.094 474.217 Q118.177 475.351 120.399 475.906 Q122.621 476.462 125.098 476.462 Q129.103 476.462 131.441 474.356 Q133.779 472.249 133.779 468.638 Q133.779 465.027 131.441 462.92 Q129.103 460.814 125.098 460.814 Q123.223 460.814 121.348 461.231 Q119.496 461.647 117.552 462.527 L117.552 445.166 Z\" fill=\"#000000\" fill-rule=\"evenodd\" fill-opacity=\"1\" /><path clip-path=\"url(#clip9100)\" d=\"M 0 0 M81.58 203.122 L89.2188 203.122 L89.2188 176.756 L80.9087 178.423 L80.9087 174.164 L89.1725 172.497 L93.8484 172.497 L93.8484 203.122 L101.487 203.122 L101.487 207.057 L81.58 207.057 L81.58 203.122 Z\" fill=\"#000000\" fill-rule=\"evenodd\" fill-opacity=\"1\" /><path clip-path=\"url(#clip9100)\" d=\"M 0 0 M106.557 201.177 L111.441 201.177 L111.441 207.057 L106.557 207.057 L106.557 201.177 Z\" fill=\"#000000\" fill-rule=\"evenodd\" fill-opacity=\"1\" /><path clip-path=\"url(#clip9100)\" d=\"M 0 0 M126.51 175.576 Q122.899 175.576 121.071 179.14 Q119.265 182.682 119.265 189.812 Q119.265 196.918 121.071 200.483 Q122.899 204.024 126.51 204.024 Q130.145 204.024 131.95 200.483 Q133.779 196.918 133.779 189.812 Q133.779 182.682 131.95 179.14 Q130.145 175.576 126.51 175.576 M126.51 171.872 Q132.32 171.872 135.376 176.478 Q138.455 181.062 138.455 189.812 Q138.455 198.538 135.376 203.145 Q132.32 207.728 126.51 207.728 Q120.7 207.728 117.621 203.145 Q114.566 198.538 114.566 189.812 Q114.566 181.062 117.621 176.478 Q120.7 171.872 126.51 171.872 Z\" fill=\"#000000\" fill-rule=\"evenodd\" fill-opacity=\"1\" /><circle clip-path=\"url(#clip9102)\" cx=\"1239.27\" cy=\"1357.71\" r=\"14\" fill=\"#009af9\" fill-rule=\"evenodd\" fill-opacity=\"1\" stroke=\"#000000\" stroke-opacity=\"1\" stroke-width=\"3.2\"/>\n",
       "<circle clip-path=\"url(#clip9102)\" cx=\"2127.09\" cy=\"499.324\" r=\"14\" fill=\"#009af9\" fill-rule=\"evenodd\" fill-opacity=\"1\" stroke=\"#000000\" stroke-opacity=\"1\" stroke-width=\"3.2\"/>\n",
       "<circle clip-path=\"url(#clip9102)\" cx=\"1232.13\" cy=\"1378.95\" r=\"14\" fill=\"#009af9\" fill-rule=\"evenodd\" fill-opacity=\"1\" stroke=\"#000000\" stroke-opacity=\"1\" stroke-width=\"3.2\"/>\n",
       "<circle clip-path=\"url(#clip9102)\" cx=\"792.817\" cy=\"472.983\" r=\"14\" fill=\"#009af9\" fill-rule=\"evenodd\" fill-opacity=\"1\" stroke=\"#000000\" stroke-opacity=\"1\" stroke-width=\"3.2\"/>\n",
       "<circle clip-path=\"url(#clip9102)\" cx=\"1075.6\" cy=\"1111.62\" r=\"14\" fill=\"#009af9\" fill-rule=\"evenodd\" fill-opacity=\"1\" stroke=\"#000000\" stroke-opacity=\"1\" stroke-width=\"3.2\"/>\n",
       "<circle clip-path=\"url(#clip9102)\" cx=\"534.724\" cy=\"250.689\" r=\"14\" fill=\"#009af9\" fill-rule=\"evenodd\" fill-opacity=\"1\" stroke=\"#000000\" stroke-opacity=\"1\" stroke-width=\"3.2\"/>\n",
       "<circle clip-path=\"url(#clip9102)\" cx=\"2149.37\" cy=\"569.492\" r=\"14\" fill=\"#009af9\" fill-rule=\"evenodd\" fill-opacity=\"1\" stroke=\"#000000\" stroke-opacity=\"1\" stroke-width=\"3.2\"/>\n",
       "<circle clip-path=\"url(#clip9102)\" cx=\"2273.35\" cy=\"1058.95\" r=\"14\" fill=\"#009af9\" fill-rule=\"evenodd\" fill-opacity=\"1\" stroke=\"#000000\" stroke-opacity=\"1\" stroke-width=\"3.2\"/>\n",
       "<circle clip-path=\"url(#clip9102)\" cx=\"694.802\" cy=\"228.024\" r=\"14\" fill=\"#009af9\" fill-rule=\"evenodd\" fill-opacity=\"1\" stroke=\"#000000\" stroke-opacity=\"1\" stroke-width=\"3.2\"/>\n",
       "<circle clip-path=\"url(#clip9102)\" cx=\"1985.15\" cy=\"290.568\" r=\"14\" fill=\"#009af9\" fill-rule=\"evenodd\" fill-opacity=\"1\" stroke=\"#000000\" stroke-opacity=\"1\" stroke-width=\"3.2\"/>\n",
       "<circle clip-path=\"url(#clip9102)\" cx=\"2244.17\" cy=\"900.833\" r=\"14\" fill=\"#009af9\" fill-rule=\"evenodd\" fill-opacity=\"1\" stroke=\"#000000\" stroke-opacity=\"1\" stroke-width=\"3.2\"/>\n",
       "<circle clip-path=\"url(#clip9102)\" cx=\"1288.25\" cy=\"1150.69\" r=\"14\" fill=\"#009af9\" fill-rule=\"evenodd\" fill-opacity=\"1\" stroke=\"#000000\" stroke-opacity=\"1\" stroke-width=\"3.2\"/>\n",
       "<circle clip-path=\"url(#clip9102)\" cx=\"2251.2\" cy=\"982.03\" r=\"14\" fill=\"#009af9\" fill-rule=\"evenodd\" fill-opacity=\"1\" stroke=\"#000000\" stroke-opacity=\"1\" stroke-width=\"3.2\"/>\n",
       "<circle clip-path=\"url(#clip9102)\" cx=\"1323.88\" cy=\"1240.19\" r=\"14\" fill=\"#009af9\" fill-rule=\"evenodd\" fill-opacity=\"1\" stroke=\"#000000\" stroke-opacity=\"1\" stroke-width=\"3.2\"/>\n",
       "<circle clip-path=\"url(#clip9102)\" cx=\"2288.06\" cy=\"1024.25\" r=\"14\" fill=\"#009af9\" fill-rule=\"evenodd\" fill-opacity=\"1\" stroke=\"#000000\" stroke-opacity=\"1\" stroke-width=\"3.2\"/>\n",
       "<circle clip-path=\"url(#clip9102)\" cx=\"662.559\" cy=\"181.741\" r=\"14\" fill=\"#009af9\" fill-rule=\"evenodd\" fill-opacity=\"1\" stroke=\"#000000\" stroke-opacity=\"1\" stroke-width=\"3.2\"/>\n",
       "<circle clip-path=\"url(#clip9102)\" cx=\"1679.03\" cy=\"324.86\" r=\"14\" fill=\"#009af9\" fill-rule=\"evenodd\" fill-opacity=\"1\" stroke=\"#000000\" stroke-opacity=\"1\" stroke-width=\"3.2\"/>\n",
       "<circle clip-path=\"url(#clip9102)\" cx=\"918.81\" cy=\"902.252\" r=\"14\" fill=\"#009af9\" fill-rule=\"evenodd\" fill-opacity=\"1\" stroke=\"#000000\" stroke-opacity=\"1\" stroke-width=\"3.2\"/>\n",
       "<circle clip-path=\"url(#clip9102)\" cx=\"753.154\" cy=\"610.647\" r=\"14\" fill=\"#009af9\" fill-rule=\"evenodd\" fill-opacity=\"1\" stroke=\"#000000\" stroke-opacity=\"1\" stroke-width=\"3.2\"/>\n",
       "<circle clip-path=\"url(#clip9102)\" cx=\"1603.73\" cy=\"476.669\" r=\"14\" fill=\"#009af9\" fill-rule=\"evenodd\" fill-opacity=\"1\" stroke=\"#000000\" stroke-opacity=\"1\" stroke-width=\"3.2\"/>\n",
       "<circle clip-path=\"url(#clip9102)\" cx=\"1378.77\" cy=\"912.002\" r=\"14\" fill=\"#009af9\" fill-rule=\"evenodd\" fill-opacity=\"1\" stroke=\"#000000\" stroke-opacity=\"1\" stroke-width=\"3.2\"/>\n",
       "<circle clip-path=\"url(#clip9102)\" cx=\"670.113\" cy=\"489.055\" r=\"14\" fill=\"#009af9\" fill-rule=\"evenodd\" fill-opacity=\"1\" stroke=\"#000000\" stroke-opacity=\"1\" stroke-width=\"3.2\"/>\n",
       "<circle clip-path=\"url(#clip9102)\" cx=\"2056.56\" cy=\"322.477\" r=\"14\" fill=\"#009af9\" fill-rule=\"evenodd\" fill-opacity=\"1\" stroke=\"#000000\" stroke-opacity=\"1\" stroke-width=\"3.2\"/>\n",
       "<circle clip-path=\"url(#clip9102)\" cx=\"1983.25\" cy=\"228.452\" r=\"14\" fill=\"#009af9\" fill-rule=\"evenodd\" fill-opacity=\"1\" stroke=\"#000000\" stroke-opacity=\"1\" stroke-width=\"3.2\"/>\n",
       "<circle clip-path=\"url(#clip9102)\" cx=\"2097.75\" cy=\"500.436\" r=\"14\" fill=\"#009af9\" fill-rule=\"evenodd\" fill-opacity=\"1\" stroke=\"#000000\" stroke-opacity=\"1\" stroke-width=\"3.2\"/>\n",
       "<circle clip-path=\"url(#clip9102)\" cx=\"296.456\" cy=\"545.492\" r=\"14\" fill=\"#009af9\" fill-rule=\"evenodd\" fill-opacity=\"1\" stroke=\"#000000\" stroke-opacity=\"1\" stroke-width=\"3.2\"/>\n",
       "<circle clip-path=\"url(#clip9102)\" cx=\"1542.03\" cy=\"663.543\" r=\"14\" fill=\"#009af9\" fill-rule=\"evenodd\" fill-opacity=\"1\" stroke=\"#000000\" stroke-opacity=\"1\" stroke-width=\"3.2\"/>\n",
       "<circle clip-path=\"url(#clip9102)\" cx=\"763.292\" cy=\"457.387\" r=\"14\" fill=\"#009af9\" fill-rule=\"evenodd\" fill-opacity=\"1\" stroke=\"#000000\" stroke-opacity=\"1\" stroke-width=\"3.2\"/>\n",
       "<circle clip-path=\"url(#clip9102)\" cx=\"2034.69\" cy=\"537.288\" r=\"14\" fill=\"#009af9\" fill-rule=\"evenodd\" fill-opacity=\"1\" stroke=\"#000000\" stroke-opacity=\"1\" stroke-width=\"3.2\"/>\n",
       "<circle clip-path=\"url(#clip9102)\" cx=\"526.954\" cy=\"144.938\" r=\"14\" fill=\"#009af9\" fill-rule=\"evenodd\" fill-opacity=\"1\" stroke=\"#000000\" stroke-opacity=\"1\" stroke-width=\"3.2\"/>\n",
       "<circle clip-path=\"url(#clip9102)\" cx=\"576.732\" cy=\"390.551\" r=\"14\" fill=\"#009af9\" fill-rule=\"evenodd\" fill-opacity=\"1\" stroke=\"#000000\" stroke-opacity=\"1\" stroke-width=\"3.2\"/>\n",
       "<circle clip-path=\"url(#clip9102)\" cx=\"1208.26\" cy=\"1141.32\" r=\"14\" fill=\"#009af9\" fill-rule=\"evenodd\" fill-opacity=\"1\" stroke=\"#000000\" stroke-opacity=\"1\" stroke-width=\"3.2\"/>\n",
       "<circle clip-path=\"url(#clip9102)\" cx=\"961.963\" cy=\"916.238\" r=\"14\" fill=\"#009af9\" fill-rule=\"evenodd\" fill-opacity=\"1\" stroke=\"#000000\" stroke-opacity=\"1\" stroke-width=\"3.2\"/>\n",
       "<circle clip-path=\"url(#clip9102)\" cx=\"713.319\" cy=\"524.783\" r=\"14\" fill=\"#009af9\" fill-rule=\"evenodd\" fill-opacity=\"1\" stroke=\"#000000\" stroke-opacity=\"1\" stroke-width=\"3.2\"/>\n",
       "<circle clip-path=\"url(#clip9102)\" cx=\"1461.2\" cy=\"1023.35\" r=\"14\" fill=\"#009af9\" fill-rule=\"evenodd\" fill-opacity=\"1\" stroke=\"#000000\" stroke-opacity=\"1\" stroke-width=\"3.2\"/>\n",
       "<circle clip-path=\"url(#clip9102)\" cx=\"526.595\" cy=\"310.413\" r=\"14\" fill=\"#009af9\" fill-rule=\"evenodd\" fill-opacity=\"1\" stroke=\"#000000\" stroke-opacity=\"1\" stroke-width=\"3.2\"/>\n",
       "<circle clip-path=\"url(#clip9102)\" cx=\"1046.83\" cy=\"1310.58\" r=\"14\" fill=\"#009af9\" fill-rule=\"evenodd\" fill-opacity=\"1\" stroke=\"#000000\" stroke-opacity=\"1\" stroke-width=\"3.2\"/>\n",
       "<circle clip-path=\"url(#clip9102)\" cx=\"1605.84\" cy=\"484.61\" r=\"14\" fill=\"#009af9\" fill-rule=\"evenodd\" fill-opacity=\"1\" stroke=\"#000000\" stroke-opacity=\"1\" stroke-width=\"3.2\"/>\n",
       "<circle clip-path=\"url(#clip9102)\" cx=\"2083.01\" cy=\"683.384\" r=\"14\" fill=\"#009af9\" fill-rule=\"evenodd\" fill-opacity=\"1\" stroke=\"#000000\" stroke-opacity=\"1\" stroke-width=\"3.2\"/>\n",
       "<circle clip-path=\"url(#clip9102)\" cx=\"978.811\" cy=\"974.983\" r=\"14\" fill=\"#009af9\" fill-rule=\"evenodd\" fill-opacity=\"1\" stroke=\"#000000\" stroke-opacity=\"1\" stroke-width=\"3.2\"/>\n",
       "<circle clip-path=\"url(#clip9102)\" cx=\"1263.09\" cy=\"1335.53\" r=\"14\" fill=\"#009af9\" fill-rule=\"evenodd\" fill-opacity=\"1\" stroke=\"#000000\" stroke-opacity=\"1\" stroke-width=\"3.2\"/>\n",
       "<circle clip-path=\"url(#clip9102)\" cx=\"883.689\" cy=\"676.753\" r=\"14\" fill=\"#009af9\" fill-rule=\"evenodd\" fill-opacity=\"1\" stroke=\"#000000\" stroke-opacity=\"1\" stroke-width=\"3.2\"/>\n",
       "<circle clip-path=\"url(#clip9102)\" cx=\"987.754\" cy=\"1056.16\" r=\"14\" fill=\"#009af9\" fill-rule=\"evenodd\" fill-opacity=\"1\" stroke=\"#000000\" stroke-opacity=\"1\" stroke-width=\"3.2\"/>\n",
       "<circle clip-path=\"url(#clip9102)\" cx=\"1445.35\" cy=\"924.536\" r=\"14\" fill=\"#009af9\" fill-rule=\"evenodd\" fill-opacity=\"1\" stroke=\"#000000\" stroke-opacity=\"1\" stroke-width=\"3.2\"/>\n",
       "<circle clip-path=\"url(#clip9102)\" cx=\"728.441\" cy=\"405.085\" r=\"14\" fill=\"#009af9\" fill-rule=\"evenodd\" fill-opacity=\"1\" stroke=\"#000000\" stroke-opacity=\"1\" stroke-width=\"3.2\"/>\n",
       "<circle clip-path=\"url(#clip9102)\" cx=\"1152.74\" cy=\"1432.55\" r=\"14\" fill=\"#009af9\" fill-rule=\"evenodd\" fill-opacity=\"1\" stroke=\"#000000\" stroke-opacity=\"1\" stroke-width=\"3.2\"/>\n",
       "<circle clip-path=\"url(#clip9102)\" cx=\"641.617\" cy=\"137.467\" r=\"14\" fill=\"#009af9\" fill-rule=\"evenodd\" fill-opacity=\"1\" stroke=\"#000000\" stroke-opacity=\"1\" stroke-width=\"3.2\"/>\n",
       "<circle clip-path=\"url(#clip9102)\" cx=\"1264.42\" cy=\"1189.58\" r=\"14\" fill=\"#009af9\" fill-rule=\"evenodd\" fill-opacity=\"1\" stroke=\"#000000\" stroke-opacity=\"1\" stroke-width=\"3.2\"/>\n",
       "<circle clip-path=\"url(#clip9102)\" cx=\"950.969\" cy=\"973.988\" r=\"14\" fill=\"#009af9\" fill-rule=\"evenodd\" fill-opacity=\"1\" stroke=\"#000000\" stroke-opacity=\"1\" stroke-width=\"3.2\"/>\n",
       "<circle clip-path=\"url(#clip9102)\" cx=\"2075.1\" cy=\"544.748\" r=\"14\" fill=\"#009af9\" fill-rule=\"evenodd\" fill-opacity=\"1\" stroke=\"#000000\" stroke-opacity=\"1\" stroke-width=\"3.2\"/>\n",
       "<circle clip-path=\"url(#clip9102)\" cx=\"429.353\" cy=\"194.513\" r=\"14\" fill=\"#009af9\" fill-rule=\"evenodd\" fill-opacity=\"1\" stroke=\"#000000\" stroke-opacity=\"1\" stroke-width=\"3.2\"/>\n",
       "<circle clip-path=\"url(#clip9102)\" cx=\"2250.64\" cy=\"919.551\" r=\"14\" fill=\"#009af9\" fill-rule=\"evenodd\" fill-opacity=\"1\" stroke=\"#000000\" stroke-opacity=\"1\" stroke-width=\"3.2\"/>\n",
       "<circle clip-path=\"url(#clip9102)\" cx=\"978.384\" cy=\"878.272\" r=\"14\" fill=\"#009af9\" fill-rule=\"evenodd\" fill-opacity=\"1\" stroke=\"#000000\" stroke-opacity=\"1\" stroke-width=\"3.2\"/>\n",
       "<circle clip-path=\"url(#clip9102)\" cx=\"579.72\" cy=\"227.756\" r=\"14\" fill=\"#009af9\" fill-rule=\"evenodd\" fill-opacity=\"1\" stroke=\"#000000\" stroke-opacity=\"1\" stroke-width=\"3.2\"/>\n",
       "<circle clip-path=\"url(#clip9102)\" cx=\"1332.21\" cy=\"1065.16\" r=\"14\" fill=\"#009af9\" fill-rule=\"evenodd\" fill-opacity=\"1\" stroke=\"#000000\" stroke-opacity=\"1\" stroke-width=\"3.2\"/>\n",
       "<circle clip-path=\"url(#clip9102)\" cx=\"601.409\" cy=\"134.329\" r=\"14\" fill=\"#009af9\" fill-rule=\"evenodd\" fill-opacity=\"1\" stroke=\"#000000\" stroke-opacity=\"1\" stroke-width=\"3.2\"/>\n",
       "<circle clip-path=\"url(#clip9102)\" cx=\"379.361\" cy=\"539.277\" r=\"14\" fill=\"#009af9\" fill-rule=\"evenodd\" fill-opacity=\"1\" stroke=\"#000000\" stroke-opacity=\"1\" stroke-width=\"3.2\"/>\n",
       "<circle clip-path=\"url(#clip9102)\" cx=\"1984.79\" cy=\"336.175\" r=\"14\" fill=\"#009af9\" fill-rule=\"evenodd\" fill-opacity=\"1\" stroke=\"#000000\" stroke-opacity=\"1\" stroke-width=\"3.2\"/>\n",
       "<circle clip-path=\"url(#clip9102)\" cx=\"1178.08\" cy=\"1260.04\" r=\"14\" fill=\"#009af9\" fill-rule=\"evenodd\" fill-opacity=\"1\" stroke=\"#000000\" stroke-opacity=\"1\" stroke-width=\"3.2\"/>\n",
       "<circle clip-path=\"url(#clip9102)\" cx=\"1442.08\" cy=\"1024.93\" r=\"14\" fill=\"#009af9\" fill-rule=\"evenodd\" fill-opacity=\"1\" stroke=\"#000000\" stroke-opacity=\"1\" stroke-width=\"3.2\"/>\n",
       "<circle clip-path=\"url(#clip9102)\" cx=\"665.572\" cy=\"377.714\" r=\"14\" fill=\"#009af9\" fill-rule=\"evenodd\" fill-opacity=\"1\" stroke=\"#000000\" stroke-opacity=\"1\" stroke-width=\"3.2\"/>\n",
       "<circle clip-path=\"url(#clip9102)\" cx=\"1836.29\" cy=\"87.9763\" r=\"14\" fill=\"#009af9\" fill-rule=\"evenodd\" fill-opacity=\"1\" stroke=\"#000000\" stroke-opacity=\"1\" stroke-width=\"3.2\"/>\n",
       "<circle clip-path=\"url(#clip9102)\" cx=\"990.809\" cy=\"1015.59\" r=\"14\" fill=\"#009af9\" fill-rule=\"evenodd\" fill-opacity=\"1\" stroke=\"#000000\" stroke-opacity=\"1\" stroke-width=\"3.2\"/>\n",
       "<circle clip-path=\"url(#clip9102)\" cx=\"1410.65\" cy=\"846.386\" r=\"14\" fill=\"#009af9\" fill-rule=\"evenodd\" fill-opacity=\"1\" stroke=\"#000000\" stroke-opacity=\"1\" stroke-width=\"3.2\"/>\n",
       "<circle clip-path=\"url(#clip9102)\" cx=\"1620.89\" cy=\"596.674\" r=\"14\" fill=\"#009af9\" fill-rule=\"evenodd\" fill-opacity=\"1\" stroke=\"#000000\" stroke-opacity=\"1\" stroke-width=\"3.2\"/>\n",
       "<circle clip-path=\"url(#clip9102)\" cx=\"959.251\" cy=\"1149.47\" r=\"14\" fill=\"#009af9\" fill-rule=\"evenodd\" fill-opacity=\"1\" stroke=\"#000000\" stroke-opacity=\"1\" stroke-width=\"3.2\"/>\n",
       "<circle clip-path=\"url(#clip9102)\" cx=\"1336.81\" cy=\"978.534\" r=\"14\" fill=\"#009af9\" fill-rule=\"evenodd\" fill-opacity=\"1\" stroke=\"#000000\" stroke-opacity=\"1\" stroke-width=\"3.2\"/>\n",
       "<circle clip-path=\"url(#clip9102)\" cx=\"2021.72\" cy=\"316.095\" r=\"14\" fill=\"#009af9\" fill-rule=\"evenodd\" fill-opacity=\"1\" stroke=\"#000000\" stroke-opacity=\"1\" stroke-width=\"3.2\"/>\n",
       "<circle clip-path=\"url(#clip9102)\" cx=\"410.013\" cy=\"447.927\" r=\"14\" fill=\"#009af9\" fill-rule=\"evenodd\" fill-opacity=\"1\" stroke=\"#000000\" stroke-opacity=\"1\" stroke-width=\"3.2\"/>\n",
       "<circle clip-path=\"url(#clip9102)\" cx=\"1747.74\" cy=\"380.414\" r=\"14\" fill=\"#009af9\" fill-rule=\"evenodd\" fill-opacity=\"1\" stroke=\"#000000\" stroke-opacity=\"1\" stroke-width=\"3.2\"/>\n",
       "<circle clip-path=\"url(#clip9102)\" cx=\"1650.62\" cy=\"555.213\" r=\"14\" fill=\"#009af9\" fill-rule=\"evenodd\" fill-opacity=\"1\" stroke=\"#000000\" stroke-opacity=\"1\" stroke-width=\"3.2\"/>\n",
       "<circle clip-path=\"url(#clip9102)\" cx=\"2189.16\" cy=\"704.802\" r=\"14\" fill=\"#009af9\" fill-rule=\"evenodd\" fill-opacity=\"1\" stroke=\"#000000\" stroke-opacity=\"1\" stroke-width=\"3.2\"/>\n",
       "<circle clip-path=\"url(#clip9102)\" cx=\"1936.63\" cy=\"111.811\" r=\"14\" fill=\"#009af9\" fill-rule=\"evenodd\" fill-opacity=\"1\" stroke=\"#000000\" stroke-opacity=\"1\" stroke-width=\"3.2\"/>\n",
       "<circle clip-path=\"url(#clip9102)\" cx=\"1160.06\" cy=\"1132.58\" r=\"14\" fill=\"#009af9\" fill-rule=\"evenodd\" fill-opacity=\"1\" stroke=\"#000000\" stroke-opacity=\"1\" stroke-width=\"3.2\"/>\n",
       "<circle clip-path=\"url(#clip9102)\" cx=\"1088.41\" cy=\"1134.94\" r=\"14\" fill=\"#009af9\" fill-rule=\"evenodd\" fill-opacity=\"1\" stroke=\"#000000\" stroke-opacity=\"1\" stroke-width=\"3.2\"/>\n",
       "<circle clip-path=\"url(#clip9102)\" cx=\"1417.79\" cy=\"1063.03\" r=\"14\" fill=\"#009af9\" fill-rule=\"evenodd\" fill-opacity=\"1\" stroke=\"#000000\" stroke-opacity=\"1\" stroke-width=\"3.2\"/>\n",
       "<circle clip-path=\"url(#clip9102)\" cx=\"1508.09\" cy=\"794.347\" r=\"14\" fill=\"#009af9\" fill-rule=\"evenodd\" fill-opacity=\"1\" stroke=\"#000000\" stroke-opacity=\"1\" stroke-width=\"3.2\"/>\n",
       "<circle clip-path=\"url(#clip9102)\" cx=\"2269.96\" cy=\"1052.73\" r=\"14\" fill=\"#009af9\" fill-rule=\"evenodd\" fill-opacity=\"1\" stroke=\"#000000\" stroke-opacity=\"1\" stroke-width=\"3.2\"/>\n",
       "<circle clip-path=\"url(#clip9102)\" cx=\"352.44\" cy=\"443.513\" r=\"14\" fill=\"#009af9\" fill-rule=\"evenodd\" fill-opacity=\"1\" stroke=\"#000000\" stroke-opacity=\"1\" stroke-width=\"3.2\"/>\n",
       "<circle clip-path=\"url(#clip9102)\" cx=\"1548.21\" cy=\"710.271\" r=\"14\" fill=\"#009af9\" fill-rule=\"evenodd\" fill-opacity=\"1\" stroke=\"#000000\" stroke-opacity=\"1\" stroke-width=\"3.2\"/>\n",
       "<circle clip-path=\"url(#clip9102)\" cx=\"2021.92\" cy=\"448.824\" r=\"14\" fill=\"#009af9\" fill-rule=\"evenodd\" fill-opacity=\"1\" stroke=\"#000000\" stroke-opacity=\"1\" stroke-width=\"3.2\"/>\n",
       "<circle clip-path=\"url(#clip9102)\" cx=\"1819.75\" cy=\"181.088\" r=\"14\" fill=\"#009af9\" fill-rule=\"evenodd\" fill-opacity=\"1\" stroke=\"#000000\" stroke-opacity=\"1\" stroke-width=\"3.2\"/>\n",
       "<circle clip-path=\"url(#clip9102)\" cx=\"971.694\" cy=\"1165.87\" r=\"14\" fill=\"#009af9\" fill-rule=\"evenodd\" fill-opacity=\"1\" stroke=\"#000000\" stroke-opacity=\"1\" stroke-width=\"3.2\"/>\n",
       "<circle clip-path=\"url(#clip9102)\" cx=\"911.389\" cy=\"749.087\" r=\"14\" fill=\"#009af9\" fill-rule=\"evenodd\" fill-opacity=\"1\" stroke=\"#000000\" stroke-opacity=\"1\" stroke-width=\"3.2\"/>\n",
       "<circle clip-path=\"url(#clip9102)\" cx=\"675.562\" cy=\"365.763\" r=\"14\" fill=\"#009af9\" fill-rule=\"evenodd\" fill-opacity=\"1\" stroke=\"#000000\" stroke-opacity=\"1\" stroke-width=\"3.2\"/>\n",
       "<circle clip-path=\"url(#clip9102)\" cx=\"806.31\" cy=\"508.044\" r=\"14\" fill=\"#009af9\" fill-rule=\"evenodd\" fill-opacity=\"1\" stroke=\"#000000\" stroke-opacity=\"1\" stroke-width=\"3.2\"/>\n",
       "<circle clip-path=\"url(#clip9102)\" cx=\"293.827\" cy=\"684.617\" r=\"14\" fill=\"#009af9\" fill-rule=\"evenodd\" fill-opacity=\"1\" stroke=\"#000000\" stroke-opacity=\"1\" stroke-width=\"3.2\"/>\n",
       "<circle clip-path=\"url(#clip9102)\" cx=\"1607.94\" cy=\"535.886\" r=\"14\" fill=\"#009af9\" fill-rule=\"evenodd\" fill-opacity=\"1\" stroke=\"#000000\" stroke-opacity=\"1\" stroke-width=\"3.2\"/>\n",
       "<circle clip-path=\"url(#clip9102)\" cx=\"841.075\" cy=\"532.232\" r=\"14\" fill=\"#009af9\" fill-rule=\"evenodd\" fill-opacity=\"1\" stroke=\"#000000\" stroke-opacity=\"1\" stroke-width=\"3.2\"/>\n",
       "<circle clip-path=\"url(#clip9102)\" cx=\"1474.84\" cy=\"880.616\" r=\"14\" fill=\"#009af9\" fill-rule=\"evenodd\" fill-opacity=\"1\" stroke=\"#000000\" stroke-opacity=\"1\" stroke-width=\"3.2\"/>\n",
       "<circle clip-path=\"url(#clip9102)\" cx=\"1660.91\" cy=\"524.862\" r=\"14\" fill=\"#009af9\" fill-rule=\"evenodd\" fill-opacity=\"1\" stroke=\"#000000\" stroke-opacity=\"1\" stroke-width=\"3.2\"/>\n",
       "<circle clip-path=\"url(#clip9102)\" cx=\"1991.14\" cy=\"245.504\" r=\"14\" fill=\"#009af9\" fill-rule=\"evenodd\" fill-opacity=\"1\" stroke=\"#000000\" stroke-opacity=\"1\" stroke-width=\"3.2\"/>\n",
       "<circle clip-path=\"url(#clip9102)\" cx=\"861.402\" cy=\"669.837\" r=\"14\" fill=\"#009af9\" fill-rule=\"evenodd\" fill-opacity=\"1\" stroke=\"#000000\" stroke-opacity=\"1\" stroke-width=\"3.2\"/>\n",
       "<circle clip-path=\"url(#clip9102)\" cx=\"1807.36\" cy=\"181.561\" r=\"14\" fill=\"#009af9\" fill-rule=\"evenodd\" fill-opacity=\"1\" stroke=\"#000000\" stroke-opacity=\"1\" stroke-width=\"3.2\"/>\n",
       "<circle clip-path=\"url(#clip9102)\" cx=\"1402.77\" cy=\"1074.17\" r=\"14\" fill=\"#009af9\" fill-rule=\"evenodd\" fill-opacity=\"1\" stroke=\"#000000\" stroke-opacity=\"1\" stroke-width=\"3.2\"/>\n",
       "<circle clip-path=\"url(#clip9102)\" cx=\"925.216\" cy=\"1068.05\" r=\"14\" fill=\"#009af9\" fill-rule=\"evenodd\" fill-opacity=\"1\" stroke=\"#000000\" stroke-opacity=\"1\" stroke-width=\"3.2\"/>\n",
       "<circle clip-path=\"url(#clip9102)\" cx=\"1497.08\" cy=\"850.54\" r=\"14\" fill=\"#009af9\" fill-rule=\"evenodd\" fill-opacity=\"1\" stroke=\"#000000\" stroke-opacity=\"1\" stroke-width=\"3.2\"/>\n",
       "<circle clip-path=\"url(#clip9102)\" cx=\"638.383\" cy=\"269.452\" r=\"14\" fill=\"#009af9\" fill-rule=\"evenodd\" fill-opacity=\"1\" stroke=\"#000000\" stroke-opacity=\"1\" stroke-width=\"3.2\"/>\n",
       "<circle clip-path=\"url(#clip9102)\" cx=\"341.249\" cy=\"434.278\" r=\"14\" fill=\"#009af9\" fill-rule=\"evenodd\" fill-opacity=\"1\" stroke=\"#000000\" stroke-opacity=\"1\" stroke-width=\"3.2\"/>\n",
       "<circle clip-path=\"url(#clip9102)\" cx=\"1608.37\" cy=\"316.958\" r=\"14\" fill=\"#009af9\" fill-rule=\"evenodd\" fill-opacity=\"1\" stroke=\"#000000\" stroke-opacity=\"1\" stroke-width=\"3.2\"/>\n",
       "<polyline clip-path=\"url(#clip9102)\" style=\"stroke:#e26f46; stroke-width:4; stroke-opacity:1; fill:none\" points=\"\n",
       "  224.444,1445.72 245.108,1221.71 265.771,1023.49 286.434,849.428 307.097,697.954 327.76,567.555 348.424,456.771 369.087,364.197 389.75,288.481 410.413,228.321 \n",
       "  431.077,182.469 451.74,149.726 472.403,128.943 493.066,119.02 513.729,118.905 534.393,127.591 555.056,144.121 575.719,167.579 596.382,197.098 617.046,231.852 \n",
       "  637.709,271.057 658.372,313.974 679.035,359.902 699.698,408.184 720.362,458.197 741.025,509.363 761.688,561.137 782.351,613.012 803.014,664.52 823.678,715.223 \n",
       "  844.341,764.723 865.004,812.651 885.667,858.672 906.331,902.486 926.994,943.819 947.657,982.43 968.32,1018.11 988.983,1050.67 1009.65,1079.95 1030.31,1105.84 \n",
       "  1050.97,1128.22 1071.64,1147.01 1092.3,1162.16 1112.96,1173.65 1133.63,1181.46 1154.29,1185.61 1174.95,1186.13 1195.62,1183.07 1216.28,1176.52 1236.94,1166.55 \n",
       "  1257.61,1153.29 1278.27,1136.86 1298.93,1117.39 1319.59,1095.06 1340.26,1070.02 1360.92,1042.46 1381.58,1012.59 1402.25,980.598 1422.91,946.716 1443.57,911.17 \n",
       "  1464.24,874.198 1484.9,836.046 1505.56,796.968 1526.23,757.224 1546.89,717.079 1567.55,676.805 1588.22,636.675 1608.88,596.967 1629.54,557.961 1650.21,519.939 \n",
       "  1670.87,483.183 1691.53,447.974 1712.2,414.592 1732.86,383.317 1753.52,354.424 1774.19,328.185 1794.85,304.869 1815.51,284.737 1836.18,268.046 1856.84,255.046 \n",
       "  1877.5,245.976 1898.17,241.071 1918.83,240.552 1939.49,244.634 1960.15,253.516 1980.82,267.39 2001.48,286.43 2022.14,310.8 2042.81,340.648 2063.47,376.106 \n",
       "  2084.13,417.291 2104.8,464.301 2125.46,517.218 2146.12,576.104 2166.79,641.001 2187.45,711.932 2208.11,788.897 2228.78,871.875 2249.44,960.821 2270.1,1055.67 \n",
       "  2290.77,1156.32 \n",
       "  \"/>\n",
       "<polyline clip-path=\"url(#clip9102)\" style=\"stroke:#3da44d; stroke-width:4; stroke-opacity:1; fill:none\" points=\"\n",
       "  224.444,735.115 245.108,680.672 265.771,626.773 286.434,573.956 307.097,522.75 327.76,473.666 348.424,427.194 369.087,383.798 389.75,343.913 410.413,307.937 \n",
       "  431.077,276.229 451.74,249.106 472.403,226.839 493.066,209.65 513.729,197.712 534.393,191.143 555.056,190.009 575.719,194.322 596.382,204.039 617.046,219.061 \n",
       "  637.709,239.24 658.372,264.374 679.035,294.211 699.698,328.453 720.362,366.759 741.025,408.745 761.688,453.992 782.351,502.048 803.014,552.433 823.678,604.643 \n",
       "  844.341,658.157 865.004,712.439 885.667,766.948 906.331,821.14 926.994,874.471 947.657,926.41 968.32,976.438 988.983,1024.05 1009.65,1068.78 1030.31,1110.18 \n",
       "  1050.97,1147.83 1071.64,1181.35 1092.3,1210.42 1112.96,1234.73 1133.63,1254.06 1154.29,1268.2 1174.95,1277.01 1195.62,1280.41 1216.28,1278.36 1236.94,1270.88 \n",
       "  1257.61,1258.05 1278.27,1240 1298.93,1216.9 1319.59,1188.98 1340.26,1156.53 1360.92,1119.87 1381.58,1079.37 1402.25,1035.42 1422.91,988.48 1443.57,939.004 \n",
       "  1464.24,887.491 1484.9,834.455 1505.56,780.427 1526.23,725.946 1546.89,671.556 1567.55,617.802 1588.22,565.22 1608.88,514.335 1629.54,465.656 1650.21,419.67 \n",
       "  1670.87,376.835 1691.53,337.58 1712.2,302.298 1732.86,271.339 1753.52,245.015 1774.19,223.588 1794.85,207.271 1815.51,196.229 1836.18,190.571 1856.84,190.354 \n",
       "  1877.5,195.58 1898.17,206.197 1918.83,222.099 1939.49,243.126 1960.15,269.07 1980.82,299.669 2001.48,334.62 2022.14,373.573 2042.81,416.137 2063.47,461.889 \n",
       "  2084.13,510.371 2104.8,561.098 2125.46,613.565 2146.12,667.245 2166.79,721.604 2187.45,776.098 2208.11,830.182 2228.78,883.316 2249.44,934.97 2270.1,984.627 \n",
       "  2290.77,1031.79 \n",
       "  \"/>\n",
       "</svg>\n"
      ]
     },
     "execution_count": 44,
     "metadata": {},
     "output_type": "execute_result"
    }
   ],
   "source": [
    "scatter(x,y, legend=false)\n",
    "plot!(0:0.1:10, x->sum(w[i]*x^(i-1) for i in eachindex(w)))\n",
    "plot!(0:0.1:10,sin)"
   ]
  },
  {
   "cell_type": "code",
   "execution_count": null,
   "metadata": {},
   "outputs": [],
   "source": []
  }
 ],
 "metadata": {
  "@webio": {
   "lastCommId": null,
   "lastKernelId": null
  },
  "kernelspec": {
   "display_name": "Julia 1.4.1",
   "language": "julia",
   "name": "julia-1.4"
  },
  "language_info": {
   "file_extension": ".jl",
   "mimetype": "application/julia",
   "name": "julia",
   "version": "1.4.1"
  }
 },
 "nbformat": 4,
 "nbformat_minor": 4
}
